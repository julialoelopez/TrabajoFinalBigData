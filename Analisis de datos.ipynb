{
 "cells": [
  {
   "cell_type": "markdown",
   "metadata": {},
   "source": [
    "# Emisiones de CO2 en el mundo"
   ]
  },
  {
   "cell_type": "markdown",
   "metadata": {},
   "source": [
    "## Setup"
   ]
  },
  {
   "cell_type": "code",
   "execution_count": 88,
   "metadata": {},
   "outputs": [],
   "source": [
    "import pandas as pd\n",
    "import numpy as np\n",
    "import matplotlib.pyplot as plt\n",
    "import seaborn as sns\n",
    "import plotly.express as px\n",
    "import random\n",
    "import plotly.graph_objects as go\n",
    "import plotly.subplots as sp\n"
   ]
  },
  {
   "cell_type": "code",
   "execution_count": 30,
   "metadata": {},
   "outputs": [],
   "source": [
    "# Mostrar todas las columnas del dataset\n",
    "pd.set_option('display.max_columns', None)"
   ]
  },
  {
   "cell_type": "markdown",
   "metadata": {},
   "source": [
    "## Importacion y limpieza"
   ]
  },
  {
   "cell_type": "code",
   "execution_count": 25,
   "metadata": {},
   "outputs": [],
   "source": [
    "#Leemos el dataset saltandonos las primeras 3 filas porque forman parte de un encabezado que no nos interesa e impiden la lectura del dataset\n",
    "df_emisiones = pd.read_csv('Datasets\\Emisiones_co2.csv', skiprows=[0, 1, 2])"
   ]
  },
  {
   "cell_type": "code",
   "execution_count": 31,
   "metadata": {},
   "outputs": [
    {
     "data": {
      "text/html": [
       "<div>\n",
       "<style scoped>\n",
       "    .dataframe tbody tr th:only-of-type {\n",
       "        vertical-align: middle;\n",
       "    }\n",
       "\n",
       "    .dataframe tbody tr th {\n",
       "        vertical-align: top;\n",
       "    }\n",
       "\n",
       "    .dataframe thead th {\n",
       "        text-align: right;\n",
       "    }\n",
       "</style>\n",
       "<table border=\"1\" class=\"dataframe\">\n",
       "  <thead>\n",
       "    <tr style=\"text-align: right;\">\n",
       "      <th></th>\n",
       "      <th>Country Name</th>\n",
       "      <th>Country Code</th>\n",
       "      <th>Indicator Name</th>\n",
       "      <th>Indicator Code</th>\n",
       "      <th>1960</th>\n",
       "      <th>1961</th>\n",
       "      <th>1962</th>\n",
       "      <th>1963</th>\n",
       "      <th>1964</th>\n",
       "      <th>1965</th>\n",
       "      <th>1966</th>\n",
       "      <th>1967</th>\n",
       "      <th>1968</th>\n",
       "      <th>1969</th>\n",
       "      <th>1970</th>\n",
       "      <th>1971</th>\n",
       "      <th>1972</th>\n",
       "      <th>1973</th>\n",
       "      <th>1974</th>\n",
       "      <th>1975</th>\n",
       "      <th>1976</th>\n",
       "      <th>1977</th>\n",
       "      <th>1978</th>\n",
       "      <th>1979</th>\n",
       "      <th>1980</th>\n",
       "      <th>1981</th>\n",
       "      <th>1982</th>\n",
       "      <th>1983</th>\n",
       "      <th>1984</th>\n",
       "      <th>1985</th>\n",
       "      <th>1986</th>\n",
       "      <th>1987</th>\n",
       "      <th>1988</th>\n",
       "      <th>1989</th>\n",
       "      <th>1990</th>\n",
       "      <th>1991</th>\n",
       "      <th>1992</th>\n",
       "      <th>1993</th>\n",
       "      <th>1994</th>\n",
       "      <th>1995</th>\n",
       "      <th>1996</th>\n",
       "      <th>1997</th>\n",
       "      <th>1998</th>\n",
       "      <th>1999</th>\n",
       "      <th>2000</th>\n",
       "      <th>2001</th>\n",
       "      <th>2002</th>\n",
       "      <th>2003</th>\n",
       "      <th>2004</th>\n",
       "      <th>2005</th>\n",
       "      <th>2006</th>\n",
       "      <th>2007</th>\n",
       "      <th>2008</th>\n",
       "      <th>2009</th>\n",
       "      <th>2010</th>\n",
       "      <th>2011</th>\n",
       "      <th>2012</th>\n",
       "      <th>2013</th>\n",
       "      <th>2014</th>\n",
       "      <th>2015</th>\n",
       "      <th>2016</th>\n",
       "      <th>2017</th>\n",
       "      <th>2018</th>\n",
       "      <th>2019</th>\n",
       "      <th>2020</th>\n",
       "      <th>2021</th>\n",
       "      <th>2022</th>\n",
       "      <th>Unnamed: 67</th>\n",
       "    </tr>\n",
       "  </thead>\n",
       "  <tbody>\n",
       "    <tr>\n",
       "      <th>0</th>\n",
       "      <td>Aruba</td>\n",
       "      <td>ABW</td>\n",
       "      <td>CO2 emissions (metric tons per capita)</td>\n",
       "      <td>EN.ATM.CO2E.PC</td>\n",
       "      <td>NaN</td>\n",
       "      <td>NaN</td>\n",
       "      <td>NaN</td>\n",
       "      <td>NaN</td>\n",
       "      <td>NaN</td>\n",
       "      <td>NaN</td>\n",
       "      <td>NaN</td>\n",
       "      <td>NaN</td>\n",
       "      <td>NaN</td>\n",
       "      <td>NaN</td>\n",
       "      <td>NaN</td>\n",
       "      <td>NaN</td>\n",
       "      <td>NaN</td>\n",
       "      <td>NaN</td>\n",
       "      <td>NaN</td>\n",
       "      <td>NaN</td>\n",
       "      <td>NaN</td>\n",
       "      <td>NaN</td>\n",
       "      <td>NaN</td>\n",
       "      <td>NaN</td>\n",
       "      <td>NaN</td>\n",
       "      <td>NaN</td>\n",
       "      <td>NaN</td>\n",
       "      <td>NaN</td>\n",
       "      <td>NaN</td>\n",
       "      <td>NaN</td>\n",
       "      <td>NaN</td>\n",
       "      <td>NaN</td>\n",
       "      <td>NaN</td>\n",
       "      <td>NaN</td>\n",
       "      <td>NaN</td>\n",
       "      <td>NaN</td>\n",
       "      <td>NaN</td>\n",
       "      <td>NaN</td>\n",
       "      <td>NaN</td>\n",
       "      <td>NaN</td>\n",
       "      <td>NaN</td>\n",
       "      <td>NaN</td>\n",
       "      <td>NaN</td>\n",
       "      <td>NaN</td>\n",
       "      <td>NaN</td>\n",
       "      <td>NaN</td>\n",
       "      <td>NaN</td>\n",
       "      <td>NaN</td>\n",
       "      <td>NaN</td>\n",
       "      <td>NaN</td>\n",
       "      <td>NaN</td>\n",
       "      <td>NaN</td>\n",
       "      <td>NaN</td>\n",
       "      <td>NaN</td>\n",
       "      <td>NaN</td>\n",
       "      <td>NaN</td>\n",
       "      <td>NaN</td>\n",
       "      <td>NaN</td>\n",
       "      <td>NaN</td>\n",
       "      <td>NaN</td>\n",
       "      <td>NaN</td>\n",
       "      <td>NaN</td>\n",
       "      <td>NaN</td>\n",
       "      <td>NaN</td>\n",
       "      <td>NaN</td>\n",
       "      <td>NaN</td>\n",
       "      <td>NaN</td>\n",
       "      <td>NaN</td>\n",
       "    </tr>\n",
       "    <tr>\n",
       "      <th>1</th>\n",
       "      <td>Africa Eastern and Southern</td>\n",
       "      <td>AFE</td>\n",
       "      <td>CO2 emissions (metric tons per capita)</td>\n",
       "      <td>EN.ATM.CO2E.PC</td>\n",
       "      <td>NaN</td>\n",
       "      <td>NaN</td>\n",
       "      <td>NaN</td>\n",
       "      <td>NaN</td>\n",
       "      <td>NaN</td>\n",
       "      <td>NaN</td>\n",
       "      <td>NaN</td>\n",
       "      <td>NaN</td>\n",
       "      <td>NaN</td>\n",
       "      <td>NaN</td>\n",
       "      <td>NaN</td>\n",
       "      <td>NaN</td>\n",
       "      <td>NaN</td>\n",
       "      <td>NaN</td>\n",
       "      <td>NaN</td>\n",
       "      <td>NaN</td>\n",
       "      <td>NaN</td>\n",
       "      <td>NaN</td>\n",
       "      <td>NaN</td>\n",
       "      <td>NaN</td>\n",
       "      <td>NaN</td>\n",
       "      <td>NaN</td>\n",
       "      <td>NaN</td>\n",
       "      <td>NaN</td>\n",
       "      <td>NaN</td>\n",
       "      <td>NaN</td>\n",
       "      <td>NaN</td>\n",
       "      <td>NaN</td>\n",
       "      <td>NaN</td>\n",
       "      <td>NaN</td>\n",
       "      <td>0.982975</td>\n",
       "      <td>0.942212</td>\n",
       "      <td>0.907936</td>\n",
       "      <td>0.909550</td>\n",
       "      <td>0.913413</td>\n",
       "      <td>0.933001</td>\n",
       "      <td>0.943200</td>\n",
       "      <td>0.962203</td>\n",
       "      <td>0.963157</td>\n",
       "      <td>0.902134</td>\n",
       "      <td>0.891352</td>\n",
       "      <td>0.958883</td>\n",
       "      <td>0.961553</td>\n",
       "      <td>0.988083</td>\n",
       "      <td>1.032476</td>\n",
       "      <td>1.008065</td>\n",
       "      <td>0.996423</td>\n",
       "      <td>1.013249</td>\n",
       "      <td>1.053663</td>\n",
       "      <td>0.990734</td>\n",
       "      <td>1.017488</td>\n",
       "      <td>0.976840</td>\n",
       "      <td>0.989585</td>\n",
       "      <td>1.001154</td>\n",
       "      <td>1.013758</td>\n",
       "      <td>0.960430</td>\n",
       "      <td>0.941337</td>\n",
       "      <td>0.933874</td>\n",
       "      <td>0.921453</td>\n",
       "      <td>0.915294</td>\n",
       "      <td>0.795420</td>\n",
       "      <td>NaN</td>\n",
       "      <td>NaN</td>\n",
       "      <td>NaN</td>\n",
       "    </tr>\n",
       "    <tr>\n",
       "      <th>2</th>\n",
       "      <td>Afghanistan</td>\n",
       "      <td>AFG</td>\n",
       "      <td>CO2 emissions (metric tons per capita)</td>\n",
       "      <td>EN.ATM.CO2E.PC</td>\n",
       "      <td>NaN</td>\n",
       "      <td>NaN</td>\n",
       "      <td>NaN</td>\n",
       "      <td>NaN</td>\n",
       "      <td>NaN</td>\n",
       "      <td>NaN</td>\n",
       "      <td>NaN</td>\n",
       "      <td>NaN</td>\n",
       "      <td>NaN</td>\n",
       "      <td>NaN</td>\n",
       "      <td>NaN</td>\n",
       "      <td>NaN</td>\n",
       "      <td>NaN</td>\n",
       "      <td>NaN</td>\n",
       "      <td>NaN</td>\n",
       "      <td>NaN</td>\n",
       "      <td>NaN</td>\n",
       "      <td>NaN</td>\n",
       "      <td>NaN</td>\n",
       "      <td>NaN</td>\n",
       "      <td>NaN</td>\n",
       "      <td>NaN</td>\n",
       "      <td>NaN</td>\n",
       "      <td>NaN</td>\n",
       "      <td>NaN</td>\n",
       "      <td>NaN</td>\n",
       "      <td>NaN</td>\n",
       "      <td>NaN</td>\n",
       "      <td>NaN</td>\n",
       "      <td>NaN</td>\n",
       "      <td>0.191389</td>\n",
       "      <td>0.180674</td>\n",
       "      <td>0.126517</td>\n",
       "      <td>0.109106</td>\n",
       "      <td>0.096638</td>\n",
       "      <td>0.088781</td>\n",
       "      <td>0.082267</td>\n",
       "      <td>0.075559</td>\n",
       "      <td>0.071270</td>\n",
       "      <td>0.058247</td>\n",
       "      <td>0.055167</td>\n",
       "      <td>0.055293</td>\n",
       "      <td>0.066810</td>\n",
       "      <td>0.073005</td>\n",
       "      <td>0.054867</td>\n",
       "      <td>0.080361</td>\n",
       "      <td>0.089757</td>\n",
       "      <td>0.109940</td>\n",
       "      <td>0.165573</td>\n",
       "      <td>0.239507</td>\n",
       "      <td>0.304230</td>\n",
       "      <td>0.408965</td>\n",
       "      <td>0.335061</td>\n",
       "      <td>0.298088</td>\n",
       "      <td>0.283692</td>\n",
       "      <td>0.297972</td>\n",
       "      <td>0.268359</td>\n",
       "      <td>0.281196</td>\n",
       "      <td>0.299083</td>\n",
       "      <td>0.297564</td>\n",
       "      <td>0.223479</td>\n",
       "      <td>NaN</td>\n",
       "      <td>NaN</td>\n",
       "      <td>NaN</td>\n",
       "    </tr>\n",
       "    <tr>\n",
       "      <th>3</th>\n",
       "      <td>Africa Western and Central</td>\n",
       "      <td>AFW</td>\n",
       "      <td>CO2 emissions (metric tons per capita)</td>\n",
       "      <td>EN.ATM.CO2E.PC</td>\n",
       "      <td>NaN</td>\n",
       "      <td>NaN</td>\n",
       "      <td>NaN</td>\n",
       "      <td>NaN</td>\n",
       "      <td>NaN</td>\n",
       "      <td>NaN</td>\n",
       "      <td>NaN</td>\n",
       "      <td>NaN</td>\n",
       "      <td>NaN</td>\n",
       "      <td>NaN</td>\n",
       "      <td>NaN</td>\n",
       "      <td>NaN</td>\n",
       "      <td>NaN</td>\n",
       "      <td>NaN</td>\n",
       "      <td>NaN</td>\n",
       "      <td>NaN</td>\n",
       "      <td>NaN</td>\n",
       "      <td>NaN</td>\n",
       "      <td>NaN</td>\n",
       "      <td>NaN</td>\n",
       "      <td>NaN</td>\n",
       "      <td>NaN</td>\n",
       "      <td>NaN</td>\n",
       "      <td>NaN</td>\n",
       "      <td>NaN</td>\n",
       "      <td>NaN</td>\n",
       "      <td>NaN</td>\n",
       "      <td>NaN</td>\n",
       "      <td>NaN</td>\n",
       "      <td>NaN</td>\n",
       "      <td>0.470111</td>\n",
       "      <td>0.521084</td>\n",
       "      <td>0.558013</td>\n",
       "      <td>0.513859</td>\n",
       "      <td>0.462384</td>\n",
       "      <td>0.492656</td>\n",
       "      <td>0.554305</td>\n",
       "      <td>0.540062</td>\n",
       "      <td>0.506709</td>\n",
       "      <td>0.502905</td>\n",
       "      <td>0.521689</td>\n",
       "      <td>0.533552</td>\n",
       "      <td>0.486596</td>\n",
       "      <td>0.505791</td>\n",
       "      <td>0.497074</td>\n",
       "      <td>0.490734</td>\n",
       "      <td>0.452813</td>\n",
       "      <td>0.426842</td>\n",
       "      <td>0.436977</td>\n",
       "      <td>0.409795</td>\n",
       "      <td>0.447817</td>\n",
       "      <td>0.451578</td>\n",
       "      <td>0.452101</td>\n",
       "      <td>0.481623</td>\n",
       "      <td>0.493505</td>\n",
       "      <td>0.475577</td>\n",
       "      <td>0.479775</td>\n",
       "      <td>0.465166</td>\n",
       "      <td>0.475817</td>\n",
       "      <td>0.490837</td>\n",
       "      <td>0.463150</td>\n",
       "      <td>NaN</td>\n",
       "      <td>NaN</td>\n",
       "      <td>NaN</td>\n",
       "    </tr>\n",
       "    <tr>\n",
       "      <th>4</th>\n",
       "      <td>Angola</td>\n",
       "      <td>AGO</td>\n",
       "      <td>CO2 emissions (metric tons per capita)</td>\n",
       "      <td>EN.ATM.CO2E.PC</td>\n",
       "      <td>NaN</td>\n",
       "      <td>NaN</td>\n",
       "      <td>NaN</td>\n",
       "      <td>NaN</td>\n",
       "      <td>NaN</td>\n",
       "      <td>NaN</td>\n",
       "      <td>NaN</td>\n",
       "      <td>NaN</td>\n",
       "      <td>NaN</td>\n",
       "      <td>NaN</td>\n",
       "      <td>NaN</td>\n",
       "      <td>NaN</td>\n",
       "      <td>NaN</td>\n",
       "      <td>NaN</td>\n",
       "      <td>NaN</td>\n",
       "      <td>NaN</td>\n",
       "      <td>NaN</td>\n",
       "      <td>NaN</td>\n",
       "      <td>NaN</td>\n",
       "      <td>NaN</td>\n",
       "      <td>NaN</td>\n",
       "      <td>NaN</td>\n",
       "      <td>NaN</td>\n",
       "      <td>NaN</td>\n",
       "      <td>NaN</td>\n",
       "      <td>NaN</td>\n",
       "      <td>NaN</td>\n",
       "      <td>NaN</td>\n",
       "      <td>NaN</td>\n",
       "      <td>NaN</td>\n",
       "      <td>0.554941</td>\n",
       "      <td>0.545807</td>\n",
       "      <td>0.544413</td>\n",
       "      <td>0.710961</td>\n",
       "      <td>0.839266</td>\n",
       "      <td>0.914265</td>\n",
       "      <td>1.073630</td>\n",
       "      <td>1.086325</td>\n",
       "      <td>1.091173</td>\n",
       "      <td>1.109791</td>\n",
       "      <td>0.988416</td>\n",
       "      <td>0.941818</td>\n",
       "      <td>0.895717</td>\n",
       "      <td>0.924988</td>\n",
       "      <td>0.929811</td>\n",
       "      <td>0.812875</td>\n",
       "      <td>0.821264</td>\n",
       "      <td>0.811414</td>\n",
       "      <td>0.888610</td>\n",
       "      <td>0.939457</td>\n",
       "      <td>0.975917</td>\n",
       "      <td>0.983787</td>\n",
       "      <td>0.947583</td>\n",
       "      <td>1.031044</td>\n",
       "      <td>1.091497</td>\n",
       "      <td>1.125185</td>\n",
       "      <td>1.012552</td>\n",
       "      <td>0.829723</td>\n",
       "      <td>0.755828</td>\n",
       "      <td>0.753638</td>\n",
       "      <td>0.592743</td>\n",
       "      <td>NaN</td>\n",
       "      <td>NaN</td>\n",
       "      <td>NaN</td>\n",
       "    </tr>\n",
       "    <tr>\n",
       "      <th>...</th>\n",
       "      <td>...</td>\n",
       "      <td>...</td>\n",
       "      <td>...</td>\n",
       "      <td>...</td>\n",
       "      <td>...</td>\n",
       "      <td>...</td>\n",
       "      <td>...</td>\n",
       "      <td>...</td>\n",
       "      <td>...</td>\n",
       "      <td>...</td>\n",
       "      <td>...</td>\n",
       "      <td>...</td>\n",
       "      <td>...</td>\n",
       "      <td>...</td>\n",
       "      <td>...</td>\n",
       "      <td>...</td>\n",
       "      <td>...</td>\n",
       "      <td>...</td>\n",
       "      <td>...</td>\n",
       "      <td>...</td>\n",
       "      <td>...</td>\n",
       "      <td>...</td>\n",
       "      <td>...</td>\n",
       "      <td>...</td>\n",
       "      <td>...</td>\n",
       "      <td>...</td>\n",
       "      <td>...</td>\n",
       "      <td>...</td>\n",
       "      <td>...</td>\n",
       "      <td>...</td>\n",
       "      <td>...</td>\n",
       "      <td>...</td>\n",
       "      <td>...</td>\n",
       "      <td>...</td>\n",
       "      <td>...</td>\n",
       "      <td>...</td>\n",
       "      <td>...</td>\n",
       "      <td>...</td>\n",
       "      <td>...</td>\n",
       "      <td>...</td>\n",
       "      <td>...</td>\n",
       "      <td>...</td>\n",
       "      <td>...</td>\n",
       "      <td>...</td>\n",
       "      <td>...</td>\n",
       "      <td>...</td>\n",
       "      <td>...</td>\n",
       "      <td>...</td>\n",
       "      <td>...</td>\n",
       "      <td>...</td>\n",
       "      <td>...</td>\n",
       "      <td>...</td>\n",
       "      <td>...</td>\n",
       "      <td>...</td>\n",
       "      <td>...</td>\n",
       "      <td>...</td>\n",
       "      <td>...</td>\n",
       "      <td>...</td>\n",
       "      <td>...</td>\n",
       "      <td>...</td>\n",
       "      <td>...</td>\n",
       "      <td>...</td>\n",
       "      <td>...</td>\n",
       "      <td>...</td>\n",
       "      <td>...</td>\n",
       "      <td>...</td>\n",
       "      <td>...</td>\n",
       "      <td>...</td>\n",
       "    </tr>\n",
       "    <tr>\n",
       "      <th>261</th>\n",
       "      <td>Kosovo</td>\n",
       "      <td>XKX</td>\n",
       "      <td>CO2 emissions (metric tons per capita)</td>\n",
       "      <td>EN.ATM.CO2E.PC</td>\n",
       "      <td>NaN</td>\n",
       "      <td>NaN</td>\n",
       "      <td>NaN</td>\n",
       "      <td>NaN</td>\n",
       "      <td>NaN</td>\n",
       "      <td>NaN</td>\n",
       "      <td>NaN</td>\n",
       "      <td>NaN</td>\n",
       "      <td>NaN</td>\n",
       "      <td>NaN</td>\n",
       "      <td>NaN</td>\n",
       "      <td>NaN</td>\n",
       "      <td>NaN</td>\n",
       "      <td>NaN</td>\n",
       "      <td>NaN</td>\n",
       "      <td>NaN</td>\n",
       "      <td>NaN</td>\n",
       "      <td>NaN</td>\n",
       "      <td>NaN</td>\n",
       "      <td>NaN</td>\n",
       "      <td>NaN</td>\n",
       "      <td>NaN</td>\n",
       "      <td>NaN</td>\n",
       "      <td>NaN</td>\n",
       "      <td>NaN</td>\n",
       "      <td>NaN</td>\n",
       "      <td>NaN</td>\n",
       "      <td>NaN</td>\n",
       "      <td>NaN</td>\n",
       "      <td>NaN</td>\n",
       "      <td>NaN</td>\n",
       "      <td>NaN</td>\n",
       "      <td>NaN</td>\n",
       "      <td>NaN</td>\n",
       "      <td>NaN</td>\n",
       "      <td>NaN</td>\n",
       "      <td>NaN</td>\n",
       "      <td>NaN</td>\n",
       "      <td>NaN</td>\n",
       "      <td>NaN</td>\n",
       "      <td>NaN</td>\n",
       "      <td>NaN</td>\n",
       "      <td>NaN</td>\n",
       "      <td>NaN</td>\n",
       "      <td>NaN</td>\n",
       "      <td>NaN</td>\n",
       "      <td>NaN</td>\n",
       "      <td>NaN</td>\n",
       "      <td>NaN</td>\n",
       "      <td>NaN</td>\n",
       "      <td>NaN</td>\n",
       "      <td>NaN</td>\n",
       "      <td>NaN</td>\n",
       "      <td>NaN</td>\n",
       "      <td>NaN</td>\n",
       "      <td>NaN</td>\n",
       "      <td>NaN</td>\n",
       "      <td>NaN</td>\n",
       "      <td>NaN</td>\n",
       "      <td>NaN</td>\n",
       "      <td>NaN</td>\n",
       "      <td>NaN</td>\n",
       "      <td>NaN</td>\n",
       "      <td>NaN</td>\n",
       "    </tr>\n",
       "    <tr>\n",
       "      <th>262</th>\n",
       "      <td>Yemen, Rep.</td>\n",
       "      <td>YEM</td>\n",
       "      <td>CO2 emissions (metric tons per capita)</td>\n",
       "      <td>EN.ATM.CO2E.PC</td>\n",
       "      <td>NaN</td>\n",
       "      <td>NaN</td>\n",
       "      <td>NaN</td>\n",
       "      <td>NaN</td>\n",
       "      <td>NaN</td>\n",
       "      <td>NaN</td>\n",
       "      <td>NaN</td>\n",
       "      <td>NaN</td>\n",
       "      <td>NaN</td>\n",
       "      <td>NaN</td>\n",
       "      <td>NaN</td>\n",
       "      <td>NaN</td>\n",
       "      <td>NaN</td>\n",
       "      <td>NaN</td>\n",
       "      <td>NaN</td>\n",
       "      <td>NaN</td>\n",
       "      <td>NaN</td>\n",
       "      <td>NaN</td>\n",
       "      <td>NaN</td>\n",
       "      <td>NaN</td>\n",
       "      <td>NaN</td>\n",
       "      <td>NaN</td>\n",
       "      <td>NaN</td>\n",
       "      <td>NaN</td>\n",
       "      <td>NaN</td>\n",
       "      <td>NaN</td>\n",
       "      <td>NaN</td>\n",
       "      <td>NaN</td>\n",
       "      <td>NaN</td>\n",
       "      <td>NaN</td>\n",
       "      <td>0.496616</td>\n",
       "      <td>0.611585</td>\n",
       "      <td>0.632544</td>\n",
       "      <td>0.570608</td>\n",
       "      <td>0.600495</td>\n",
       "      <td>0.654007</td>\n",
       "      <td>0.649987</td>\n",
       "      <td>0.680397</td>\n",
       "      <td>0.707366</td>\n",
       "      <td>0.776116</td>\n",
       "      <td>0.806846</td>\n",
       "      <td>0.839206</td>\n",
       "      <td>0.818574</td>\n",
       "      <td>0.926241</td>\n",
       "      <td>0.946723</td>\n",
       "      <td>0.989913</td>\n",
       "      <td>0.997824</td>\n",
       "      <td>1.027766</td>\n",
       "      <td>1.038030</td>\n",
       "      <td>1.105666</td>\n",
       "      <td>1.027803</td>\n",
       "      <td>0.900866</td>\n",
       "      <td>0.801288</td>\n",
       "      <td>1.031167</td>\n",
       "      <td>0.988347</td>\n",
       "      <td>0.475240</td>\n",
       "      <td>0.342802</td>\n",
       "      <td>0.322370</td>\n",
       "      <td>0.368614</td>\n",
       "      <td>0.354864</td>\n",
       "      <td>0.308515</td>\n",
       "      <td>NaN</td>\n",
       "      <td>NaN</td>\n",
       "      <td>NaN</td>\n",
       "    </tr>\n",
       "    <tr>\n",
       "      <th>263</th>\n",
       "      <td>South Africa</td>\n",
       "      <td>ZAF</td>\n",
       "      <td>CO2 emissions (metric tons per capita)</td>\n",
       "      <td>EN.ATM.CO2E.PC</td>\n",
       "      <td>NaN</td>\n",
       "      <td>NaN</td>\n",
       "      <td>NaN</td>\n",
       "      <td>NaN</td>\n",
       "      <td>NaN</td>\n",
       "      <td>NaN</td>\n",
       "      <td>NaN</td>\n",
       "      <td>NaN</td>\n",
       "      <td>NaN</td>\n",
       "      <td>NaN</td>\n",
       "      <td>NaN</td>\n",
       "      <td>NaN</td>\n",
       "      <td>NaN</td>\n",
       "      <td>NaN</td>\n",
       "      <td>NaN</td>\n",
       "      <td>NaN</td>\n",
       "      <td>NaN</td>\n",
       "      <td>NaN</td>\n",
       "      <td>NaN</td>\n",
       "      <td>NaN</td>\n",
       "      <td>NaN</td>\n",
       "      <td>NaN</td>\n",
       "      <td>NaN</td>\n",
       "      <td>NaN</td>\n",
       "      <td>NaN</td>\n",
       "      <td>NaN</td>\n",
       "      <td>NaN</td>\n",
       "      <td>NaN</td>\n",
       "      <td>NaN</td>\n",
       "      <td>NaN</td>\n",
       "      <td>6.209373</td>\n",
       "      <td>5.922276</td>\n",
       "      <td>5.717823</td>\n",
       "      <td>5.795258</td>\n",
       "      <td>5.826213</td>\n",
       "      <td>6.007616</td>\n",
       "      <td>6.136002</td>\n",
       "      <td>6.372629</td>\n",
       "      <td>6.459824</td>\n",
       "      <td>6.001786</td>\n",
       "      <td>6.076553</td>\n",
       "      <td>6.783723</td>\n",
       "      <td>6.950514</td>\n",
       "      <td>7.338956</td>\n",
       "      <td>7.824764</td>\n",
       "      <td>7.704298</td>\n",
       "      <td>7.672712</td>\n",
       "      <td>7.943859</td>\n",
       "      <td>8.446650</td>\n",
       "      <td>7.902049</td>\n",
       "      <td>8.217612</td>\n",
       "      <td>7.808054</td>\n",
       "      <td>8.034649</td>\n",
       "      <td>8.116435</td>\n",
       "      <td>8.191153</td>\n",
       "      <td>7.607189</td>\n",
       "      <td>7.544590</td>\n",
       "      <td>7.683708</td>\n",
       "      <td>7.667377</td>\n",
       "      <td>7.688908</td>\n",
       "      <td>6.687563</td>\n",
       "      <td>NaN</td>\n",
       "      <td>NaN</td>\n",
       "      <td>NaN</td>\n",
       "    </tr>\n",
       "    <tr>\n",
       "      <th>264</th>\n",
       "      <td>Zambia</td>\n",
       "      <td>ZMB</td>\n",
       "      <td>CO2 emissions (metric tons per capita)</td>\n",
       "      <td>EN.ATM.CO2E.PC</td>\n",
       "      <td>NaN</td>\n",
       "      <td>NaN</td>\n",
       "      <td>NaN</td>\n",
       "      <td>NaN</td>\n",
       "      <td>NaN</td>\n",
       "      <td>NaN</td>\n",
       "      <td>NaN</td>\n",
       "      <td>NaN</td>\n",
       "      <td>NaN</td>\n",
       "      <td>NaN</td>\n",
       "      <td>NaN</td>\n",
       "      <td>NaN</td>\n",
       "      <td>NaN</td>\n",
       "      <td>NaN</td>\n",
       "      <td>NaN</td>\n",
       "      <td>NaN</td>\n",
       "      <td>NaN</td>\n",
       "      <td>NaN</td>\n",
       "      <td>NaN</td>\n",
       "      <td>NaN</td>\n",
       "      <td>NaN</td>\n",
       "      <td>NaN</td>\n",
       "      <td>NaN</td>\n",
       "      <td>NaN</td>\n",
       "      <td>NaN</td>\n",
       "      <td>NaN</td>\n",
       "      <td>NaN</td>\n",
       "      <td>NaN</td>\n",
       "      <td>NaN</td>\n",
       "      <td>NaN</td>\n",
       "      <td>0.356578</td>\n",
       "      <td>0.364978</td>\n",
       "      <td>0.352722</td>\n",
       "      <td>0.304005</td>\n",
       "      <td>0.252979</td>\n",
       "      <td>0.245217</td>\n",
       "      <td>0.197921</td>\n",
       "      <td>0.250242</td>\n",
       "      <td>0.231850</td>\n",
       "      <td>0.183344</td>\n",
       "      <td>0.182709</td>\n",
       "      <td>0.180071</td>\n",
       "      <td>0.182994</td>\n",
       "      <td>0.192305</td>\n",
       "      <td>0.188255</td>\n",
       "      <td>0.198282</td>\n",
       "      <td>0.181889</td>\n",
       "      <td>0.159780</td>\n",
       "      <td>0.170070</td>\n",
       "      <td>0.186603</td>\n",
       "      <td>0.192639</td>\n",
       "      <td>0.213847</td>\n",
       "      <td>0.273340</td>\n",
       "      <td>0.278215</td>\n",
       "      <td>0.297755</td>\n",
       "      <td>0.305055</td>\n",
       "      <td>0.316995</td>\n",
       "      <td>0.393726</td>\n",
       "      <td>0.440527</td>\n",
       "      <td>0.414336</td>\n",
       "      <td>0.401903</td>\n",
       "      <td>NaN</td>\n",
       "      <td>NaN</td>\n",
       "      <td>NaN</td>\n",
       "    </tr>\n",
       "    <tr>\n",
       "      <th>265</th>\n",
       "      <td>Zimbabwe</td>\n",
       "      <td>ZWE</td>\n",
       "      <td>CO2 emissions (metric tons per capita)</td>\n",
       "      <td>EN.ATM.CO2E.PC</td>\n",
       "      <td>NaN</td>\n",
       "      <td>NaN</td>\n",
       "      <td>NaN</td>\n",
       "      <td>NaN</td>\n",
       "      <td>NaN</td>\n",
       "      <td>NaN</td>\n",
       "      <td>NaN</td>\n",
       "      <td>NaN</td>\n",
       "      <td>NaN</td>\n",
       "      <td>NaN</td>\n",
       "      <td>NaN</td>\n",
       "      <td>NaN</td>\n",
       "      <td>NaN</td>\n",
       "      <td>NaN</td>\n",
       "      <td>NaN</td>\n",
       "      <td>NaN</td>\n",
       "      <td>NaN</td>\n",
       "      <td>NaN</td>\n",
       "      <td>NaN</td>\n",
       "      <td>NaN</td>\n",
       "      <td>NaN</td>\n",
       "      <td>NaN</td>\n",
       "      <td>NaN</td>\n",
       "      <td>NaN</td>\n",
       "      <td>NaN</td>\n",
       "      <td>NaN</td>\n",
       "      <td>NaN</td>\n",
       "      <td>NaN</td>\n",
       "      <td>NaN</td>\n",
       "      <td>NaN</td>\n",
       "      <td>1.634929</td>\n",
       "      <td>1.763473</td>\n",
       "      <td>1.735620</td>\n",
       "      <td>1.581818</td>\n",
       "      <td>1.469850</td>\n",
       "      <td>1.408363</td>\n",
       "      <td>1.329556</td>\n",
       "      <td>1.216829</td>\n",
       "      <td>1.218623</td>\n",
       "      <td>1.350076</td>\n",
       "      <td>1.147382</td>\n",
       "      <td>1.137220</td>\n",
       "      <td>1.025763</td>\n",
       "      <td>0.836655</td>\n",
       "      <td>0.795362</td>\n",
       "      <td>0.855306</td>\n",
       "      <td>0.794113</td>\n",
       "      <td>0.783442</td>\n",
       "      <td>0.614453</td>\n",
       "      <td>0.597225</td>\n",
       "      <td>0.741290</td>\n",
       "      <td>0.871932</td>\n",
       "      <td>0.901214</td>\n",
       "      <td>0.901248</td>\n",
       "      <td>0.866838</td>\n",
       "      <td>0.846962</td>\n",
       "      <td>0.723062</td>\n",
       "      <td>0.663069</td>\n",
       "      <td>0.735435</td>\n",
       "      <td>0.663338</td>\n",
       "      <td>0.530484</td>\n",
       "      <td>NaN</td>\n",
       "      <td>NaN</td>\n",
       "      <td>NaN</td>\n",
       "    </tr>\n",
       "  </tbody>\n",
       "</table>\n",
       "<p>266 rows × 68 columns</p>\n",
       "</div>"
      ],
      "text/plain": [
       "                    Country Name Country Code  \\\n",
       "0                          Aruba          ABW   \n",
       "1    Africa Eastern and Southern          AFE   \n",
       "2                    Afghanistan          AFG   \n",
       "3     Africa Western and Central          AFW   \n",
       "4                         Angola          AGO   \n",
       "..                           ...          ...   \n",
       "261                       Kosovo          XKX   \n",
       "262                  Yemen, Rep.          YEM   \n",
       "263                 South Africa          ZAF   \n",
       "264                       Zambia          ZMB   \n",
       "265                     Zimbabwe          ZWE   \n",
       "\n",
       "                             Indicator Name  Indicator Code  1960  1961  1962  \\\n",
       "0    CO2 emissions (metric tons per capita)  EN.ATM.CO2E.PC   NaN   NaN   NaN   \n",
       "1    CO2 emissions (metric tons per capita)  EN.ATM.CO2E.PC   NaN   NaN   NaN   \n",
       "2    CO2 emissions (metric tons per capita)  EN.ATM.CO2E.PC   NaN   NaN   NaN   \n",
       "3    CO2 emissions (metric tons per capita)  EN.ATM.CO2E.PC   NaN   NaN   NaN   \n",
       "4    CO2 emissions (metric tons per capita)  EN.ATM.CO2E.PC   NaN   NaN   NaN   \n",
       "..                                      ...             ...   ...   ...   ...   \n",
       "261  CO2 emissions (metric tons per capita)  EN.ATM.CO2E.PC   NaN   NaN   NaN   \n",
       "262  CO2 emissions (metric tons per capita)  EN.ATM.CO2E.PC   NaN   NaN   NaN   \n",
       "263  CO2 emissions (metric tons per capita)  EN.ATM.CO2E.PC   NaN   NaN   NaN   \n",
       "264  CO2 emissions (metric tons per capita)  EN.ATM.CO2E.PC   NaN   NaN   NaN   \n",
       "265  CO2 emissions (metric tons per capita)  EN.ATM.CO2E.PC   NaN   NaN   NaN   \n",
       "\n",
       "     1963  1964  1965  1966  1967  1968  1969  1970  1971  1972  1973  1974  \\\n",
       "0     NaN   NaN   NaN   NaN   NaN   NaN   NaN   NaN   NaN   NaN   NaN   NaN   \n",
       "1     NaN   NaN   NaN   NaN   NaN   NaN   NaN   NaN   NaN   NaN   NaN   NaN   \n",
       "2     NaN   NaN   NaN   NaN   NaN   NaN   NaN   NaN   NaN   NaN   NaN   NaN   \n",
       "3     NaN   NaN   NaN   NaN   NaN   NaN   NaN   NaN   NaN   NaN   NaN   NaN   \n",
       "4     NaN   NaN   NaN   NaN   NaN   NaN   NaN   NaN   NaN   NaN   NaN   NaN   \n",
       "..    ...   ...   ...   ...   ...   ...   ...   ...   ...   ...   ...   ...   \n",
       "261   NaN   NaN   NaN   NaN   NaN   NaN   NaN   NaN   NaN   NaN   NaN   NaN   \n",
       "262   NaN   NaN   NaN   NaN   NaN   NaN   NaN   NaN   NaN   NaN   NaN   NaN   \n",
       "263   NaN   NaN   NaN   NaN   NaN   NaN   NaN   NaN   NaN   NaN   NaN   NaN   \n",
       "264   NaN   NaN   NaN   NaN   NaN   NaN   NaN   NaN   NaN   NaN   NaN   NaN   \n",
       "265   NaN   NaN   NaN   NaN   NaN   NaN   NaN   NaN   NaN   NaN   NaN   NaN   \n",
       "\n",
       "     1975  1976  1977  1978  1979  1980  1981  1982  1983  1984  1985  1986  \\\n",
       "0     NaN   NaN   NaN   NaN   NaN   NaN   NaN   NaN   NaN   NaN   NaN   NaN   \n",
       "1     NaN   NaN   NaN   NaN   NaN   NaN   NaN   NaN   NaN   NaN   NaN   NaN   \n",
       "2     NaN   NaN   NaN   NaN   NaN   NaN   NaN   NaN   NaN   NaN   NaN   NaN   \n",
       "3     NaN   NaN   NaN   NaN   NaN   NaN   NaN   NaN   NaN   NaN   NaN   NaN   \n",
       "4     NaN   NaN   NaN   NaN   NaN   NaN   NaN   NaN   NaN   NaN   NaN   NaN   \n",
       "..    ...   ...   ...   ...   ...   ...   ...   ...   ...   ...   ...   ...   \n",
       "261   NaN   NaN   NaN   NaN   NaN   NaN   NaN   NaN   NaN   NaN   NaN   NaN   \n",
       "262   NaN   NaN   NaN   NaN   NaN   NaN   NaN   NaN   NaN   NaN   NaN   NaN   \n",
       "263   NaN   NaN   NaN   NaN   NaN   NaN   NaN   NaN   NaN   NaN   NaN   NaN   \n",
       "264   NaN   NaN   NaN   NaN   NaN   NaN   NaN   NaN   NaN   NaN   NaN   NaN   \n",
       "265   NaN   NaN   NaN   NaN   NaN   NaN   NaN   NaN   NaN   NaN   NaN   NaN   \n",
       "\n",
       "     1987  1988  1989      1990      1991      1992      1993      1994  \\\n",
       "0     NaN   NaN   NaN       NaN       NaN       NaN       NaN       NaN   \n",
       "1     NaN   NaN   NaN  0.982975  0.942212  0.907936  0.909550  0.913413   \n",
       "2     NaN   NaN   NaN  0.191389  0.180674  0.126517  0.109106  0.096638   \n",
       "3     NaN   NaN   NaN  0.470111  0.521084  0.558013  0.513859  0.462384   \n",
       "4     NaN   NaN   NaN  0.554941  0.545807  0.544413  0.710961  0.839266   \n",
       "..    ...   ...   ...       ...       ...       ...       ...       ...   \n",
       "261   NaN   NaN   NaN       NaN       NaN       NaN       NaN       NaN   \n",
       "262   NaN   NaN   NaN  0.496616  0.611585  0.632544  0.570608  0.600495   \n",
       "263   NaN   NaN   NaN  6.209373  5.922276  5.717823  5.795258  5.826213   \n",
       "264   NaN   NaN   NaN  0.356578  0.364978  0.352722  0.304005  0.252979   \n",
       "265   NaN   NaN   NaN  1.634929  1.763473  1.735620  1.581818  1.469850   \n",
       "\n",
       "         1995      1996      1997      1998      1999      2000      2001  \\\n",
       "0         NaN       NaN       NaN       NaN       NaN       NaN       NaN   \n",
       "1    0.933001  0.943200  0.962203  0.963157  0.902134  0.891352  0.958883   \n",
       "2    0.088781  0.082267  0.075559  0.071270  0.058247  0.055167  0.055293   \n",
       "3    0.492656  0.554305  0.540062  0.506709  0.502905  0.521689  0.533552   \n",
       "4    0.914265  1.073630  1.086325  1.091173  1.109791  0.988416  0.941818   \n",
       "..        ...       ...       ...       ...       ...       ...       ...   \n",
       "261       NaN       NaN       NaN       NaN       NaN       NaN       NaN   \n",
       "262  0.654007  0.649987  0.680397  0.707366  0.776116  0.806846  0.839206   \n",
       "263  6.007616  6.136002  6.372629  6.459824  6.001786  6.076553  6.783723   \n",
       "264  0.245217  0.197921  0.250242  0.231850  0.183344  0.182709  0.180071   \n",
       "265  1.408363  1.329556  1.216829  1.218623  1.350076  1.147382  1.137220   \n",
       "\n",
       "         2002      2003      2004      2005      2006      2007      2008  \\\n",
       "0         NaN       NaN       NaN       NaN       NaN       NaN       NaN   \n",
       "1    0.961553  0.988083  1.032476  1.008065  0.996423  1.013249  1.053663   \n",
       "2    0.066810  0.073005  0.054867  0.080361  0.089757  0.109940  0.165573   \n",
       "3    0.486596  0.505791  0.497074  0.490734  0.452813  0.426842  0.436977   \n",
       "4    0.895717  0.924988  0.929811  0.812875  0.821264  0.811414  0.888610   \n",
       "..        ...       ...       ...       ...       ...       ...       ...   \n",
       "261       NaN       NaN       NaN       NaN       NaN       NaN       NaN   \n",
       "262  0.818574  0.926241  0.946723  0.989913  0.997824  1.027766  1.038030   \n",
       "263  6.950514  7.338956  7.824764  7.704298  7.672712  7.943859  8.446650   \n",
       "264  0.182994  0.192305  0.188255  0.198282  0.181889  0.159780  0.170070   \n",
       "265  1.025763  0.836655  0.795362  0.855306  0.794113  0.783442  0.614453   \n",
       "\n",
       "         2009      2010      2011      2012      2013      2014      2015  \\\n",
       "0         NaN       NaN       NaN       NaN       NaN       NaN       NaN   \n",
       "1    0.990734  1.017488  0.976840  0.989585  1.001154  1.013758  0.960430   \n",
       "2    0.239507  0.304230  0.408965  0.335061  0.298088  0.283692  0.297972   \n",
       "3    0.409795  0.447817  0.451578  0.452101  0.481623  0.493505  0.475577   \n",
       "4    0.939457  0.975917  0.983787  0.947583  1.031044  1.091497  1.125185   \n",
       "..        ...       ...       ...       ...       ...       ...       ...   \n",
       "261       NaN       NaN       NaN       NaN       NaN       NaN       NaN   \n",
       "262  1.105666  1.027803  0.900866  0.801288  1.031167  0.988347  0.475240   \n",
       "263  7.902049  8.217612  7.808054  8.034649  8.116435  8.191153  7.607189   \n",
       "264  0.186603  0.192639  0.213847  0.273340  0.278215  0.297755  0.305055   \n",
       "265  0.597225  0.741290  0.871932  0.901214  0.901248  0.866838  0.846962   \n",
       "\n",
       "         2016      2017      2018      2019      2020  2021  2022  Unnamed: 67  \n",
       "0         NaN       NaN       NaN       NaN       NaN   NaN   NaN          NaN  \n",
       "1    0.941337  0.933874  0.921453  0.915294  0.795420   NaN   NaN          NaN  \n",
       "2    0.268359  0.281196  0.299083  0.297564  0.223479   NaN   NaN          NaN  \n",
       "3    0.479775  0.465166  0.475817  0.490837  0.463150   NaN   NaN          NaN  \n",
       "4    1.012552  0.829723  0.755828  0.753638  0.592743   NaN   NaN          NaN  \n",
       "..        ...       ...       ...       ...       ...   ...   ...          ...  \n",
       "261       NaN       NaN       NaN       NaN       NaN   NaN   NaN          NaN  \n",
       "262  0.342802  0.322370  0.368614  0.354864  0.308515   NaN   NaN          NaN  \n",
       "263  7.544590  7.683708  7.667377  7.688908  6.687563   NaN   NaN          NaN  \n",
       "264  0.316995  0.393726  0.440527  0.414336  0.401903   NaN   NaN          NaN  \n",
       "265  0.723062  0.663069  0.735435  0.663338  0.530484   NaN   NaN          NaN  \n",
       "\n",
       "[266 rows x 68 columns]"
      ]
     },
     "execution_count": 31,
     "metadata": {},
     "output_type": "execute_result"
    }
   ],
   "source": [
    "# Mostrmos el Dataset original\n",
    "df_emisiones"
   ]
  },
  {
   "cell_type": "markdown",
   "metadata": {},
   "source": [
    "¿Que limpieza de datos requiere el dataset?\n",
    "* Hay registros que se corresponen con territorios que no son países, sino mas bien regiones.\n",
    "* No hay registro de datos entre 1960 y 1989. Dicho de otra forma, hay informacion a partir de 1990.\n",
    "* No hay registro de los años 2021 y 2022\n",
    "* Hay países que no tienen nigun tipo de datos, en ningun año como China o Taiwan.\n"
   ]
  },
  {
   "cell_type": "markdown",
   "metadata": {},
   "source": [
    "En cuanto a los registros de regiones que no son paises, existe un dataset que contiene metadatos al respecto de este tema.\n",
    "En él, los registros que no son países tiene en las columnas \"Region\" y \"IncomeGroup\" valor NaN. Con lo cual, se podría limpiar este dataset en funcion de ese criterio y luego hacer un merge con el dataset original que contiene los datos de emision."
   ]
  },
  {
   "cell_type": "code",
   "execution_count": 27,
   "metadata": {},
   "outputs": [
    {
     "data": {
      "text/html": [
       "<div>\n",
       "<style scoped>\n",
       "    .dataframe tbody tr th:only-of-type {\n",
       "        vertical-align: middle;\n",
       "    }\n",
       "\n",
       "    .dataframe tbody tr th {\n",
       "        vertical-align: top;\n",
       "    }\n",
       "\n",
       "    .dataframe thead th {\n",
       "        text-align: right;\n",
       "    }\n",
       "</style>\n",
       "<table border=\"1\" class=\"dataframe\">\n",
       "  <thead>\n",
       "    <tr style=\"text-align: right;\">\n",
       "      <th></th>\n",
       "      <th>Country Code</th>\n",
       "      <th>Region</th>\n",
       "      <th>IncomeGroup</th>\n",
       "      <th>SpecialNotes</th>\n",
       "      <th>TableName</th>\n",
       "      <th>Unnamed: 5</th>\n",
       "    </tr>\n",
       "  </thead>\n",
       "  <tbody>\n",
       "    <tr>\n",
       "      <th>0</th>\n",
       "      <td>ABW</td>\n",
       "      <td>Latin America &amp; Caribbean</td>\n",
       "      <td>High income</td>\n",
       "      <td>NaN</td>\n",
       "      <td>Aruba</td>\n",
       "      <td>NaN</td>\n",
       "    </tr>\n",
       "    <tr>\n",
       "      <th>1</th>\n",
       "      <td>AFE</td>\n",
       "      <td>NaN</td>\n",
       "      <td>NaN</td>\n",
       "      <td>26 countries, stretching from the Red Sea in t...</td>\n",
       "      <td>Africa Eastern and Southern</td>\n",
       "      <td>NaN</td>\n",
       "    </tr>\n",
       "    <tr>\n",
       "      <th>2</th>\n",
       "      <td>AFG</td>\n",
       "      <td>South Asia</td>\n",
       "      <td>Low income</td>\n",
       "      <td>The reporting period for national accounts dat...</td>\n",
       "      <td>Afghanistan</td>\n",
       "      <td>NaN</td>\n",
       "    </tr>\n",
       "    <tr>\n",
       "      <th>3</th>\n",
       "      <td>AFW</td>\n",
       "      <td>NaN</td>\n",
       "      <td>NaN</td>\n",
       "      <td>22 countries, stretching from the westernmost ...</td>\n",
       "      <td>Africa Western and Central</td>\n",
       "      <td>NaN</td>\n",
       "    </tr>\n",
       "    <tr>\n",
       "      <th>4</th>\n",
       "      <td>AGO</td>\n",
       "      <td>Sub-Saharan Africa</td>\n",
       "      <td>Lower middle income</td>\n",
       "      <td>The World Bank systematically assesses the app...</td>\n",
       "      <td>Angola</td>\n",
       "      <td>NaN</td>\n",
       "    </tr>\n",
       "  </tbody>\n",
       "</table>\n",
       "</div>"
      ],
      "text/plain": [
       "  Country Code                     Region          IncomeGroup  \\\n",
       "0          ABW  Latin America & Caribbean          High income   \n",
       "1          AFE                        NaN                  NaN   \n",
       "2          AFG                 South Asia           Low income   \n",
       "3          AFW                        NaN                  NaN   \n",
       "4          AGO         Sub-Saharan Africa  Lower middle income   \n",
       "\n",
       "                                        SpecialNotes  \\\n",
       "0                                                NaN   \n",
       "1  26 countries, stretching from the Red Sea in t...   \n",
       "2  The reporting period for national accounts dat...   \n",
       "3  22 countries, stretching from the westernmost ...   \n",
       "4  The World Bank systematically assesses the app...   \n",
       "\n",
       "                     TableName  Unnamed: 5  \n",
       "0                        Aruba         NaN  \n",
       "1  Africa Eastern and Southern         NaN  \n",
       "2                  Afghanistan         NaN  \n",
       "3   Africa Western and Central         NaN  \n",
       "4                       Angola         NaN  "
      ]
     },
     "execution_count": 27,
     "metadata": {},
     "output_type": "execute_result"
    }
   ],
   "source": [
    "# Importamos el dataset de paises\n",
    "df_paises = pd.read_csv('Datasets\\Metadatos_paises.csv')\n",
    "df_paises.head()"
   ]
  },
  {
   "cell_type": "code",
   "execution_count": 28,
   "metadata": {},
   "outputs": [
    {
     "data": {
      "text/plain": [
       "(265, 73)"
      ]
     },
     "execution_count": 28,
     "metadata": {},
     "output_type": "execute_result"
    }
   ],
   "source": [
    "# Unimos ambos dataset en funcion de \"Country Code\"\n",
    "merge = pd.merge(df_emisiones,df_paises, on = \"Country Code\")\n",
    "merge.shape"
   ]
  },
  {
   "cell_type": "code",
   "execution_count": 29,
   "metadata": {},
   "outputs": [
    {
     "data": {
      "text/html": [
       "<div>\n",
       "<style scoped>\n",
       "    .dataframe tbody tr th:only-of-type {\n",
       "        vertical-align: middle;\n",
       "    }\n",
       "\n",
       "    .dataframe tbody tr th {\n",
       "        vertical-align: top;\n",
       "    }\n",
       "\n",
       "    .dataframe thead th {\n",
       "        text-align: right;\n",
       "    }\n",
       "</style>\n",
       "<table border=\"1\" class=\"dataframe\">\n",
       "  <thead>\n",
       "    <tr style=\"text-align: right;\">\n",
       "      <th></th>\n",
       "      <th>Country Name</th>\n",
       "      <th>Country Code</th>\n",
       "      <th>Indicator Name</th>\n",
       "      <th>Indicator Code</th>\n",
       "      <th>1960</th>\n",
       "      <th>1961</th>\n",
       "      <th>1962</th>\n",
       "      <th>1963</th>\n",
       "      <th>1964</th>\n",
       "      <th>1965</th>\n",
       "      <th>...</th>\n",
       "      <th>2019</th>\n",
       "      <th>2020</th>\n",
       "      <th>2021</th>\n",
       "      <th>2022</th>\n",
       "      <th>Unnamed: 67</th>\n",
       "      <th>Region</th>\n",
       "      <th>IncomeGroup</th>\n",
       "      <th>SpecialNotes</th>\n",
       "      <th>TableName</th>\n",
       "      <th>Unnamed: 5</th>\n",
       "    </tr>\n",
       "  </thead>\n",
       "  <tbody>\n",
       "    <tr>\n",
       "      <th>0</th>\n",
       "      <td>Aruba</td>\n",
       "      <td>ABW</td>\n",
       "      <td>CO2 emissions (metric tons per capita)</td>\n",
       "      <td>EN.ATM.CO2E.PC</td>\n",
       "      <td>NaN</td>\n",
       "      <td>NaN</td>\n",
       "      <td>NaN</td>\n",
       "      <td>NaN</td>\n",
       "      <td>NaN</td>\n",
       "      <td>NaN</td>\n",
       "      <td>...</td>\n",
       "      <td>NaN</td>\n",
       "      <td>NaN</td>\n",
       "      <td>NaN</td>\n",
       "      <td>NaN</td>\n",
       "      <td>NaN</td>\n",
       "      <td>Latin America &amp; Caribbean</td>\n",
       "      <td>High income</td>\n",
       "      <td>NaN</td>\n",
       "      <td>Aruba</td>\n",
       "      <td>NaN</td>\n",
       "    </tr>\n",
       "    <tr>\n",
       "      <th>1</th>\n",
       "      <td>Africa Eastern and Southern</td>\n",
       "      <td>AFE</td>\n",
       "      <td>CO2 emissions (metric tons per capita)</td>\n",
       "      <td>EN.ATM.CO2E.PC</td>\n",
       "      <td>NaN</td>\n",
       "      <td>NaN</td>\n",
       "      <td>NaN</td>\n",
       "      <td>NaN</td>\n",
       "      <td>NaN</td>\n",
       "      <td>NaN</td>\n",
       "      <td>...</td>\n",
       "      <td>0.915294</td>\n",
       "      <td>0.795420</td>\n",
       "      <td>NaN</td>\n",
       "      <td>NaN</td>\n",
       "      <td>NaN</td>\n",
       "      <td>NaN</td>\n",
       "      <td>NaN</td>\n",
       "      <td>26 countries, stretching from the Red Sea in t...</td>\n",
       "      <td>Africa Eastern and Southern</td>\n",
       "      <td>NaN</td>\n",
       "    </tr>\n",
       "    <tr>\n",
       "      <th>2</th>\n",
       "      <td>Afghanistan</td>\n",
       "      <td>AFG</td>\n",
       "      <td>CO2 emissions (metric tons per capita)</td>\n",
       "      <td>EN.ATM.CO2E.PC</td>\n",
       "      <td>NaN</td>\n",
       "      <td>NaN</td>\n",
       "      <td>NaN</td>\n",
       "      <td>NaN</td>\n",
       "      <td>NaN</td>\n",
       "      <td>NaN</td>\n",
       "      <td>...</td>\n",
       "      <td>0.297564</td>\n",
       "      <td>0.223479</td>\n",
       "      <td>NaN</td>\n",
       "      <td>NaN</td>\n",
       "      <td>NaN</td>\n",
       "      <td>South Asia</td>\n",
       "      <td>Low income</td>\n",
       "      <td>The reporting period for national accounts dat...</td>\n",
       "      <td>Afghanistan</td>\n",
       "      <td>NaN</td>\n",
       "    </tr>\n",
       "    <tr>\n",
       "      <th>3</th>\n",
       "      <td>Africa Western and Central</td>\n",
       "      <td>AFW</td>\n",
       "      <td>CO2 emissions (metric tons per capita)</td>\n",
       "      <td>EN.ATM.CO2E.PC</td>\n",
       "      <td>NaN</td>\n",
       "      <td>NaN</td>\n",
       "      <td>NaN</td>\n",
       "      <td>NaN</td>\n",
       "      <td>NaN</td>\n",
       "      <td>NaN</td>\n",
       "      <td>...</td>\n",
       "      <td>0.490837</td>\n",
       "      <td>0.463150</td>\n",
       "      <td>NaN</td>\n",
       "      <td>NaN</td>\n",
       "      <td>NaN</td>\n",
       "      <td>NaN</td>\n",
       "      <td>NaN</td>\n",
       "      <td>22 countries, stretching from the westernmost ...</td>\n",
       "      <td>Africa Western and Central</td>\n",
       "      <td>NaN</td>\n",
       "    </tr>\n",
       "    <tr>\n",
       "      <th>4</th>\n",
       "      <td>Angola</td>\n",
       "      <td>AGO</td>\n",
       "      <td>CO2 emissions (metric tons per capita)</td>\n",
       "      <td>EN.ATM.CO2E.PC</td>\n",
       "      <td>NaN</td>\n",
       "      <td>NaN</td>\n",
       "      <td>NaN</td>\n",
       "      <td>NaN</td>\n",
       "      <td>NaN</td>\n",
       "      <td>NaN</td>\n",
       "      <td>...</td>\n",
       "      <td>0.753638</td>\n",
       "      <td>0.592743</td>\n",
       "      <td>NaN</td>\n",
       "      <td>NaN</td>\n",
       "      <td>NaN</td>\n",
       "      <td>Sub-Saharan Africa</td>\n",
       "      <td>Lower middle income</td>\n",
       "      <td>The World Bank systematically assesses the app...</td>\n",
       "      <td>Angola</td>\n",
       "      <td>NaN</td>\n",
       "    </tr>\n",
       "  </tbody>\n",
       "</table>\n",
       "<p>5 rows × 73 columns</p>\n",
       "</div>"
      ],
      "text/plain": [
       "                  Country Name Country Code  \\\n",
       "0                        Aruba          ABW   \n",
       "1  Africa Eastern and Southern          AFE   \n",
       "2                  Afghanistan          AFG   \n",
       "3   Africa Western and Central          AFW   \n",
       "4                       Angola          AGO   \n",
       "\n",
       "                           Indicator Name  Indicator Code  1960  1961  1962  \\\n",
       "0  CO2 emissions (metric tons per capita)  EN.ATM.CO2E.PC   NaN   NaN   NaN   \n",
       "1  CO2 emissions (metric tons per capita)  EN.ATM.CO2E.PC   NaN   NaN   NaN   \n",
       "2  CO2 emissions (metric tons per capita)  EN.ATM.CO2E.PC   NaN   NaN   NaN   \n",
       "3  CO2 emissions (metric tons per capita)  EN.ATM.CO2E.PC   NaN   NaN   NaN   \n",
       "4  CO2 emissions (metric tons per capita)  EN.ATM.CO2E.PC   NaN   NaN   NaN   \n",
       "\n",
       "   1963  1964  1965  ...      2019      2020  2021  2022  Unnamed: 67  \\\n",
       "0   NaN   NaN   NaN  ...       NaN       NaN   NaN   NaN          NaN   \n",
       "1   NaN   NaN   NaN  ...  0.915294  0.795420   NaN   NaN          NaN   \n",
       "2   NaN   NaN   NaN  ...  0.297564  0.223479   NaN   NaN          NaN   \n",
       "3   NaN   NaN   NaN  ...  0.490837  0.463150   NaN   NaN          NaN   \n",
       "4   NaN   NaN   NaN  ...  0.753638  0.592743   NaN   NaN          NaN   \n",
       "\n",
       "                      Region          IncomeGroup  \\\n",
       "0  Latin America & Caribbean          High income   \n",
       "1                        NaN                  NaN   \n",
       "2                 South Asia           Low income   \n",
       "3                        NaN                  NaN   \n",
       "4         Sub-Saharan Africa  Lower middle income   \n",
       "\n",
       "                                        SpecialNotes  \\\n",
       "0                                                NaN   \n",
       "1  26 countries, stretching from the Red Sea in t...   \n",
       "2  The reporting period for national accounts dat...   \n",
       "3  22 countries, stretching from the westernmost ...   \n",
       "4  The World Bank systematically assesses the app...   \n",
       "\n",
       "                     TableName  Unnamed: 5  \n",
       "0                        Aruba         NaN  \n",
       "1  Africa Eastern and Southern         NaN  \n",
       "2                  Afghanistan         NaN  \n",
       "3   Africa Western and Central         NaN  \n",
       "4                       Angola         NaN  \n",
       "\n",
       "[5 rows x 73 columns]"
      ]
     },
     "execution_count": 29,
     "metadata": {},
     "output_type": "execute_result"
    }
   ],
   "source": [
    "#visualizamos el df unido\n",
    "merge.head()"
   ]
  },
  {
   "cell_type": "code",
   "execution_count": 32,
   "metadata": {},
   "outputs": [],
   "source": [
    "merge = merge[pd.notnull(merge['Region'])] # Se eliminan los registros con valores nulos en la columna Region"
   ]
  },
  {
   "cell_type": "code",
   "execution_count": 34,
   "metadata": {},
   "outputs": [
    {
     "data": {
      "text/html": [
       "<div>\n",
       "<style scoped>\n",
       "    .dataframe tbody tr th:only-of-type {\n",
       "        vertical-align: middle;\n",
       "    }\n",
       "\n",
       "    .dataframe tbody tr th {\n",
       "        vertical-align: top;\n",
       "    }\n",
       "\n",
       "    .dataframe thead th {\n",
       "        text-align: right;\n",
       "    }\n",
       "</style>\n",
       "<table border=\"1\" class=\"dataframe\">\n",
       "  <thead>\n",
       "    <tr style=\"text-align: right;\">\n",
       "      <th></th>\n",
       "      <th>Country Name</th>\n",
       "      <th>Country Code</th>\n",
       "      <th>Indicator Name</th>\n",
       "      <th>Indicator Code</th>\n",
       "      <th>1960</th>\n",
       "      <th>1961</th>\n",
       "      <th>1962</th>\n",
       "      <th>1963</th>\n",
       "      <th>1964</th>\n",
       "      <th>1965</th>\n",
       "      <th>1966</th>\n",
       "      <th>1967</th>\n",
       "      <th>1968</th>\n",
       "      <th>1969</th>\n",
       "      <th>1970</th>\n",
       "      <th>1971</th>\n",
       "      <th>1972</th>\n",
       "      <th>1973</th>\n",
       "      <th>1974</th>\n",
       "      <th>1975</th>\n",
       "      <th>1976</th>\n",
       "      <th>1977</th>\n",
       "      <th>1978</th>\n",
       "      <th>1979</th>\n",
       "      <th>1980</th>\n",
       "      <th>1981</th>\n",
       "      <th>1982</th>\n",
       "      <th>1983</th>\n",
       "      <th>1984</th>\n",
       "      <th>1985</th>\n",
       "      <th>1986</th>\n",
       "      <th>1987</th>\n",
       "      <th>1988</th>\n",
       "      <th>1989</th>\n",
       "      <th>1990</th>\n",
       "      <th>1991</th>\n",
       "      <th>1992</th>\n",
       "      <th>1993</th>\n",
       "      <th>1994</th>\n",
       "      <th>1995</th>\n",
       "      <th>1996</th>\n",
       "      <th>1997</th>\n",
       "      <th>1998</th>\n",
       "      <th>1999</th>\n",
       "      <th>2000</th>\n",
       "      <th>2001</th>\n",
       "      <th>2002</th>\n",
       "      <th>2003</th>\n",
       "      <th>2004</th>\n",
       "      <th>2005</th>\n",
       "      <th>2006</th>\n",
       "      <th>2007</th>\n",
       "      <th>2008</th>\n",
       "      <th>2009</th>\n",
       "      <th>2010</th>\n",
       "      <th>2011</th>\n",
       "      <th>2012</th>\n",
       "      <th>2013</th>\n",
       "      <th>2014</th>\n",
       "      <th>2015</th>\n",
       "      <th>2016</th>\n",
       "      <th>2017</th>\n",
       "      <th>2018</th>\n",
       "      <th>2019</th>\n",
       "      <th>2020</th>\n",
       "      <th>2021</th>\n",
       "      <th>2022</th>\n",
       "      <th>Unnamed: 67</th>\n",
       "      <th>Region</th>\n",
       "      <th>IncomeGroup</th>\n",
       "      <th>SpecialNotes</th>\n",
       "      <th>TableName</th>\n",
       "      <th>Unnamed: 5</th>\n",
       "    </tr>\n",
       "  </thead>\n",
       "  <tbody>\n",
       "    <tr>\n",
       "      <th>0</th>\n",
       "      <td>Aruba</td>\n",
       "      <td>ABW</td>\n",
       "      <td>CO2 emissions (metric tons per capita)</td>\n",
       "      <td>EN.ATM.CO2E.PC</td>\n",
       "      <td>NaN</td>\n",
       "      <td>NaN</td>\n",
       "      <td>NaN</td>\n",
       "      <td>NaN</td>\n",
       "      <td>NaN</td>\n",
       "      <td>NaN</td>\n",
       "      <td>NaN</td>\n",
       "      <td>NaN</td>\n",
       "      <td>NaN</td>\n",
       "      <td>NaN</td>\n",
       "      <td>NaN</td>\n",
       "      <td>NaN</td>\n",
       "      <td>NaN</td>\n",
       "      <td>NaN</td>\n",
       "      <td>NaN</td>\n",
       "      <td>NaN</td>\n",
       "      <td>NaN</td>\n",
       "      <td>NaN</td>\n",
       "      <td>NaN</td>\n",
       "      <td>NaN</td>\n",
       "      <td>NaN</td>\n",
       "      <td>NaN</td>\n",
       "      <td>NaN</td>\n",
       "      <td>NaN</td>\n",
       "      <td>NaN</td>\n",
       "      <td>NaN</td>\n",
       "      <td>NaN</td>\n",
       "      <td>NaN</td>\n",
       "      <td>NaN</td>\n",
       "      <td>NaN</td>\n",
       "      <td>NaN</td>\n",
       "      <td>NaN</td>\n",
       "      <td>NaN</td>\n",
       "      <td>NaN</td>\n",
       "      <td>NaN</td>\n",
       "      <td>NaN</td>\n",
       "      <td>NaN</td>\n",
       "      <td>NaN</td>\n",
       "      <td>NaN</td>\n",
       "      <td>NaN</td>\n",
       "      <td>NaN</td>\n",
       "      <td>NaN</td>\n",
       "      <td>NaN</td>\n",
       "      <td>NaN</td>\n",
       "      <td>NaN</td>\n",
       "      <td>NaN</td>\n",
       "      <td>NaN</td>\n",
       "      <td>NaN</td>\n",
       "      <td>NaN</td>\n",
       "      <td>NaN</td>\n",
       "      <td>NaN</td>\n",
       "      <td>NaN</td>\n",
       "      <td>NaN</td>\n",
       "      <td>NaN</td>\n",
       "      <td>NaN</td>\n",
       "      <td>NaN</td>\n",
       "      <td>NaN</td>\n",
       "      <td>NaN</td>\n",
       "      <td>NaN</td>\n",
       "      <td>NaN</td>\n",
       "      <td>NaN</td>\n",
       "      <td>NaN</td>\n",
       "      <td>NaN</td>\n",
       "      <td>NaN</td>\n",
       "      <td>Latin America &amp; Caribbean</td>\n",
       "      <td>High income</td>\n",
       "      <td>NaN</td>\n",
       "      <td>Aruba</td>\n",
       "      <td>NaN</td>\n",
       "    </tr>\n",
       "    <tr>\n",
       "      <th>2</th>\n",
       "      <td>Afghanistan</td>\n",
       "      <td>AFG</td>\n",
       "      <td>CO2 emissions (metric tons per capita)</td>\n",
       "      <td>EN.ATM.CO2E.PC</td>\n",
       "      <td>NaN</td>\n",
       "      <td>NaN</td>\n",
       "      <td>NaN</td>\n",
       "      <td>NaN</td>\n",
       "      <td>NaN</td>\n",
       "      <td>NaN</td>\n",
       "      <td>NaN</td>\n",
       "      <td>NaN</td>\n",
       "      <td>NaN</td>\n",
       "      <td>NaN</td>\n",
       "      <td>NaN</td>\n",
       "      <td>NaN</td>\n",
       "      <td>NaN</td>\n",
       "      <td>NaN</td>\n",
       "      <td>NaN</td>\n",
       "      <td>NaN</td>\n",
       "      <td>NaN</td>\n",
       "      <td>NaN</td>\n",
       "      <td>NaN</td>\n",
       "      <td>NaN</td>\n",
       "      <td>NaN</td>\n",
       "      <td>NaN</td>\n",
       "      <td>NaN</td>\n",
       "      <td>NaN</td>\n",
       "      <td>NaN</td>\n",
       "      <td>NaN</td>\n",
       "      <td>NaN</td>\n",
       "      <td>NaN</td>\n",
       "      <td>NaN</td>\n",
       "      <td>NaN</td>\n",
       "      <td>0.191389</td>\n",
       "      <td>0.180674</td>\n",
       "      <td>0.126517</td>\n",
       "      <td>0.109106</td>\n",
       "      <td>0.096638</td>\n",
       "      <td>0.088781</td>\n",
       "      <td>0.082267</td>\n",
       "      <td>0.075559</td>\n",
       "      <td>0.071270</td>\n",
       "      <td>0.058247</td>\n",
       "      <td>0.055167</td>\n",
       "      <td>0.055293</td>\n",
       "      <td>0.066810</td>\n",
       "      <td>0.073005</td>\n",
       "      <td>0.054867</td>\n",
       "      <td>0.080361</td>\n",
       "      <td>0.089757</td>\n",
       "      <td>0.109940</td>\n",
       "      <td>0.165573</td>\n",
       "      <td>0.239507</td>\n",
       "      <td>0.304230</td>\n",
       "      <td>0.408965</td>\n",
       "      <td>0.335061</td>\n",
       "      <td>0.298088</td>\n",
       "      <td>0.283692</td>\n",
       "      <td>0.297972</td>\n",
       "      <td>0.268359</td>\n",
       "      <td>0.281196</td>\n",
       "      <td>0.299083</td>\n",
       "      <td>0.297564</td>\n",
       "      <td>0.223479</td>\n",
       "      <td>NaN</td>\n",
       "      <td>NaN</td>\n",
       "      <td>NaN</td>\n",
       "      <td>South Asia</td>\n",
       "      <td>Low income</td>\n",
       "      <td>The reporting period for national accounts dat...</td>\n",
       "      <td>Afghanistan</td>\n",
       "      <td>NaN</td>\n",
       "    </tr>\n",
       "    <tr>\n",
       "      <th>4</th>\n",
       "      <td>Angola</td>\n",
       "      <td>AGO</td>\n",
       "      <td>CO2 emissions (metric tons per capita)</td>\n",
       "      <td>EN.ATM.CO2E.PC</td>\n",
       "      <td>NaN</td>\n",
       "      <td>NaN</td>\n",
       "      <td>NaN</td>\n",
       "      <td>NaN</td>\n",
       "      <td>NaN</td>\n",
       "      <td>NaN</td>\n",
       "      <td>NaN</td>\n",
       "      <td>NaN</td>\n",
       "      <td>NaN</td>\n",
       "      <td>NaN</td>\n",
       "      <td>NaN</td>\n",
       "      <td>NaN</td>\n",
       "      <td>NaN</td>\n",
       "      <td>NaN</td>\n",
       "      <td>NaN</td>\n",
       "      <td>NaN</td>\n",
       "      <td>NaN</td>\n",
       "      <td>NaN</td>\n",
       "      <td>NaN</td>\n",
       "      <td>NaN</td>\n",
       "      <td>NaN</td>\n",
       "      <td>NaN</td>\n",
       "      <td>NaN</td>\n",
       "      <td>NaN</td>\n",
       "      <td>NaN</td>\n",
       "      <td>NaN</td>\n",
       "      <td>NaN</td>\n",
       "      <td>NaN</td>\n",
       "      <td>NaN</td>\n",
       "      <td>NaN</td>\n",
       "      <td>0.554941</td>\n",
       "      <td>0.545807</td>\n",
       "      <td>0.544413</td>\n",
       "      <td>0.710961</td>\n",
       "      <td>0.839266</td>\n",
       "      <td>0.914265</td>\n",
       "      <td>1.073630</td>\n",
       "      <td>1.086325</td>\n",
       "      <td>1.091173</td>\n",
       "      <td>1.109791</td>\n",
       "      <td>0.988416</td>\n",
       "      <td>0.941818</td>\n",
       "      <td>0.895717</td>\n",
       "      <td>0.924988</td>\n",
       "      <td>0.929811</td>\n",
       "      <td>0.812875</td>\n",
       "      <td>0.821264</td>\n",
       "      <td>0.811414</td>\n",
       "      <td>0.888610</td>\n",
       "      <td>0.939457</td>\n",
       "      <td>0.975917</td>\n",
       "      <td>0.983787</td>\n",
       "      <td>0.947583</td>\n",
       "      <td>1.031044</td>\n",
       "      <td>1.091497</td>\n",
       "      <td>1.125185</td>\n",
       "      <td>1.012552</td>\n",
       "      <td>0.829723</td>\n",
       "      <td>0.755828</td>\n",
       "      <td>0.753638</td>\n",
       "      <td>0.592743</td>\n",
       "      <td>NaN</td>\n",
       "      <td>NaN</td>\n",
       "      <td>NaN</td>\n",
       "      <td>Sub-Saharan Africa</td>\n",
       "      <td>Lower middle income</td>\n",
       "      <td>The World Bank systematically assesses the app...</td>\n",
       "      <td>Angola</td>\n",
       "      <td>NaN</td>\n",
       "    </tr>\n",
       "    <tr>\n",
       "      <th>5</th>\n",
       "      <td>Albania</td>\n",
       "      <td>ALB</td>\n",
       "      <td>CO2 emissions (metric tons per capita)</td>\n",
       "      <td>EN.ATM.CO2E.PC</td>\n",
       "      <td>NaN</td>\n",
       "      <td>NaN</td>\n",
       "      <td>NaN</td>\n",
       "      <td>NaN</td>\n",
       "      <td>NaN</td>\n",
       "      <td>NaN</td>\n",
       "      <td>NaN</td>\n",
       "      <td>NaN</td>\n",
       "      <td>NaN</td>\n",
       "      <td>NaN</td>\n",
       "      <td>NaN</td>\n",
       "      <td>NaN</td>\n",
       "      <td>NaN</td>\n",
       "      <td>NaN</td>\n",
       "      <td>NaN</td>\n",
       "      <td>NaN</td>\n",
       "      <td>NaN</td>\n",
       "      <td>NaN</td>\n",
       "      <td>NaN</td>\n",
       "      <td>NaN</td>\n",
       "      <td>NaN</td>\n",
       "      <td>NaN</td>\n",
       "      <td>NaN</td>\n",
       "      <td>NaN</td>\n",
       "      <td>NaN</td>\n",
       "      <td>NaN</td>\n",
       "      <td>NaN</td>\n",
       "      <td>NaN</td>\n",
       "      <td>NaN</td>\n",
       "      <td>NaN</td>\n",
       "      <td>1.844035</td>\n",
       "      <td>1.261054</td>\n",
       "      <td>0.689644</td>\n",
       "      <td>0.644008</td>\n",
       "      <td>0.649938</td>\n",
       "      <td>0.612055</td>\n",
       "      <td>0.621206</td>\n",
       "      <td>0.469831</td>\n",
       "      <td>0.576804</td>\n",
       "      <td>0.960297</td>\n",
       "      <td>1.031568</td>\n",
       "      <td>1.056868</td>\n",
       "      <td>1.233002</td>\n",
       "      <td>1.361159</td>\n",
       "      <td>1.427944</td>\n",
       "      <td>1.360092</td>\n",
       "      <td>1.363989</td>\n",
       "      <td>1.433797</td>\n",
       "      <td>1.428250</td>\n",
       "      <td>1.492117</td>\n",
       "      <td>1.642762</td>\n",
       "      <td>1.768109</td>\n",
       "      <td>1.565921</td>\n",
       "      <td>1.656390</td>\n",
       "      <td>1.795712</td>\n",
       "      <td>1.665219</td>\n",
       "      <td>1.590069</td>\n",
       "      <td>1.880557</td>\n",
       "      <td>1.854642</td>\n",
       "      <td>1.749462</td>\n",
       "      <td>1.544550</td>\n",
       "      <td>NaN</td>\n",
       "      <td>NaN</td>\n",
       "      <td>NaN</td>\n",
       "      <td>Europe &amp; Central Asia</td>\n",
       "      <td>Upper middle income</td>\n",
       "      <td>NaN</td>\n",
       "      <td>Albania</td>\n",
       "      <td>NaN</td>\n",
       "    </tr>\n",
       "    <tr>\n",
       "      <th>6</th>\n",
       "      <td>Andorra</td>\n",
       "      <td>AND</td>\n",
       "      <td>CO2 emissions (metric tons per capita)</td>\n",
       "      <td>EN.ATM.CO2E.PC</td>\n",
       "      <td>NaN</td>\n",
       "      <td>NaN</td>\n",
       "      <td>NaN</td>\n",
       "      <td>NaN</td>\n",
       "      <td>NaN</td>\n",
       "      <td>NaN</td>\n",
       "      <td>NaN</td>\n",
       "      <td>NaN</td>\n",
       "      <td>NaN</td>\n",
       "      <td>NaN</td>\n",
       "      <td>NaN</td>\n",
       "      <td>NaN</td>\n",
       "      <td>NaN</td>\n",
       "      <td>NaN</td>\n",
       "      <td>NaN</td>\n",
       "      <td>NaN</td>\n",
       "      <td>NaN</td>\n",
       "      <td>NaN</td>\n",
       "      <td>NaN</td>\n",
       "      <td>NaN</td>\n",
       "      <td>NaN</td>\n",
       "      <td>NaN</td>\n",
       "      <td>NaN</td>\n",
       "      <td>NaN</td>\n",
       "      <td>NaN</td>\n",
       "      <td>NaN</td>\n",
       "      <td>NaN</td>\n",
       "      <td>NaN</td>\n",
       "      <td>NaN</td>\n",
       "      <td>NaN</td>\n",
       "      <td>7.592152</td>\n",
       "      <td>7.336725</td>\n",
       "      <td>7.099907</td>\n",
       "      <td>6.937048</td>\n",
       "      <td>6.663237</td>\n",
       "      <td>6.754132</td>\n",
       "      <td>7.082732</td>\n",
       "      <td>7.194088</td>\n",
       "      <td>7.531924</td>\n",
       "      <td>7.812962</td>\n",
       "      <td>7.927016</td>\n",
       "      <td>7.725627</td>\n",
       "      <td>7.498765</td>\n",
       "      <td>7.238069</td>\n",
       "      <td>7.286756</td>\n",
       "      <td>7.206274</td>\n",
       "      <td>6.805400</td>\n",
       "      <td>6.890390</td>\n",
       "      <td>7.081822</td>\n",
       "      <td>6.995396</td>\n",
       "      <td>7.223591</td>\n",
       "      <td>6.957586</td>\n",
       "      <td>6.862293</td>\n",
       "      <td>6.674233</td>\n",
       "      <td>6.445931</td>\n",
       "      <td>6.485769</td>\n",
       "      <td>6.465288</td>\n",
       "      <td>6.302098</td>\n",
       "      <td>6.594057</td>\n",
       "      <td>6.287204</td>\n",
       "      <td>5.777148</td>\n",
       "      <td>NaN</td>\n",
       "      <td>NaN</td>\n",
       "      <td>NaN</td>\n",
       "      <td>Europe &amp; Central Asia</td>\n",
       "      <td>High income</td>\n",
       "      <td>NaN</td>\n",
       "      <td>Andorra</td>\n",
       "      <td>NaN</td>\n",
       "    </tr>\n",
       "  </tbody>\n",
       "</table>\n",
       "</div>"
      ],
      "text/plain": [
       "  Country Name Country Code                          Indicator Name  \\\n",
       "0        Aruba          ABW  CO2 emissions (metric tons per capita)   \n",
       "2  Afghanistan          AFG  CO2 emissions (metric tons per capita)   \n",
       "4       Angola          AGO  CO2 emissions (metric tons per capita)   \n",
       "5      Albania          ALB  CO2 emissions (metric tons per capita)   \n",
       "6      Andorra          AND  CO2 emissions (metric tons per capita)   \n",
       "\n",
       "   Indicator Code  1960  1961  1962  1963  1964  1965  1966  1967  1968  1969  \\\n",
       "0  EN.ATM.CO2E.PC   NaN   NaN   NaN   NaN   NaN   NaN   NaN   NaN   NaN   NaN   \n",
       "2  EN.ATM.CO2E.PC   NaN   NaN   NaN   NaN   NaN   NaN   NaN   NaN   NaN   NaN   \n",
       "4  EN.ATM.CO2E.PC   NaN   NaN   NaN   NaN   NaN   NaN   NaN   NaN   NaN   NaN   \n",
       "5  EN.ATM.CO2E.PC   NaN   NaN   NaN   NaN   NaN   NaN   NaN   NaN   NaN   NaN   \n",
       "6  EN.ATM.CO2E.PC   NaN   NaN   NaN   NaN   NaN   NaN   NaN   NaN   NaN   NaN   \n",
       "\n",
       "   1970  1971  1972  1973  1974  1975  1976  1977  1978  1979  1980  1981  \\\n",
       "0   NaN   NaN   NaN   NaN   NaN   NaN   NaN   NaN   NaN   NaN   NaN   NaN   \n",
       "2   NaN   NaN   NaN   NaN   NaN   NaN   NaN   NaN   NaN   NaN   NaN   NaN   \n",
       "4   NaN   NaN   NaN   NaN   NaN   NaN   NaN   NaN   NaN   NaN   NaN   NaN   \n",
       "5   NaN   NaN   NaN   NaN   NaN   NaN   NaN   NaN   NaN   NaN   NaN   NaN   \n",
       "6   NaN   NaN   NaN   NaN   NaN   NaN   NaN   NaN   NaN   NaN   NaN   NaN   \n",
       "\n",
       "   1982  1983  1984  1985  1986  1987  1988  1989      1990      1991  \\\n",
       "0   NaN   NaN   NaN   NaN   NaN   NaN   NaN   NaN       NaN       NaN   \n",
       "2   NaN   NaN   NaN   NaN   NaN   NaN   NaN   NaN  0.191389  0.180674   \n",
       "4   NaN   NaN   NaN   NaN   NaN   NaN   NaN   NaN  0.554941  0.545807   \n",
       "5   NaN   NaN   NaN   NaN   NaN   NaN   NaN   NaN  1.844035  1.261054   \n",
       "6   NaN   NaN   NaN   NaN   NaN   NaN   NaN   NaN  7.592152  7.336725   \n",
       "\n",
       "       1992      1993      1994      1995      1996      1997      1998  \\\n",
       "0       NaN       NaN       NaN       NaN       NaN       NaN       NaN   \n",
       "2  0.126517  0.109106  0.096638  0.088781  0.082267  0.075559  0.071270   \n",
       "4  0.544413  0.710961  0.839266  0.914265  1.073630  1.086325  1.091173   \n",
       "5  0.689644  0.644008  0.649938  0.612055  0.621206  0.469831  0.576804   \n",
       "6  7.099907  6.937048  6.663237  6.754132  7.082732  7.194088  7.531924   \n",
       "\n",
       "       1999      2000      2001      2002      2003      2004      2005  \\\n",
       "0       NaN       NaN       NaN       NaN       NaN       NaN       NaN   \n",
       "2  0.058247  0.055167  0.055293  0.066810  0.073005  0.054867  0.080361   \n",
       "4  1.109791  0.988416  0.941818  0.895717  0.924988  0.929811  0.812875   \n",
       "5  0.960297  1.031568  1.056868  1.233002  1.361159  1.427944  1.360092   \n",
       "6  7.812962  7.927016  7.725627  7.498765  7.238069  7.286756  7.206274   \n",
       "\n",
       "       2006      2007      2008      2009      2010      2011      2012  \\\n",
       "0       NaN       NaN       NaN       NaN       NaN       NaN       NaN   \n",
       "2  0.089757  0.109940  0.165573  0.239507  0.304230  0.408965  0.335061   \n",
       "4  0.821264  0.811414  0.888610  0.939457  0.975917  0.983787  0.947583   \n",
       "5  1.363989  1.433797  1.428250  1.492117  1.642762  1.768109  1.565921   \n",
       "6  6.805400  6.890390  7.081822  6.995396  7.223591  6.957586  6.862293   \n",
       "\n",
       "       2013      2014      2015      2016      2017      2018      2019  \\\n",
       "0       NaN       NaN       NaN       NaN       NaN       NaN       NaN   \n",
       "2  0.298088  0.283692  0.297972  0.268359  0.281196  0.299083  0.297564   \n",
       "4  1.031044  1.091497  1.125185  1.012552  0.829723  0.755828  0.753638   \n",
       "5  1.656390  1.795712  1.665219  1.590069  1.880557  1.854642  1.749462   \n",
       "6  6.674233  6.445931  6.485769  6.465288  6.302098  6.594057  6.287204   \n",
       "\n",
       "       2020  2021  2022  Unnamed: 67                     Region  \\\n",
       "0       NaN   NaN   NaN          NaN  Latin America & Caribbean   \n",
       "2  0.223479   NaN   NaN          NaN                 South Asia   \n",
       "4  0.592743   NaN   NaN          NaN         Sub-Saharan Africa   \n",
       "5  1.544550   NaN   NaN          NaN      Europe & Central Asia   \n",
       "6  5.777148   NaN   NaN          NaN      Europe & Central Asia   \n",
       "\n",
       "           IncomeGroup                                       SpecialNotes  \\\n",
       "0          High income                                                NaN   \n",
       "2           Low income  The reporting period for national accounts dat...   \n",
       "4  Lower middle income  The World Bank systematically assesses the app...   \n",
       "5  Upper middle income                                                NaN   \n",
       "6          High income                                                NaN   \n",
       "\n",
       "     TableName  Unnamed: 5  \n",
       "0        Aruba         NaN  \n",
       "2  Afghanistan         NaN  \n",
       "4       Angola         NaN  \n",
       "5      Albania         NaN  \n",
       "6      Andorra         NaN  "
      ]
     },
     "execution_count": 34,
     "metadata": {},
     "output_type": "execute_result"
    }
   ],
   "source": [
    "merge.head()    # Mostramos el dataset con los valores nulos eliminados"
   ]
  },
  {
   "cell_type": "code",
   "execution_count": 35,
   "metadata": {},
   "outputs": [
    {
     "data": {
      "text/plain": [
       "Index(['Country Name', 'Country Code', 'Indicator Name', 'Indicator Code',\n",
       "       '1960', '1961', '1962', '1963', '1964', '1965', '1966', '1967', '1968',\n",
       "       '1969', '1970', '1971', '1972', '1973', '1974', '1975', '1976', '1977',\n",
       "       '1978', '1979', '1980', '1981', '1982', '1983', '1984', '1985', '1986',\n",
       "       '1987', '1988', '1989', '1990', '1991', '1992', '1993', '1994', '1995',\n",
       "       '1996', '1997', '1998', '1999', '2000', '2001', '2002', '2003', '2004',\n",
       "       '2005', '2006', '2007', '2008', '2009', '2010', '2011', '2012', '2013',\n",
       "       '2014', '2015', '2016', '2017', '2018', '2019', '2020', '2021', '2022',\n",
       "       'Unnamed: 67', 'Region', 'IncomeGroup', 'SpecialNotes', 'TableName',\n",
       "       'Unnamed: 5'],\n",
       "      dtype='object')"
      ]
     },
     "execution_count": 35,
     "metadata": {},
     "output_type": "execute_result"
    }
   ],
   "source": [
    "merge.columns"
   ]
  },
  {
   "cell_type": "code",
   "execution_count": 36,
   "metadata": {},
   "outputs": [],
   "source": [
    "for i in range(1960,1990): # Se eliminan los registros anteriores a 1990\n",
    "    columna = str(i) \n",
    "    merge = merge.drop(columna, axis=1)\n",
    "merge = merge.drop(['2021','2022'], axis=1) # Se eliminan los registros posteriores a 2020\n",
    "merge = merge.drop('Unnamed: 67',axis=1) # Se elimina la columna Unnamed: 67 ya que no aporta informacion\n",
    "merge = merge.drop('Indicator Code',axis=1) \n",
    "merge = merge.drop('Indicator Name',axis=1)\n",
    "merge = merge.drop('SpecialNotes',axis=1)\n",
    "merge = merge.drop('TableName',axis=1)\n",
    "merge = merge.drop('Unnamed: 5',axis=1)\n",
    "\n",
    "merge = merge.dropna() # Se eliminan los registros con valores nulos"
   ]
  },
  {
   "cell_type": "code",
   "execution_count": 38,
   "metadata": {},
   "outputs": [
    {
     "data": {
      "text/plain": [
       "Index(['Country Name', 'Country Code', '1990', '1991', '1992', '1993', '1994',\n",
       "       '1995', '1996', '1997', '1998', '1999', '2000', '2001', '2002', '2003',\n",
       "       '2004', '2005', '2006', '2007', '2008', '2009', '2010', '2011', '2012',\n",
       "       '2013', '2014', '2015', '2016', '2017', '2018', '2019', '2020',\n",
       "       'Region', 'IncomeGroup'],\n",
       "      dtype='object')"
      ]
     },
     "execution_count": 38,
     "metadata": {},
     "output_type": "execute_result"
    }
   ],
   "source": [
    "merge.columns"
   ]
  },
  {
   "cell_type": "code",
   "execution_count": 39,
   "metadata": {},
   "outputs": [],
   "source": [
    "#Reordenamos las columnas\n",
    "merge = merge[['Country Name', 'Country Code', 'Region', 'IncomeGroup', '1990', '1991', '1992', '1993', '1994', '1995','1996', '1997', '1998', '1999', '2000', '2001', '2002', '2003','2004', '2005', '2006', '2007', '2008', '2009', '2010', '2011','2012', '2013', '2014', '2015', '2016', '2017', '2018', '2019', '2020']]"
   ]
  },
  {
   "cell_type": "code",
   "execution_count": 41,
   "metadata": {},
   "outputs": [
    {
     "data": {
      "text/plain": [
       "(189, 35)"
      ]
     },
     "execution_count": 41,
     "metadata": {},
     "output_type": "execute_result"
    }
   ],
   "source": [
    "merge.shape"
   ]
  },
  {
   "cell_type": "code",
   "execution_count": 42,
   "metadata": {},
   "outputs": [
    {
     "data": {
      "text/html": [
       "<div>\n",
       "<style scoped>\n",
       "    .dataframe tbody tr th:only-of-type {\n",
       "        vertical-align: middle;\n",
       "    }\n",
       "\n",
       "    .dataframe tbody tr th {\n",
       "        vertical-align: top;\n",
       "    }\n",
       "\n",
       "    .dataframe thead th {\n",
       "        text-align: right;\n",
       "    }\n",
       "</style>\n",
       "<table border=\"1\" class=\"dataframe\">\n",
       "  <thead>\n",
       "    <tr style=\"text-align: right;\">\n",
       "      <th></th>\n",
       "      <th>1990</th>\n",
       "      <th>1991</th>\n",
       "      <th>1992</th>\n",
       "      <th>1993</th>\n",
       "      <th>1994</th>\n",
       "      <th>1995</th>\n",
       "      <th>1996</th>\n",
       "      <th>1997</th>\n",
       "      <th>1998</th>\n",
       "      <th>1999</th>\n",
       "      <th>2000</th>\n",
       "      <th>2001</th>\n",
       "      <th>2002</th>\n",
       "      <th>2003</th>\n",
       "      <th>2004</th>\n",
       "      <th>2005</th>\n",
       "      <th>2006</th>\n",
       "      <th>2007</th>\n",
       "      <th>2008</th>\n",
       "      <th>2009</th>\n",
       "      <th>2010</th>\n",
       "      <th>2011</th>\n",
       "      <th>2012</th>\n",
       "      <th>2013</th>\n",
       "      <th>2014</th>\n",
       "      <th>2015</th>\n",
       "      <th>2016</th>\n",
       "      <th>2017</th>\n",
       "      <th>2018</th>\n",
       "      <th>2019</th>\n",
       "      <th>2020</th>\n",
       "    </tr>\n",
       "  </thead>\n",
       "  <tbody>\n",
       "    <tr>\n",
       "      <th>count</th>\n",
       "      <td>189.000000</td>\n",
       "      <td>189.000000</td>\n",
       "      <td>189.000000</td>\n",
       "      <td>189.000000</td>\n",
       "      <td>189.000000</td>\n",
       "      <td>189.000000</td>\n",
       "      <td>189.000000</td>\n",
       "      <td>189.000000</td>\n",
       "      <td>189.000000</td>\n",
       "      <td>189.000000</td>\n",
       "      <td>189.000000</td>\n",
       "      <td>189.000000</td>\n",
       "      <td>189.000000</td>\n",
       "      <td>189.000000</td>\n",
       "      <td>189.000000</td>\n",
       "      <td>189.000000</td>\n",
       "      <td>189.000000</td>\n",
       "      <td>189.000000</td>\n",
       "      <td>189.000000</td>\n",
       "      <td>189.000000</td>\n",
       "      <td>189.000000</td>\n",
       "      <td>189.000000</td>\n",
       "      <td>189.000000</td>\n",
       "      <td>189.000000</td>\n",
       "      <td>189.000000</td>\n",
       "      <td>189.000000</td>\n",
       "      <td>189.000000</td>\n",
       "      <td>189.000000</td>\n",
       "      <td>189.000000</td>\n",
       "      <td>189.000000</td>\n",
       "      <td>189.000000</td>\n",
       "    </tr>\n",
       "    <tr>\n",
       "      <th>mean</th>\n",
       "      <td>4.296842</td>\n",
       "      <td>4.196407</td>\n",
       "      <td>4.166997</td>\n",
       "      <td>4.122210</td>\n",
       "      <td>4.111455</td>\n",
       "      <td>4.091839</td>\n",
       "      <td>4.166496</td>\n",
       "      <td>4.201664</td>\n",
       "      <td>4.195502</td>\n",
       "      <td>4.179677</td>\n",
       "      <td>4.178612</td>\n",
       "      <td>4.245649</td>\n",
       "      <td>4.271949</td>\n",
       "      <td>4.399246</td>\n",
       "      <td>4.463921</td>\n",
       "      <td>4.474407</td>\n",
       "      <td>4.537063</td>\n",
       "      <td>4.517589</td>\n",
       "      <td>4.482156</td>\n",
       "      <td>4.260298</td>\n",
       "      <td>4.383070</td>\n",
       "      <td>4.373887</td>\n",
       "      <td>4.372442</td>\n",
       "      <td>4.327325</td>\n",
       "      <td>4.226686</td>\n",
       "      <td>4.165151</td>\n",
       "      <td>4.153413</td>\n",
       "      <td>4.155005</td>\n",
       "      <td>4.141122</td>\n",
       "      <td>4.087499</td>\n",
       "      <td>3.810736</td>\n",
       "    </tr>\n",
       "    <tr>\n",
       "      <th>std</th>\n",
       "      <td>5.586616</td>\n",
       "      <td>5.576652</td>\n",
       "      <td>5.391433</td>\n",
       "      <td>5.472059</td>\n",
       "      <td>5.598376</td>\n",
       "      <td>5.464924</td>\n",
       "      <td>5.591990</td>\n",
       "      <td>5.760064</td>\n",
       "      <td>5.689664</td>\n",
       "      <td>5.730649</td>\n",
       "      <td>5.659189</td>\n",
       "      <td>5.678374</td>\n",
       "      <td>5.824965</td>\n",
       "      <td>5.967319</td>\n",
       "      <td>6.048940</td>\n",
       "      <td>6.016106</td>\n",
       "      <td>5.983968</td>\n",
       "      <td>5.771965</td>\n",
       "      <td>5.630014</td>\n",
       "      <td>5.268871</td>\n",
       "      <td>5.416531</td>\n",
       "      <td>5.440304</td>\n",
       "      <td>5.446902</td>\n",
       "      <td>5.353100</td>\n",
       "      <td>5.201267</td>\n",
       "      <td>5.044822</td>\n",
       "      <td>4.947876</td>\n",
       "      <td>4.855053</td>\n",
       "      <td>4.764173</td>\n",
       "      <td>4.707587</td>\n",
       "      <td>4.629232</td>\n",
       "    </tr>\n",
       "    <tr>\n",
       "      <th>min</th>\n",
       "      <td>0.000000</td>\n",
       "      <td>0.000000</td>\n",
       "      <td>0.000000</td>\n",
       "      <td>0.000000</td>\n",
       "      <td>0.000000</td>\n",
       "      <td>0.000000</td>\n",
       "      <td>0.000000</td>\n",
       "      <td>0.000000</td>\n",
       "      <td>0.000000</td>\n",
       "      <td>0.000000</td>\n",
       "      <td>0.000000</td>\n",
       "      <td>0.000000</td>\n",
       "      <td>0.031942</td>\n",
       "      <td>0.024953</td>\n",
       "      <td>0.022414</td>\n",
       "      <td>0.021790</td>\n",
       "      <td>0.025019</td>\n",
       "      <td>0.024180</td>\n",
       "      <td>0.024003</td>\n",
       "      <td>0.022746</td>\n",
       "      <td>0.035424</td>\n",
       "      <td>0.037998</td>\n",
       "      <td>0.037180</td>\n",
       "      <td>0.025112</td>\n",
       "      <td>0.027174</td>\n",
       "      <td>0.034194</td>\n",
       "      <td>0.029732</td>\n",
       "      <td>0.033755</td>\n",
       "      <td>0.032311</td>\n",
       "      <td>0.033715</td>\n",
       "      <td>0.032585</td>\n",
       "    </tr>\n",
       "    <tr>\n",
       "      <th>25%</th>\n",
       "      <td>0.356578</td>\n",
       "      <td>0.377791</td>\n",
       "      <td>0.488610</td>\n",
       "      <td>0.461841</td>\n",
       "      <td>0.437938</td>\n",
       "      <td>0.461849</td>\n",
       "      <td>0.467447</td>\n",
       "      <td>0.496866</td>\n",
       "      <td>0.540249</td>\n",
       "      <td>0.544094</td>\n",
       "      <td>0.547470</td>\n",
       "      <td>0.573353</td>\n",
       "      <td>0.595750</td>\n",
       "      <td>0.595200</td>\n",
       "      <td>0.606844</td>\n",
       "      <td>0.629559</td>\n",
       "      <td>0.616095</td>\n",
       "      <td>0.584950</td>\n",
       "      <td>0.614453</td>\n",
       "      <td>0.597225</td>\n",
       "      <td>0.632449</td>\n",
       "      <td>0.642742</td>\n",
       "      <td>0.626318</td>\n",
       "      <td>0.633609</td>\n",
       "      <td>0.659481</td>\n",
       "      <td>0.707916</td>\n",
       "      <td>0.691117</td>\n",
       "      <td>0.713598</td>\n",
       "      <td>0.762550</td>\n",
       "      <td>0.770102</td>\n",
       "      <td>0.645350</td>\n",
       "    </tr>\n",
       "    <tr>\n",
       "      <th>50%</th>\n",
       "      <td>1.634929</td>\n",
       "      <td>1.763473</td>\n",
       "      <td>1.851136</td>\n",
       "      <td>1.851630</td>\n",
       "      <td>1.821518</td>\n",
       "      <td>1.828330</td>\n",
       "      <td>1.814195</td>\n",
       "      <td>1.897185</td>\n",
       "      <td>2.005780</td>\n",
       "      <td>2.040444</td>\n",
       "      <td>2.129599</td>\n",
       "      <td>2.163438</td>\n",
       "      <td>2.168815</td>\n",
       "      <td>2.127111</td>\n",
       "      <td>2.198379</td>\n",
       "      <td>2.188196</td>\n",
       "      <td>2.305933</td>\n",
       "      <td>2.397519</td>\n",
       "      <td>2.409061</td>\n",
       "      <td>2.409401</td>\n",
       "      <td>2.508908</td>\n",
       "      <td>2.441544</td>\n",
       "      <td>2.526658</td>\n",
       "      <td>2.531078</td>\n",
       "      <td>2.619452</td>\n",
       "      <td>2.584027</td>\n",
       "      <td>2.604352</td>\n",
       "      <td>2.547316</td>\n",
       "      <td>2.609707</td>\n",
       "      <td>2.820964</td>\n",
       "      <td>2.404684</td>\n",
       "    </tr>\n",
       "    <tr>\n",
       "      <th>75%</th>\n",
       "      <td>6.770626</td>\n",
       "      <td>6.489709</td>\n",
       "      <td>6.546546</td>\n",
       "      <td>6.480989</td>\n",
       "      <td>6.321099</td>\n",
       "      <td>6.302809</td>\n",
       "      <td>6.222700</td>\n",
       "      <td>6.375622</td>\n",
       "      <td>6.369795</td>\n",
       "      <td>6.216039</td>\n",
       "      <td>6.076553</td>\n",
       "      <td>6.176286</td>\n",
       "      <td>6.296279</td>\n",
       "      <td>6.543196</td>\n",
       "      <td>6.472604</td>\n",
       "      <td>6.440996</td>\n",
       "      <td>6.539718</td>\n",
       "      <td>6.711370</td>\n",
       "      <td>6.654714</td>\n",
       "      <td>6.015761</td>\n",
       "      <td>6.159973</td>\n",
       "      <td>6.199227</td>\n",
       "      <td>6.138738</td>\n",
       "      <td>6.039376</td>\n",
       "      <td>5.617286</td>\n",
       "      <td>5.670138</td>\n",
       "      <td>5.824503</td>\n",
       "      <td>5.756134</td>\n",
       "      <td>5.821777</td>\n",
       "      <td>5.595284</td>\n",
       "      <td>4.923280</td>\n",
       "    </tr>\n",
       "    <tr>\n",
       "      <th>max</th>\n",
       "      <td>29.553490</td>\n",
       "      <td>32.826856</td>\n",
       "      <td>31.143259</td>\n",
       "      <td>34.183536</td>\n",
       "      <td>36.931552</td>\n",
       "      <td>36.976276</td>\n",
       "      <td>39.568269</td>\n",
       "      <td>46.118807</td>\n",
       "      <td>45.615898</td>\n",
       "      <td>47.288938</td>\n",
       "      <td>44.379251</td>\n",
       "      <td>42.205792</td>\n",
       "      <td>45.564691</td>\n",
       "      <td>46.416887</td>\n",
       "      <td>47.656962</td>\n",
       "      <td>45.406087</td>\n",
       "      <td>43.288574</td>\n",
       "      <td>40.609452</td>\n",
       "      <td>36.889946</td>\n",
       "      <td>33.727304</td>\n",
       "      <td>35.548268</td>\n",
       "      <td>37.979493</td>\n",
       "      <td>39.582140</td>\n",
       "      <td>37.602880</td>\n",
       "      <td>37.105034</td>\n",
       "      <td>35.290422</td>\n",
       "      <td>33.549569</td>\n",
       "      <td>32.256638</td>\n",
       "      <td>31.480967</td>\n",
       "      <td>31.877203</td>\n",
       "      <td>31.726842</td>\n",
       "    </tr>\n",
       "  </tbody>\n",
       "</table>\n",
       "</div>"
      ],
      "text/plain": [
       "             1990        1991        1992        1993        1994        1995  \\\n",
       "count  189.000000  189.000000  189.000000  189.000000  189.000000  189.000000   \n",
       "mean     4.296842    4.196407    4.166997    4.122210    4.111455    4.091839   \n",
       "std      5.586616    5.576652    5.391433    5.472059    5.598376    5.464924   \n",
       "min      0.000000    0.000000    0.000000    0.000000    0.000000    0.000000   \n",
       "25%      0.356578    0.377791    0.488610    0.461841    0.437938    0.461849   \n",
       "50%      1.634929    1.763473    1.851136    1.851630    1.821518    1.828330   \n",
       "75%      6.770626    6.489709    6.546546    6.480989    6.321099    6.302809   \n",
       "max     29.553490   32.826856   31.143259   34.183536   36.931552   36.976276   \n",
       "\n",
       "             1996        1997        1998        1999        2000        2001  \\\n",
       "count  189.000000  189.000000  189.000000  189.000000  189.000000  189.000000   \n",
       "mean     4.166496    4.201664    4.195502    4.179677    4.178612    4.245649   \n",
       "std      5.591990    5.760064    5.689664    5.730649    5.659189    5.678374   \n",
       "min      0.000000    0.000000    0.000000    0.000000    0.000000    0.000000   \n",
       "25%      0.467447    0.496866    0.540249    0.544094    0.547470    0.573353   \n",
       "50%      1.814195    1.897185    2.005780    2.040444    2.129599    2.163438   \n",
       "75%      6.222700    6.375622    6.369795    6.216039    6.076553    6.176286   \n",
       "max     39.568269   46.118807   45.615898   47.288938   44.379251   42.205792   \n",
       "\n",
       "             2002        2003        2004        2005        2006        2007  \\\n",
       "count  189.000000  189.000000  189.000000  189.000000  189.000000  189.000000   \n",
       "mean     4.271949    4.399246    4.463921    4.474407    4.537063    4.517589   \n",
       "std      5.824965    5.967319    6.048940    6.016106    5.983968    5.771965   \n",
       "min      0.031942    0.024953    0.022414    0.021790    0.025019    0.024180   \n",
       "25%      0.595750    0.595200    0.606844    0.629559    0.616095    0.584950   \n",
       "50%      2.168815    2.127111    2.198379    2.188196    2.305933    2.397519   \n",
       "75%      6.296279    6.543196    6.472604    6.440996    6.539718    6.711370   \n",
       "max     45.564691   46.416887   47.656962   45.406087   43.288574   40.609452   \n",
       "\n",
       "             2008        2009        2010        2011        2012        2013  \\\n",
       "count  189.000000  189.000000  189.000000  189.000000  189.000000  189.000000   \n",
       "mean     4.482156    4.260298    4.383070    4.373887    4.372442    4.327325   \n",
       "std      5.630014    5.268871    5.416531    5.440304    5.446902    5.353100   \n",
       "min      0.024003    0.022746    0.035424    0.037998    0.037180    0.025112   \n",
       "25%      0.614453    0.597225    0.632449    0.642742    0.626318    0.633609   \n",
       "50%      2.409061    2.409401    2.508908    2.441544    2.526658    2.531078   \n",
       "75%      6.654714    6.015761    6.159973    6.199227    6.138738    6.039376   \n",
       "max     36.889946   33.727304   35.548268   37.979493   39.582140   37.602880   \n",
       "\n",
       "             2014        2015        2016        2017        2018        2019  \\\n",
       "count  189.000000  189.000000  189.000000  189.000000  189.000000  189.000000   \n",
       "mean     4.226686    4.165151    4.153413    4.155005    4.141122    4.087499   \n",
       "std      5.201267    5.044822    4.947876    4.855053    4.764173    4.707587   \n",
       "min      0.027174    0.034194    0.029732    0.033755    0.032311    0.033715   \n",
       "25%      0.659481    0.707916    0.691117    0.713598    0.762550    0.770102   \n",
       "50%      2.619452    2.584027    2.604352    2.547316    2.609707    2.820964   \n",
       "75%      5.617286    5.670138    5.824503    5.756134    5.821777    5.595284   \n",
       "max     37.105034   35.290422   33.549569   32.256638   31.480967   31.877203   \n",
       "\n",
       "             2020  \n",
       "count  189.000000  \n",
       "mean     3.810736  \n",
       "std      4.629232  \n",
       "min      0.032585  \n",
       "25%      0.645350  \n",
       "50%      2.404684  \n",
       "75%      4.923280  \n",
       "max     31.726842  "
      ]
     },
     "execution_count": 42,
     "metadata": {},
     "output_type": "execute_result"
    }
   ],
   "source": [
    "merge.describe()"
   ]
  },
  {
   "cell_type": "code",
   "execution_count": 43,
   "metadata": {},
   "outputs": [],
   "source": [
    "#Con el dataset limpio, lo copiamos a una variable mas generica\n",
    "df = merge.copy()"
   ]
  },
  {
   "cell_type": "code",
   "execution_count": 46,
   "metadata": {},
   "outputs": [
    {
     "data": {
      "text/plain": [
       "(189, 35)"
      ]
     },
     "execution_count": 46,
     "metadata": {},
     "output_type": "execute_result"
    }
   ],
   "source": [
    "#Chequeamos que se haya hecho correctamente la copia\n",
    "df.shape"
   ]
  },
  {
   "cell_type": "code",
   "execution_count": 47,
   "metadata": {},
   "outputs": [
    {
     "data": {
      "text/plain": [
       "Index(['Country Name', 'Country Code', 'Region', 'IncomeGroup', '1990', '1991',\n",
       "       '1992', '1993', '1994', '1995', '1996', '1997', '1998', '1999', '2000',\n",
       "       '2001', '2002', '2003', '2004', '2005', '2006', '2007', '2008', '2009',\n",
       "       '2010', '2011', '2012', '2013', '2014', '2015', '2016', '2017', '2018',\n",
       "       '2019', '2020'],\n",
       "      dtype='object')"
      ]
     },
     "execution_count": 47,
     "metadata": {},
     "output_type": "execute_result"
    }
   ],
   "source": [
    "#Nombres de las columnas\n",
    "df.columns"
   ]
  },
  {
   "cell_type": "markdown",
   "metadata": {},
   "source": [
    "## Analisis exploratorio de los datos"
   ]
  },
  {
   "cell_type": "markdown",
   "metadata": {},
   "source": [
    "### Grafico 1: Tendencia de Emisiones de CO2 per cápita para 20 Países Aleatorios\n",
    "\n",
    "A raiz de la enorme cantidad de paises se ha desarrollado un codigo que grafica 20 paises aleatorios cada vez que se ejecuta la celda con el objetivo de poder visualizar demanera mas claras tendencias a lo largo de los años. El grafico que incluia todos los paises sólo aportaba confusión. "
   ]
  },
  {
   "cell_type": "code",
   "execution_count": 48,
   "metadata": {},
   "outputs": [
    {
     "data": {
      "application/vnd.plotly.v1+json": {
       "config": {
        "plotlyServerURL": "https://plot.ly"
       },
       "data": [
        {
         "mode": "lines",
         "name": "Australia",
         "type": "scatter",
         "x": [
          "1990",
          "1991",
          "1992",
          "1993",
          "1994",
          "1995",
          "1996",
          "1997",
          "1998",
          "1999",
          "2000",
          "2001",
          "2002",
          "2003",
          "2004",
          "2005",
          "2006",
          "2007",
          "2008",
          "2009",
          "2010",
          "2011",
          "2012",
          "2013",
          "2014",
          "2015",
          "2016",
          "2017",
          "2018",
          "2019",
          "2020"
         ],
         "y": [
          "East Asia & Pacific",
          "High income",
          15.4371827741345,
          15.3152712711313,
          15.3539735797446,
          15.4817052728898,
          15.7309147953876,
          16.1146015841703,
          16.4710144168098,
          16.7061760772667,
          17.6023335431403,
          17.7372431090697,
          17.8373183976585,
          17.9307269150375,
          18.1232107784425,
          17.8945391341105,
          18.3688710453093,
          18.2784730852853,
          18.2927495943223,
          18.4547376555999,
          18.2392898668792,
          18.1572008366536,
          17.9737515176961,
          17.6560553381679,
          17.4056176654109,
          16.7945880965987,
          16.1557451398864,
          16.1984582210401,
          16.3203306101751,
          16.1480905133657,
          15.8635624340846,
          15.595726745355,
          14.7726575989848
         ]
        },
        {
         "mode": "lines",
         "name": "Bahrain",
         "type": "scatter",
         "x": [
          "1990",
          "1991",
          "1992",
          "1993",
          "1994",
          "1995",
          "1996",
          "1997",
          "1998",
          "1999",
          "2000",
          "2001",
          "2002",
          "2003",
          "2004",
          "2005",
          "2006",
          "2007",
          "2008",
          "2009",
          "2010",
          "2011",
          "2012",
          "2013",
          "2014",
          "2015",
          "2016",
          "2017",
          "2018",
          "2019",
          "2020"
         ],
         "y": [
          "Middle East & North Africa",
          "High income",
          20.7520032159685,
          19.3243185192794,
          22.133298465201,
          22.7731697327256,
          22.5401430078853,
          22.0837480054949,
          22.3703607709765,
          22.0883086158895,
          23.0323992838491,
          22.3235707587992,
          22.3159442371971,
          22.4391139009965,
          23.0134006125689,
          23.0568219197796,
          21.5097228271368,
          22.9440272485062,
          23.1574047277959,
          22.1050385764205,
          22.3013969557155,
          20.9564094542131,
          21.394806553811,
          21.465302946925,
          22.1841250870451,
          22.8688416095137,
          23.0965713649406,
          22.3856249935763,
          21.4953098652797,
          20.9460377778113,
          20.7379617303374,
          22.063354812112,
          21.9769078065259
         ]
        },
        {
         "mode": "lines",
         "name": "Brazil",
         "type": "scatter",
         "x": [
          "1990",
          "1991",
          "1992",
          "1993",
          "1994",
          "1995",
          "1996",
          "1997",
          "1998",
          "1999",
          "2000",
          "2001",
          "2002",
          "2003",
          "2004",
          "2005",
          "2006",
          "2007",
          "2008",
          "2009",
          "2010",
          "2011",
          "2012",
          "2013",
          "2014",
          "2015",
          "2016",
          "2017",
          "2018",
          "2019",
          "2020"
         ],
         "y": [
          "Latin America & Caribbean",
          "Upper middle income",
          1.31313162278407,
          1.34002976265688,
          1.33331845207455,
          1.35861090138514,
          1.38213969207396,
          1.47560355931892,
          1.58045439982994,
          1.66918123176385,
          1.69894488419783,
          1.73476944842688,
          1.7835001158786,
          1.79211227785649,
          1.76065124423135,
          1.70185253648103,
          1.77844124428615,
          1.77566292246976,
          1.77747795657257,
          1.847975735626,
          1.93921527398251,
          1.79932814185315,
          2.02660566892286,
          2.11062775987293,
          2.2714176835721,
          2.4134465369818,
          2.51459195963426,
          2.36536062099671,
          2.16125984748939,
          2.18548661863967,
          2.06426147881772,
          2.05077012882977,
          1.94252335631484
         ]
        },
        {
         "mode": "lines",
         "name": "Botswana",
         "type": "scatter",
         "x": [
          "1990",
          "1991",
          "1992",
          "1993",
          "1994",
          "1995",
          "1996",
          "1997",
          "1998",
          "1999",
          "2000",
          "2001",
          "2002",
          "2003",
          "2004",
          "2005",
          "2006",
          "2007",
          "2008",
          "2009",
          "2010",
          "2011",
          "2012",
          "2013",
          "2014",
          "2015",
          "2016",
          "2017",
          "2018",
          "2019",
          "2020"
         ],
         "y": [
          "Sub-Saharan Africa",
          "Upper middle income",
          2.09277257703094,
          1.98082840305262,
          2.32161019782571,
          2.22237875291842,
          2.04855993572519,
          2.06642248097671,
          1.84297631921748,
          1.89334759416409,
          2.22395495799659,
          2.2810332249914,
          2.33574698101026,
          2.19395776222665,
          2.24312445338221,
          2.14301783987086,
          2.1356204799673,
          2.260452333492,
          2.1189876725511,
          2.1961619276687,
          2.18834067313632,
          2.04323383587189,
          1.61197018259147,
          1.81971399746115,
          1.5695025110036,
          2.44513272580164,
          3.09192452937034,
          3.01483577574071,
          2.81808659692843,
          3.05495453485661,
          3.28847103849256,
          2.8796632558601,
          2.2634631138367
         ]
        },
        {
         "mode": "lines",
         "name": "Ecuador",
         "type": "scatter",
         "x": [
          "1990",
          "1991",
          "1992",
          "1993",
          "1994",
          "1995",
          "1996",
          "1997",
          "1998",
          "1999",
          "2000",
          "2001",
          "2002",
          "2003",
          "2004",
          "2005",
          "2006",
          "2007",
          "2008",
          "2009",
          "2010",
          "2011",
          "2012",
          "2013",
          "2014",
          "2015",
          "2016",
          "2017",
          "2018",
          "2019",
          "2020"
         ],
         "y": [
          "Latin America & Caribbean",
          "Upper middle income",
          1.47586991069813,
          1.47294488568004,
          1.54341738696537,
          1.52277556764772,
          1.6570917049624,
          1.80924351584454,
          2.03798298138099,
          2.08157634429161,
          2.00577998151265,
          1.74140508341655,
          1.74644499860492,
          1.88793432356695,
          1.84936294858181,
          1.85365453180709,
          1.93413278108917,
          2.04940271656989,
          2.15048674568552,
          2.14961090975302,
          2.18586215975846,
          2.34002900134208,
          2.48532564443912,
          2.43452304700543,
          2.39507751382518,
          2.5250351571193,
          2.61945204390978,
          2.55560326309705,
          2.42048080897419,
          2.30876380731708,
          2.36682982605683,
          2.28505501120289,
          1.95757534925331
         ]
        },
        {
         "mode": "lines",
         "name": "Egypt, Arab Rep.",
         "type": "scatter",
         "x": [
          "1990",
          "1991",
          "1992",
          "1993",
          "1994",
          "1995",
          "1996",
          "1997",
          "1998",
          "1999",
          "2000",
          "2001",
          "2002",
          "2003",
          "2004",
          "2005",
          "2006",
          "2007",
          "2008",
          "2009",
          "2010",
          "2011",
          "2012",
          "2013",
          "2014",
          "2015",
          "2016",
          "2017",
          "2018",
          "2019",
          "2020"
         ],
         "y": [
          "Middle East & North Africa",
          "Lower middle income",
          1.53361823715368,
          1.52478973582994,
          1.51533422498358,
          1.50958909911994,
          1.4002327997263,
          1.46060177934707,
          1.50903387079075,
          1.58309745055537,
          1.62145899196375,
          1.66698358369779,
          1.60588760442895,
          1.73914879185996,
          1.7399470296964,
          1.75111351765264,
          1.86402703826597,
          2.05142540699493,
          2.11764478262158,
          2.23058230448758,
          2.26531923876528,
          2.31178994450876,
          2.29579094849789,
          2.30680689946667,
          2.35642277493464,
          2.29022523426049,
          2.29224576651155,
          2.31554239924709,
          2.35935349574476,
          2.40241649556664,
          2.29401624327717,
          2.06316078338081,
          1.96112257208929
         ]
        },
        {
         "mode": "lines",
         "name": "Guinea-Bissau",
         "type": "scatter",
         "x": [
          "1990",
          "1991",
          "1992",
          "1993",
          "1994",
          "1995",
          "1996",
          "1997",
          "1998",
          "1999",
          "2000",
          "2001",
          "2002",
          "2003",
          "2004",
          "2005",
          "2006",
          "2007",
          "2008",
          "2009",
          "2010",
          "2011",
          "2012",
          "2013",
          "2014",
          "2015",
          "2016",
          "2017",
          "2018",
          "2019",
          "2020"
         ],
         "y": [
          "Sub-Saharan Africa",
          "Low income",
          0.176570102644854,
          0.174170101101166,
          0.173623331221698,
          0.175252493231677,
          0.168499573703421,
          0.165589292011794,
          0.155180939221676,
          0.16972875229151,
          0.145599377064382,
          0.158809887324551,
          0.119429759458715,
          0.117864130175444,
          0.119470038376639,
          0.148291380782015,
          0.15248598932895,
          0.151843173181669,
          0.153243320267225,
          0.158489202879967,
          0.150225304364126,
          0.153614860175118,
          0.153775475044984,
          0.151334634749042,
          0.148845809657673,
          0.145722021990242,
          0.151206699443415,
          0.157581198477963,
          0.166253123378351,
          0.16310020182719,
          0.165094768449133,
          0.16508860634868,
          0.163208368967987
         ]
        },
        {
         "mode": "lines",
         "name": "Guatemala",
         "type": "scatter",
         "x": [
          "1990",
          "1991",
          "1992",
          "1993",
          "1994",
          "1995",
          "1996",
          "1997",
          "1998",
          "1999",
          "2000",
          "2001",
          "2002",
          "2003",
          "2004",
          "2005",
          "2006",
          "2007",
          "2008",
          "2009",
          "2010",
          "2011",
          "2012",
          "2013",
          "2014",
          "2015",
          "2016",
          "2017",
          "2018",
          "2019",
          "2020"
         ],
         "y": [
          "Latin America & Caribbean",
          "Upper middle income",
          0.434469617236908,
          0.433987385355886,
          0.50658760872606,
          0.522745293224054,
          0.542504414934283,
          0.619153543196097,
          0.588595818407276,
          0.608646613823303,
          0.751868400171461,
          0.72658857095672,
          0.814796784851732,
          0.828871340888922,
          0.863904873407061,
          0.851253780204383,
          0.850047957326968,
          0.892596490718621,
          0.874124842110202,
          0.923216168681838,
          0.82044214919553,
          0.848874193850226,
          0.804898452539667,
          0.810858922089052,
          0.824228643300048,
          0.867210613999047,
          0.914557101787262,
          1.05707310890778,
          1.1026182595186,
          1.02751728089616,
          1.10575367270347,
          1.14537281500282,
          1.00040733564819
         ]
        },
        {
         "mode": "lines",
         "name": "Honduras",
         "type": "scatter",
         "x": [
          "1990",
          "1991",
          "1992",
          "1993",
          "1994",
          "1995",
          "1996",
          "1997",
          "1998",
          "1999",
          "2000",
          "2001",
          "2002",
          "2003",
          "2004",
          "2005",
          "2006",
          "2007",
          "2008",
          "2009",
          "2010",
          "2011",
          "2012",
          "2013",
          "2014",
          "2015",
          "2016",
          "2017",
          "2018",
          "2019",
          "2020"
         ],
         "y": [
          "Latin America & Caribbean",
          "Lower middle income",
          0.485570230866016,
          0.472321218452508,
          0.511565128852969,
          0.527703093467684,
          0.575294174671065,
          0.665510374289159,
          0.653320059231496,
          0.657002997341194,
          0.741693359331966,
          0.732581844623547,
          0.749197240384724,
          0.848233095115563,
          0.867219342475713,
          0.933950449889411,
          1.02361958375043,
          0.921871350193328,
          1.0296054330424,
          1.07718353624511,
          1.05990327800926,
          0.975305721598656,
          0.937979274004421,
          1.09833523997205,
          1.13568962715046,
          1.08083592531217,
          1.08285131015576,
          1.13380970799413,
          1.09871281471182,
          0.974047356339701,
          0.922234078945353,
          1.02385531471622,
          0.872911171700029
         ]
        },
        {
         "mode": "lines",
         "name": "India",
         "type": "scatter",
         "x": [
          "1990",
          "1991",
          "1992",
          "1993",
          "1994",
          "1995",
          "1996",
          "1997",
          "1998",
          "1999",
          "2000",
          "2001",
          "2002",
          "2003",
          "2004",
          "2005",
          "2006",
          "2007",
          "2008",
          "2009",
          "2010",
          "2011",
          "2012",
          "2013",
          "2014",
          "2015",
          "2016",
          "2017",
          "2018",
          "2019",
          "2020"
         ],
         "y": [
          "South Asia",
          "Lower middle income",
          0.647451316293756,
          0.683086373096417,
          0.690074050365449,
          0.70313616671063,
          0.725622134896071,
          0.765189640436571,
          0.787231756113946,
          0.817360076229187,
          0.818720963289576,
          0.866242338513132,
          0.885077949226179,
          0.883746998008724,
          0.897242648505059,
          0.905456601736005,
          0.955470157428994,
          0.984261472618751,
          1.03653392155165,
          1.1235994817209,
          1.18036124666151,
          1.27887360284089,
          1.33803383522422,
          1.39687849773199,
          1.49820412282441,
          1.52767440026001,
          1.64246527737333,
          1.63132348717228,
          1.63991401876928,
          1.70492672078233,
          1.79559529858433,
          1.75253436625037,
          1.57609323191648
         ]
        },
        {
         "mode": "lines",
         "name": "Israel",
         "type": "scatter",
         "x": [
          "1990",
          "1991",
          "1992",
          "1993",
          "1994",
          "1995",
          "1996",
          "1997",
          "1998",
          "1999",
          "2000",
          "2001",
          "2002",
          "2003",
          "2004",
          "2005",
          "2006",
          "2007",
          "2008",
          "2009",
          "2010",
          "2011",
          "2012",
          "2013",
          "2014",
          "2015",
          "2016",
          "2017",
          "2018",
          "2019",
          "2020"
         ],
         "y": [
          "Middle East & North Africa",
          "High income",
          7.25448497854077,
          6.975873913922,
          7.19447589303143,
          7.69903060254704,
          8.0313391368772,
          8.4355816050496,
          8.56185874912157,
          8.7332762165867,
          8.62580807234969,
          8.65038367346939,
          9.0630147877246,
          9.00023295542786,
          9.29689497716895,
          9.40632614317533,
          9.27594360405346,
          8.80397108266836,
          9.12017806257709,
          9.27534435453545,
          9.12707968476357,
          8.7805519931602,
          9.25026234324991,
          8.99106338046306,
          9.61547310536628,
          8.31348098517278,
          7.8773324245043,
          7.9133542559158,
          7.63316171308214,
          7.56387361849127,
          6.91499302021885,
          6.9357521537442,
          6.34521600416707
         ]
        },
        {
         "mode": "lines",
         "name": "St. Lucia",
         "type": "scatter",
         "x": [
          "1990",
          "1991",
          "1992",
          "1993",
          "1994",
          "1995",
          "1996",
          "1997",
          "1998",
          "1999",
          "2000",
          "2001",
          "2002",
          "2003",
          "2004",
          "2005",
          "2006",
          "2007",
          "2008",
          "2009",
          "2010",
          "2011",
          "2012",
          "2013",
          "2014",
          "2015",
          "2016",
          "2017",
          "2018",
          "2019",
          "2020"
         ],
         "y": [
          "Latin America & Caribbean",
          "Upper middle income",
          1.35487452653179,
          1.39185404940805,
          1.55170058735145,
          1.69655775766345,
          1.84842024162964,
          1.92257200619634,
          2.0335262293059,
          2.01989012826946,
          2.20203372541519,
          2.28237791932059,
          2.29968652037618,
          2.40731285104051,
          2.30718360434861,
          2.4299741792244,
          2.53837395502895,
          2.48570011971993,
          2.59265933801886,
          2.62658341193185,
          2.63916571753986,
          2.6177455094055,
          2.97013484657911,
          2.91382264951059,
          2.92853677133153,
          2.91071284875099,
          2.89409853321434,
          2.85384032843079,
          2.86543508698339,
          2.99667537804169,
          2.96759758949451,
          2.9935660169221,
          2.78513922906543
         ]
        },
        {
         "mode": "lines",
         "name": "Luxembourg",
         "type": "scatter",
         "x": [
          "1990",
          "1991",
          "1992",
          "1993",
          "1994",
          "1995",
          "1996",
          "1997",
          "1998",
          "1999",
          "2000",
          "2001",
          "2002",
          "2003",
          "2004",
          "2005",
          "2006",
          "2007",
          "2008",
          "2009",
          "2010",
          "2011",
          "2012",
          "2013",
          "2014",
          "2015",
          "2016",
          "2017",
          "2018",
          "2019",
          "2020"
         ],
         "y": [
          "Europe & Central Asia",
          "High income",
          29.5534895901532,
          30.3705426356589,
          29.159176388092,
          29.2981948550223,
          26.8303034063411,
          21.1927806668706,
          21.0919186432494,
          19.6500178805579,
          17.8137508829762,
          18.3989778732795,
          19.6119642447857,
          20.6522846950909,
          22.0054911189556,
          22.6769700861325,
          25.4527990918914,
          25.6104377437344,
          24.7911187655643,
          23.1553376820079,
          22.5570449196767,
          20.9788200882714,
          21.7556657126006,
          21.0415030857707,
          20.1489417002859,
          18.7229461130742,
          17.3339397000642,
          16.0346486330854,
          15.1987752871924,
          15.1030627029057,
          15.331523974011,
          15.3230398015487,
          12.4569532326913
         ]
        },
        {
         "mode": "lines",
         "name": "Latvia",
         "type": "scatter",
         "x": [
          "1990",
          "1991",
          "1992",
          "1993",
          "1994",
          "1995",
          "1996",
          "1997",
          "1998",
          "1999",
          "2000",
          "2001",
          "2002",
          "2003",
          "2004",
          "2005",
          "2006",
          "2007",
          "2008",
          "2009",
          "2010",
          "2011",
          "2012",
          "2013",
          "2014",
          "2015",
          "2016",
          "2017",
          "2018",
          "2019",
          "2020"
         ],
         "y": [
          "Europe & Central Asia",
          "High income",
          7.05082062564233,
          6.48970923733325,
          5.34544500366823,
          4.58680445833285,
          4.05575025131489,
          3.6203691184424,
          3.66649818372129,
          3.50559898653884,
          3.37445472421587,
          3.15789869992746,
          2.92689489134337,
          3.14790965141603,
          3.18253221728416,
          3.31877156674847,
          3.36548361069355,
          3.44604406201718,
          3.69638430604272,
          3.87751809391794,
          3.72287608355585,
          3.43848652616254,
          4.06096622019446,
          3.83418240149458,
          3.72149107391712,
          3.7027854362936,
          3.65250564003487,
          3.69951965257617,
          3.64642259880778,
          3.66415617367092,
          4.03969750525899,
          3.95496550880907,
          3.64561216849281
         ]
        },
        {
         "mode": "lines",
         "name": "Mauritania",
         "type": "scatter",
         "x": [
          "1990",
          "1991",
          "1992",
          "1993",
          "1994",
          "1995",
          "1996",
          "1997",
          "1998",
          "1999",
          "2000",
          "2001",
          "2002",
          "2003",
          "2004",
          "2005",
          "2006",
          "2007",
          "2008",
          "2009",
          "2010",
          "2011",
          "2012",
          "2013",
          "2014",
          "2015",
          "2016",
          "2017",
          "2018",
          "2019",
          "2020"
         ],
         "y": [
          "Sub-Saharan Africa",
          "Lower middle income",
          0.419635428635806,
          0.417654340943386,
          0.417550047100688,
          0.40892884602318,
          0.409685421202829,
          0.42052798317552,
          0.437291256315835,
          0.42302028999975,
          0.387492496572242,
          0.423260071792418,
          0.415101578736647,
          0.426819531881659,
          0.449976485831429,
          0.452116756828746,
          0.479709493225185,
          0.480686239360501,
          0.473642173301627,
          0.54444130156004,
          0.555803665316565,
          0.600340213855588,
          0.606440605697799,
          0.619394373099063,
          0.647779648212253,
          0.561374035889787,
          0.65948093945265,
          0.751732037240701,
          0.637776445066376,
          0.819299930408905,
          0.870135939862018,
          0.872475306517173,
          0.855176405836122
         ]
        },
        {
         "mode": "lines",
         "name": "Nauru",
         "type": "scatter",
         "x": [
          "1990",
          "1991",
          "1992",
          "1993",
          "1994",
          "1995",
          "1996",
          "1997",
          "1998",
          "1999",
          "2000",
          "2001",
          "2002",
          "2003",
          "2004",
          "2005",
          "2006",
          "2007",
          "2008",
          "2009",
          "2010",
          "2011",
          "2012",
          "2013",
          "2014",
          "2015",
          "2016",
          "2017",
          "2018",
          "2019",
          "2020"
         ],
         "y": [
          "East Asia & Pacific",
          "High income",
          13.1589914565534,
          12.7852958998182,
          11.9064073452463,
          11.1969489536476,
          10.8429044189216,
          10.5079488173711,
          9.86950217496375,
          9.88130850139921,
          9.58851305772381,
          8.99547336993162,
          8.48029295557483,
          7.77767055871852,
          7.53550381605642,
          6.6415313225058,
          6.192549588776,
          6.05737546036053,
          4.28404896055955,
          4.04207655595598,
          4.12964951674314,
          3.94801133587413,
          4.16951469583049,
          3.89964018282602,
          4.03102259670624,
          4.42304095754629,
          4.62522851919561,
          4.87259722843093,
          4.60785170936434,
          4.79369970895395,
          4.52868165045287,
          4.40158259149357,
          3.36175395858709
         ]
        },
        {
         "mode": "lines",
         "name": "Poland",
         "type": "scatter",
         "x": [
          "1990",
          "1991",
          "1992",
          "1993",
          "1994",
          "1995",
          "1996",
          "1997",
          "1998",
          "1999",
          "2000",
          "2001",
          "2002",
          "2003",
          "2004",
          "2005",
          "2006",
          "2007",
          "2008",
          "2009",
          "2010",
          "2011",
          "2012",
          "2013",
          "2014",
          "2015",
          "2016",
          "2017",
          "2018",
          "2019",
          "2020"
         ],
         "y": [
          "Europe & Central Asia",
          "High income",
          9.18938372873063,
          9.19372288896832,
          8.95035398988319,
          8.94445673959726,
          8.81496685801486,
          8.80953018834202,
          9.19937852708018,
          8.9166890471999,
          8.23552592173478,
          7.99213487148085,
          7.73091999715933,
          7.67691948740114,
          7.51549998320707,
          7.79306768797555,
          7.90561638869524,
          7.89596453021837,
          8.2349912497663,
          8.22063999059825,
          8.08705998482548,
          7.79155465630107,
          8.24700467583953,
          8.15993272251677,
          7.96968428583604,
          7.84182079398329,
          7.5168891922455,
          7.6100211833642,
          7.89575225360953,
          8.23624313643991,
          8.20953133332017,
          7.76885578278686,
          7.36756337292709
         ]
        },
        {
         "mode": "lines",
         "name": "Korea, Dem. People's Rep.",
         "type": "scatter",
         "x": [
          "1990",
          "1991",
          "1992",
          "1993",
          "1994",
          "1995",
          "1996",
          "1997",
          "1998",
          "1999",
          "2000",
          "2001",
          "2002",
          "2003",
          "2004",
          "2005",
          "2006",
          "2007",
          "2008",
          "2009",
          "2010",
          "2011",
          "2012",
          "2013",
          "2014",
          "2015",
          "2016",
          "2017",
          "2018",
          "2019",
          "2020"
         ],
         "y": [
          "East Asia & Pacific",
          "Low income",
          5.73606904350643,
          5.34848893710195,
          4.65075288511082,
          4.19874287518354,
          3.78248129118794,
          3.49521673280461,
          3.03614780475421,
          2.89292596217708,
          2.64591570158597,
          2.87079686016047,
          3.07368163019574,
          3.16363765656445,
          3.01196218307567,
          3.05857775474233,
          3.10342466239619,
          3.22303049726356,
          3.25705060385766,
          2.69471327291361,
          2.9764747274383,
          2.24790512250489,
          2.09385437792051,
          1.49690186597376,
          1.54627754917375,
          1.10508359411769,
          1.24266246960187,
          0.993803353113853,
          1.10784288896746,
          2.12750106098759,
          1.95495002388823,
          2.15676369121383,
          2.02714861876503
         ]
        },
        {
         "mode": "lines",
         "name": "Tajikistan",
         "type": "scatter",
         "x": [
          "1990",
          "1991",
          "1992",
          "1993",
          "1994",
          "1995",
          "1996",
          "1997",
          "1998",
          "1999",
          "2000",
          "2001",
          "2002",
          "2003",
          "2004",
          "2005",
          "2006",
          "2007",
          "2008",
          "2009",
          "2010",
          "2011",
          "2012",
          "2013",
          "2014",
          "2015",
          "2016",
          "2017",
          "2018",
          "2019",
          "2020"
         ],
         "y": [
          "Europe & Central Asia",
          "Lower middle income",
          2.03368119515824,
          1.83065871462083,
          1.35889627821325,
          0.903720762824062,
          0.522979610761074,
          0.424027492096665,
          0.371164424415137,
          0.410889594346574,
          0.44921270041848,
          0.411109666026611,
          0.35086413226977,
          0.335483498496601,
          0.326183111412763,
          0.32598015853747,
          0.381847096484681,
          0.356638517450566,
          0.380663350344751,
          0.454594080928542,
          0.415182916481617,
          0.322035092003905,
          0.321040533975073,
          0.329384665205447,
          0.378966218565172,
          0.392681964601966,
          0.550493445625862,
          0.575406352580923,
          0.629971308782098,
          0.757120729592937,
          0.887070870578997,
          0.960233171179232,
          0.977533024275801
         ]
        },
        {
         "mode": "lines",
         "name": "Timor-Leste",
         "type": "scatter",
         "x": [
          "1990",
          "1991",
          "1992",
          "1993",
          "1994",
          "1995",
          "1996",
          "1997",
          "1998",
          "1999",
          "2000",
          "2001",
          "2002",
          "2003",
          "2004",
          "2005",
          "2006",
          "2007",
          "2008",
          "2009",
          "2010",
          "2011",
          "2012",
          "2013",
          "2014",
          "2015",
          "2016",
          "2017",
          "2018",
          "2019",
          "2020"
         ],
         "y": [
          "East Asia & Pacific",
          "Lower middle income",
          0,
          0,
          0,
          0,
          0,
          0,
          0,
          0,
          0,
          0,
          0,
          0,
          0.185458187258902,
          0.180852705398928,
          0.192919790822092,
          0.186420691768294,
          0.186011156647536,
          0.187764503679753,
          0.201423482085677,
          0.220920847645325,
          0.224256444272136,
          0.226779373499518,
          0.264047057334426,
          0.313717387467662,
          0.379632521121174,
          0.36257695015728,
          0.423743346600662,
          0.451885604893685,
          0.404249333317484,
          0.482334951008952,
          0.343155165981408
         ]
        }
       ],
       "layout": {
        "height": 600,
        "template": {
         "data": {
          "bar": [
           {
            "error_x": {
             "color": "#2a3f5f"
            },
            "error_y": {
             "color": "#2a3f5f"
            },
            "marker": {
             "line": {
              "color": "#E5ECF6",
              "width": 0.5
             },
             "pattern": {
              "fillmode": "overlay",
              "size": 10,
              "solidity": 0.2
             }
            },
            "type": "bar"
           }
          ],
          "barpolar": [
           {
            "marker": {
             "line": {
              "color": "#E5ECF6",
              "width": 0.5
             },
             "pattern": {
              "fillmode": "overlay",
              "size": 10,
              "solidity": 0.2
             }
            },
            "type": "barpolar"
           }
          ],
          "carpet": [
           {
            "aaxis": {
             "endlinecolor": "#2a3f5f",
             "gridcolor": "white",
             "linecolor": "white",
             "minorgridcolor": "white",
             "startlinecolor": "#2a3f5f"
            },
            "baxis": {
             "endlinecolor": "#2a3f5f",
             "gridcolor": "white",
             "linecolor": "white",
             "minorgridcolor": "white",
             "startlinecolor": "#2a3f5f"
            },
            "type": "carpet"
           }
          ],
          "choropleth": [
           {
            "colorbar": {
             "outlinewidth": 0,
             "ticks": ""
            },
            "type": "choropleth"
           }
          ],
          "contour": [
           {
            "colorbar": {
             "outlinewidth": 0,
             "ticks": ""
            },
            "colorscale": [
             [
              0,
              "#0d0887"
             ],
             [
              0.1111111111111111,
              "#46039f"
             ],
             [
              0.2222222222222222,
              "#7201a8"
             ],
             [
              0.3333333333333333,
              "#9c179e"
             ],
             [
              0.4444444444444444,
              "#bd3786"
             ],
             [
              0.5555555555555556,
              "#d8576b"
             ],
             [
              0.6666666666666666,
              "#ed7953"
             ],
             [
              0.7777777777777778,
              "#fb9f3a"
             ],
             [
              0.8888888888888888,
              "#fdca26"
             ],
             [
              1,
              "#f0f921"
             ]
            ],
            "type": "contour"
           }
          ],
          "contourcarpet": [
           {
            "colorbar": {
             "outlinewidth": 0,
             "ticks": ""
            },
            "type": "contourcarpet"
           }
          ],
          "heatmap": [
           {
            "colorbar": {
             "outlinewidth": 0,
             "ticks": ""
            },
            "colorscale": [
             [
              0,
              "#0d0887"
             ],
             [
              0.1111111111111111,
              "#46039f"
             ],
             [
              0.2222222222222222,
              "#7201a8"
             ],
             [
              0.3333333333333333,
              "#9c179e"
             ],
             [
              0.4444444444444444,
              "#bd3786"
             ],
             [
              0.5555555555555556,
              "#d8576b"
             ],
             [
              0.6666666666666666,
              "#ed7953"
             ],
             [
              0.7777777777777778,
              "#fb9f3a"
             ],
             [
              0.8888888888888888,
              "#fdca26"
             ],
             [
              1,
              "#f0f921"
             ]
            ],
            "type": "heatmap"
           }
          ],
          "heatmapgl": [
           {
            "colorbar": {
             "outlinewidth": 0,
             "ticks": ""
            },
            "colorscale": [
             [
              0,
              "#0d0887"
             ],
             [
              0.1111111111111111,
              "#46039f"
             ],
             [
              0.2222222222222222,
              "#7201a8"
             ],
             [
              0.3333333333333333,
              "#9c179e"
             ],
             [
              0.4444444444444444,
              "#bd3786"
             ],
             [
              0.5555555555555556,
              "#d8576b"
             ],
             [
              0.6666666666666666,
              "#ed7953"
             ],
             [
              0.7777777777777778,
              "#fb9f3a"
             ],
             [
              0.8888888888888888,
              "#fdca26"
             ],
             [
              1,
              "#f0f921"
             ]
            ],
            "type": "heatmapgl"
           }
          ],
          "histogram": [
           {
            "marker": {
             "pattern": {
              "fillmode": "overlay",
              "size": 10,
              "solidity": 0.2
             }
            },
            "type": "histogram"
           }
          ],
          "histogram2d": [
           {
            "colorbar": {
             "outlinewidth": 0,
             "ticks": ""
            },
            "colorscale": [
             [
              0,
              "#0d0887"
             ],
             [
              0.1111111111111111,
              "#46039f"
             ],
             [
              0.2222222222222222,
              "#7201a8"
             ],
             [
              0.3333333333333333,
              "#9c179e"
             ],
             [
              0.4444444444444444,
              "#bd3786"
             ],
             [
              0.5555555555555556,
              "#d8576b"
             ],
             [
              0.6666666666666666,
              "#ed7953"
             ],
             [
              0.7777777777777778,
              "#fb9f3a"
             ],
             [
              0.8888888888888888,
              "#fdca26"
             ],
             [
              1,
              "#f0f921"
             ]
            ],
            "type": "histogram2d"
           }
          ],
          "histogram2dcontour": [
           {
            "colorbar": {
             "outlinewidth": 0,
             "ticks": ""
            },
            "colorscale": [
             [
              0,
              "#0d0887"
             ],
             [
              0.1111111111111111,
              "#46039f"
             ],
             [
              0.2222222222222222,
              "#7201a8"
             ],
             [
              0.3333333333333333,
              "#9c179e"
             ],
             [
              0.4444444444444444,
              "#bd3786"
             ],
             [
              0.5555555555555556,
              "#d8576b"
             ],
             [
              0.6666666666666666,
              "#ed7953"
             ],
             [
              0.7777777777777778,
              "#fb9f3a"
             ],
             [
              0.8888888888888888,
              "#fdca26"
             ],
             [
              1,
              "#f0f921"
             ]
            ],
            "type": "histogram2dcontour"
           }
          ],
          "mesh3d": [
           {
            "colorbar": {
             "outlinewidth": 0,
             "ticks": ""
            },
            "type": "mesh3d"
           }
          ],
          "parcoords": [
           {
            "line": {
             "colorbar": {
              "outlinewidth": 0,
              "ticks": ""
             }
            },
            "type": "parcoords"
           }
          ],
          "pie": [
           {
            "automargin": true,
            "type": "pie"
           }
          ],
          "scatter": [
           {
            "fillpattern": {
             "fillmode": "overlay",
             "size": 10,
             "solidity": 0.2
            },
            "type": "scatter"
           }
          ],
          "scatter3d": [
           {
            "line": {
             "colorbar": {
              "outlinewidth": 0,
              "ticks": ""
             }
            },
            "marker": {
             "colorbar": {
              "outlinewidth": 0,
              "ticks": ""
             }
            },
            "type": "scatter3d"
           }
          ],
          "scattercarpet": [
           {
            "marker": {
             "colorbar": {
              "outlinewidth": 0,
              "ticks": ""
             }
            },
            "type": "scattercarpet"
           }
          ],
          "scattergeo": [
           {
            "marker": {
             "colorbar": {
              "outlinewidth": 0,
              "ticks": ""
             }
            },
            "type": "scattergeo"
           }
          ],
          "scattergl": [
           {
            "marker": {
             "colorbar": {
              "outlinewidth": 0,
              "ticks": ""
             }
            },
            "type": "scattergl"
           }
          ],
          "scattermapbox": [
           {
            "marker": {
             "colorbar": {
              "outlinewidth": 0,
              "ticks": ""
             }
            },
            "type": "scattermapbox"
           }
          ],
          "scatterpolar": [
           {
            "marker": {
             "colorbar": {
              "outlinewidth": 0,
              "ticks": ""
             }
            },
            "type": "scatterpolar"
           }
          ],
          "scatterpolargl": [
           {
            "marker": {
             "colorbar": {
              "outlinewidth": 0,
              "ticks": ""
             }
            },
            "type": "scatterpolargl"
           }
          ],
          "scatterternary": [
           {
            "marker": {
             "colorbar": {
              "outlinewidth": 0,
              "ticks": ""
             }
            },
            "type": "scatterternary"
           }
          ],
          "surface": [
           {
            "colorbar": {
             "outlinewidth": 0,
             "ticks": ""
            },
            "colorscale": [
             [
              0,
              "#0d0887"
             ],
             [
              0.1111111111111111,
              "#46039f"
             ],
             [
              0.2222222222222222,
              "#7201a8"
             ],
             [
              0.3333333333333333,
              "#9c179e"
             ],
             [
              0.4444444444444444,
              "#bd3786"
             ],
             [
              0.5555555555555556,
              "#d8576b"
             ],
             [
              0.6666666666666666,
              "#ed7953"
             ],
             [
              0.7777777777777778,
              "#fb9f3a"
             ],
             [
              0.8888888888888888,
              "#fdca26"
             ],
             [
              1,
              "#f0f921"
             ]
            ],
            "type": "surface"
           }
          ],
          "table": [
           {
            "cells": {
             "fill": {
              "color": "#EBF0F8"
             },
             "line": {
              "color": "white"
             }
            },
            "header": {
             "fill": {
              "color": "#C8D4E3"
             },
             "line": {
              "color": "white"
             }
            },
            "type": "table"
           }
          ]
         },
         "layout": {
          "annotationdefaults": {
           "arrowcolor": "#2a3f5f",
           "arrowhead": 0,
           "arrowwidth": 1
          },
          "autotypenumbers": "strict",
          "coloraxis": {
           "colorbar": {
            "outlinewidth": 0,
            "ticks": ""
           }
          },
          "colorscale": {
           "diverging": [
            [
             0,
             "#8e0152"
            ],
            [
             0.1,
             "#c51b7d"
            ],
            [
             0.2,
             "#de77ae"
            ],
            [
             0.3,
             "#f1b6da"
            ],
            [
             0.4,
             "#fde0ef"
            ],
            [
             0.5,
             "#f7f7f7"
            ],
            [
             0.6,
             "#e6f5d0"
            ],
            [
             0.7,
             "#b8e186"
            ],
            [
             0.8,
             "#7fbc41"
            ],
            [
             0.9,
             "#4d9221"
            ],
            [
             1,
             "#276419"
            ]
           ],
           "sequential": [
            [
             0,
             "#0d0887"
            ],
            [
             0.1111111111111111,
             "#46039f"
            ],
            [
             0.2222222222222222,
             "#7201a8"
            ],
            [
             0.3333333333333333,
             "#9c179e"
            ],
            [
             0.4444444444444444,
             "#bd3786"
            ],
            [
             0.5555555555555556,
             "#d8576b"
            ],
            [
             0.6666666666666666,
             "#ed7953"
            ],
            [
             0.7777777777777778,
             "#fb9f3a"
            ],
            [
             0.8888888888888888,
             "#fdca26"
            ],
            [
             1,
             "#f0f921"
            ]
           ],
           "sequentialminus": [
            [
             0,
             "#0d0887"
            ],
            [
             0.1111111111111111,
             "#46039f"
            ],
            [
             0.2222222222222222,
             "#7201a8"
            ],
            [
             0.3333333333333333,
             "#9c179e"
            ],
            [
             0.4444444444444444,
             "#bd3786"
            ],
            [
             0.5555555555555556,
             "#d8576b"
            ],
            [
             0.6666666666666666,
             "#ed7953"
            ],
            [
             0.7777777777777778,
             "#fb9f3a"
            ],
            [
             0.8888888888888888,
             "#fdca26"
            ],
            [
             1,
             "#f0f921"
            ]
           ]
          },
          "colorway": [
           "#636efa",
           "#EF553B",
           "#00cc96",
           "#ab63fa",
           "#FFA15A",
           "#19d3f3",
           "#FF6692",
           "#B6E880",
           "#FF97FF",
           "#FECB52"
          ],
          "font": {
           "color": "#2a3f5f"
          },
          "geo": {
           "bgcolor": "white",
           "lakecolor": "white",
           "landcolor": "#E5ECF6",
           "showlakes": true,
           "showland": true,
           "subunitcolor": "white"
          },
          "hoverlabel": {
           "align": "left"
          },
          "hovermode": "closest",
          "mapbox": {
           "style": "light"
          },
          "paper_bgcolor": "white",
          "plot_bgcolor": "#E5ECF6",
          "polar": {
           "angularaxis": {
            "gridcolor": "white",
            "linecolor": "white",
            "ticks": ""
           },
           "bgcolor": "#E5ECF6",
           "radialaxis": {
            "gridcolor": "white",
            "linecolor": "white",
            "ticks": ""
           }
          },
          "scene": {
           "xaxis": {
            "backgroundcolor": "#E5ECF6",
            "gridcolor": "white",
            "gridwidth": 2,
            "linecolor": "white",
            "showbackground": true,
            "ticks": "",
            "zerolinecolor": "white"
           },
           "yaxis": {
            "backgroundcolor": "#E5ECF6",
            "gridcolor": "white",
            "gridwidth": 2,
            "linecolor": "white",
            "showbackground": true,
            "ticks": "",
            "zerolinecolor": "white"
           },
           "zaxis": {
            "backgroundcolor": "#E5ECF6",
            "gridcolor": "white",
            "gridwidth": 2,
            "linecolor": "white",
            "showbackground": true,
            "ticks": "",
            "zerolinecolor": "white"
           }
          },
          "shapedefaults": {
           "line": {
            "color": "#2a3f5f"
           }
          },
          "ternary": {
           "aaxis": {
            "gridcolor": "white",
            "linecolor": "white",
            "ticks": ""
           },
           "baxis": {
            "gridcolor": "white",
            "linecolor": "white",
            "ticks": ""
           },
           "bgcolor": "#E5ECF6",
           "caxis": {
            "gridcolor": "white",
            "linecolor": "white",
            "ticks": ""
           }
          },
          "title": {
           "x": 0.05
          },
          "xaxis": {
           "automargin": true,
           "gridcolor": "white",
           "linecolor": "white",
           "ticks": "",
           "title": {
            "standoff": 15
           },
           "zerolinecolor": "white",
           "zerolinewidth": 2
          },
          "yaxis": {
           "automargin": true,
           "gridcolor": "white",
           "linecolor": "white",
           "ticks": "",
           "title": {
            "standoff": 15
           },
           "zerolinecolor": "white",
           "zerolinewidth": 2
          }
         }
        },
        "title": {
         "text": "Tendencia de Emisiones de CO2 per cápita para 20 Países Aleatorios"
        },
        "width": 1000,
        "xaxis": {
         "title": {
          "text": "Año"
         }
        },
        "yaxis": {
         "title": {
          "text": "Emisiones CO2 per cápita"
         }
        }
       }
      }
     },
     "metadata": {},
     "output_type": "display_data"
    }
   ],
   "source": [
    "anios = df.columns[4:]\n",
    "\n",
    "# Seleccionamos aleatoriamente 20 países\n",
    "paises_aleatorios = random.sample(list(df['Country Name'].unique()), 20)\n",
    "\n",
    "# Filtramos el DataFrame para incluir solo esos 20 países\n",
    "df_seleccionados = df[df['Country Name'].isin(paises_aleatorios)]\n",
    "\n",
    "# Crea el gráfico de líneas\n",
    "fig = go.Figure()\n",
    "\n",
    "for index, row in df_seleccionados.iterrows():\n",
    "    fig.add_trace(go.Scatter(x=anios, y=row[2:], mode='lines', name=row['Country Name']))\n",
    "\n",
    "fig.update_layout(\n",
    "    title='Tendencia de Emisiones de CO2 per cápita para 20 Países Aleatorios',\n",
    "    xaxis_title='Año',\n",
    "    yaxis_title='Emisiones CO2 per cápita',\n",
    "    height=600,\n",
    "    width=1000\n",
    ")\n",
    "\n",
    "fig.show()\n"
   ]
  },
  {
   "cell_type": "markdown",
   "metadata": {},
   "source": [
    "Conclusiones:\n",
    "Cada vez que se ejecuta le grafico se puede observar diferentes comportamientos.\n",
    "A continuacion comentaremos algunos casos.\n",
    "1. Qatar: Un país que desde el comen\n",
    "2. Luxemburgo:\n",
    "3. \n"
   ]
  },
  {
   "cell_type": "markdown",
   "metadata": {},
   "source": [
    "### Exploracion de datos por cuartiles\n",
    "A continuacion se hace un analisis de los datos por cuartil"
   ]
  },
  {
   "cell_type": "code",
   "execution_count": 72,
   "metadata": {},
   "outputs": [],
   "source": [
    "# Calculamos el cuartil 1 y 3 para cada año\n",
    "q1 = df.iloc[:, 4:].quantile(0.25)\n",
    "cuartil_1 = df[df.iloc[:, 4:].apply(lambda row: all(value < q1.loc[col] for col, value in row.iteritems()), axis=1)]\n",
    "q2 = df.iloc[:, 4:].quantile(0.5)\n",
    "cuartil_2 = df[df.iloc[:, 4:].apply(lambda row: all(value > q2.loc[col] for col, value in row.iteritems()), axis=1)]\n",
    "q3 = df.iloc[:, 4:].quantile(0.75)\n",
    "cuartil_3 = df[df.iloc[:, 4:].apply(lambda row: all(value > q3.loc[col] for col, value in row.iteritems()), axis=1)]\n",
    "cuartil_4 = df[df.iloc[:, 4:].apply(lambda row: all(value > q3.loc[col] for col, value in row.iteritems()), axis=1)]\n"
   ]
  },
  {
   "cell_type": "code",
   "execution_count": 64,
   "metadata": {},
   "outputs": [],
   "source": [
    "# Calculamos el cuartil 3 (tercer cuartil)\n",
    "cuartil_3 = df.iloc[:, 4:].quantile(0.75)\n",
    "\n",
    "# Filtramos el DataFrame para incluir solo aquellos en el cuarto cuartil\n",
    "df_cuartil_4 = df[df.iloc[:, 4:].apply(lambda row: all(value > cuartil_3.loc[col] for col, value in row.iteritems()), axis=1)]"
   ]
  },
  {
   "cell_type": "code",
   "execution_count": 51,
   "metadata": {},
   "outputs": [
    {
     "data": {
      "application/vnd.plotly.v1+json": {
       "config": {
        "plotlyServerURL": "https://plot.ly"
       },
       "data": [
        {
         "mode": "lines",
         "name": "Andorra",
         "type": "scatter",
         "x": [
          "1990",
          "1991",
          "1992",
          "1993",
          "1994",
          "1995",
          "1996",
          "1997",
          "1998",
          "1999",
          "2000",
          "2001",
          "2002",
          "2003",
          "2004",
          "2005",
          "2006",
          "2007",
          "2008",
          "2009",
          "2010",
          "2011",
          "2012",
          "2013",
          "2014",
          "2015",
          "2016",
          "2017",
          "2018",
          "2019",
          "2020"
         ],
         "y": [
          7.59215217756538,
          7.33672475376123,
          7.09990747691287,
          6.93704780580161,
          6.6632370529351,
          6.75413170607679,
          7.08273185028139,
          7.19408799975264,
          7.53192403276777,
          7.81296169370193,
          7.92701635475135,
          7.72562665880271,
          7.49876497903993,
          7.23806946567984,
          7.28675600847491,
          7.20627364517826,
          6.80540008227272,
          6.89038992938287,
          7.08182236539346,
          6.99539619780101,
          7.22359093387771,
          6.95758640724418,
          6.86229281962458,
          6.67423318900893,
          6.44593066279443,
          6.48576924149081,
          6.46528811690102,
          6.30209786421442,
          6.59405703011478,
          6.2872038038851,
          5.77714799227799
         ]
        },
        {
         "mode": "lines",
         "name": "United Arab Emirates",
         "type": "scatter",
         "x": [
          "1990",
          "1991",
          "1992",
          "1993",
          "1994",
          "1995",
          "1996",
          "1997",
          "1998",
          "1999",
          "2000",
          "2001",
          "2002",
          "2003",
          "2004",
          "2005",
          "2006",
          "2007",
          "2008",
          "2009",
          "2010",
          "2011",
          "2012",
          "2013",
          "2014",
          "2015",
          "2016",
          "2017",
          "2018",
          "2019",
          "2020"
         ],
         "y": [
          29.0557960919948,
          30.653565579872,
          28.2118539989254,
          28.6154175534929,
          30.3902407188591,
          30.8821160991755,
          30.5232758134825,
          29.656726456501,
          28.5675748768456,
          27.6603897967531,
          25.8688505871006,
          28.1386591040815,
          27.2855568291431,
          27.2248726413375,
          27.5477739305378,
          27.2025438957737,
          24.8139704924766,
          22.4485000231583,
          22.3281490008492,
          19.6455390731778,
          19.1927959384897,
          19.4317803481083,
          20.2756524576141,
          21.1339160750868,
          21.1227744472553,
          21.9145018912965,
          22.2807027101609,
          21.1654979061116,
          19.060949529489,
          20.1533448325312,
          20.2522716801426
         ]
        },
        {
         "mode": "lines",
         "name": "Australia",
         "type": "scatter",
         "x": [
          "1990",
          "1991",
          "1992",
          "1993",
          "1994",
          "1995",
          "1996",
          "1997",
          "1998",
          "1999",
          "2000",
          "2001",
          "2002",
          "2003",
          "2004",
          "2005",
          "2006",
          "2007",
          "2008",
          "2009",
          "2010",
          "2011",
          "2012",
          "2013",
          "2014",
          "2015",
          "2016",
          "2017",
          "2018",
          "2019",
          "2020"
         ],
         "y": [
          15.4371827741345,
          15.3152712711313,
          15.3539735797446,
          15.4817052728898,
          15.7309147953876,
          16.1146015841703,
          16.4710144168098,
          16.7061760772667,
          17.6023335431403,
          17.7372431090697,
          17.8373183976585,
          17.9307269150375,
          18.1232107784425,
          17.8945391341105,
          18.3688710453093,
          18.2784730852853,
          18.2927495943223,
          18.4547376555999,
          18.2392898668792,
          18.1572008366536,
          17.9737515176961,
          17.6560553381679,
          17.4056176654109,
          16.7945880965987,
          16.1557451398864,
          16.1984582210401,
          16.3203306101751,
          16.1480905133657,
          15.8635624340846,
          15.595726745355,
          14.7726575989848
         ]
        },
        {
         "mode": "lines",
         "name": "Austria",
         "type": "scatter",
         "x": [
          "1990",
          "1991",
          "1992",
          "1993",
          "1994",
          "1995",
          "1996",
          "1997",
          "1998",
          "1999",
          "2000",
          "2001",
          "2002",
          "2003",
          "2004",
          "2005",
          "2006",
          "2007",
          "2008",
          "2009",
          "2010",
          "2011",
          "2012",
          "2013",
          "2014",
          "2015",
          "2016",
          "2017",
          "2018",
          "2019",
          "2020"
         ],
         "y": [
          7.59010660536478,
          8.04952642145454,
          7.35494711001263,
          7.3117484709953,
          7.34467405852584,
          7.69806994672305,
          8.15463768955387,
          8.06021203957158,
          8.10766086454086,
          7.88945743440831,
          7.93085896065763,
          8.44465626905163,
          8.58383681081203,
          9.16931675643542,
          9.27587070234996,
          9.2664055123168,
          8.962101510998,
          8.58876639792215,
          8.50023841866895,
          7.72122810060212,
          8.36562481018494,
          8.13618977833065,
          7.72385166247508,
          7.754017978913,
          7.26093085754911,
          7.3188595368183,
          7.29077721621103,
          7.48703675539348,
          7.14114021108032,
          7.26333120118199,
          6.63264573733546
         ]
        },
        {
         "mode": "lines",
         "name": "Belgium",
         "type": "scatter",
         "x": [
          "1990",
          "1991",
          "1992",
          "1993",
          "1994",
          "1995",
          "1996",
          "1997",
          "1998",
          "1999",
          "2000",
          "2001",
          "2002",
          "2003",
          "2004",
          "2005",
          "2006",
          "2007",
          "2008",
          "2009",
          "2010",
          "2011",
          "2012",
          "2013",
          "2014",
          "2015",
          "2016",
          "2017",
          "2018",
          "2019",
          "2020"
         ],
         "y": [
          10.9670355667222,
          11.3909000422411,
          11.182432371895,
          10.918595167324,
          11.3588285344927,
          11.3022428848678,
          11.7606250966732,
          11.4558386523456,
          11.7036858150067,
          11.2956940254453,
          11.4400292647238,
          11.504301239383,
          10.7280079862302,
          11.1315169148275,
          10.8770089098723,
          10.5892027545238,
          10.2466752332537,
          9.77872516634198,
          9.96411475547137,
          9.25341219597882,
          9.80881615729526,
          8.74124771793825,
          8.57803036878231,
          8.65194718679944,
          8.06155236787537,
          8.43483650630165,
          8.3106603919614,
          8.13943859065518,
          8.18436667928584,
          8.09379074556662,
          7.39813065774681
         ]
        },
        {
         "mode": "lines",
         "name": "Bahrain",
         "type": "scatter",
         "x": [
          "1990",
          "1991",
          "1992",
          "1993",
          "1994",
          "1995",
          "1996",
          "1997",
          "1998",
          "1999",
          "2000",
          "2001",
          "2002",
          "2003",
          "2004",
          "2005",
          "2006",
          "2007",
          "2008",
          "2009",
          "2010",
          "2011",
          "2012",
          "2013",
          "2014",
          "2015",
          "2016",
          "2017",
          "2018",
          "2019",
          "2020"
         ],
         "y": [
          20.7520032159685,
          19.3243185192794,
          22.133298465201,
          22.7731697327256,
          22.5401430078853,
          22.0837480054949,
          22.3703607709765,
          22.0883086158895,
          23.0323992838491,
          22.3235707587992,
          22.3159442371971,
          22.4391139009965,
          23.0134006125689,
          23.0568219197796,
          21.5097228271368,
          22.9440272485062,
          23.1574047277959,
          22.1050385764205,
          22.3013969557155,
          20.9564094542131,
          21.394806553811,
          21.465302946925,
          22.1841250870451,
          22.8688416095137,
          23.0965713649406,
          22.3856249935763,
          21.4953098652797,
          20.9460377778113,
          20.7379617303374,
          22.063354812112,
          21.9769078065259
         ]
        },
        {
         "mode": "lines",
         "name": "Brunei Darussalam",
         "type": "scatter",
         "x": [
          "1990",
          "1991",
          "1992",
          "1993",
          "1994",
          "1995",
          "1996",
          "1997",
          "1998",
          "1999",
          "2000",
          "2001",
          "2002",
          "2003",
          "2004",
          "2005",
          "2006",
          "2007",
          "2008",
          "2009",
          "2010",
          "2011",
          "2012",
          "2013",
          "2014",
          "2015",
          "2016",
          "2017",
          "2018",
          "2019",
          "2020"
         ],
         "y": [
          12.447313765615,
          12.5416882828133,
          12.9242725725986,
          13.796700537032,
          14.6097590217,
          15.381966385487,
          15.7650655135926,
          16.6824705074789,
          14.1117344261476,
          13.5547095965387,
          14.128579385852,
          13.8190099428317,
          13.296667558848,
          15.5785281532009,
          14.1568713397566,
          13.610767976396,
          20.1733868371923,
          18.8600335843358,
          20.5750348442928,
          20.1744250097999,
          18.1056575761325,
          18.2629898432402,
          17.9510321320893,
          17.5097521994064,
          16.9931550247686,
          15.1806794372587,
          16.358211618004,
          16.9430783961922,
          17.3623104307419,
          16.111932938856,
          21.7058124398664
         ]
        },
        {
         "mode": "lines",
         "name": "Canada",
         "type": "scatter",
         "x": [
          "1990",
          "1991",
          "1992",
          "1993",
          "1994",
          "1995",
          "1996",
          "1997",
          "1998",
          "1999",
          "2000",
          "2001",
          "2002",
          "2003",
          "2004",
          "2005",
          "2006",
          "2007",
          "2008",
          "2009",
          "2010",
          "2011",
          "2012",
          "2013",
          "2014",
          "2015",
          "2016",
          "2017",
          "2018",
          "2019",
          "2020"
         ],
         "y": [
          15.1489693200763,
          14.7409640402006,
          15.0281390353281,
          14.713309128149,
          15.0605039615818,
          15.290466338986,
          15.5926140091235,
          15.9438483608679,
          16.0765716714674,
          16.2584734079999,
          16.7574667443141,
          16.3314367841399,
          16.7204106851899,
          17.2083591886595,
          16.7941859676954,
          17.0275680997804,
          16.5952139152245,
          17.3806307727274,
          16.5594262937317,
          15.5045058721079,
          15.7945376619227,
          15.9982717192369,
          15.7368239449526,
          15.8408097562138,
          15.8521772244521,
          15.6499072848632,
          15.4218225254765,
          15.5471947150649,
          15.6366541621759,
          15.0527469447143,
          13.5993749178773
         ]
        },
        {
         "mode": "lines",
         "name": "Czechia",
         "type": "scatter",
         "x": [
          "1990",
          "1991",
          "1992",
          "1993",
          "1994",
          "1995",
          "1996",
          "1997",
          "1998",
          "1999",
          "2000",
          "2001",
          "2002",
          "2003",
          "2004",
          "2005",
          "2006",
          "2007",
          "2008",
          "2009",
          "2010",
          "2011",
          "2012",
          "2013",
          "2014",
          "2015",
          "2016",
          "2017",
          "2018",
          "2019",
          "2020"
         ],
         "y": [
          14.8208689239845,
          13.5573597056742,
          13.2610494128232,
          12.6799650140297,
          12.1158025765884,
          12.0573205672409,
          12.4557148010405,
          12.2286682884758,
          11.6342491184262,
          10.9258488544185,
          12.161475751051,
          12.1705106539795,
          11.7888487068051,
          12.1025038458905,
          12.1393325416704,
          11.9372266731014,
          11.9694049314844,
          12.0822291623862,
          11.4321462264855,
          10.8432395602577,
          10.8996688118949,
          10.5963383691143,
          10.2104838030651,
          9.78767716870935,
          9.49713106845789,
          9.59291997133716,
          9.74775352506433,
          9.77398706755375,
          9.66462802005809,
          9.15611790623386,
          8.30401749583889
         ]
        },
        {
         "mode": "lines",
         "name": "Germany",
         "type": "scatter",
         "x": [
          "1990",
          "1991",
          "1992",
          "1993",
          "1994",
          "1995",
          "1996",
          "1997",
          "1998",
          "1999",
          "2000",
          "2001",
          "2002",
          "2003",
          "2004",
          "2005",
          "2006",
          "2007",
          "2008",
          "2009",
          "2010",
          "2011",
          "2012",
          "2013",
          "2014",
          "2015",
          "2016",
          "2017",
          "2018",
          "2019",
          "2020"
         ],
         "y": [
          12.0265802780856,
          11.6548268065837,
          11.0737594003259,
          10.9302212076704,
          10.7553397325791,
          10.7086223200894,
          11.0399715040613,
          10.6375197902363,
          10.545804765172,
          10.1533792049799,
          10.0993658941276,
          10.2936122892644,
          10.1030113350959,
          10.138763607454,
          9.9504461302536,
          9.7294631214949,
          9.88647957169216,
          9.52762326749987,
          9.61745788706108,
          8.97173140678443,
          9.45338862684134,
          9.29900290355714,
          9.45128904680279,
          9.62422936749002,
          9.08852776834501,
          9.08734480366678,
          9.07297238768971,
          8.8583445114547,
          8.53704268780674,
          7.9271876239049,
          7.2552210281684
         ]
        },
        {
         "mode": "lines",
         "name": "Estonia",
         "type": "scatter",
         "x": [
          "1990",
          "1991",
          "1992",
          "1993",
          "1994",
          "1995",
          "1996",
          "1997",
          "1998",
          "1999",
          "2000",
          "2001",
          "2002",
          "2003",
          "2004",
          "2005",
          "2006",
          "2007",
          "2008",
          "2009",
          "2010",
          "2011",
          "2012",
          "2013",
          "2014",
          "2015",
          "2016",
          "2017",
          "2018",
          "2019",
          "2020"
         ],
         "y": [
          22.0147032770107,
          20.4117813585224,
          15.0092851631116,
          12.2694307315036,
          12.7764247043105,
          11.4838574055744,
          12.3481732756708,
          12.7603096742847,
          11.8513356361044,
          11.1399869375448,
          10.6890911498692,
          10.9729381211211,
          10.7261391235002,
          12.1702462939185,
          12.2967964478368,
          12.4062667232566,
          11.9467482421425,
          14.7431154339589,
          13.0742881930162,
          10.5265958044683,
          13.8946656903059,
          13.9385689285911,
          12.8442211967073,
          14.2993496950297,
          13.3847833280717,
          10.929773066435,
          12.0894671642131,
          12.7324303316269,
          11.8889360404909,
          7.58212010267556,
          5.33839981587368
         ]
        },
        {
         "mode": "lines",
         "name": "Finland",
         "type": "scatter",
         "x": [
          "1990",
          "1991",
          "1992",
          "1993",
          "1994",
          "1995",
          "1996",
          "1997",
          "1998",
          "1999",
          "2000",
          "2001",
          "2002",
          "2003",
          "2004",
          "2005",
          "2006",
          "2007",
          "2008",
          "2009",
          "2010",
          "2011",
          "2012",
          "2013",
          "2014",
          "2015",
          "2016",
          "2017",
          "2018",
          "2019",
          "2020"
         ],
         "y": [
          10.9422550918683,
          10.9963221068504,
          10.3690168488962,
          10.5521285429414,
          11.7774524583985,
          10.9817553188365,
          12.2106563805414,
          11.7949311602415,
          11.1119864604585,
          10.9399253582537,
          10.6443731309922,
          11.7748661914168,
          12.1985394756526,
          13.7555932134462,
          12.9458059145721,
          10.5717089431837,
          12.7272102369268,
          12.3097271173365,
          10.6636260517985,
          10.148381558573,
          11.6580824827459,
          10.2302556366865,
          9.12603706225985,
          9.2280857485569,
          8.45218320494398,
          7.81369792414716,
          8.31624752993602,
          7.80931895529113,
          8.04918842721228,
          7.42303960115952,
          6.57014512772575
         ]
        },
        {
         "mode": "lines",
         "name": "Ireland",
         "type": "scatter",
         "x": [
          "1990",
          "1991",
          "1992",
          "1993",
          "1994",
          "1995",
          "1996",
          "1997",
          "1998",
          "1999",
          "2000",
          "2001",
          "2002",
          "2003",
          "2004",
          "2005",
          "2006",
          "2007",
          "2008",
          "2009",
          "2010",
          "2011",
          "2012",
          "2013",
          "2014",
          "2015",
          "2016",
          "2017",
          "2018",
          "2019",
          "2020"
         ],
         "y": [
          8.81096445221279,
          8.90339776500431,
          8.85373605775581,
          8.85103184583004,
          9.14071634637613,
          9.26840500869947,
          9.5728121709631,
          9.79064393029067,
          10.3480058695891,
          10.6459595833158,
          11.1778068493057,
          11.5914338545197,
          11.1725310641268,
          11.0312944683639,
          10.9790475404286,
          11.2142943339694,
          11.0593877607848,
          10.5945475071051,
          10.2262724232127,
          8.9481685637902,
          8.84787907428585,
          7.96668794720795,
          8.04636035875816,
          7.71834346349422,
          7.63385246922327,
          7.88760935074481,
          8.2033757874051,
          7.84814955647433,
          7.69902755440575,
          7.25774875667262,
          6.76822759018266
         ]
        },
        {
         "mode": "lines",
         "name": "Israel",
         "type": "scatter",
         "x": [
          "1990",
          "1991",
          "1992",
          "1993",
          "1994",
          "1995",
          "1996",
          "1997",
          "1998",
          "1999",
          "2000",
          "2001",
          "2002",
          "2003",
          "2004",
          "2005",
          "2006",
          "2007",
          "2008",
          "2009",
          "2010",
          "2011",
          "2012",
          "2013",
          "2014",
          "2015",
          "2016",
          "2017",
          "2018",
          "2019",
          "2020"
         ],
         "y": [
          7.25448497854077,
          6.975873913922,
          7.19447589303143,
          7.69903060254704,
          8.0313391368772,
          8.4355816050496,
          8.56185874912157,
          8.7332762165867,
          8.62580807234969,
          8.65038367346939,
          9.0630147877246,
          9.00023295542786,
          9.29689497716895,
          9.40632614317533,
          9.27594360405346,
          8.80397108266836,
          9.12017806257709,
          9.27534435453545,
          9.12707968476357,
          8.7805519931602,
          9.25026234324991,
          8.99106338046306,
          9.61547310536628,
          8.31348098517278,
          7.8773324245043,
          7.9133542559158,
          7.63316171308214,
          7.56387361849127,
          6.91499302021885,
          6.9357521537442,
          6.34521600416707
         ]
        },
        {
         "mode": "lines",
         "name": "Japan",
         "type": "scatter",
         "x": [
          "1990",
          "1991",
          "1992",
          "1993",
          "1994",
          "1995",
          "1996",
          "1997",
          "1998",
          "1999",
          "2000",
          "2001",
          "2002",
          "2003",
          "2004",
          "2005",
          "2006",
          "2007",
          "2008",
          "2009",
          "2010",
          "2011",
          "2012",
          "2013",
          "2014",
          "2015",
          "2016",
          "2017",
          "2018",
          "2019",
          "2020"
         ],
         "y": [
          8.83159834140495,
          8.90549917718047,
          8.96150371709865,
          8.87283243477077,
          9.27283628113566,
          9.33264313950523,
          9.42012452587132,
          9.30217361987038,
          8.94209256329114,
          9.23118904533645,
          9.33772380028855,
          9.22020228236164,
          9.46887049315391,
          9.50476440282497,
          9.44956363835599,
          9.51276404248159,
          9.33129428879816,
          9.5936031749752,
          9.04895324957248,
          8.60923098549751,
          9.03600999453424,
          9.49500989572333,
          9.82785573811594,
          9.94449527247048,
          9.56430591784783,
          9.26804964566898,
          9.16671440712644,
          9.06369120751032,
          8.76197885041518,
          8.47840057488964,
          8.0314958696668
         ]
        },
        {
         "mode": "lines",
         "name": "Kazakhstan",
         "type": "scatter",
         "x": [
          "1990",
          "1991",
          "1992",
          "1993",
          "1994",
          "1995",
          "1996",
          "1997",
          "1998",
          "1999",
          "2000",
          "2001",
          "2002",
          "2003",
          "2004",
          "2005",
          "2006",
          "2007",
          "2008",
          "2009",
          "2010",
          "2011",
          "2012",
          "2013",
          "2014",
          "2015",
          "2016",
          "2017",
          "2018",
          "2019",
          "2020"
         ],
         "y": [
          14.5125336432591,
          14.9750989425963,
          15.4413427259834,
          13.3844081610327,
          12.3357479601773,
          11.0795989919983,
          9.84674571759674,
          8.62379335879025,
          9.01284531743062,
          8.21584936175902,
          8.07276392190989,
          7.90420999391924,
          8.82077519889026,
          9.80226935118937,
          10.5261951921084,
          11.1716693748985,
          12.1046688726905,
          12.8125768525733,
          15.3412531633198,
          13.274060944687,
          14.0732754184079,
          14.824684750479,
          14.5663225959365,
          15.2631047859855,
          12.1042254914238,
          10.8910512947587,
          11.3788397304605,
          11.9137581041033,
          11.8675495659661,
          11.0508703486337,
          11.2977433059429
         ]
        },
        {
         "mode": "lines",
         "name": "Luxembourg",
         "type": "scatter",
         "x": [
          "1990",
          "1991",
          "1992",
          "1993",
          "1994",
          "1995",
          "1996",
          "1997",
          "1998",
          "1999",
          "2000",
          "2001",
          "2002",
          "2003",
          "2004",
          "2005",
          "2006",
          "2007",
          "2008",
          "2009",
          "2010",
          "2011",
          "2012",
          "2013",
          "2014",
          "2015",
          "2016",
          "2017",
          "2018",
          "2019",
          "2020"
         ],
         "y": [
          29.5534895901532,
          30.3705426356589,
          29.159176388092,
          29.2981948550223,
          26.8303034063411,
          21.1927806668706,
          21.0919186432494,
          19.6500178805579,
          17.8137508829762,
          18.3989778732795,
          19.6119642447857,
          20.6522846950909,
          22.0054911189556,
          22.6769700861325,
          25.4527990918914,
          25.6104377437344,
          24.7911187655643,
          23.1553376820079,
          22.5570449196767,
          20.9788200882714,
          21.7556657126006,
          21.0415030857707,
          20.1489417002859,
          18.7229461130742,
          17.3339397000642,
          16.0346486330854,
          15.1987752871924,
          15.1030627029057,
          15.331523974011,
          15.3230398015487,
          12.4569532326913
         ]
        },
        {
         "mode": "lines",
         "name": "Netherlands",
         "type": "scatter",
         "x": [
          "1990",
          "1991",
          "1992",
          "1993",
          "1994",
          "1995",
          "1996",
          "1997",
          "1998",
          "1999",
          "2000",
          "2001",
          "2002",
          "2003",
          "2004",
          "2005",
          "2006",
          "2007",
          "2008",
          "2009",
          "2010",
          "2011",
          "2012",
          "2013",
          "2014",
          "2015",
          "2016",
          "2017",
          "2018",
          "2019",
          "2020"
         ],
         "y": [
          10.1341402975352,
          10.4358930358589,
          10.2744991065034,
          10.4730769069783,
          10.375465177492,
          10.6155855040098,
          11.179512723932,
          10.6536819414951,
          10.6151512977258,
          10.2102960722202,
          10.1784287890757,
          10.4146968312707,
          10.3678330618705,
          10.499823054141,
          10.5711114246177,
          10.2896665585776,
          10.0147857889781,
          10.0447841297995,
          10.0465760036747,
          9.70868318396398,
          10.2983113129908,
          9.51101037472188,
          9.39861278109733,
          9.34814101422768,
          8.88190506639546,
          9.29024293675951,
          9.30689240374546,
          9.08926563407696,
          8.78514410481566,
          8.41396927991521,
          7.4715534787719
         ]
        },
        {
         "mode": "lines",
         "name": "Poland",
         "type": "scatter",
         "x": [
          "1990",
          "1991",
          "1992",
          "1993",
          "1994",
          "1995",
          "1996",
          "1997",
          "1998",
          "1999",
          "2000",
          "2001",
          "2002",
          "2003",
          "2004",
          "2005",
          "2006",
          "2007",
          "2008",
          "2009",
          "2010",
          "2011",
          "2012",
          "2013",
          "2014",
          "2015",
          "2016",
          "2017",
          "2018",
          "2019",
          "2020"
         ],
         "y": [
          9.18938372873063,
          9.19372288896832,
          8.95035398988319,
          8.94445673959726,
          8.81496685801486,
          8.80953018834202,
          9.19937852708018,
          8.9166890471999,
          8.23552592173478,
          7.99213487148085,
          7.73091999715933,
          7.67691948740114,
          7.51549998320707,
          7.79306768797555,
          7.90561638869524,
          7.89596453021837,
          8.2349912497663,
          8.22063999059825,
          8.08705998482548,
          7.79155465630107,
          8.24700467583953,
          8.15993272251677,
          7.96968428583604,
          7.84182079398329,
          7.5168891922455,
          7.6100211833642,
          7.89575225360953,
          8.23624313643991,
          8.20953133332017,
          7.76885578278686,
          7.36756337292709
         ]
        },
        {
         "mode": "lines",
         "name": "Qatar",
         "type": "scatter",
         "x": [
          "1990",
          "1991",
          "1992",
          "1993",
          "1994",
          "1995",
          "1996",
          "1997",
          "1998",
          "1999",
          "2000",
          "2001",
          "2002",
          "2003",
          "2004",
          "2005",
          "2006",
          "2007",
          "2008",
          "2009",
          "2010",
          "2011",
          "2012",
          "2013",
          "2014",
          "2015",
          "2016",
          "2017",
          "2018",
          "2019",
          "2020"
         ],
         "y": [
          28.3996151016019,
          32.8268555881232,
          31.1432590766254,
          34.1835359568431,
          36.9315515006501,
          36.9762760296855,
          39.5682692035181,
          46.1188068820595,
          45.615898188803,
          47.2889375870289,
          44.3792506080314,
          42.2057920159804,
          45.5646913988777,
          46.4168865435356,
          47.6569620139265,
          45.4060868848016,
          43.2885740744389,
          40.6094522819758,
          36.8899456267738,
          33.7273035520663,
          35.5482683436981,
          37.9794930746587,
          39.5821395212157,
          37.6028800771898,
          37.1050343988277,
          35.2904219503821,
          33.5495686981102,
          32.2566382287485,
          31.4809674373955,
          31.8772030129291,
          31.7268424513247
         ]
        },
        {
         "mode": "lines",
         "name": "Russian Federation",
         "type": "scatter",
         "x": [
          "1990",
          "1991",
          "1992",
          "1993",
          "1994",
          "1995",
          "1996",
          "1997",
          "1998",
          "1999",
          "2000",
          "2001",
          "2002",
          "2003",
          "2004",
          "2005",
          "2006",
          "2007",
          "2008",
          "2009",
          "2010",
          "2011",
          "2012",
          "2013",
          "2014",
          "2015",
          "2016",
          "2017",
          "2018",
          "2019",
          "2020"
         ],
         "y": [
          14.6214892920399,
          14.3970860697158,
          13.6719762392161,
          12.6650949037523,
          11.3541540831058,
          11.0225855112061,
          10.8070673993541,
          10.0699919868363,
          10.076231463632,
          10.3503285566932,
          10.6676603031679,
          10.73578413816,
          10.7726387485619,
          11.1303980795724,
          11.1127113661228,
          11.2318521528474,
          11.568369096945,
          11.6112690474096,
          11.5956540891301,
          10.8321085519776,
          11.3254009458404,
          11.884949695479,
          11.7020653683345,
          11.3770043056089,
          11.2082077063911,
          11.0520055015768,
          10.8874269283473,
          11.0351992095822,
          11.4965712497165,
          11.7971941673637,
          11.2322880672434
         ]
        },
        {
         "mode": "lines",
         "name": "Saudi Arabia",
         "type": "scatter",
         "x": [
          "1990",
          "1991",
          "1992",
          "1993",
          "1994",
          "1995",
          "1996",
          "1997",
          "1998",
          "1999",
          "2000",
          "2001",
          "2002",
          "2003",
          "2004",
          "2005",
          "2006",
          "2007",
          "2008",
          "2009",
          "2010",
          "2011",
          "2012",
          "2013",
          "2014",
          "2015",
          "2016",
          "2017",
          "2018",
          "2019",
          "2020"
         ],
         "y": [
          10.7095181603127,
          11.2838828898957,
          11.6907359668082,
          11.3889582926273,
          11.2350121366359,
          10.8439859542586,
          11.2132540076702,
          11.0376436356881,
          11.4249791672569,
          11.4004938680588,
          11.5863127738441,
          11.5043474059887,
          12.0340452579772,
          12.3031481310381,
          12.6739850141629,
          12.9231002796827,
          13.2149871153262,
          13.4324426740113,
          14.2037535472172,
          14.2722088631653,
          15.1683862693943,
          15.3813984934801,
          15.9780157664397,
          15.9839190651263,
          16.8252361265938,
          17.2577930743373,
          16.795103103967,
          16.0777919021258,
          15.0655004937014,
          14.7030166496769,
          14.2665853675408
         ]
        },
        {
         "mode": "lines",
         "name": "Singapore",
         "type": "scatter",
         "x": [
          "1990",
          "1991",
          "1992",
          "1993",
          "1994",
          "1995",
          "1996",
          "1997",
          "1998",
          "1999",
          "2000",
          "2001",
          "2002",
          "2003",
          "2004",
          "2005",
          "2006",
          "2007",
          "2008",
          "2009",
          "2010",
          "2011",
          "2012",
          "2013",
          "2014",
          "2015",
          "2016",
          "2017",
          "2018",
          "2019",
          "2020"
         ],
         "y": [
          9.50730063548281,
          9.72060388831811,
          9.72263578954145,
          10.9142950096741,
          11.10800433337,
          10.6630262510548,
          10.4939270505058,
          10.0530078992887,
          9.43343281864263,
          9.54906418054509,
          10.4564750699312,
          10.1573654208833,
          9.88776206611669,
          9.27322321770106,
          9.50851808545158,
          8.65059982249361,
          8.44547089368866,
          8.34372321486362,
          7.93975115902894,
          7.78571060513801,
          8.35450837270906,
          8.63611004366003,
          8.22453047443198,
          8.13316955483092,
          8.11713717182074,
          8.20810904856042,
          8.0198912735455,
          8.43229982682534,
          8.01821207673574,
          7.91841038479591,
          7.68668370206727
         ]
        },
        {
         "mode": "lines",
         "name": "Turkmenistan",
         "type": "scatter",
         "x": [
          "1990",
          "1991",
          "1992",
          "1993",
          "1994",
          "1995",
          "1996",
          "1997",
          "1998",
          "1999",
          "2000",
          "2001",
          "2002",
          "2003",
          "2004",
          "2005",
          "2006",
          "2007",
          "2008",
          "2009",
          "2010",
          "2011",
          "2012",
          "2013",
          "2014",
          "2015",
          "2016",
          "2017",
          "2018",
          "2019",
          "2020"
         ],
         "y": [
          12.0007967146541,
          9.88766496885484,
          7.15656118923107,
          6.68998521218603,
          8.11630769334995,
          8.04183387068116,
          7.11653991206421,
          6.99009916419016,
          7.18458261584013,
          8.37310342697829,
          8.42774951566293,
          8.44060551954286,
          8.81272228285019,
          9.73950764322162,
          10.242184724984,
          10.3550613771612,
          10.4796520165708,
          11.638514165672,
          11.6232814250278,
          10.1114137793462,
          11.2329986693166,
          12.1393386187277,
          12.2297836730551,
          11.4730953338027,
          10.9813404266741,
          11.0601514177487,
          10.9191162876214,
          10.7016590590785,
          10.4397215133356,
          10.2675361537537,
          10.1840862992321
         ]
        },
        {
         "mode": "lines",
         "name": "Trinidad and Tobago",
         "type": "scatter",
         "x": [
          "1990",
          "1991",
          "1992",
          "1993",
          "1994",
          "1995",
          "1996",
          "1997",
          "1998",
          "1999",
          "2000",
          "2001",
          "2002",
          "2003",
          "2004",
          "2005",
          "2006",
          "2007",
          "2008",
          "2009",
          "2010",
          "2011",
          "2012",
          "2013",
          "2014",
          "2015",
          "2016",
          "2017",
          "2018",
          "2019",
          "2020"
         ],
         "y": [
          10.3846925191746,
          10.2216382077128,
          10.2257328265534,
          8.28641070067868,
          6.75622198674805,
          6.5900405406852,
          7.00058015857668,
          7.3514741258911,
          7.50348563254023,
          7.45993219613537,
          7.65986865365113,
          8.68062637133591,
          9.41681946916857,
          11.4121553132951,
          11.8251036606689,
          12.8407866625276,
          14.564836421024,
          14.7926759436507,
          14.3682200569643,
          13.5814460698078,
          15.2046095287798,
          15.663863889241,
          15.0290447902896,
          15.3993568533708,
          15.1752890578846,
          14.5945320327604,
          12.4489393124758,
          12.3255875293435,
          11.8054055634678,
          11.3130322937192,
          10.1571191722541
         ]
        },
        {
         "mode": "lines",
         "name": "United States",
         "type": "scatter",
         "x": [
          "1990",
          "1991",
          "1992",
          "1993",
          "1994",
          "1995",
          "1996",
          "1997",
          "1998",
          "1999",
          "2000",
          "2001",
          "2002",
          "2003",
          "2004",
          "2005",
          "2006",
          "2007",
          "2008",
          "2009",
          "2010",
          "2011",
          "2012",
          "2013",
          "2014",
          "2015",
          "2016",
          "2017",
          "2018",
          "2019",
          "2020"
         ],
         "y": [
          19.4073358624806,
          19.0033895826169,
          19.0228451468536,
          19.2183314801919,
          19.2561852496523,
          19.216897002381,
          19.5753665634721,
          20.3308530498025,
          20.2662868763911,
          20.1011227780963,
          20.4697967370289,
          20.1715369311018,
          19.4455302807915,
          19.5065055322014,
          19.5976167070584,
          19.4692725196123,
          18.9459168417477,
          19.0429117790575,
          18.278491260823,
          16.8086814210194,
          17.4317369879177,
          16.604189616843,
          15.789760151839,
          16.1111752638496,
          16.0409167568247,
          15.5600154435853,
          15.1498827249693,
          14.8232454359428,
          15.2225180998504,
          14.6733807134556,
          13.0328279519898
         ]
        }
       ],
       "layout": {
        "height": 600,
        "template": {
         "data": {
          "bar": [
           {
            "error_x": {
             "color": "#2a3f5f"
            },
            "error_y": {
             "color": "#2a3f5f"
            },
            "marker": {
             "line": {
              "color": "#E5ECF6",
              "width": 0.5
             },
             "pattern": {
              "fillmode": "overlay",
              "size": 10,
              "solidity": 0.2
             }
            },
            "type": "bar"
           }
          ],
          "barpolar": [
           {
            "marker": {
             "line": {
              "color": "#E5ECF6",
              "width": 0.5
             },
             "pattern": {
              "fillmode": "overlay",
              "size": 10,
              "solidity": 0.2
             }
            },
            "type": "barpolar"
           }
          ],
          "carpet": [
           {
            "aaxis": {
             "endlinecolor": "#2a3f5f",
             "gridcolor": "white",
             "linecolor": "white",
             "minorgridcolor": "white",
             "startlinecolor": "#2a3f5f"
            },
            "baxis": {
             "endlinecolor": "#2a3f5f",
             "gridcolor": "white",
             "linecolor": "white",
             "minorgridcolor": "white",
             "startlinecolor": "#2a3f5f"
            },
            "type": "carpet"
           }
          ],
          "choropleth": [
           {
            "colorbar": {
             "outlinewidth": 0,
             "ticks": ""
            },
            "type": "choropleth"
           }
          ],
          "contour": [
           {
            "colorbar": {
             "outlinewidth": 0,
             "ticks": ""
            },
            "colorscale": [
             [
              0,
              "#0d0887"
             ],
             [
              0.1111111111111111,
              "#46039f"
             ],
             [
              0.2222222222222222,
              "#7201a8"
             ],
             [
              0.3333333333333333,
              "#9c179e"
             ],
             [
              0.4444444444444444,
              "#bd3786"
             ],
             [
              0.5555555555555556,
              "#d8576b"
             ],
             [
              0.6666666666666666,
              "#ed7953"
             ],
             [
              0.7777777777777778,
              "#fb9f3a"
             ],
             [
              0.8888888888888888,
              "#fdca26"
             ],
             [
              1,
              "#f0f921"
             ]
            ],
            "type": "contour"
           }
          ],
          "contourcarpet": [
           {
            "colorbar": {
             "outlinewidth": 0,
             "ticks": ""
            },
            "type": "contourcarpet"
           }
          ],
          "heatmap": [
           {
            "colorbar": {
             "outlinewidth": 0,
             "ticks": ""
            },
            "colorscale": [
             [
              0,
              "#0d0887"
             ],
             [
              0.1111111111111111,
              "#46039f"
             ],
             [
              0.2222222222222222,
              "#7201a8"
             ],
             [
              0.3333333333333333,
              "#9c179e"
             ],
             [
              0.4444444444444444,
              "#bd3786"
             ],
             [
              0.5555555555555556,
              "#d8576b"
             ],
             [
              0.6666666666666666,
              "#ed7953"
             ],
             [
              0.7777777777777778,
              "#fb9f3a"
             ],
             [
              0.8888888888888888,
              "#fdca26"
             ],
             [
              1,
              "#f0f921"
             ]
            ],
            "type": "heatmap"
           }
          ],
          "heatmapgl": [
           {
            "colorbar": {
             "outlinewidth": 0,
             "ticks": ""
            },
            "colorscale": [
             [
              0,
              "#0d0887"
             ],
             [
              0.1111111111111111,
              "#46039f"
             ],
             [
              0.2222222222222222,
              "#7201a8"
             ],
             [
              0.3333333333333333,
              "#9c179e"
             ],
             [
              0.4444444444444444,
              "#bd3786"
             ],
             [
              0.5555555555555556,
              "#d8576b"
             ],
             [
              0.6666666666666666,
              "#ed7953"
             ],
             [
              0.7777777777777778,
              "#fb9f3a"
             ],
             [
              0.8888888888888888,
              "#fdca26"
             ],
             [
              1,
              "#f0f921"
             ]
            ],
            "type": "heatmapgl"
           }
          ],
          "histogram": [
           {
            "marker": {
             "pattern": {
              "fillmode": "overlay",
              "size": 10,
              "solidity": 0.2
             }
            },
            "type": "histogram"
           }
          ],
          "histogram2d": [
           {
            "colorbar": {
             "outlinewidth": 0,
             "ticks": ""
            },
            "colorscale": [
             [
              0,
              "#0d0887"
             ],
             [
              0.1111111111111111,
              "#46039f"
             ],
             [
              0.2222222222222222,
              "#7201a8"
             ],
             [
              0.3333333333333333,
              "#9c179e"
             ],
             [
              0.4444444444444444,
              "#bd3786"
             ],
             [
              0.5555555555555556,
              "#d8576b"
             ],
             [
              0.6666666666666666,
              "#ed7953"
             ],
             [
              0.7777777777777778,
              "#fb9f3a"
             ],
             [
              0.8888888888888888,
              "#fdca26"
             ],
             [
              1,
              "#f0f921"
             ]
            ],
            "type": "histogram2d"
           }
          ],
          "histogram2dcontour": [
           {
            "colorbar": {
             "outlinewidth": 0,
             "ticks": ""
            },
            "colorscale": [
             [
              0,
              "#0d0887"
             ],
             [
              0.1111111111111111,
              "#46039f"
             ],
             [
              0.2222222222222222,
              "#7201a8"
             ],
             [
              0.3333333333333333,
              "#9c179e"
             ],
             [
              0.4444444444444444,
              "#bd3786"
             ],
             [
              0.5555555555555556,
              "#d8576b"
             ],
             [
              0.6666666666666666,
              "#ed7953"
             ],
             [
              0.7777777777777778,
              "#fb9f3a"
             ],
             [
              0.8888888888888888,
              "#fdca26"
             ],
             [
              1,
              "#f0f921"
             ]
            ],
            "type": "histogram2dcontour"
           }
          ],
          "mesh3d": [
           {
            "colorbar": {
             "outlinewidth": 0,
             "ticks": ""
            },
            "type": "mesh3d"
           }
          ],
          "parcoords": [
           {
            "line": {
             "colorbar": {
              "outlinewidth": 0,
              "ticks": ""
             }
            },
            "type": "parcoords"
           }
          ],
          "pie": [
           {
            "automargin": true,
            "type": "pie"
           }
          ],
          "scatter": [
           {
            "fillpattern": {
             "fillmode": "overlay",
             "size": 10,
             "solidity": 0.2
            },
            "type": "scatter"
           }
          ],
          "scatter3d": [
           {
            "line": {
             "colorbar": {
              "outlinewidth": 0,
              "ticks": ""
             }
            },
            "marker": {
             "colorbar": {
              "outlinewidth": 0,
              "ticks": ""
             }
            },
            "type": "scatter3d"
           }
          ],
          "scattercarpet": [
           {
            "marker": {
             "colorbar": {
              "outlinewidth": 0,
              "ticks": ""
             }
            },
            "type": "scattercarpet"
           }
          ],
          "scattergeo": [
           {
            "marker": {
             "colorbar": {
              "outlinewidth": 0,
              "ticks": ""
             }
            },
            "type": "scattergeo"
           }
          ],
          "scattergl": [
           {
            "marker": {
             "colorbar": {
              "outlinewidth": 0,
              "ticks": ""
             }
            },
            "type": "scattergl"
           }
          ],
          "scattermapbox": [
           {
            "marker": {
             "colorbar": {
              "outlinewidth": 0,
              "ticks": ""
             }
            },
            "type": "scattermapbox"
           }
          ],
          "scatterpolar": [
           {
            "marker": {
             "colorbar": {
              "outlinewidth": 0,
              "ticks": ""
             }
            },
            "type": "scatterpolar"
           }
          ],
          "scatterpolargl": [
           {
            "marker": {
             "colorbar": {
              "outlinewidth": 0,
              "ticks": ""
             }
            },
            "type": "scatterpolargl"
           }
          ],
          "scatterternary": [
           {
            "marker": {
             "colorbar": {
              "outlinewidth": 0,
              "ticks": ""
             }
            },
            "type": "scatterternary"
           }
          ],
          "surface": [
           {
            "colorbar": {
             "outlinewidth": 0,
             "ticks": ""
            },
            "colorscale": [
             [
              0,
              "#0d0887"
             ],
             [
              0.1111111111111111,
              "#46039f"
             ],
             [
              0.2222222222222222,
              "#7201a8"
             ],
             [
              0.3333333333333333,
              "#9c179e"
             ],
             [
              0.4444444444444444,
              "#bd3786"
             ],
             [
              0.5555555555555556,
              "#d8576b"
             ],
             [
              0.6666666666666666,
              "#ed7953"
             ],
             [
              0.7777777777777778,
              "#fb9f3a"
             ],
             [
              0.8888888888888888,
              "#fdca26"
             ],
             [
              1,
              "#f0f921"
             ]
            ],
            "type": "surface"
           }
          ],
          "table": [
           {
            "cells": {
             "fill": {
              "color": "#EBF0F8"
             },
             "line": {
              "color": "white"
             }
            },
            "header": {
             "fill": {
              "color": "#C8D4E3"
             },
             "line": {
              "color": "white"
             }
            },
            "type": "table"
           }
          ]
         },
         "layout": {
          "annotationdefaults": {
           "arrowcolor": "#2a3f5f",
           "arrowhead": 0,
           "arrowwidth": 1
          },
          "autotypenumbers": "strict",
          "coloraxis": {
           "colorbar": {
            "outlinewidth": 0,
            "ticks": ""
           }
          },
          "colorscale": {
           "diverging": [
            [
             0,
             "#8e0152"
            ],
            [
             0.1,
             "#c51b7d"
            ],
            [
             0.2,
             "#de77ae"
            ],
            [
             0.3,
             "#f1b6da"
            ],
            [
             0.4,
             "#fde0ef"
            ],
            [
             0.5,
             "#f7f7f7"
            ],
            [
             0.6,
             "#e6f5d0"
            ],
            [
             0.7,
             "#b8e186"
            ],
            [
             0.8,
             "#7fbc41"
            ],
            [
             0.9,
             "#4d9221"
            ],
            [
             1,
             "#276419"
            ]
           ],
           "sequential": [
            [
             0,
             "#0d0887"
            ],
            [
             0.1111111111111111,
             "#46039f"
            ],
            [
             0.2222222222222222,
             "#7201a8"
            ],
            [
             0.3333333333333333,
             "#9c179e"
            ],
            [
             0.4444444444444444,
             "#bd3786"
            ],
            [
             0.5555555555555556,
             "#d8576b"
            ],
            [
             0.6666666666666666,
             "#ed7953"
            ],
            [
             0.7777777777777778,
             "#fb9f3a"
            ],
            [
             0.8888888888888888,
             "#fdca26"
            ],
            [
             1,
             "#f0f921"
            ]
           ],
           "sequentialminus": [
            [
             0,
             "#0d0887"
            ],
            [
             0.1111111111111111,
             "#46039f"
            ],
            [
             0.2222222222222222,
             "#7201a8"
            ],
            [
             0.3333333333333333,
             "#9c179e"
            ],
            [
             0.4444444444444444,
             "#bd3786"
            ],
            [
             0.5555555555555556,
             "#d8576b"
            ],
            [
             0.6666666666666666,
             "#ed7953"
            ],
            [
             0.7777777777777778,
             "#fb9f3a"
            ],
            [
             0.8888888888888888,
             "#fdca26"
            ],
            [
             1,
             "#f0f921"
            ]
           ]
          },
          "colorway": [
           "#636efa",
           "#EF553B",
           "#00cc96",
           "#ab63fa",
           "#FFA15A",
           "#19d3f3",
           "#FF6692",
           "#B6E880",
           "#FF97FF",
           "#FECB52"
          ],
          "font": {
           "color": "#2a3f5f"
          },
          "geo": {
           "bgcolor": "white",
           "lakecolor": "white",
           "landcolor": "#E5ECF6",
           "showlakes": true,
           "showland": true,
           "subunitcolor": "white"
          },
          "hoverlabel": {
           "align": "left"
          },
          "hovermode": "closest",
          "mapbox": {
           "style": "light"
          },
          "paper_bgcolor": "white",
          "plot_bgcolor": "#E5ECF6",
          "polar": {
           "angularaxis": {
            "gridcolor": "white",
            "linecolor": "white",
            "ticks": ""
           },
           "bgcolor": "#E5ECF6",
           "radialaxis": {
            "gridcolor": "white",
            "linecolor": "white",
            "ticks": ""
           }
          },
          "scene": {
           "xaxis": {
            "backgroundcolor": "#E5ECF6",
            "gridcolor": "white",
            "gridwidth": 2,
            "linecolor": "white",
            "showbackground": true,
            "ticks": "",
            "zerolinecolor": "white"
           },
           "yaxis": {
            "backgroundcolor": "#E5ECF6",
            "gridcolor": "white",
            "gridwidth": 2,
            "linecolor": "white",
            "showbackground": true,
            "ticks": "",
            "zerolinecolor": "white"
           },
           "zaxis": {
            "backgroundcolor": "#E5ECF6",
            "gridcolor": "white",
            "gridwidth": 2,
            "linecolor": "white",
            "showbackground": true,
            "ticks": "",
            "zerolinecolor": "white"
           }
          },
          "shapedefaults": {
           "line": {
            "color": "#2a3f5f"
           }
          },
          "ternary": {
           "aaxis": {
            "gridcolor": "white",
            "linecolor": "white",
            "ticks": ""
           },
           "baxis": {
            "gridcolor": "white",
            "linecolor": "white",
            "ticks": ""
           },
           "bgcolor": "#E5ECF6",
           "caxis": {
            "gridcolor": "white",
            "linecolor": "white",
            "ticks": ""
           }
          },
          "title": {
           "x": 0.05
          },
          "xaxis": {
           "automargin": true,
           "gridcolor": "white",
           "linecolor": "white",
           "ticks": "",
           "title": {
            "standoff": 15
           },
           "zerolinecolor": "white",
           "zerolinewidth": 2
          },
          "yaxis": {
           "automargin": true,
           "gridcolor": "white",
           "linecolor": "white",
           "ticks": "",
           "title": {
            "standoff": 15
           },
           "zerolinecolor": "white",
           "zerolinewidth": 2
          }
         }
        },
        "title": {
         "text": "Tendencia de Emisiones de CO2 per cápita para 20 Países del cuarto cuartil"
        },
        "width": 1000,
        "xaxis": {
         "title": {
          "text": "Año"
         }
        },
        "yaxis": {
         "title": {
          "text": "Emisiones CO2 per cápita"
         }
        }
       }
      }
     },
     "metadata": {},
     "output_type": "display_data"
    }
   ],
   "source": [
    "# Crea el gráfico de líneas\n",
    "fig = go.Figure()\n",
    "\n",
    "for index, row in df_cuartil_4.iterrows():\n",
    "    fig.add_trace(go.Scatter(x=anios, y=row[4:], mode='lines', name=row['Country Name']))\n",
    "\n",
    "fig.update_layout(\n",
    "    title='Tendencia de Emisiones de CO2 per cápita para 20 Países del cuarto cuartil',\n",
    "    xaxis_title='Año',\n",
    "    yaxis_title='Emisiones CO2 per cápita',\n",
    "    height=600,\n",
    "    width=1000\n",
    ")\n",
    "\n",
    "fig.show()\n"
   ]
  },
  {
   "cell_type": "markdown",
   "metadata": {},
   "source": [
    " ### Grafico 2: Comparación de Emisiones de CO2 per cápita entre 1990 y 2020"
   ]
  },
  {
   "cell_type": "code",
   "execution_count": 11,
   "metadata": {},
   "outputs": [
    {
     "data": {
      "application/vnd.plotly.v1+json": {
       "config": {
        "plotlyServerURL": "https://plot.ly"
       },
       "data": [
        {
         "hovertemplate": "Country Name=Africa Eastern and Southern<br>1990=%{x}<br>2020=%{y}<extra></extra>",
         "legendgroup": "Africa Eastern and Southern",
         "marker": {
          "color": "#636efa",
          "symbol": "circle"
         },
         "mode": "markers",
         "name": "Africa Eastern and Southern",
         "orientation": "v",
         "showlegend": true,
         "type": "scatter",
         "x": [
          0.982974821664844
         ],
         "xaxis": "x",
         "y": [
          0.795419908400246
         ],
         "yaxis": "y"
        },
        {
         "hovertemplate": "Country Name=Afghanistan<br>1990=%{x}<br>2020=%{y}<extra></extra>",
         "legendgroup": "Afghanistan",
         "marker": {
          "color": "#EF553B",
          "symbol": "circle"
         },
         "mode": "markers",
         "name": "Afghanistan",
         "orientation": "v",
         "showlegend": true,
         "type": "scatter",
         "x": [
          0.191389344873899
         ],
         "xaxis": "x",
         "y": [
          0.223478872007068
         ],
         "yaxis": "y"
        },
        {
         "hovertemplate": "Country Name=Africa Western and Central<br>1990=%{x}<br>2020=%{y}<extra></extra>",
         "legendgroup": "Africa Western and Central",
         "marker": {
          "color": "#00cc96",
          "symbol": "circle"
         },
         "mode": "markers",
         "name": "Africa Western and Central",
         "orientation": "v",
         "showlegend": true,
         "type": "scatter",
         "x": [
          0.470111269365381
         ],
         "xaxis": "x",
         "y": [
          0.463150273298324
         ],
         "yaxis": "y"
        },
        {
         "hovertemplate": "Country Name=Angola<br>1990=%{x}<br>2020=%{y}<extra></extra>",
         "legendgroup": "Angola",
         "marker": {
          "color": "#ab63fa",
          "symbol": "circle"
         },
         "mode": "markers",
         "name": "Angola",
         "orientation": "v",
         "showlegend": true,
         "type": "scatter",
         "x": [
          0.554941321223965
         ],
         "xaxis": "x",
         "y": [
          0.592742967779037
         ],
         "yaxis": "y"
        },
        {
         "hovertemplate": "Country Name=Albania<br>1990=%{x}<br>2020=%{y}<extra></extra>",
         "legendgroup": "Albania",
         "marker": {
          "color": "#FFA15A",
          "symbol": "circle"
         },
         "mode": "markers",
         "name": "Albania",
         "orientation": "v",
         "showlegend": true,
         "type": "scatter",
         "x": [
          1.84403546341413
         ],
         "xaxis": "x",
         "y": [
          1.54455011524574
         ],
         "yaxis": "y"
        },
        {
         "hovertemplate": "Country Name=Andorra<br>1990=%{x}<br>2020=%{y}<extra></extra>",
         "legendgroup": "Andorra",
         "marker": {
          "color": "#19d3f3",
          "symbol": "circle"
         },
         "mode": "markers",
         "name": "Andorra",
         "orientation": "v",
         "showlegend": true,
         "type": "scatter",
         "x": [
          7.59215217756538
         ],
         "xaxis": "x",
         "y": [
          5.77714799227799
         ],
         "yaxis": "y"
        },
        {
         "hovertemplate": "Country Name=Arab World<br>1990=%{x}<br>2020=%{y}<extra></extra>",
         "legendgroup": "Arab World",
         "marker": {
          "color": "#FF6692",
          "symbol": "circle"
         },
         "mode": "markers",
         "name": "Arab World",
         "orientation": "v",
         "showlegend": true,
         "type": "scatter",
         "x": [
          2.79950228424177
         ],
         "xaxis": "x",
         "y": [
          3.92907774447049
         ],
         "yaxis": "y"
        },
        {
         "hovertemplate": "Country Name=United Arab Emirates<br>1990=%{x}<br>2020=%{y}<extra></extra>",
         "legendgroup": "United Arab Emirates",
         "marker": {
          "color": "#B6E880",
          "symbol": "circle"
         },
         "mode": "markers",
         "name": "United Arab Emirates",
         "orientation": "v",
         "showlegend": true,
         "type": "scatter",
         "x": [
          29.0557960919948
         ],
         "xaxis": "x",
         "y": [
          20.2522716801426
         ],
         "yaxis": "y"
        },
        {
         "hovertemplate": "Country Name=Argentina<br>1990=%{x}<br>2020=%{y}<extra></extra>",
         "legendgroup": "Argentina",
         "marker": {
          "color": "#FF97FF",
          "symbol": "circle"
         },
         "mode": "markers",
         "name": "Argentina",
         "orientation": "v",
         "showlegend": true,
         "type": "scatter",
         "x": [
          3.07356315436491
         ],
         "xaxis": "x",
         "y": [
          3.4056175404138
         ],
         "yaxis": "y"
        },
        {
         "hovertemplate": "Country Name=Armenia<br>1990=%{x}<br>2020=%{y}<extra></extra>",
         "legendgroup": "Armenia",
         "marker": {
          "color": "#FECB52",
          "symbol": "circle"
         },
         "mode": "markers",
         "name": "Armenia",
         "orientation": "v",
         "showlegend": true,
         "type": "scatter",
         "x": [
          5.57991912924335
         ],
         "xaxis": "x",
         "y": [
          2.40468376195106
         ],
         "yaxis": "y"
        },
        {
         "hovertemplate": "Country Name=Antigua and Barbuda<br>1990=%{x}<br>2020=%{y}<extra></extra>",
         "legendgroup": "Antigua and Barbuda",
         "marker": {
          "color": "#636efa",
          "symbol": "circle"
         },
         "mode": "markers",
         "name": "Antigua and Barbuda",
         "orientation": "v",
         "showlegend": true,
         "type": "scatter",
         "x": [
          3.4455533097524
         ],
         "xaxis": "x",
         "y": [
          5.12173012173012
         ],
         "yaxis": "y"
        },
        {
         "hovertemplate": "Country Name=Australia<br>1990=%{x}<br>2020=%{y}<extra></extra>",
         "legendgroup": "Australia",
         "marker": {
          "color": "#EF553B",
          "symbol": "circle"
         },
         "mode": "markers",
         "name": "Australia",
         "orientation": "v",
         "showlegend": true,
         "type": "scatter",
         "x": [
          15.4371827741345
         ],
         "xaxis": "x",
         "y": [
          14.7726575989848
         ],
         "yaxis": "y"
        },
        {
         "hovertemplate": "Country Name=Austria<br>1990=%{x}<br>2020=%{y}<extra></extra>",
         "legendgroup": "Austria",
         "marker": {
          "color": "#00cc96",
          "symbol": "circle"
         },
         "mode": "markers",
         "name": "Austria",
         "orientation": "v",
         "showlegend": true,
         "type": "scatter",
         "x": [
          7.59010660536478
         ],
         "xaxis": "x",
         "y": [
          6.63264573733546
         ],
         "yaxis": "y"
        },
        {
         "hovertemplate": "Country Name=Azerbaijan<br>1990=%{x}<br>2020=%{y}<extra></extra>",
         "legendgroup": "Azerbaijan",
         "marker": {
          "color": "#ab63fa",
          "symbol": "circle"
         },
         "mode": "markers",
         "name": "Azerbaijan",
         "orientation": "v",
         "showlegend": true,
         "type": "scatter",
         "x": [
          7.45396643995986
         ],
         "xaxis": "x",
         "y": [
          3.39884957289227
         ],
         "yaxis": "y"
        },
        {
         "hovertemplate": "Country Name=Burundi<br>1990=%{x}<br>2020=%{y}<extra></extra>",
         "legendgroup": "Burundi",
         "marker": {
          "color": "#FFA15A",
          "symbol": "circle"
         },
         "mode": "markers",
         "name": "Burundi",
         "orientation": "v",
         "showlegend": true,
         "type": "scatter",
         "x": [
          0.0342098981489637
         ],
         "xaxis": "x",
         "y": [
          0.0583840218352736
         ],
         "yaxis": "y"
        },
        {
         "hovertemplate": "Country Name=Belgium<br>1990=%{x}<br>2020=%{y}<extra></extra>",
         "legendgroup": "Belgium",
         "marker": {
          "color": "#19d3f3",
          "symbol": "circle"
         },
         "mode": "markers",
         "name": "Belgium",
         "orientation": "v",
         "showlegend": true,
         "type": "scatter",
         "x": [
          10.9670355667222
         ],
         "xaxis": "x",
         "y": [
          7.39813065774681
         ],
         "yaxis": "y"
        },
        {
         "hovertemplate": "Country Name=Benin<br>1990=%{x}<br>2020=%{y}<extra></extra>",
         "legendgroup": "Benin",
         "marker": {
          "color": "#FF6692",
          "symbol": "circle"
         },
         "mode": "markers",
         "name": "Benin",
         "orientation": "v",
         "showlegend": true,
         "type": "scatter",
         "x": [
          0.0643060696974083
         ],
         "xaxis": "x",
         "y": [
          0.631204805964476
         ],
         "yaxis": "y"
        },
        {
         "hovertemplate": "Country Name=Burkina Faso<br>1990=%{x}<br>2020=%{y}<extra></extra>",
         "legendgroup": "Burkina Faso",
         "marker": {
          "color": "#B6E880",
          "symbol": "circle"
         },
         "mode": "markers",
         "name": "Burkina Faso",
         "orientation": "v",
         "showlegend": true,
         "type": "scatter",
         "x": [
          0.0650614952141307
         ],
         "xaxis": "x",
         "y": [
          0.253533188747507
         ],
         "yaxis": "y"
        },
        {
         "hovertemplate": "Country Name=Bangladesh<br>1990=%{x}<br>2020=%{y}<extra></extra>",
         "legendgroup": "Bangladesh",
         "marker": {
          "color": "#FF97FF",
          "symbol": "circle"
         },
         "mode": "markers",
         "name": "Bangladesh",
         "orientation": "v",
         "showlegend": true,
         "type": "scatter",
         "x": [
          0.107550001259477
         ],
         "xaxis": "x",
         "y": [
          0.510647559277094
         ],
         "yaxis": "y"
        },
        {
         "hovertemplate": "Country Name=Bulgaria<br>1990=%{x}<br>2020=%{y}<extra></extra>",
         "legendgroup": "Bulgaria",
         "marker": {
          "color": "#FECB52",
          "symbol": "circle"
         },
         "mode": "markers",
         "name": "Bulgaria",
         "orientation": "v",
         "showlegend": true,
         "type": "scatter",
         "x": [
          8.44267722714858
         ],
         "xaxis": "x",
         "y": [
          4.92328037940501
         ],
         "yaxis": "y"
        },
        {
         "hovertemplate": "Country Name=Bahrain<br>1990=%{x}<br>2020=%{y}<extra></extra>",
         "legendgroup": "Bahrain",
         "marker": {
          "color": "#636efa",
          "symbol": "circle"
         },
         "mode": "markers",
         "name": "Bahrain",
         "orientation": "v",
         "showlegend": true,
         "type": "scatter",
         "x": [
          20.7520032159685
         ],
         "xaxis": "x",
         "y": [
          21.9769078065259
         ],
         "yaxis": "y"
        },
        {
         "hovertemplate": "Country Name=Bahamas, The<br>1990=%{x}<br>2020=%{y}<extra></extra>",
         "legendgroup": "Bahamas, The",
         "marker": {
          "color": "#EF553B",
          "symbol": "circle"
         },
         "mode": "markers",
         "name": "Bahamas, The",
         "orientation": "v",
         "showlegend": true,
         "type": "scatter",
         "x": [
          7.44276430753771
         ],
         "xaxis": "x",
         "y": [
          6.04225147673512
         ],
         "yaxis": "y"
        },
        {
         "hovertemplate": "Country Name=Bosnia and Herzegovina<br>1990=%{x}<br>2020=%{y}<extra></extra>",
         "legendgroup": "Bosnia and Herzegovina",
         "marker": {
          "color": "#00cc96",
          "symbol": "circle"
         },
         "mode": "markers",
         "name": "Bosnia and Herzegovina",
         "orientation": "v",
         "showlegend": true,
         "type": "scatter",
         "x": [
          5.33243145221402
         ],
         "xaxis": "x",
         "y": [
          6.31230587447531
         ],
         "yaxis": "y"
        },
        {
         "hovertemplate": "Country Name=Belarus<br>1990=%{x}<br>2020=%{y}<extra></extra>",
         "legendgroup": "Belarus",
         "marker": {
          "color": "#ab63fa",
          "symbol": "circle"
         },
         "mode": "markers",
         "name": "Belarus",
         "orientation": "v",
         "showlegend": true,
         "type": "scatter",
         "x": [
          9.79748655164197
         ],
         "xaxis": "x",
         "y": [
          5.84240729590088
         ],
         "yaxis": "y"
        },
        {
         "hovertemplate": "Country Name=Belize<br>1990=%{x}<br>2020=%{y}<extra></extra>",
         "legendgroup": "Belize",
         "marker": {
          "color": "#FFA15A",
          "symbol": "circle"
         },
         "mode": "markers",
         "name": "Belize",
         "orientation": "v",
         "showlegend": true,
         "type": "scatter",
         "x": [
          1.86374863765068
         ],
         "xaxis": "x",
         "y": [
          1.74110771521393
         ],
         "yaxis": "y"
        },
        {
         "hovertemplate": "Country Name=Bolivia<br>1990=%{x}<br>2020=%{y}<extra></extra>",
         "legendgroup": "Bolivia",
         "marker": {
          "color": "#19d3f3",
          "symbol": "circle"
         },
         "mode": "markers",
         "name": "Bolivia",
         "orientation": "v",
         "showlegend": true,
         "type": "scatter",
         "x": [
          1.4666876356537
         ],
         "xaxis": "x",
         "y": [
          1.53946469560316
         ],
         "yaxis": "y"
        },
        {
         "hovertemplate": "Country Name=Brazil<br>1990=%{x}<br>2020=%{y}<extra></extra>",
         "legendgroup": "Brazil",
         "marker": {
          "color": "#FF6692",
          "symbol": "circle"
         },
         "mode": "markers",
         "name": "Brazil",
         "orientation": "v",
         "showlegend": true,
         "type": "scatter",
         "x": [
          1.31313162278407
         ],
         "xaxis": "x",
         "y": [
          1.94252335631484
         ],
         "yaxis": "y"
        },
        {
         "hovertemplate": "Country Name=Barbados<br>1990=%{x}<br>2020=%{y}<extra></extra>",
         "legendgroup": "Barbados",
         "marker": {
          "color": "#B6E880",
          "symbol": "circle"
         },
         "mode": "markers",
         "name": "Barbados",
         "orientation": "v",
         "showlegend": true,
         "type": "scatter",
         "x": [
          3.87966067648377
         ],
         "xaxis": "x",
         "y": [
          3.90487115816925
         ],
         "yaxis": "y"
        },
        {
         "hovertemplate": "Country Name=Brunei Darussalam<br>1990=%{x}<br>2020=%{y}<extra></extra>",
         "legendgroup": "Brunei Darussalam",
         "marker": {
          "color": "#FF97FF",
          "symbol": "circle"
         },
         "mode": "markers",
         "name": "Brunei Darussalam",
         "orientation": "v",
         "showlegend": true,
         "type": "scatter",
         "x": [
          12.447313765615
         ],
         "xaxis": "x",
         "y": [
          21.7058124398664
         ],
         "yaxis": "y"
        },
        {
         "hovertemplate": "Country Name=Bhutan<br>1990=%{x}<br>2020=%{y}<extra></extra>",
         "legendgroup": "Bhutan",
         "marker": {
          "color": "#FECB52",
          "symbol": "circle"
         },
         "mode": "markers",
         "name": "Bhutan",
         "orientation": "v",
         "showlegend": true,
         "type": "scatter",
         "x": [
          0.331977179366881
         ],
         "xaxis": "x",
         "y": [
          1.34005431673023
         ],
         "yaxis": "y"
        },
        {
         "hovertemplate": "Country Name=Botswana<br>1990=%{x}<br>2020=%{y}<extra></extra>",
         "legendgroup": "Botswana",
         "marker": {
          "color": "#636efa",
          "symbol": "circle"
         },
         "mode": "markers",
         "name": "Botswana",
         "orientation": "v",
         "showlegend": true,
         "type": "scatter",
         "x": [
          2.09277257703094
         ],
         "xaxis": "x",
         "y": [
          2.2634631138367
         ],
         "yaxis": "y"
        },
        {
         "hovertemplate": "Country Name=Central African Republic<br>1990=%{x}<br>2020=%{y}<extra></extra>",
         "legendgroup": "Central African Republic",
         "marker": {
          "color": "#EF553B",
          "symbol": "circle"
         },
         "mode": "markers",
         "name": "Central African Republic",
         "orientation": "v",
         "showlegend": true,
         "type": "scatter",
         "x": [
          0.0526836443270216
         ],
         "xaxis": "x",
         "y": [
          0.044282072685485
         ],
         "yaxis": "y"
        },
        {
         "hovertemplate": "Country Name=Canada<br>1990=%{x}<br>2020=%{y}<extra></extra>",
         "legendgroup": "Canada",
         "marker": {
          "color": "#00cc96",
          "symbol": "circle"
         },
         "mode": "markers",
         "name": "Canada",
         "orientation": "v",
         "showlegend": true,
         "type": "scatter",
         "x": [
          15.1489693200763
         ],
         "xaxis": "x",
         "y": [
          13.5993749178773
         ],
         "yaxis": "y"
        },
        {
         "hovertemplate": "Country Name=Central Europe and the Baltics<br>1990=%{x}<br>2020=%{y}<extra></extra>",
         "legendgroup": "Central Europe and the Baltics",
         "marker": {
          "color": "#ab63fa",
          "symbol": "circle"
         },
         "mode": "markers",
         "name": "Central Europe and the Baltics",
         "orientation": "v",
         "showlegend": true,
         "type": "scatter",
         "x": [
          8.95086149273298
         ],
         "xaxis": "x",
         "y": [
          5.85720584954467
         ],
         "yaxis": "y"
        },
        {
         "hovertemplate": "Country Name=Switzerland<br>1990=%{x}<br>2020=%{y}<extra></extra>",
         "legendgroup": "Switzerland",
         "marker": {
          "color": "#FFA15A",
          "symbol": "circle"
         },
         "mode": "markers",
         "name": "Switzerland",
         "orientation": "v",
         "showlegend": true,
         "type": "scatter",
         "x": [
          6.45169792535767
         ],
         "xaxis": "x",
         "y": [
          4.04207281475341
         ],
         "yaxis": "y"
        },
        {
         "hovertemplate": "Country Name=Chile<br>1990=%{x}<br>2020=%{y}<extra></extra>",
         "legendgroup": "Chile",
         "marker": {
          "color": "#19d3f3",
          "symbol": "circle"
         },
         "mode": "markers",
         "name": "Chile",
         "orientation": "v",
         "showlegend": true,
         "type": "scatter",
         "x": [
          2.28838357690416
         ],
         "xaxis": "x",
         "y": [
          4.39515106359663
         ],
         "yaxis": "y"
        },
        {
         "hovertemplate": "Country Name=China<br>1990=%{x}<br>2020=%{y}<extra></extra>",
         "legendgroup": "China",
         "marker": {
          "color": "#FF6692",
          "symbol": "circle"
         },
         "mode": "markers",
         "name": "China",
         "orientation": "v",
         "showlegend": true,
         "type": "scatter",
         "x": [
          1.91454626338438
         ],
         "xaxis": "x",
         "y": [
          7.75613790659769
         ],
         "yaxis": "y"
        },
        {
         "hovertemplate": "Country Name=Cote d'Ivoire<br>1990=%{x}<br>2020=%{y}<extra></extra>",
         "legendgroup": "Cote d'Ivoire",
         "marker": {
          "color": "#B6E880",
          "symbol": "circle"
         },
         "mode": "markers",
         "name": "Cote d'Ivoire",
         "orientation": "v",
         "showlegend": true,
         "type": "scatter",
         "x": [
          0.227143353701847
         ],
         "xaxis": "x",
         "y": [
          0.406347356890383
         ],
         "yaxis": "y"
        },
        {
         "hovertemplate": "Country Name=Cameroon<br>1990=%{x}<br>2020=%{y}<extra></extra>",
         "legendgroup": "Cameroon",
         "marker": {
          "color": "#FF97FF",
          "symbol": "circle"
         },
         "mode": "markers",
         "name": "Cameroon",
         "orientation": "v",
         "showlegend": true,
         "type": "scatter",
         "x": [
          0.253706743000318
         ],
         "xaxis": "x",
         "y": [
          0.37478265803136
         ],
         "yaxis": "y"
        },
        {
         "hovertemplate": "Country Name=Congo, Dem. Rep.<br>1990=%{x}<br>2020=%{y}<extra></extra>",
         "legendgroup": "Congo, Dem. Rep.",
         "marker": {
          "color": "#FECB52",
          "symbol": "circle"
         },
         "mode": "markers",
         "name": "Congo, Dem. Rep.",
         "orientation": "v",
         "showlegend": true,
         "type": "scatter",
         "x": [
          0.0883361272169165
         ],
         "xaxis": "x",
         "y": [
          0.0325847808481787
         ],
         "yaxis": "y"
        },
        {
         "hovertemplate": "Country Name=Congo, Rep.<br>1990=%{x}<br>2020=%{y}<extra></extra>",
         "legendgroup": "Congo, Rep.",
         "marker": {
          "color": "#636efa",
          "symbol": "circle"
         },
         "mode": "markers",
         "name": "Congo, Rep.",
         "orientation": "v",
         "showlegend": true,
         "type": "scatter",
         "x": [
          1.34195649850027
         ],
         "xaxis": "x",
         "y": [
          1.25459166977367
         ],
         "yaxis": "y"
        },
        {
         "hovertemplate": "Country Name=Colombia<br>1990=%{x}<br>2020=%{y}<extra></extra>",
         "legendgroup": "Colombia",
         "marker": {
          "color": "#EF553B",
          "symbol": "circle"
         },
         "mode": "markers",
         "name": "Colombia",
         "orientation": "v",
         "showlegend": true,
         "type": "scatter",
         "x": [
          1.5141806977389
         ],
         "xaxis": "x",
         "y": [
          1.55225942282078
         ],
         "yaxis": "y"
        },
        {
         "hovertemplate": "Country Name=Comoros<br>1990=%{x}<br>2020=%{y}<extra></extra>",
         "legendgroup": "Comoros",
         "marker": {
          "color": "#00cc96",
          "symbol": "circle"
         },
         "mode": "markers",
         "name": "Comoros",
         "orientation": "v",
         "showlegend": true,
         "type": "scatter",
         "x": [
          0.151930209524516
         ],
         "xaxis": "x",
         "y": [
          0.407112182850678
         ],
         "yaxis": "y"
        },
        {
         "hovertemplate": "Country Name=Cabo Verde<br>1990=%{x}<br>2020=%{y}<extra></extra>",
         "legendgroup": "Cabo Verde",
         "marker": {
          "color": "#ab63fa",
          "symbol": "circle"
         },
         "mode": "markers",
         "name": "Cabo Verde",
         "orientation": "v",
         "showlegend": true,
         "type": "scatter",
         "x": [
          0.504165260873978
         ],
         "xaxis": "x",
         "y": [
          1.06515172319099
         ],
         "yaxis": "y"
        },
        {
         "hovertemplate": "Country Name=Costa Rica<br>1990=%{x}<br>2020=%{y}<extra></extra>",
         "legendgroup": "Costa Rica",
         "marker": {
          "color": "#FFA15A",
          "symbol": "circle"
         },
         "mode": "markers",
         "name": "Costa Rica",
         "orientation": "v",
         "showlegend": true,
         "type": "scatter",
         "x": [
          0.909110194781735
         ],
         "xaxis": "x",
         "y": [
          1.35999554957394
         ],
         "yaxis": "y"
        },
        {
         "hovertemplate": "Country Name=Caribbean small states<br>1990=%{x}<br>2020=%{y}<extra></extra>",
         "legendgroup": "Caribbean small states",
         "marker": {
          "color": "#19d3f3",
          "symbol": "circle"
         },
         "mode": "markers",
         "name": "Caribbean small states",
         "orientation": "v",
         "showlegend": true,
         "type": "scatter",
         "x": [
          4.57179892242048
         ],
         "xaxis": "x",
         "y": [
          4.40268790108705
         ],
         "yaxis": "y"
        },
        {
         "hovertemplate": "Country Name=Cuba<br>1990=%{x}<br>2020=%{y}<extra></extra>",
         "legendgroup": "Cuba",
         "marker": {
          "color": "#FF6692",
          "symbol": "circle"
         },
         "mode": "markers",
         "name": "Cuba",
         "orientation": "v",
         "showlegend": true,
         "type": "scatter",
         "x": [
          3.35209115170495
         ],
         "xaxis": "x",
         "y": [
          2.15276967847473
         ],
         "yaxis": "y"
        },
        {
         "hovertemplate": "Country Name=Cyprus<br>1990=%{x}<br>2020=%{y}<extra></extra>",
         "legendgroup": "Cyprus",
         "marker": {
          "color": "#B6E880",
          "symbol": "circle"
         },
         "mode": "markers",
         "name": "Cyprus",
         "orientation": "v",
         "showlegend": true,
         "type": "scatter",
         "x": [
          5.82270133164236
         ],
         "xaxis": "x",
         "y": [
          5.47199800894842
         ],
         "yaxis": "y"
        },
        {
         "hovertemplate": "Country Name=Czechia<br>1990=%{x}<br>2020=%{y}<extra></extra>",
         "legendgroup": "Czechia",
         "marker": {
          "color": "#FF97FF",
          "symbol": "circle"
         },
         "mode": "markers",
         "name": "Czechia",
         "orientation": "v",
         "showlegend": true,
         "type": "scatter",
         "x": [
          14.8208689239845
         ],
         "xaxis": "x",
         "y": [
          8.30401749583889
         ],
         "yaxis": "y"
        },
        {
         "hovertemplate": "Country Name=Germany<br>1990=%{x}<br>2020=%{y}<extra></extra>",
         "legendgroup": "Germany",
         "marker": {
          "color": "#FECB52",
          "symbol": "circle"
         },
         "mode": "markers",
         "name": "Germany",
         "orientation": "v",
         "showlegend": true,
         "type": "scatter",
         "x": [
          12.0265802780856
         ],
         "xaxis": "x",
         "y": [
          7.2552210281684
         ],
         "yaxis": "y"
        },
        {
         "hovertemplate": "Country Name=Djibouti<br>1990=%{x}<br>2020=%{y}<extra></extra>",
         "legendgroup": "Djibouti",
         "marker": {
          "color": "#636efa",
          "symbol": "circle"
         },
         "mode": "markers",
         "name": "Djibouti",
         "orientation": "v",
         "showlegend": true,
         "type": "scatter",
         "x": [
          0.474900939579641
         ],
         "xaxis": "x",
         "y": [
          0.392329171237878
         ],
         "yaxis": "y"
        },
        {
         "hovertemplate": "Country Name=Dominica<br>1990=%{x}<br>2020=%{y}<extra></extra>",
         "legendgroup": "Dominica",
         "marker": {
          "color": "#EF553B",
          "symbol": "circle"
         },
         "mode": "markers",
         "name": "Dominica",
         "orientation": "v",
         "showlegend": true,
         "type": "scatter",
         "x": [
          0.902404974021675
         ],
         "xaxis": "x",
         "y": [
          2.26126814362109
         ],
         "yaxis": "y"
        },
        {
         "hovertemplate": "Country Name=Denmark<br>1990=%{x}<br>2020=%{y}<extra></extra>",
         "legendgroup": "Denmark",
         "marker": {
          "color": "#00cc96",
          "symbol": "circle"
         },
         "mode": "markers",
         "name": "Denmark",
         "orientation": "v",
         "showlegend": true,
         "type": "scatter",
         "x": [
          10.1106043078901
         ],
         "xaxis": "x",
         "y": [
          4.69123730751634
         ],
         "yaxis": "y"
        },
        {
         "hovertemplate": "Country Name=Dominican Republic<br>1990=%{x}<br>2020=%{y}<extra></extra>",
         "legendgroup": "Dominican Republic",
         "marker": {
          "color": "#ab63fa",
          "symbol": "circle"
         },
         "mode": "markers",
         "name": "Dominican Republic",
         "orientation": "v",
         "showlegend": true,
         "type": "scatter",
         "x": [
          1.10263649732838
         ],
         "xaxis": "x",
         "y": [
          2.08018172191441
         ],
         "yaxis": "y"
        },
        {
         "hovertemplate": "Country Name=Algeria<br>1990=%{x}<br>2020=%{y}<extra></extra>",
         "legendgroup": "Algeria",
         "marker": {
          "color": "#FFA15A",
          "symbol": "circle"
         },
         "mode": "markers",
         "name": "Algeria",
         "orientation": "v",
         "showlegend": true,
         "type": "scatter",
         "x": [
          2.466365604238
         ],
         "xaxis": "x",
         "y": [
          3.7182233703076
         ],
         "yaxis": "y"
        },
        {
         "hovertemplate": "Country Name=East Asia & Pacific (excluding high income)<br>1990=%{x}<br>2020=%{y}<extra></extra>",
         "legendgroup": "East Asia & Pacific (excluding high income)",
         "marker": {
          "color": "#19d3f3",
          "symbol": "circle"
         },
         "mode": "markers",
         "name": "East Asia & Pacific (excluding high income)",
         "orientation": "v",
         "showlegend": true,
         "type": "scatter",
         "x": [
          1.66493842150815
         ],
         "xaxis": "x",
         "y": [
          5.98224612531264
         ],
         "yaxis": "y"
        },
        {
         "hovertemplate": "Country Name=Early-demographic dividend<br>1990=%{x}<br>2020=%{y}<extra></extra>",
         "legendgroup": "Early-demographic dividend",
         "marker": {
          "color": "#FF6692",
          "symbol": "circle"
         },
         "mode": "markers",
         "name": "Early-demographic dividend",
         "orientation": "v",
         "showlegend": true,
         "type": "scatter",
         "x": [
          1.27999377585893
         ],
         "xaxis": "x",
         "y": [
          2.01640816348961
         ],
         "yaxis": "y"
        },
        {
         "hovertemplate": "Country Name=East Asia & Pacific<br>1990=%{x}<br>2020=%{y}<extra></extra>",
         "legendgroup": "East Asia & Pacific",
         "marker": {
          "color": "#B6E880",
          "symbol": "circle"
         },
         "mode": "markers",
         "name": "East Asia & Pacific",
         "orientation": "v",
         "showlegend": true,
         "type": "scatter",
         "x": [
          2.3771516668311
         ],
         "xaxis": "x",
         "y": [
          6.22186886326224
         ],
         "yaxis": "y"
        },
        {
         "hovertemplate": "Country Name=Europe & Central Asia (excluding high income)<br>1990=%{x}<br>2020=%{y}<extra></extra>",
         "legendgroup": "Europe & Central Asia (excluding high income)",
         "marker": {
          "color": "#FF97FF",
          "symbol": "circle"
         },
         "mode": "markers",
         "name": "Europe & Central Asia (excluding high income)",
         "orientation": "v",
         "showlegend": true,
         "type": "scatter",
         "x": [
          10.6063940004467
         ],
         "xaxis": "x",
         "y": [
          7.06245426110502
         ],
         "yaxis": "y"
        },
        {
         "hovertemplate": "Country Name=Europe & Central Asia<br>1990=%{x}<br>2020=%{y}<extra></extra>",
         "legendgroup": "Europe & Central Asia",
         "marker": {
          "color": "#FECB52",
          "symbol": "circle"
         },
         "mode": "markers",
         "name": "Europe & Central Asia",
         "orientation": "v",
         "showlegend": true,
         "type": "scatter",
         "x": [
          9.46160452615263
         ],
         "xaxis": "x",
         "y": [
          6.11174039963572
         ],
         "yaxis": "y"
        },
        {
         "hovertemplate": "Country Name=Ecuador<br>1990=%{x}<br>2020=%{y}<extra></extra>",
         "legendgroup": "Ecuador",
         "marker": {
          "color": "#636efa",
          "symbol": "circle"
         },
         "mode": "markers",
         "name": "Ecuador",
         "orientation": "v",
         "showlegend": true,
         "type": "scatter",
         "x": [
          1.47586991069813
         ],
         "xaxis": "x",
         "y": [
          1.95757534925331
         ],
         "yaxis": "y"
        },
        {
         "hovertemplate": "Country Name=Egypt, Arab Rep.<br>1990=%{x}<br>2020=%{y}<extra></extra>",
         "legendgroup": "Egypt, Arab Rep.",
         "marker": {
          "color": "#EF553B",
          "symbol": "circle"
         },
         "mode": "markers",
         "name": "Egypt, Arab Rep.",
         "orientation": "v",
         "showlegend": true,
         "type": "scatter",
         "x": [
          1.53361823715368
         ],
         "xaxis": "x",
         "y": [
          1.96112257208929
         ],
         "yaxis": "y"
        },
        {
         "hovertemplate": "Country Name=Euro area<br>1990=%{x}<br>2020=%{y}<extra></extra>",
         "legendgroup": "Euro area",
         "marker": {
          "color": "#00cc96",
          "symbol": "circle"
         },
         "mode": "markers",
         "name": "Euro area",
         "orientation": "v",
         "showlegend": true,
         "type": "scatter",
         "x": [
          8.43865684782584
         ],
         "xaxis": "x",
         "y": [
          5.46154003695282
         ],
         "yaxis": "y"
        },
        {
         "hovertemplate": "Country Name=Eritrea<br>1990=%{x}<br>2020=%{y}<extra></extra>",
         "legendgroup": "Eritrea",
         "marker": {
          "color": "#ab63fa",
          "symbol": "circle"
         },
         "mode": "markers",
         "name": "Eritrea",
         "orientation": "v",
         "showlegend": true,
         "type": "scatter",
         "x": [
          0
         ],
         "xaxis": "x",
         "y": [
          0.198657542968412
         ],
         "yaxis": "y"
        },
        {
         "hovertemplate": "Country Name=Spain<br>1990=%{x}<br>2020=%{y}<extra></extra>",
         "legendgroup": "Spain",
         "marker": {
          "color": "#FFA15A",
          "symbol": "circle"
         },
         "mode": "markers",
         "name": "Spain",
         "orientation": "v",
         "showlegend": true,
         "type": "scatter",
         "x": [
          5.5303681586295
         ],
         "xaxis": "x",
         "y": [
          4.2795945712141
         ],
         "yaxis": "y"
        },
        {
         "hovertemplate": "Country Name=Estonia<br>1990=%{x}<br>2020=%{y}<extra></extra>",
         "legendgroup": "Estonia",
         "marker": {
          "color": "#19d3f3",
          "symbol": "circle"
         },
         "mode": "markers",
         "name": "Estonia",
         "orientation": "v",
         "showlegend": true,
         "type": "scatter",
         "x": [
          22.0147032770107
         ],
         "xaxis": "x",
         "y": [
          5.33839981587368
         ],
         "yaxis": "y"
        },
        {
         "hovertemplate": "Country Name=Ethiopia<br>1990=%{x}<br>2020=%{y}<extra></extra>",
         "legendgroup": "Ethiopia",
         "marker": {
          "color": "#FF6692",
          "symbol": "circle"
         },
         "mode": "markers",
         "name": "Ethiopia",
         "orientation": "v",
         "showlegend": true,
         "type": "scatter",
         "x": [
          0.0482621762993678
         ],
         "xaxis": "x",
         "y": [
          0.154431771590205
         ],
         "yaxis": "y"
        },
        {
         "hovertemplate": "Country Name=European Union<br>1990=%{x}<br>2020=%{y}<extra></extra>",
         "legendgroup": "European Union",
         "marker": {
          "color": "#B6E880",
          "symbol": "circle"
         },
         "mode": "markers",
         "name": "European Union",
         "orientation": "v",
         "showlegend": true,
         "type": "scatter",
         "x": [
          8.48875950911414
         ],
         "xaxis": "x",
         "y": [
          5.50607043589747
         ],
         "yaxis": "y"
        },
        {
         "hovertemplate": "Country Name=Fragile and conflict affected situations<br>1990=%{x}<br>2020=%{y}<extra></extra>",
         "legendgroup": "Fragile and conflict affected situations",
         "marker": {
          "color": "#FF97FF",
          "symbol": "circle"
         },
         "mode": "markers",
         "name": "Fragile and conflict affected situations",
         "orientation": "v",
         "showlegend": true,
         "type": "scatter",
         "x": [
          2.17016817566466
         ],
         "xaxis": "x",
         "y": [
          0.775010831158316
         ],
         "yaxis": "y"
        },
        {
         "hovertemplate": "Country Name=Finland<br>1990=%{x}<br>2020=%{y}<extra></extra>",
         "legendgroup": "Finland",
         "marker": {
          "color": "#FECB52",
          "symbol": "circle"
         },
         "mode": "markers",
         "name": "Finland",
         "orientation": "v",
         "showlegend": true,
         "type": "scatter",
         "x": [
          10.9422550918683
         ],
         "xaxis": "x",
         "y": [
          6.57014512772575
         ],
         "yaxis": "y"
        },
        {
         "hovertemplate": "Country Name=Fiji<br>1990=%{x}<br>2020=%{y}<extra></extra>",
         "legendgroup": "Fiji",
         "marker": {
          "color": "#636efa",
          "symbol": "circle"
         },
         "mode": "markers",
         "name": "Fiji",
         "orientation": "v",
         "showlegend": true,
         "type": "scatter",
         "x": [
          0.913573286521533
         ],
         "xaxis": "x",
         "y": [
          1.11709628844161
         ],
         "yaxis": "y"
        },
        {
         "hovertemplate": "Country Name=France<br>1990=%{x}<br>2020=%{y}<extra></extra>",
         "legendgroup": "France",
         "marker": {
          "color": "#EF553B",
          "symbol": "circle"
         },
         "mode": "markers",
         "name": "France",
         "orientation": "v",
         "showlegend": true,
         "type": "scatter",
         "x": [
          6.13833638319543
         ],
         "xaxis": "x",
         "y": [
          3.95368245187991
         ],
         "yaxis": "y"
        },
        {
         "hovertemplate": "Country Name=Micronesia, Fed. Sts.<br>1990=%{x}<br>2020=%{y}<extra></extra>",
         "legendgroup": "Micronesia, Fed. Sts.",
         "marker": {
          "color": "#00cc96",
          "symbol": "circle"
         },
         "mode": "markers",
         "name": "Micronesia, Fed. Sts.",
         "orientation": "v",
         "showlegend": true,
         "type": "scatter",
         "x": [
          0
         ],
         "xaxis": "x",
         "y": [
          0.958913885073056
         ],
         "yaxis": "y"
        },
        {
         "hovertemplate": "Country Name=Gabon<br>1990=%{x}<br>2020=%{y}<extra></extra>",
         "legendgroup": "Gabon",
         "marker": {
          "color": "#ab63fa",
          "symbol": "circle"
         },
         "mode": "markers",
         "name": "Gabon",
         "orientation": "v",
         "showlegend": true,
         "type": "scatter",
         "x": [
          4.16989139678626
         ],
         "xaxis": "x",
         "y": [
          2.33327357514897
         ],
         "yaxis": "y"
        },
        {
         "hovertemplate": "Country Name=United Kingdom<br>1990=%{x}<br>2020=%{y}<extra></extra>",
         "legendgroup": "United Kingdom",
         "marker": {
          "color": "#FFA15A",
          "symbol": "circle"
         },
         "mode": "markers",
         "name": "United Kingdom",
         "orientation": "v",
         "showlegend": true,
         "type": "scatter",
         "x": [
          9.81306879909312
         ],
         "xaxis": "x",
         "y": [
          4.60114225090135
         ],
         "yaxis": "y"
        },
        {
         "hovertemplate": "Country Name=Georgia<br>1990=%{x}<br>2020=%{y}<extra></extra>",
         "legendgroup": "Georgia",
         "marker": {
          "color": "#19d3f3",
          "symbol": "circle"
         },
         "mode": "markers",
         "name": "Georgia",
         "orientation": "v",
         "showlegend": true,
         "type": "scatter",
         "x": [
          6.97382340691379
         ],
         "xaxis": "x",
         "y": [
          2.75470919618902
         ],
         "yaxis": "y"
        },
        {
         "hovertemplate": "Country Name=Ghana<br>1990=%{x}<br>2020=%{y}<extra></extra>",
         "legendgroup": "Ghana",
         "marker": {
          "color": "#FF6692",
          "symbol": "circle"
         },
         "mode": "markers",
         "name": "Ghana",
         "orientation": "v",
         "showlegend": true,
         "type": "scatter",
         "x": [
          0.16293797714013
         ],
         "xaxis": "x",
         "y": [
          0.602887453142675
         ],
         "yaxis": "y"
        },
        {
         "hovertemplate": "Country Name=Guinea<br>1990=%{x}<br>2020=%{y}<extra></extra>",
         "legendgroup": "Guinea",
         "marker": {
          "color": "#B6E880",
          "symbol": "circle"
         },
         "mode": "markers",
         "name": "Guinea",
         "orientation": "v",
         "showlegend": true,
         "type": "scatter",
         "x": [
          0.157235945984865
         ],
         "xaxis": "x",
         "y": [
          0.34364615086247
         ],
         "yaxis": "y"
        },
        {
         "hovertemplate": "Country Name=Gambia, The<br>1990=%{x}<br>2020=%{y}<extra></extra>",
         "legendgroup": "Gambia, The",
         "marker": {
          "color": "#FF97FF",
          "symbol": "circle"
         },
         "mode": "markers",
         "name": "Gambia, The",
         "orientation": "v",
         "showlegend": true,
         "type": "scatter",
         "x": [
          0.186908523413055
         ],
         "xaxis": "x",
         "y": [
          0.237529598930845
         ],
         "yaxis": "y"
        },
        {
         "hovertemplate": "Country Name=Guinea-Bissau<br>1990=%{x}<br>2020=%{y}<extra></extra>",
         "legendgroup": "Guinea-Bissau",
         "marker": {
          "color": "#FECB52",
          "symbol": "circle"
         },
         "mode": "markers",
         "name": "Guinea-Bissau",
         "orientation": "v",
         "showlegend": true,
         "type": "scatter",
         "x": [
          0.176570102644854
         ],
         "xaxis": "x",
         "y": [
          0.163208368967987
         ],
         "yaxis": "y"
        },
        {
         "hovertemplate": "Country Name=Equatorial Guinea<br>1990=%{x}<br>2020=%{y}<extra></extra>",
         "legendgroup": "Equatorial Guinea",
         "marker": {
          "color": "#636efa",
          "symbol": "circle"
         },
         "mode": "markers",
         "name": "Equatorial Guinea",
         "orientation": "v",
         "showlegend": true,
         "type": "scatter",
         "x": [
          0.149500911826682
         ],
         "xaxis": "x",
         "y": [
          2.72573085162172
         ],
         "yaxis": "y"
        },
        {
         "hovertemplate": "Country Name=Greece<br>1990=%{x}<br>2020=%{y}<extra></extra>",
         "legendgroup": "Greece",
         "marker": {
          "color": "#EF553B",
          "symbol": "circle"
         },
         "mode": "markers",
         "name": "Greece",
         "orientation": "v",
         "showlegend": true,
         "type": "scatter",
         "x": [
          7.41599907108039
         ],
         "xaxis": "x",
         "y": [
          4.76718493701839
         ],
         "yaxis": "y"
        },
        {
         "hovertemplate": "Country Name=Grenada<br>1990=%{x}<br>2020=%{y}<extra></extra>",
         "legendgroup": "Grenada",
         "marker": {
          "color": "#00cc96",
          "symbol": "circle"
         },
         "mode": "markers",
         "name": "Grenada",
         "orientation": "v",
         "showlegend": true,
         "type": "scatter",
         "x": [
          1.16005532726887
         ],
         "xaxis": "x",
         "y": [
          2.62406702085507
         ],
         "yaxis": "y"
        },
        {
         "hovertemplate": "Country Name=Guatemala<br>1990=%{x}<br>2020=%{y}<extra></extra>",
         "legendgroup": "Guatemala",
         "marker": {
          "color": "#ab63fa",
          "symbol": "circle"
         },
         "mode": "markers",
         "name": "Guatemala",
         "orientation": "v",
         "showlegend": true,
         "type": "scatter",
         "x": [
          0.434469617236908
         ],
         "xaxis": "x",
         "y": [
          1.00040733564819
         ],
         "yaxis": "y"
        },
        {
         "hovertemplate": "Country Name=Guyana<br>1990=%{x}<br>2020=%{y}<extra></extra>",
         "legendgroup": "Guyana",
         "marker": {
          "color": "#FFA15A",
          "symbol": "circle"
         },
         "mode": "markers",
         "name": "Guyana",
         "orientation": "v",
         "showlegend": true,
         "type": "scatter",
         "x": [
          1.56856498856938
         ],
         "xaxis": "x",
         "y": [
          3.47277101663067
         ],
         "yaxis": "y"
        },
        {
         "hovertemplate": "Country Name=High income<br>1990=%{x}<br>2020=%{y}<extra></extra>",
         "legendgroup": "High income",
         "marker": {
          "color": "#19d3f3",
          "symbol": "circle"
         },
         "mode": "markers",
         "name": "High income",
         "orientation": "v",
         "showlegend": true,
         "type": "scatter",
         "x": [
          11.1252522998055
         ],
         "xaxis": "x",
         "y": [
          8.7499128183433
         ],
         "yaxis": "y"
        },
        {
         "hovertemplate": "Country Name=Honduras<br>1990=%{x}<br>2020=%{y}<extra></extra>",
         "legendgroup": "Honduras",
         "marker": {
          "color": "#FF6692",
          "symbol": "circle"
         },
         "mode": "markers",
         "name": "Honduras",
         "orientation": "v",
         "showlegend": true,
         "type": "scatter",
         "x": [
          0.485570230866016
         ],
         "xaxis": "x",
         "y": [
          0.872911171700029
         ],
         "yaxis": "y"
        },
        {
         "hovertemplate": "Country Name=Heavily indebted poor countries (HIPC)<br>1990=%{x}<br>2020=%{y}<extra></extra>",
         "legendgroup": "Heavily indebted poor countries (HIPC)",
         "marker": {
          "color": "#B6E880",
          "symbol": "circle"
         },
         "mode": "markers",
         "name": "Heavily indebted poor countries (HIPC)",
         "orientation": "v",
         "showlegend": true,
         "type": "scatter",
         "x": [
          0.166646505929184
         ],
         "xaxis": "x",
         "y": [
          0.268471052988447
         ],
         "yaxis": "y"
        },
        {
         "hovertemplate": "Country Name=Croatia<br>1990=%{x}<br>2020=%{y}<extra></extra>",
         "legendgroup": "Croatia",
         "marker": {
          "color": "#FF97FF",
          "symbol": "circle"
         },
         "mode": "markers",
         "name": "Croatia",
         "orientation": "v",
         "showlegend": true,
         "type": "scatter",
         "x": [
          4.25786751198568
         ],
         "xaxis": "x",
         "y": [
          3.86070539173057
         ],
         "yaxis": "y"
        },
        {
         "hovertemplate": "Country Name=Haiti<br>1990=%{x}<br>2020=%{y}<extra></extra>",
         "legendgroup": "Haiti",
         "marker": {
          "color": "#FECB52",
          "symbol": "circle"
         },
         "mode": "markers",
         "name": "Haiti",
         "orientation": "v",
         "showlegend": true,
         "type": "scatter",
         "x": [
          0.147346025771187
         ],
         "xaxis": "x",
         "y": [
          0.283815024249564
         ],
         "yaxis": "y"
        },
        {
         "hovertemplate": "Country Name=Hungary<br>1990=%{x}<br>2020=%{y}<extra></extra>",
         "legendgroup": "Hungary",
         "marker": {
          "color": "#636efa",
          "symbol": "circle"
         },
         "mode": "markers",
         "name": "Hungary",
         "orientation": "v",
         "showlegend": true,
         "type": "scatter",
         "x": [
          6.49904356935828
         ],
         "xaxis": "x",
         "y": [
          4.59165290704788
         ],
         "yaxis": "y"
        },
        {
         "hovertemplate": "Country Name=IBRD only<br>1990=%{x}<br>2020=%{y}<extra></extra>",
         "legendgroup": "IBRD only",
         "marker": {
          "color": "#EF553B",
          "symbol": "circle"
         },
         "mode": "markers",
         "name": "IBRD only",
         "orientation": "v",
         "showlegend": true,
         "type": "scatter",
         "x": [
          2.58591503859526
         ],
         "xaxis": "x",
         "y": [
          4.30429159638125
         ],
         "yaxis": "y"
        },
        {
         "hovertemplate": "Country Name=IDA & IBRD total<br>1990=%{x}<br>2020=%{y}<extra></extra>",
         "legendgroup": "IDA & IBRD total",
         "marker": {
          "color": "#00cc96",
          "symbol": "circle"
         },
         "mode": "markers",
         "name": "IDA & IBRD total",
         "orientation": "v",
         "showlegend": true,
         "type": "scatter",
         "x": [
          2.16586225272856
         ],
         "xaxis": "x",
         "y": [
          3.29854387858719
         ],
         "yaxis": "y"
        },
        {
         "hovertemplate": "Country Name=IDA total<br>1990=%{x}<br>2020=%{y}<extra></extra>",
         "legendgroup": "IDA total",
         "marker": {
          "color": "#ab63fa",
          "symbol": "circle"
         },
         "mode": "markers",
         "name": "IDA total",
         "orientation": "v",
         "showlegend": true,
         "type": "scatter",
         "x": [
          0.488864145506189
         ],
         "xaxis": "x",
         "y": [
          0.517184006949399
         ],
         "yaxis": "y"
        },
        {
         "hovertemplate": "Country Name=IDA blend<br>1990=%{x}<br>2020=%{y}<extra></extra>",
         "legendgroup": "IDA blend",
         "marker": {
          "color": "#FFA15A",
          "symbol": "circle"
         },
         "mode": "markers",
         "name": "IDA blend",
         "orientation": "v",
         "showlegend": true,
         "type": "scatter",
         "x": [
          0.991437717702611
         ],
         "xaxis": "x",
         "y": [
          0.798612684357823
         ],
         "yaxis": "y"
        },
        {
         "hovertemplate": "Country Name=Indonesia<br>1990=%{x}<br>2020=%{y}<extra></extra>",
         "legendgroup": "Indonesia",
         "marker": {
          "color": "#19d3f3",
          "symbol": "circle"
         },
         "mode": "markers",
         "name": "Indonesia",
         "orientation": "v",
         "showlegend": true,
         "type": "scatter",
         "x": [
          0.814355525959575
         ],
         "xaxis": "x",
         "y": [
          2.07165896221472
         ],
         "yaxis": "y"
        },
        {
         "hovertemplate": "Country Name=IDA only<br>1990=%{x}<br>2020=%{y}<extra></extra>",
         "legendgroup": "IDA only",
         "marker": {
          "color": "#FF6692",
          "symbol": "circle"
         },
         "mode": "markers",
         "name": "IDA only",
         "orientation": "v",
         "showlegend": true,
         "type": "scatter",
         "x": [
          0.242766970073914
         ],
         "xaxis": "x",
         "y": [
          0.377941163632789
         ],
         "yaxis": "y"
        },
        {
         "hovertemplate": "Country Name=India<br>1990=%{x}<br>2020=%{y}<extra></extra>",
         "legendgroup": "India",
         "marker": {
          "color": "#B6E880",
          "symbol": "circle"
         },
         "mode": "markers",
         "name": "India",
         "orientation": "v",
         "showlegend": true,
         "type": "scatter",
         "x": [
          0.647451316293756
         ],
         "xaxis": "x",
         "y": [
          1.57609323191648
         ],
         "yaxis": "y"
        },
        {
         "hovertemplate": "Country Name=Ireland<br>1990=%{x}<br>2020=%{y}<extra></extra>",
         "legendgroup": "Ireland",
         "marker": {
          "color": "#FF97FF",
          "symbol": "circle"
         },
         "mode": "markers",
         "name": "Ireland",
         "orientation": "v",
         "showlegend": true,
         "type": "scatter",
         "x": [
          8.81096445221279
         ],
         "xaxis": "x",
         "y": [
          6.76822759018266
         ],
         "yaxis": "y"
        },
        {
         "hovertemplate": "Country Name=Iran, Islamic Rep.<br>1990=%{x}<br>2020=%{y}<extra></extra>",
         "legendgroup": "Iran, Islamic Rep.",
         "marker": {
          "color": "#FECB52",
          "symbol": "circle"
         },
         "mode": "markers",
         "name": "Iran, Islamic Rep.",
         "orientation": "v",
         "showlegend": true,
         "type": "scatter",
         "x": [
          3.55724665265993
         ],
         "xaxis": "x",
         "y": [
          7.06335132057733
         ],
         "yaxis": "y"
        },
        {
         "hovertemplate": "Country Name=Iraq<br>1990=%{x}<br>2020=%{y}<extra></extra>",
         "legendgroup": "Iraq",
         "marker": {
          "color": "#636efa",
          "symbol": "circle"
         },
         "mode": "markers",
         "name": "Iraq",
         "orientation": "v",
         "showlegend": true,
         "type": "scatter",
         "x": [
          3.63602982629042
         ],
         "xaxis": "x",
         "y": [
          3.84217781974399
         ],
         "yaxis": "y"
        },
        {
         "hovertemplate": "Country Name=Iceland<br>1990=%{x}<br>2020=%{y}<extra></extra>",
         "legendgroup": "Iceland",
         "marker": {
          "color": "#EF553B",
          "symbol": "circle"
         },
         "mode": "markers",
         "name": "Iceland",
         "orientation": "v",
         "showlegend": true,
         "type": "scatter",
         "x": [
          7.64231279382795
         ],
         "xaxis": "x",
         "y": [
          3.94746536485266
         ],
         "yaxis": "y"
        },
        {
         "hovertemplate": "Country Name=Israel<br>1990=%{x}<br>2020=%{y}<extra></extra>",
         "legendgroup": "Israel",
         "marker": {
          "color": "#00cc96",
          "symbol": "circle"
         },
         "mode": "markers",
         "name": "Israel",
         "orientation": "v",
         "showlegend": true,
         "type": "scatter",
         "x": [
          7.25448497854077
         ],
         "xaxis": "x",
         "y": [
          6.34521600416707
         ],
         "yaxis": "y"
        },
        {
         "hovertemplate": "Country Name=Italy<br>1990=%{x}<br>2020=%{y}<extra></extra>",
         "legendgroup": "Italy",
         "marker": {
          "color": "#ab63fa",
          "symbol": "circle"
         },
         "mode": "markers",
         "name": "Italy",
         "orientation": "v",
         "showlegend": true,
         "type": "scatter",
         "x": [
          7.14505342455223
         ],
         "xaxis": "x",
         "y": [
          4.73237277079935
         ],
         "yaxis": "y"
        },
        {
         "hovertemplate": "Country Name=Jamaica<br>1990=%{x}<br>2020=%{y}<extra></extra>",
         "legendgroup": "Jamaica",
         "marker": {
          "color": "#FFA15A",
          "symbol": "circle"
         },
         "mode": "markers",
         "name": "Jamaica",
         "orientation": "v",
         "showlegend": true,
         "type": "scatter",
         "x": [
          3.1215327566962
         ],
         "xaxis": "x",
         "y": [
          2.06904180772051
         ],
         "yaxis": "y"
        },
        {
         "hovertemplate": "Country Name=Jordan<br>1990=%{x}<br>2020=%{y}<extra></extra>",
         "legendgroup": "Jordan",
         "marker": {
          "color": "#19d3f3",
          "symbol": "circle"
         },
         "mode": "markers",
         "name": "Jordan",
         "orientation": "v",
         "showlegend": true,
         "type": "scatter",
         "x": [
          2.85411627406527
         ],
         "xaxis": "x",
         "y": [
          1.9191724264898
         ],
         "yaxis": "y"
        },
        {
         "hovertemplate": "Country Name=Japan<br>1990=%{x}<br>2020=%{y}<extra></extra>",
         "legendgroup": "Japan",
         "marker": {
          "color": "#FF6692",
          "symbol": "circle"
         },
         "mode": "markers",
         "name": "Japan",
         "orientation": "v",
         "showlegend": true,
         "type": "scatter",
         "x": [
          8.83159834140495
         ],
         "xaxis": "x",
         "y": [
          8.0314958696668
         ],
         "yaxis": "y"
        },
        {
         "hovertemplate": "Country Name=Kazakhstan<br>1990=%{x}<br>2020=%{y}<extra></extra>",
         "legendgroup": "Kazakhstan",
         "marker": {
          "color": "#B6E880",
          "symbol": "circle"
         },
         "mode": "markers",
         "name": "Kazakhstan",
         "orientation": "v",
         "showlegend": true,
         "type": "scatter",
         "x": [
          14.5125336432591
         ],
         "xaxis": "x",
         "y": [
          11.2977433059429
         ],
         "yaxis": "y"
        },
        {
         "hovertemplate": "Country Name=Kenya<br>1990=%{x}<br>2020=%{y}<extra></extra>",
         "legendgroup": "Kenya",
         "marker": {
          "color": "#FF97FF",
          "symbol": "circle"
         },
         "mode": "markers",
         "name": "Kenya",
         "orientation": "v",
         "showlegend": true,
         "type": "scatter",
         "x": [
          0.27065569439678
         ],
         "xaxis": "x",
         "y": [
          0.374079219355755
         ],
         "yaxis": "y"
        },
        {
         "hovertemplate": "Country Name=Kyrgyz Republic<br>1990=%{x}<br>2020=%{y}<extra></extra>",
         "legendgroup": "Kyrgyz Republic",
         "marker": {
          "color": "#FECB52",
          "symbol": "circle"
         },
         "mode": "markers",
         "name": "Kyrgyz Republic",
         "orientation": "v",
         "showlegend": true,
         "type": "scatter",
         "x": [
          5.18361723446894
         ],
         "xaxis": "x",
         "y": [
          1.37997537956504
         ],
         "yaxis": "y"
        },
        {
         "hovertemplate": "Country Name=Cambodia<br>1990=%{x}<br>2020=%{y}<extra></extra>",
         "legendgroup": "Cambodia",
         "marker": {
          "color": "#636efa",
          "symbol": "circle"
         },
         "mode": "markers",
         "name": "Cambodia",
         "orientation": "v",
         "showlegend": true,
         "type": "scatter",
         "x": [
          0.141448003368494
         ],
         "xaxis": "x",
         "y": [
          1.13758365931038
         ],
         "yaxis": "y"
        },
        {
         "hovertemplate": "Country Name=Kiribati<br>1990=%{x}<br>2020=%{y}<extra></extra>",
         "legendgroup": "Kiribati",
         "marker": {
          "color": "#EF553B",
          "symbol": "circle"
         },
         "mode": "markers",
         "name": "Kiribati",
         "orientation": "v",
         "showlegend": true,
         "type": "scatter",
         "x": [
          0.319471806613066
         ],
         "xaxis": "x",
         "y": [
          0.449933972782553
         ],
         "yaxis": "y"
        },
        {
         "hovertemplate": "Country Name=St. Kitts and Nevis<br>1990=%{x}<br>2020=%{y}<extra></extra>",
         "legendgroup": "St. Kitts and Nevis",
         "marker": {
          "color": "#00cc96",
          "symbol": "circle"
         },
         "mode": "markers",
         "name": "St. Kitts and Nevis",
         "orientation": "v",
         "showlegend": true,
         "type": "scatter",
         "x": [
          2.79801161531647
         ],
         "xaxis": "x",
         "y": [
          4.84866294446077
         ],
         "yaxis": "y"
        },
        {
         "hovertemplate": "Country Name=Korea, Rep.<br>1990=%{x}<br>2020=%{y}<extra></extra>",
         "legendgroup": "Korea, Rep.",
         "marker": {
          "color": "#ab63fa",
          "symbol": "circle"
         },
         "mode": "markers",
         "name": "Korea, Rep.",
         "orientation": "v",
         "showlegend": true,
         "type": "scatter",
         "x": [
          5.77746541737122
         ],
         "xaxis": "x",
         "y": [
          10.9900295814285
         ],
         "yaxis": "y"
        },
        {
         "hovertemplate": "Country Name=Kuwait<br>1990=%{x}<br>2020=%{y}<extra></extra>",
         "legendgroup": "Kuwait",
         "marker": {
          "color": "#FFA15A",
          "symbol": "circle"
         },
         "mode": "markers",
         "name": "Kuwait",
         "orientation": "v",
         "showlegend": true,
         "type": "scatter",
         "x": [
          17.3907332689329
         ],
         "xaxis": "x",
         "y": [
          21.1696102506992
         ],
         "yaxis": "y"
        },
        {
         "hovertemplate": "Country Name=Latin America & Caribbean (excluding high income)<br>1990=%{x}<br>2020=%{y}<extra></extra>",
         "legendgroup": "Latin America & Caribbean (excluding high income)",
         "marker": {
          "color": "#19d3f3",
          "symbol": "circle"
         },
         "mode": "markers",
         "name": "Latin America & Caribbean (excluding high income)",
         "orientation": "v",
         "showlegend": true,
         "type": "scatter",
         "x": [
          1.8520643970378
         ],
         "xaxis": "x",
         "y": [
          2.11254497614329
         ],
         "yaxis": "y"
        },
        {
         "hovertemplate": "Country Name=Lao PDR<br>1990=%{x}<br>2020=%{y}<extra></extra>",
         "legendgroup": "Lao PDR",
         "marker": {
          "color": "#FF6692",
          "symbol": "circle"
         },
         "mode": "markers",
         "name": "Lao PDR",
         "orientation": "v",
         "showlegend": true,
         "type": "scatter",
         "x": [
          0.118893678743699
         ],
         "xaxis": "x",
         "y": [
          2.6202834413044
         ],
         "yaxis": "y"
        },
        {
         "hovertemplate": "Country Name=Lebanon<br>1990=%{x}<br>2020=%{y}<extra></extra>",
         "legendgroup": "Lebanon",
         "marker": {
          "color": "#B6E880",
          "symbol": "circle"
         },
         "mode": "markers",
         "name": "Lebanon",
         "orientation": "v",
         "showlegend": true,
         "type": "scatter",
         "x": [
          1.56443220079584
         ],
         "xaxis": "x",
         "y": [
          3.79219353680069
         ],
         "yaxis": "y"
        },
        {
         "hovertemplate": "Country Name=Liberia<br>1990=%{x}<br>2020=%{y}<extra></extra>",
         "legendgroup": "Liberia",
         "marker": {
          "color": "#FF97FF",
          "symbol": "circle"
         },
         "mode": "markers",
         "name": "Liberia",
         "orientation": "v",
         "showlegend": true,
         "type": "scatter",
         "x": [
          0.205373414230058
         ],
         "xaxis": "x",
         "y": [
          0.231838923937177
         ],
         "yaxis": "y"
        },
        {
         "hovertemplate": "Country Name=Libya<br>1990=%{x}<br>2020=%{y}<extra></extra>",
         "legendgroup": "Libya",
         "marker": {
          "color": "#FECB52",
          "symbol": "circle"
         },
         "mode": "markers",
         "name": "Libya",
         "orientation": "v",
         "showlegend": true,
         "type": "scatter",
         "x": [
          6.75091214668551
         ],
         "xaxis": "x",
         "y": [
          6.68280547080212
         ],
         "yaxis": "y"
        },
        {
         "hovertemplate": "Country Name=St. Lucia<br>1990=%{x}<br>2020=%{y}<extra></extra>",
         "legendgroup": "St. Lucia",
         "marker": {
          "color": "#636efa",
          "symbol": "circle"
         },
         "mode": "markers",
         "name": "St. Lucia",
         "orientation": "v",
         "showlegend": true,
         "type": "scatter",
         "x": [
          1.35487452653179
         ],
         "xaxis": "x",
         "y": [
          2.78513922906543
         ],
         "yaxis": "y"
        },
        {
         "hovertemplate": "Country Name=Latin America & Caribbean<br>1990=%{x}<br>2020=%{y}<extra></extra>",
         "legendgroup": "Latin America & Caribbean",
         "marker": {
          "color": "#EF553B",
          "symbol": "circle"
         },
         "mode": "markers",
         "name": "Latin America & Caribbean",
         "orientation": "v",
         "showlegend": true,
         "type": "scatter",
         "x": [
          2.01632996482036
         ],
         "xaxis": "x",
         "y": [
          2.21061135980164
         ],
         "yaxis": "y"
        },
        {
         "hovertemplate": "Country Name=Least developed countries: UN classification<br>1990=%{x}<br>2020=%{y}<extra></extra>",
         "legendgroup": "Least developed countries: UN classification",
         "marker": {
          "color": "#00cc96",
          "symbol": "circle"
         },
         "mode": "markers",
         "name": "Least developed countries: UN classification",
         "orientation": "v",
         "showlegend": true,
         "type": "scatter",
         "x": [
          0.129164434838629
         ],
         "xaxis": "x",
         "y": [
          0.327108375841548
         ],
         "yaxis": "y"
        },
        {
         "hovertemplate": "Country Name=Low income<br>1990=%{x}<br>2020=%{y}<extra></extra>",
         "legendgroup": "Low income",
         "marker": {
          "color": "#ab63fa",
          "symbol": "circle"
         },
         "mode": "markers",
         "name": "Low income",
         "orientation": "v",
         "showlegend": true,
         "type": "scatter",
         "x": [
          0.62646551448094
         ],
         "xaxis": "x",
         "y": [
          0.269341050173669
         ],
         "yaxis": "y"
        },
        {
         "hovertemplate": "Country Name=Liechtenstein<br>1990=%{x}<br>2020=%{y}<extra></extra>",
         "legendgroup": "Liechtenstein",
         "marker": {
          "color": "#FFA15A",
          "symbol": "circle"
         },
         "mode": "markers",
         "name": "Liechtenstein",
         "orientation": "v",
         "showlegend": true,
         "type": "scatter",
         "x": [
          6.91711649574135
         ],
         "xaxis": "x",
         "y": [
          3.66384799772938
         ],
         "yaxis": "y"
        },
        {
         "hovertemplate": "Country Name=Sri Lanka<br>1990=%{x}<br>2020=%{y}<extra></extra>",
         "legendgroup": "Sri Lanka",
         "marker": {
          "color": "#19d3f3",
          "symbol": "circle"
         },
         "mode": "markers",
         "name": "Sri Lanka",
         "orientation": "v",
         "showlegend": true,
         "type": "scatter",
         "x": [
          0.223156185963643
         ],
         "xaxis": "x",
         "y": [
          0.99668324284867
         ],
         "yaxis": "y"
        },
        {
         "hovertemplate": "Country Name=Lower middle income<br>1990=%{x}<br>2020=%{y}<extra></extra>",
         "legendgroup": "Lower middle income",
         "marker": {
          "color": "#FF6692",
          "symbol": "circle"
         },
         "mode": "markers",
         "name": "Lower middle income",
         "orientation": "v",
         "showlegend": true,
         "type": "scatter",
         "x": [
          1.14023272422288
         ],
         "xaxis": "x",
         "y": [
          1.54611702210388
         ],
         "yaxis": "y"
        },
        {
         "hovertemplate": "Country Name=Low & middle income<br>1990=%{x}<br>2020=%{y}<extra></extra>",
         "legendgroup": "Low & middle income",
         "marker": {
          "color": "#B6E880",
          "symbol": "circle"
         },
         "mode": "markers",
         "name": "Low & middle income",
         "orientation": "v",
         "showlegend": true,
         "type": "scatter",
         "x": [
          2.07575270753448
         ],
         "xaxis": "x",
         "y": [
          3.26424700057325
         ],
         "yaxis": "y"
        },
        {
         "hovertemplate": "Country Name=Lesotho<br>1990=%{x}<br>2020=%{y}<extra></extra>",
         "legendgroup": "Lesotho",
         "marker": {
          "color": "#FF97FF",
          "symbol": "circle"
         },
         "mode": "markers",
         "name": "Lesotho",
         "orientation": "v",
         "showlegend": true,
         "type": "scatter",
         "x": [
          0.775710020639279
         ],
         "xaxis": "x",
         "y": [
          1.02564216316934
         ],
         "yaxis": "y"
        },
        {
         "hovertemplate": "Country Name=Late-demographic dividend<br>1990=%{x}<br>2020=%{y}<extra></extra>",
         "legendgroup": "Late-demographic dividend",
         "marker": {
          "color": "#FECB52",
          "symbol": "circle"
         },
         "mode": "markers",
         "name": "Late-demographic dividend",
         "orientation": "v",
         "showlegend": true,
         "type": "scatter",
         "x": [
          3.37898428428201
         ],
         "xaxis": "x",
         "y": [
          6.68385121564308
         ],
         "yaxis": "y"
        },
        {
         "hovertemplate": "Country Name=Lithuania<br>1990=%{x}<br>2020=%{y}<extra></extra>",
         "legendgroup": "Lithuania",
         "marker": {
          "color": "#636efa",
          "symbol": "circle"
         },
         "mode": "markers",
         "name": "Lithuania",
         "orientation": "v",
         "showlegend": true,
         "type": "scatter",
         "x": [
          8.71263154308004
         ],
         "xaxis": "x",
         "y": [
          4.18400041504391
         ],
         "yaxis": "y"
        },
        {
         "hovertemplate": "Country Name=Luxembourg<br>1990=%{x}<br>2020=%{y}<extra></extra>",
         "legendgroup": "Luxembourg",
         "marker": {
          "color": "#EF553B",
          "symbol": "circle"
         },
         "mode": "markers",
         "name": "Luxembourg",
         "orientation": "v",
         "showlegend": true,
         "type": "scatter",
         "x": [
          29.5534895901532
         ],
         "xaxis": "x",
         "y": [
          12.4569532326913
         ],
         "yaxis": "y"
        },
        {
         "hovertemplate": "Country Name=Latvia<br>1990=%{x}<br>2020=%{y}<extra></extra>",
         "legendgroup": "Latvia",
         "marker": {
          "color": "#00cc96",
          "symbol": "circle"
         },
         "mode": "markers",
         "name": "Latvia",
         "orientation": "v",
         "showlegend": true,
         "type": "scatter",
         "x": [
          7.05082062564233
         ],
         "xaxis": "x",
         "y": [
          3.64561216849281
         ],
         "yaxis": "y"
        },
        {
         "hovertemplate": "Country Name=Morocco<br>1990=%{x}<br>2020=%{y}<extra></extra>",
         "legendgroup": "Morocco",
         "marker": {
          "color": "#ab63fa",
          "symbol": "circle"
         },
         "mode": "markers",
         "name": "Morocco",
         "orientation": "v",
         "showlegend": true,
         "type": "scatter",
         "x": [
          0.874932348598626
         ],
         "xaxis": "x",
         "y": [
          1.81852638730999
         ],
         "yaxis": "y"
        },
        {
         "hovertemplate": "Country Name=Moldova<br>1990=%{x}<br>2020=%{y}<extra></extra>",
         "legendgroup": "Moldova",
         "marker": {
          "color": "#FFA15A",
          "symbol": "circle"
         },
         "mode": "markers",
         "name": "Moldova",
         "orientation": "v",
         "showlegend": true,
         "type": "scatter",
         "x": [
          10.2941087223169
         ],
         "xaxis": "x",
         "y": [
          3.26784636811087
         ],
         "yaxis": "y"
        },
        {
         "hovertemplate": "Country Name=Madagascar<br>1990=%{x}<br>2020=%{y}<extra></extra>",
         "legendgroup": "Madagascar",
         "marker": {
          "color": "#19d3f3",
          "symbol": "circle"
         },
         "mode": "markers",
         "name": "Madagascar",
         "orientation": "v",
         "showlegend": true,
         "type": "scatter",
         "x": [
          0.0749935074017303
         ],
         "xaxis": "x",
         "y": [
          0.0972695405949093
         ],
         "yaxis": "y"
        },
        {
         "hovertemplate": "Country Name=Maldives<br>1990=%{x}<br>2020=%{y}<extra></extra>",
         "legendgroup": "Maldives",
         "marker": {
          "color": "#FF6692",
          "symbol": "circle"
         },
         "mode": "markers",
         "name": "Maldives",
         "orientation": "v",
         "showlegend": true,
         "type": "scatter",
         "x": [
          0.69657756815747
         ],
         "xaxis": "x",
         "y": [
          2.82638529813116
         ],
         "yaxis": "y"
        },
        {
         "hovertemplate": "Country Name=Middle East & North Africa<br>1990=%{x}<br>2020=%{y}<extra></extra>",
         "legendgroup": "Middle East & North Africa",
         "marker": {
          "color": "#B6E880",
          "symbol": "circle"
         },
         "mode": "markers",
         "name": "Middle East & North Africa",
         "orientation": "v",
         "showlegend": true,
         "type": "scatter",
         "x": [
          3.3569224786258
         ],
         "xaxis": "x",
         "y": [
          5.03381829765426
         ],
         "yaxis": "y"
        },
        {
         "hovertemplate": "Country Name=Mexico<br>1990=%{x}<br>2020=%{y}<extra></extra>",
         "legendgroup": "Mexico",
         "marker": {
          "color": "#FF97FF",
          "symbol": "circle"
         },
         "mode": "markers",
         "name": "Mexico",
         "orientation": "v",
         "showlegend": true,
         "type": "scatter",
         "x": [
          3.29875169033623
         ],
         "xaxis": "x",
         "y": [
          3.04076637477226
         ],
         "yaxis": "y"
        },
        {
         "hovertemplate": "Country Name=Marshall Islands<br>1990=%{x}<br>2020=%{y}<extra></extra>",
         "legendgroup": "Marshall Islands",
         "marker": {
          "color": "#FECB52",
          "symbol": "circle"
         },
         "mode": "markers",
         "name": "Marshall Islands",
         "orientation": "v",
         "showlegend": true,
         "type": "scatter",
         "x": [
          0
         ],
         "xaxis": "x",
         "y": [
          2.53380323866123
         ],
         "yaxis": "y"
        },
        {
         "hovertemplate": "Country Name=Middle income<br>1990=%{x}<br>2020=%{y}<extra></extra>",
         "legendgroup": "Middle income",
         "marker": {
          "color": "#636efa",
          "symbol": "circle"
         },
         "mode": "markers",
         "name": "Middle income",
         "orientation": "v",
         "showlegend": true,
         "type": "scatter",
         "x": [
          2.18150327125514
         ],
         "xaxis": "x",
         "y": [
          3.6037893413802
         ],
         "yaxis": "y"
        },
        {
         "hovertemplate": "Country Name=North Macedonia<br>1990=%{x}<br>2020=%{y}<extra></extra>",
         "legendgroup": "North Macedonia",
         "marker": {
          "color": "#EF553B",
          "symbol": "circle"
         },
         "mode": "markers",
         "name": "North Macedonia",
         "orientation": "v",
         "showlegend": true,
         "type": "scatter",
         "x": [
          4.20282226464088
         ],
         "xaxis": "x",
         "y": [
          3.27942018720106
         ],
         "yaxis": "y"
        },
        {
         "hovertemplate": "Country Name=Mali<br>1990=%{x}<br>2020=%{y}<extra></extra>",
         "legendgroup": "Mali",
         "marker": {
          "color": "#00cc96",
          "symbol": "circle"
         },
         "mode": "markers",
         "name": "Mali",
         "orientation": "v",
         "showlegend": true,
         "type": "scatter",
         "x": [
          0.0487434021991663
         ],
         "xaxis": "x",
         "y": [
          0.195565971417317
         ],
         "yaxis": "y"
        },
        {
         "hovertemplate": "Country Name=Malta<br>1990=%{x}<br>2020=%{y}<extra></extra>",
         "legendgroup": "Malta",
         "marker": {
          "color": "#ab63fa",
          "symbol": "circle"
         },
         "mode": "markers",
         "name": "Malta",
         "orientation": "v",
         "showlegend": true,
         "type": "scatter",
         "x": [
          6.53527966795607
         ],
         "xaxis": "x",
         "y": [
          3.12555789277592
         ],
         "yaxis": "y"
        },
        {
         "hovertemplate": "Country Name=Myanmar<br>1990=%{x}<br>2020=%{y}<extra></extra>",
         "legendgroup": "Myanmar",
         "marker": {
          "color": "#FFA15A",
          "symbol": "circle"
         },
         "mode": "markers",
         "name": "Myanmar",
         "orientation": "v",
         "showlegend": true,
         "type": "scatter",
         "x": [
          0.101821583896459
         ],
         "xaxis": "x",
         "y": [
          0.634080348390974
         ],
         "yaxis": "y"
        },
        {
         "hovertemplate": "Country Name=Middle East & North Africa (excluding high income)<br>1990=%{x}<br>2020=%{y}<extra></extra>",
         "legendgroup": "Middle East & North Africa (excluding high income)",
         "marker": {
          "color": "#19d3f3",
          "symbol": "circle"
         },
         "mode": "markers",
         "name": "Middle East & North Africa (excluding high income)",
         "orientation": "v",
         "showlegend": true,
         "type": "scatter",
         "x": [
          2.32904819779108
         ],
         "xaxis": "x",
         "y": [
          3.32905608702325
         ],
         "yaxis": "y"
        },
        {
         "hovertemplate": "Country Name=Montenegro<br>1990=%{x}<br>2020=%{y}<extra></extra>",
         "legendgroup": "Montenegro",
         "marker": {
          "color": "#FF6692",
          "symbol": "circle"
         },
         "mode": "markers",
         "name": "Montenegro",
         "orientation": "v",
         "showlegend": true,
         "type": "scatter",
         "x": [
          3.15868848990389
         ],
         "xaxis": "x",
         "y": [
          4.06756091201437
         ],
         "yaxis": "y"
        },
        {
         "hovertemplate": "Country Name=Mongolia<br>1990=%{x}<br>2020=%{y}<extra></extra>",
         "legendgroup": "Mongolia",
         "marker": {
          "color": "#B6E880",
          "symbol": "circle"
         },
         "mode": "markers",
         "name": "Mongolia",
         "orientation": "v",
         "showlegend": true,
         "type": "scatter",
         "x": [
          5.99976959729957
         ],
         "xaxis": "x",
         "y": [
          6.43064533509798
         ],
         "yaxis": "y"
        },
        {
         "hovertemplate": "Country Name=Mozambique<br>1990=%{x}<br>2020=%{y}<extra></extra>",
         "legendgroup": "Mozambique",
         "marker": {
          "color": "#FF97FF",
          "symbol": "circle"
         },
         "mode": "markers",
         "name": "Mozambique",
         "orientation": "v",
         "showlegend": true,
         "type": "scatter",
         "x": [
          0.0839804144170325
         ],
         "xaxis": "x",
         "y": [
          0.222767552715213
         ],
         "yaxis": "y"
        },
        {
         "hovertemplate": "Country Name=Mauritania<br>1990=%{x}<br>2020=%{y}<extra></extra>",
         "legendgroup": "Mauritania",
         "marker": {
          "color": "#FECB52",
          "symbol": "circle"
         },
         "mode": "markers",
         "name": "Mauritania",
         "orientation": "v",
         "showlegend": true,
         "type": "scatter",
         "x": [
          0.419635428635806
         ],
         "xaxis": "x",
         "y": [
          0.855176405836122
         ],
         "yaxis": "y"
        },
        {
         "hovertemplate": "Country Name=Mauritius<br>1990=%{x}<br>2020=%{y}<extra></extra>",
         "legendgroup": "Mauritius",
         "marker": {
          "color": "#636efa",
          "symbol": "circle"
         },
         "mode": "markers",
         "name": "Mauritius",
         "orientation": "v",
         "showlegend": true,
         "type": "scatter",
         "x": [
          1.09947817052726
         ],
         "xaxis": "x",
         "y": [
          2.93851410805884
         ],
         "yaxis": "y"
        },
        {
         "hovertemplate": "Country Name=Malawi<br>1990=%{x}<br>2020=%{y}<extra></extra>",
         "legendgroup": "Malawi",
         "marker": {
          "color": "#EF553B",
          "symbol": "circle"
         },
         "mode": "markers",
         "name": "Malawi",
         "orientation": "v",
         "showlegend": true,
         "type": "scatter",
         "x": [
          0.0757332673631621
         ],
         "xaxis": "x",
         "y": [
          0.0846361581872504
         ],
         "yaxis": "y"
        },
        {
         "hovertemplate": "Country Name=Malaysia<br>1990=%{x}<br>2020=%{y}<extra></extra>",
         "legendgroup": "Malaysia",
         "marker": {
          "color": "#00cc96",
          "symbol": "circle"
         },
         "mode": "markers",
         "name": "Malaysia",
         "orientation": "v",
         "showlegend": true,
         "type": "scatter",
         "x": [
          3.11781878391195
         ],
         "xaxis": "x",
         "y": [
          7.38371541222915
         ],
         "yaxis": "y"
        },
        {
         "hovertemplate": "Country Name=North America<br>1990=%{x}<br>2020=%{y}<extra></extra>",
         "legendgroup": "North America",
         "marker": {
          "color": "#ab63fa",
          "symbol": "circle"
         },
         "mode": "markers",
         "name": "North America",
         "orientation": "v",
         "showlegend": true,
         "type": "scatter",
         "x": [
          18.9780576847106
         ],
         "xaxis": "x",
         "y": [
          13.0888374603574
         ],
         "yaxis": "y"
        },
        {
         "hovertemplate": "Country Name=Niger<br>1990=%{x}<br>2020=%{y}<extra></extra>",
         "legendgroup": "Niger",
         "marker": {
          "color": "#FFA15A",
          "symbol": "circle"
         },
         "mode": "markers",
         "name": "Niger",
         "orientation": "v",
         "showlegend": true,
         "type": "scatter",
         "x": [
          0.0675496090625242
         ],
         "xaxis": "x",
         "y": [
          0.0903255776910309
         ],
         "yaxis": "y"
        },
        {
         "hovertemplate": "Country Name=Nigeria<br>1990=%{x}<br>2020=%{y}<extra></extra>",
         "legendgroup": "Nigeria",
         "marker": {
          "color": "#19d3f3",
          "symbol": "circle"
         },
         "mode": "markers",
         "name": "Nigeria",
         "orientation": "v",
         "showlegend": true,
         "type": "scatter",
         "x": [
          0.764263696349592
         ],
         "xaxis": "x",
         "y": [
          0.537510175389551
         ],
         "yaxis": "y"
        },
        {
         "hovertemplate": "Country Name=Nicaragua<br>1990=%{x}<br>2020=%{y}<extra></extra>",
         "legendgroup": "Nicaragua",
         "marker": {
          "color": "#FF6692",
          "symbol": "circle"
         },
         "mode": "markers",
         "name": "Nicaragua",
         "orientation": "v",
         "showlegend": true,
         "type": "scatter",
         "x": [
          0.457422501430998
         ],
         "xaxis": "x",
         "y": [
          0.678252104273379
         ],
         "yaxis": "y"
        },
        {
         "hovertemplate": "Country Name=Netherlands<br>1990=%{x}<br>2020=%{y}<extra></extra>",
         "legendgroup": "Netherlands",
         "marker": {
          "color": "#B6E880",
          "symbol": "circle"
         },
         "mode": "markers",
         "name": "Netherlands",
         "orientation": "v",
         "showlegend": true,
         "type": "scatter",
         "x": [
          10.1341402975352
         ],
         "xaxis": "x",
         "y": [
          7.4715534787719
         ],
         "yaxis": "y"
        },
        {
         "hovertemplate": "Country Name=Norway<br>1990=%{x}<br>2020=%{y}<extra></extra>",
         "legendgroup": "Norway",
         "marker": {
          "color": "#FF97FF",
          "symbol": "circle"
         },
         "mode": "markers",
         "name": "Norway",
         "orientation": "v",
         "showlegend": true,
         "type": "scatter",
         "x": [
          6.90925063061818
         ],
         "xaxis": "x",
         "y": [
          6.7250800496331
         ],
         "yaxis": "y"
        },
        {
         "hovertemplate": "Country Name=Nepal<br>1990=%{x}<br>2020=%{y}<extra></extra>",
         "legendgroup": "Nepal",
         "marker": {
          "color": "#FECB52",
          "symbol": "circle"
         },
         "mode": "markers",
         "name": "Nepal",
         "orientation": "v",
         "showlegend": true,
         "type": "scatter",
         "x": [
          0.0478575976485138
         ],
         "xaxis": "x",
         "y": [
          0.509366247354604
         ],
         "yaxis": "y"
        },
        {
         "hovertemplate": "Country Name=Nauru<br>1990=%{x}<br>2020=%{y}<extra></extra>",
         "legendgroup": "Nauru",
         "marker": {
          "color": "#636efa",
          "symbol": "circle"
         },
         "mode": "markers",
         "name": "Nauru",
         "orientation": "v",
         "showlegend": true,
         "type": "scatter",
         "x": [
          13.1589914565534
         ],
         "xaxis": "x",
         "y": [
          3.36175395858709
         ],
         "yaxis": "y"
        },
        {
         "hovertemplate": "Country Name=New Zealand<br>1990=%{x}<br>2020=%{y}<extra></extra>",
         "legendgroup": "New Zealand",
         "marker": {
          "color": "#EF553B",
          "symbol": "circle"
         },
         "mode": "markers",
         "name": "New Zealand",
         "orientation": "v",
         "showlegend": true,
         "type": "scatter",
         "x": [
          6.70031233107094
         ],
         "xaxis": "x",
         "y": [
          6.16079918274331
         ],
         "yaxis": "y"
        },
        {
         "hovertemplate": "Country Name=OECD members<br>1990=%{x}<br>2020=%{y}<extra></extra>",
         "legendgroup": "OECD members",
         "marker": {
          "color": "#00cc96",
          "symbol": "circle"
         },
         "mode": "markers",
         "name": "OECD members",
         "orientation": "v",
         "showlegend": true,
         "type": "scatter",
         "x": [
          10.2680532195203
         ],
         "xaxis": "x",
         "y": [
          7.71464368626857
         ],
         "yaxis": "y"
        },
        {
         "hovertemplate": "Country Name=Oman<br>1990=%{x}<br>2020=%{y}<extra></extra>",
         "legendgroup": "Oman",
         "marker": {
          "color": "#ab63fa",
          "symbol": "circle"
         },
         "mode": "markers",
         "name": "Oman",
         "orientation": "v",
         "showlegend": true,
         "type": "scatter",
         "x": [
          6.60523218311311
         ],
         "xaxis": "x",
         "y": [
          15.6362010028175
         ],
         "yaxis": "y"
        },
        {
         "hovertemplate": "Country Name=Other small states<br>1990=%{x}<br>2020=%{y}<extra></extra>",
         "legendgroup": "Other small states",
         "marker": {
          "color": "#FFA15A",
          "symbol": "circle"
         },
         "mode": "markers",
         "name": "Other small states",
         "orientation": "v",
         "showlegend": true,
         "type": "scatter",
         "x": [
          4.71308575200727
         ],
         "xaxis": "x",
         "y": [
          5.61056186341668
         ],
         "yaxis": "y"
        },
        {
         "hovertemplate": "Country Name=Pakistan<br>1990=%{x}<br>2020=%{y}<extra></extra>",
         "legendgroup": "Pakistan",
         "marker": {
          "color": "#19d3f3",
          "symbol": "circle"
         },
         "mode": "markers",
         "name": "Pakistan",
         "orientation": "v",
         "showlegend": true,
         "type": "scatter",
         "x": [
          0.511428117138821
         ],
         "xaxis": "x",
         "y": [
          0.81036021551031
         ],
         "yaxis": "y"
        },
        {
         "hovertemplate": "Country Name=Panama<br>1990=%{x}<br>2020=%{y}<extra></extra>",
         "legendgroup": "Panama",
         "marker": {
          "color": "#FF6692",
          "symbol": "circle"
         },
         "mode": "markers",
         "name": "Panama",
         "orientation": "v",
         "showlegend": true,
         "type": "scatter",
         "x": [
          1.09915721348197
         ],
         "xaxis": "x",
         "y": [
          2.23144302481653
         ],
         "yaxis": "y"
        },
        {
         "hovertemplate": "Country Name=Peru<br>1990=%{x}<br>2020=%{y}<extra></extra>",
         "legendgroup": "Peru",
         "marker": {
          "color": "#B6E880",
          "symbol": "circle"
         },
         "mode": "markers",
         "name": "Peru",
         "orientation": "v",
         "showlegend": true,
         "type": "scatter",
         "x": [
          0.944194966968125
         ],
         "xaxis": "x",
         "y": [
          1.39856601861908
         ],
         "yaxis": "y"
        },
        {
         "hovertemplate": "Country Name=Philippines<br>1990=%{x}<br>2020=%{y}<extra></extra>",
         "legendgroup": "Philippines",
         "marker": {
          "color": "#FF97FF",
          "symbol": "circle"
         },
         "mode": "markers",
         "name": "Philippines",
         "orientation": "v",
         "showlegend": true,
         "type": "scatter",
         "x": [
          0.663899149071837
         ],
         "xaxis": "x",
         "y": [
          1.18967945167284
         ],
         "yaxis": "y"
        },
        {
         "hovertemplate": "Country Name=Palau<br>1990=%{x}<br>2020=%{y}<extra></extra>",
         "legendgroup": "Palau",
         "marker": {
          "color": "#FECB52",
          "symbol": "circle"
         },
         "mode": "markers",
         "name": "Palau",
         "orientation": "v",
         "showlegend": true,
         "type": "scatter",
         "x": [
          0
         ],
         "xaxis": "x",
         "y": [
          8.80258179390162
         ],
         "yaxis": "y"
        },
        {
         "hovertemplate": "Country Name=Papua New Guinea<br>1990=%{x}<br>2020=%{y}<extra></extra>",
         "legendgroup": "Papua New Guinea",
         "marker": {
          "color": "#636efa",
          "symbol": "circle"
         },
         "mode": "markers",
         "name": "Papua New Guinea",
         "orientation": "v",
         "showlegend": true,
         "type": "scatter",
         "x": [
          0.561090740114029
         ],
         "xaxis": "x",
         "y": [
          0.563251566211675
         ],
         "yaxis": "y"
        },
        {
         "hovertemplate": "Country Name=Poland<br>1990=%{x}<br>2020=%{y}<extra></extra>",
         "legendgroup": "Poland",
         "marker": {
          "color": "#EF553B",
          "symbol": "circle"
         },
         "mode": "markers",
         "name": "Poland",
         "orientation": "v",
         "showlegend": true,
         "type": "scatter",
         "x": [
          9.18938372873063
         ],
         "xaxis": "x",
         "y": [
          7.36756337292709
         ],
         "yaxis": "y"
        },
        {
         "hovertemplate": "Country Name=Pre-demographic dividend<br>1990=%{x}<br>2020=%{y}<extra></extra>",
         "legendgroup": "Pre-demographic dividend",
         "marker": {
          "color": "#00cc96",
          "symbol": "circle"
         },
         "mode": "markers",
         "name": "Pre-demographic dividend",
         "orientation": "v",
         "showlegend": true,
         "type": "scatter",
         "x": [
          0.449708022911335
         ],
         "xaxis": "x",
         "y": [
          0.477024614654774
         ],
         "yaxis": "y"
        },
        {
         "hovertemplate": "Country Name=Korea, Dem. People's Rep.<br>1990=%{x}<br>2020=%{y}<extra></extra>",
         "legendgroup": "Korea, Dem. People's Rep.",
         "marker": {
          "color": "#ab63fa",
          "symbol": "circle"
         },
         "mode": "markers",
         "name": "Korea, Dem. People's Rep.",
         "orientation": "v",
         "showlegend": true,
         "type": "scatter",
         "x": [
          5.73606904350643
         ],
         "xaxis": "x",
         "y": [
          2.02714861876503
         ],
         "yaxis": "y"
        },
        {
         "hovertemplate": "Country Name=Portugal<br>1990=%{x}<br>2020=%{y}<extra></extra>",
         "legendgroup": "Portugal",
         "marker": {
          "color": "#FFA15A",
          "symbol": "circle"
         },
         "mode": "markers",
         "name": "Portugal",
         "orientation": "v",
         "showlegend": true,
         "type": "scatter",
         "x": [
          4.113763718272
         ],
         "xaxis": "x",
         "y": [
          3.78490758691711
         ],
         "yaxis": "y"
        },
        {
         "hovertemplate": "Country Name=Paraguay<br>1990=%{x}<br>2020=%{y}<extra></extra>",
         "legendgroup": "Paraguay",
         "marker": {
          "color": "#19d3f3",
          "symbol": "circle"
         },
         "mode": "markers",
         "name": "Paraguay",
         "orientation": "v",
         "showlegend": true,
         "type": "scatter",
         "x": [
          0.510495307567141
         ],
         "xaxis": "x",
         "y": [
          1.14459119207034
         ],
         "yaxis": "y"
        },
        {
         "hovertemplate": "Country Name=Pacific island small states<br>1990=%{x}<br>2020=%{y}<extra></extra>",
         "legendgroup": "Pacific island small states",
         "marker": {
          "color": "#FF6692",
          "symbol": "circle"
         },
         "mode": "markers",
         "name": "Pacific island small states",
         "orientation": "v",
         "showlegend": true,
         "type": "scatter",
         "x": [
          0.710814905393012
         ],
         "xaxis": "x",
         "y": [
          0.848521068295038
         ],
         "yaxis": "y"
        },
        {
         "hovertemplate": "Country Name=Post-demographic dividend<br>1990=%{x}<br>2020=%{y}<extra></extra>",
         "legendgroup": "Post-demographic dividend",
         "marker": {
          "color": "#B6E880",
          "symbol": "circle"
         },
         "mode": "markers",
         "name": "Post-demographic dividend",
         "orientation": "v",
         "showlegend": true,
         "type": "scatter",
         "x": [
          11.7234111501087
         ],
         "xaxis": "x",
         "y": [
          8.55165935550203
         ],
         "yaxis": "y"
        },
        {
         "hovertemplate": "Country Name=Qatar<br>1990=%{x}<br>2020=%{y}<extra></extra>",
         "legendgroup": "Qatar",
         "marker": {
          "color": "#FF97FF",
          "symbol": "circle"
         },
         "mode": "markers",
         "name": "Qatar",
         "orientation": "v",
         "showlegend": true,
         "type": "scatter",
         "x": [
          28.3996151016019
         ],
         "xaxis": "x",
         "y": [
          31.7268424513247
         ],
         "yaxis": "y"
        },
        {
         "hovertemplate": "Country Name=Romania<br>1990=%{x}<br>2020=%{y}<extra></extra>",
         "legendgroup": "Romania",
         "marker": {
          "color": "#FECB52",
          "symbol": "circle"
         },
         "mode": "markers",
         "name": "Romania",
         "orientation": "v",
         "showlegend": true,
         "type": "scatter",
         "x": [
          7.44051494202937
         ],
         "xaxis": "x",
         "y": [
          3.56413750145988
         ],
         "yaxis": "y"
        },
        {
         "hovertemplate": "Country Name=Russian Federation<br>1990=%{x}<br>2020=%{y}<extra></extra>",
         "legendgroup": "Russian Federation",
         "marker": {
          "color": "#636efa",
          "symbol": "circle"
         },
         "mode": "markers",
         "name": "Russian Federation",
         "orientation": "v",
         "showlegend": true,
         "type": "scatter",
         "x": [
          14.6214892920399
         ],
         "xaxis": "x",
         "y": [
          11.2322880672434
         ],
         "yaxis": "y"
        },
        {
         "hovertemplate": "Country Name=Rwanda<br>1990=%{x}<br>2020=%{y}<extra></extra>",
         "legendgroup": "Rwanda",
         "marker": {
          "color": "#EF553B",
          "symbol": "circle"
         },
         "mode": "markers",
         "name": "Rwanda",
         "orientation": "v",
         "showlegend": true,
         "type": "scatter",
         "x": [
          0.0732736044258153
         ],
         "xaxis": "x",
         "y": [
          0.105124140047262
         ],
         "yaxis": "y"
        },
        {
         "hovertemplate": "Country Name=South Asia<br>1990=%{x}<br>2020=%{y}<extra></extra>",
         "legendgroup": "South Asia",
         "marker": {
          "color": "#00cc96",
          "symbol": "circle"
         },
         "mode": "markers",
         "name": "South Asia",
         "orientation": "v",
         "showlegend": true,
         "type": "scatter",
         "x": [
          0.561889907781137
         ],
         "xaxis": "x",
         "y": [
          1.33779148421422
         ],
         "yaxis": "y"
        },
        {
         "hovertemplate": "Country Name=Saudi Arabia<br>1990=%{x}<br>2020=%{y}<extra></extra>",
         "legendgroup": "Saudi Arabia",
         "marker": {
          "color": "#ab63fa",
          "symbol": "circle"
         },
         "mode": "markers",
         "name": "Saudi Arabia",
         "orientation": "v",
         "showlegend": true,
         "type": "scatter",
         "x": [
          10.7095181603127
         ],
         "xaxis": "x",
         "y": [
          14.2665853675408
         ],
         "yaxis": "y"
        },
        {
         "hovertemplate": "Country Name=Sudan<br>1990=%{x}<br>2020=%{y}<extra></extra>",
         "legendgroup": "Sudan",
         "marker": {
          "color": "#FFA15A",
          "symbol": "circle"
         },
         "mode": "markers",
         "name": "Sudan",
         "orientation": "v",
         "showlegend": true,
         "type": "scatter",
         "x": [
          0.254407994050131
         ],
         "xaxis": "x",
         "y": [
          0.467953928316626
         ],
         "yaxis": "y"
        },
        {
         "hovertemplate": "Country Name=Senegal<br>1990=%{x}<br>2020=%{y}<extra></extra>",
         "legendgroup": "Senegal",
         "marker": {
          "color": "#19d3f3",
          "symbol": "circle"
         },
         "mode": "markers",
         "name": "Senegal",
         "orientation": "v",
         "showlegend": true,
         "type": "scatter",
         "x": [
          0.308691572625853
         ],
         "xaxis": "x",
         "y": [
          0.649800561203009
         ],
         "yaxis": "y"
        },
        {
         "hovertemplate": "Country Name=Singapore<br>1990=%{x}<br>2020=%{y}<extra></extra>",
         "legendgroup": "Singapore",
         "marker": {
          "color": "#FF6692",
          "symbol": "circle"
         },
         "mode": "markers",
         "name": "Singapore",
         "orientation": "v",
         "showlegend": true,
         "type": "scatter",
         "x": [
          9.50730063548281
         ],
         "xaxis": "x",
         "y": [
          7.68668370206727
         ],
         "yaxis": "y"
        },
        {
         "hovertemplate": "Country Name=Solomon Islands<br>1990=%{x}<br>2020=%{y}<extra></extra>",
         "legendgroup": "Solomon Islands",
         "marker": {
          "color": "#B6E880",
          "symbol": "circle"
         },
         "mode": "markers",
         "name": "Solomon Islands",
         "orientation": "v",
         "showlegend": true,
         "type": "scatter",
         "x": [
          0.471664646128124
         ],
         "xaxis": "x",
         "y": [
          0.323065549175264
         ],
         "yaxis": "y"
        },
        {
         "hovertemplate": "Country Name=Sierra Leone<br>1990=%{x}<br>2020=%{y}<extra></extra>",
         "legendgroup": "Sierra Leone",
         "marker": {
          "color": "#FF97FF",
          "symbol": "circle"
         },
         "mode": "markers",
         "name": "Sierra Leone",
         "orientation": "v",
         "showlegend": true,
         "type": "scatter",
         "x": [
          0.0735194160616342
         ],
         "xaxis": "x",
         "y": [
          0.127277607278142
         ],
         "yaxis": "y"
        },
        {
         "hovertemplate": "Country Name=El Salvador<br>1990=%{x}<br>2020=%{y}<extra></extra>",
         "legendgroup": "El Salvador",
         "marker": {
          "color": "#FECB52",
          "symbol": "circle"
         },
         "mode": "markers",
         "name": "El Salvador",
         "orientation": "v",
         "showlegend": true,
         "type": "scatter",
         "x": [
          0.44405077602219
         ],
         "xaxis": "x",
         "y": [
          1.01328024350636
         ],
         "yaxis": "y"
        },
        {
         "hovertemplate": "Country Name=Somalia<br>1990=%{x}<br>2020=%{y}<extra></extra>",
         "legendgroup": "Somalia",
         "marker": {
          "color": "#636efa",
          "symbol": "circle"
         },
         "mode": "markers",
         "name": "Somalia",
         "orientation": "v",
         "showlegend": true,
         "type": "scatter",
         "x": [
          0.10503070682271
         ],
         "xaxis": "x",
         "y": [
          0.0399346532651356
         ],
         "yaxis": "y"
        },
        {
         "hovertemplate": "Country Name=Serbia<br>1990=%{x}<br>2020=%{y}<extra></extra>",
         "legendgroup": "Serbia",
         "marker": {
          "color": "#EF553B",
          "symbol": "circle"
         },
         "mode": "markers",
         "name": "Serbia",
         "orientation": "v",
         "showlegend": true,
         "type": "scatter",
         "x": [
          8.16062483522278
         ],
         "xaxis": "x",
         "y": [
          6.71451717217514
         ],
         "yaxis": "y"
        },
        {
         "hovertemplate": "Country Name=Sub-Saharan Africa (excluding high income)<br>1990=%{x}<br>2020=%{y}<extra></extra>",
         "legendgroup": "Sub-Saharan Africa (excluding high income)",
         "marker": {
          "color": "#00cc96",
          "symbol": "circle"
         },
         "mode": "markers",
         "name": "Sub-Saharan Africa (excluding high income)",
         "orientation": "v",
         "showlegend": true,
         "type": "scatter",
         "x": [
          0.777550961058301
         ],
         "xaxis": "x",
         "y": [
          0.660412632875853
         ],
         "yaxis": "y"
        },
        {
         "hovertemplate": "Country Name=South Sudan<br>1990=%{x}<br>2020=%{y}<extra></extra>",
         "legendgroup": "South Sudan",
         "marker": {
          "color": "#ab63fa",
          "symbol": "circle"
         },
         "mode": "markers",
         "name": "South Sudan",
         "orientation": "v",
         "showlegend": true,
         "type": "scatter",
         "x": [
          0.0913285401226778
         ],
         "xaxis": "x",
         "y": [
          0.16430913651009
         ],
         "yaxis": "y"
        },
        {
         "hovertemplate": "Country Name=Sub-Saharan Africa<br>1990=%{x}<br>2020=%{y}<extra></extra>",
         "legendgroup": "Sub-Saharan Africa",
         "marker": {
          "color": "#FFA15A",
          "symbol": "circle"
         },
         "mode": "markers",
         "name": "Sub-Saharan Africa",
         "orientation": "v",
         "showlegend": true,
         "type": "scatter",
         "x": [
          0.777742887243832
         ],
         "xaxis": "x",
         "y": [
          0.660876172775718
         ],
         "yaxis": "y"
        },
        {
         "hovertemplate": "Country Name=Small states<br>1990=%{x}<br>2020=%{y}<extra></extra>",
         "legendgroup": "Small states",
         "marker": {
          "color": "#19d3f3",
          "symbol": "circle"
         },
         "mode": "markers",
         "name": "Small states",
         "orientation": "v",
         "showlegend": true,
         "type": "scatter",
         "x": [
          4.40244831277835
         ],
         "xaxis": "x",
         "y": [
          5.11011101795905
         ],
         "yaxis": "y"
        },
        {
         "hovertemplate": "Country Name=Sao Tome and Principe<br>1990=%{x}<br>2020=%{y}<extra></extra>",
         "legendgroup": "Sao Tome and Principe",
         "marker": {
          "color": "#FF6692",
          "symbol": "circle"
         },
         "mode": "markers",
         "name": "Sao Tome and Principe",
         "orientation": "v",
         "showlegend": true,
         "type": "scatter",
         "x": [
          0.386395552711832
         ],
         "xaxis": "x",
         "y": [
          0.645350140184137
         ],
         "yaxis": "y"
        },
        {
         "hovertemplate": "Country Name=Suriname<br>1990=%{x}<br>2020=%{y}<extra></extra>",
         "legendgroup": "Suriname",
         "marker": {
          "color": "#B6E880",
          "symbol": "circle"
         },
         "mode": "markers",
         "name": "Suriname",
         "orientation": "v",
         "showlegend": true,
         "type": "scatter",
         "x": [
          4.2639915519096
         ],
         "xaxis": "x",
         "y": [
          4.28507655687612
         ],
         "yaxis": "y"
        },
        {
         "hovertemplate": "Country Name=Slovak Republic<br>1990=%{x}<br>2020=%{y}<extra></extra>",
         "legendgroup": "Slovak Republic",
         "marker": {
          "color": "#FF97FF",
          "symbol": "circle"
         },
         "mode": "markers",
         "name": "Slovak Republic",
         "orientation": "v",
         "showlegend": true,
         "type": "scatter",
         "x": [
          10.3434357006084
         ],
         "xaxis": "x",
         "y": [
          5.31905480792852
         ],
         "yaxis": "y"
        },
        {
         "hovertemplate": "Country Name=Slovenia<br>1990=%{x}<br>2020=%{y}<extra></extra>",
         "legendgroup": "Slovenia",
         "marker": {
          "color": "#FECB52",
          "symbol": "circle"
         },
         "mode": "markers",
         "name": "Slovenia",
         "orientation": "v",
         "showlegend": true,
         "type": "scatter",
         "x": [
          6.77062559023022
         ],
         "xaxis": "x",
         "y": [
          5.93473517885826
         ],
         "yaxis": "y"
        },
        {
         "hovertemplate": "Country Name=Sweden<br>1990=%{x}<br>2020=%{y}<extra></extra>",
         "legendgroup": "Sweden",
         "marker": {
          "color": "#636efa",
          "symbol": "circle"
         },
         "mode": "markers",
         "name": "Sweden",
         "orientation": "v",
         "showlegend": true,
         "type": "scatter",
         "x": [
          6.23288099373338
         ],
         "xaxis": "x",
         "y": [
          3.24298914312747
         ],
         "yaxis": "y"
        },
        {
         "hovertemplate": "Country Name=Eswatini<br>1990=%{x}<br>2020=%{y}<extra></extra>",
         "legendgroup": "Eswatini",
         "marker": {
          "color": "#EF553B",
          "symbol": "circle"
         },
         "mode": "markers",
         "name": "Eswatini",
         "orientation": "v",
         "showlegend": true,
         "type": "scatter",
         "x": [
          1.2894447495407
         ],
         "xaxis": "x",
         "y": [
          0.972087527685903
         ],
         "yaxis": "y"
        },
        {
         "hovertemplate": "Country Name=Seychelles<br>1990=%{x}<br>2020=%{y}<extra></extra>",
         "legendgroup": "Seychelles",
         "marker": {
          "color": "#00cc96",
          "symbol": "circle"
         },
         "mode": "markers",
         "name": "Seychelles",
         "orientation": "v",
         "showlegend": true,
         "type": "scatter",
         "x": [
          2.20409455162789
         ],
         "xaxis": "x",
         "y": [
          6.08051837257013
         ],
         "yaxis": "y"
        },
        {
         "hovertemplate": "Country Name=Syrian Arab Republic<br>1990=%{x}<br>2020=%{y}<extra></extra>",
         "legendgroup": "Syrian Arab Republic",
         "marker": {
          "color": "#ab63fa",
          "symbol": "circle"
         },
         "mode": "markers",
         "name": "Syrian Arab Republic",
         "orientation": "v",
         "showlegend": true,
         "type": "scatter",
         "x": [
          2.61004999921025
         ],
         "xaxis": "x",
         "y": [
          1.21480248375323
         ],
         "yaxis": "y"
        },
        {
         "hovertemplate": "Country Name=Chad<br>1990=%{x}<br>2020=%{y}<extra></extra>",
         "legendgroup": "Chad",
         "marker": {
          "color": "#FFA15A",
          "symbol": "circle"
         },
         "mode": "markers",
         "name": "Chad",
         "orientation": "v",
         "showlegend": true,
         "type": "scatter",
         "x": [
          0.0667402428219058
         ],
         "xaxis": "x",
         "y": [
          0.0942281870969025
         ],
         "yaxis": "y"
        },
        {
         "hovertemplate": "Country Name=East Asia & Pacific (IDA & IBRD countries)<br>1990=%{x}<br>2020=%{y}<extra></extra>",
         "legendgroup": "East Asia & Pacific (IDA & IBRD countries)",
         "marker": {
          "color": "#19d3f3",
          "symbol": "circle"
         },
         "mode": "markers",
         "name": "East Asia & Pacific (IDA & IBRD countries)",
         "orientation": "v",
         "showlegend": true,
         "type": "scatter",
         "x": [
          1.61142999426617
         ],
         "xaxis": "x",
         "y": [
          6.03116979498631
         ],
         "yaxis": "y"
        },
        {
         "hovertemplate": "Country Name=Europe & Central Asia (IDA & IBRD countries)<br>1990=%{x}<br>2020=%{y}<extra></extra>",
         "legendgroup": "Europe & Central Asia (IDA & IBRD countries)",
         "marker": {
          "color": "#FF6692",
          "symbol": "circle"
         },
         "mode": "markers",
         "name": "Europe & Central Asia (IDA & IBRD countries)",
         "orientation": "v",
         "showlegend": true,
         "type": "scatter",
         "x": [
          10.2376892913699
         ],
         "xaxis": "x",
         "y": [
          6.91356094749506
         ],
         "yaxis": "y"
        },
        {
         "hovertemplate": "Country Name=Togo<br>1990=%{x}<br>2020=%{y}<extra></extra>",
         "legendgroup": "Togo",
         "marker": {
          "color": "#B6E880",
          "symbol": "circle"
         },
         "mode": "markers",
         "name": "Togo",
         "orientation": "v",
         "showlegend": true,
         "type": "scatter",
         "x": [
          0.252222231108939
         ],
         "xaxis": "x",
         "y": [
          0.286061843654428
         ],
         "yaxis": "y"
        },
        {
         "hovertemplate": "Country Name=Thailand<br>1990=%{x}<br>2020=%{y}<extra></extra>",
         "legendgroup": "Thailand",
         "marker": {
          "color": "#FF97FF",
          "symbol": "circle"
         },
         "mode": "markers",
         "name": "Thailand",
         "orientation": "v",
         "showlegend": true,
         "type": "scatter",
         "x": [
          1.59348784439023
         ],
         "xaxis": "x",
         "y": [
          3.71425580600412
         ],
         "yaxis": "y"
        },
        {
         "hovertemplate": "Country Name=Tajikistan<br>1990=%{x}<br>2020=%{y}<extra></extra>",
         "legendgroup": "Tajikistan",
         "marker": {
          "color": "#FECB52",
          "symbol": "circle"
         },
         "mode": "markers",
         "name": "Tajikistan",
         "orientation": "v",
         "showlegend": true,
         "type": "scatter",
         "x": [
          2.03368119515824
         ],
         "xaxis": "x",
         "y": [
          0.977533024275801
         ],
         "yaxis": "y"
        },
        {
         "hovertemplate": "Country Name=Turkmenistan<br>1990=%{x}<br>2020=%{y}<extra></extra>",
         "legendgroup": "Turkmenistan",
         "marker": {
          "color": "#636efa",
          "symbol": "circle"
         },
         "mode": "markers",
         "name": "Turkmenistan",
         "orientation": "v",
         "showlegend": true,
         "type": "scatter",
         "x": [
          12.0007967146541
         ],
         "xaxis": "x",
         "y": [
          10.1840862992321
         ],
         "yaxis": "y"
        },
        {
         "hovertemplate": "Country Name=Latin America & the Caribbean (IDA & IBRD countries)<br>1990=%{x}<br>2020=%{y}<extra></extra>",
         "legendgroup": "Latin America & the Caribbean (IDA & IBRD countries)",
         "marker": {
          "color": "#EF553B",
          "symbol": "circle"
         },
         "mode": "markers",
         "name": "Latin America & the Caribbean (IDA & IBRD countries)",
         "orientation": "v",
         "showlegend": true,
         "type": "scatter",
         "x": [
          1.99720035129393
         ],
         "xaxis": "x",
         "y": [
          2.22190600706842
         ],
         "yaxis": "y"
        },
        {
         "hovertemplate": "Country Name=Timor-Leste<br>1990=%{x}<br>2020=%{y}<extra></extra>",
         "legendgroup": "Timor-Leste",
         "marker": {
          "color": "#00cc96",
          "symbol": "circle"
         },
         "mode": "markers",
         "name": "Timor-Leste",
         "orientation": "v",
         "showlegend": true,
         "type": "scatter",
         "x": [
          0
         ],
         "xaxis": "x",
         "y": [
          0.343155165981408
         ],
         "yaxis": "y"
        },
        {
         "hovertemplate": "Country Name=Middle East & North Africa (IDA & IBRD countries)<br>1990=%{x}<br>2020=%{y}<extra></extra>",
         "legendgroup": "Middle East & North Africa (IDA & IBRD countries)",
         "marker": {
          "color": "#ab63fa",
          "symbol": "circle"
         },
         "mode": "markers",
         "name": "Middle East & North Africa (IDA & IBRD countries)",
         "orientation": "v",
         "showlegend": true,
         "type": "scatter",
         "x": [
          2.34935706764006
         ],
         "xaxis": "x",
         "y": [
          3.36834375922243
         ],
         "yaxis": "y"
        },
        {
         "hovertemplate": "Country Name=Tonga<br>1990=%{x}<br>2020=%{y}<extra></extra>",
         "legendgroup": "Tonga",
         "marker": {
          "color": "#FFA15A",
          "symbol": "circle"
         },
         "mode": "markers",
         "name": "Tonga",
         "orientation": "v",
         "showlegend": true,
         "type": "scatter",
         "x": [
          0.8518439737863
         ],
         "xaxis": "x",
         "y": [
          1.12204761814278
         ],
         "yaxis": "y"
        },
        {
         "hovertemplate": "Country Name=South Asia (IDA & IBRD)<br>1990=%{x}<br>2020=%{y}<extra></extra>",
         "legendgroup": "South Asia (IDA & IBRD)",
         "marker": {
          "color": "#19d3f3",
          "symbol": "circle"
         },
         "mode": "markers",
         "name": "South Asia (IDA & IBRD)",
         "orientation": "v",
         "showlegend": true,
         "type": "scatter",
         "x": [
          0.561889907781137
         ],
         "xaxis": "x",
         "y": [
          1.33779148421422
         ],
         "yaxis": "y"
        },
        {
         "hovertemplate": "Country Name=Sub-Saharan Africa (IDA & IBRD countries)<br>1990=%{x}<br>2020=%{y}<extra></extra>",
         "legendgroup": "Sub-Saharan Africa (IDA & IBRD countries)",
         "marker": {
          "color": "#FF6692",
          "symbol": "circle"
         },
         "mode": "markers",
         "name": "Sub-Saharan Africa (IDA & IBRD countries)",
         "orientation": "v",
         "showlegend": true,
         "type": "scatter",
         "x": [
          0.777742887243832
         ],
         "xaxis": "x",
         "y": [
          0.660876172775718
         ],
         "yaxis": "y"
        },
        {
         "hovertemplate": "Country Name=Trinidad and Tobago<br>1990=%{x}<br>2020=%{y}<extra></extra>",
         "legendgroup": "Trinidad and Tobago",
         "marker": {
          "color": "#B6E880",
          "symbol": "circle"
         },
         "mode": "markers",
         "name": "Trinidad and Tobago",
         "orientation": "v",
         "showlegend": true,
         "type": "scatter",
         "x": [
          10.3846925191746
         ],
         "xaxis": "x",
         "y": [
          10.1571191722541
         ],
         "yaxis": "y"
        },
        {
         "hovertemplate": "Country Name=Tunisia<br>1990=%{x}<br>2020=%{y}<extra></extra>",
         "legendgroup": "Tunisia",
         "marker": {
          "color": "#FF97FF",
          "symbol": "circle"
         },
         "mode": "markers",
         "name": "Tunisia",
         "orientation": "v",
         "showlegend": true,
         "type": "scatter",
         "x": [
          1.73837203998141
         ],
         "xaxis": "x",
         "y": [
          2.4086225282388
         ],
         "yaxis": "y"
        },
        {
         "hovertemplate": "Country Name=Turkiye<br>1990=%{x}<br>2020=%{y}<extra></extra>",
         "legendgroup": "Turkiye",
         "marker": {
          "color": "#FECB52",
          "symbol": "circle"
         },
         "mode": "markers",
         "name": "Turkiye",
         "orientation": "v",
         "showlegend": true,
         "type": "scatter",
         "x": [
          2.56235800281945
         ],
         "xaxis": "x",
         "y": [
          4.84226692232433
         ],
         "yaxis": "y"
        },
        {
         "hovertemplate": "Country Name=Tuvalu<br>1990=%{x}<br>2020=%{y}<extra></extra>",
         "legendgroup": "Tuvalu",
         "marker": {
          "color": "#636efa",
          "symbol": "circle"
         },
         "mode": "markers",
         "name": "Tuvalu",
         "orientation": "v",
         "showlegend": true,
         "type": "scatter",
         "x": [
          0.697015900675234
         ],
         "xaxis": "x",
         "y": [
          0.596259824735748
         ],
         "yaxis": "y"
        },
        {
         "hovertemplate": "Country Name=Tanzania<br>1990=%{x}<br>2020=%{y}<extra></extra>",
         "legendgroup": "Tanzania",
         "marker": {
          "color": "#EF553B",
          "symbol": "circle"
         },
         "mode": "markers",
         "name": "Tanzania",
         "orientation": "v",
         "showlegend": true,
         "type": "scatter",
         "x": [
          0.0722048055232517
         ],
         "xaxis": "x",
         "y": [
          0.233945592120175
         ],
         "yaxis": "y"
        },
        {
         "hovertemplate": "Country Name=Uganda<br>1990=%{x}<br>2020=%{y}<extra></extra>",
         "legendgroup": "Uganda",
         "marker": {
          "color": "#00cc96",
          "symbol": "circle"
         },
         "mode": "markers",
         "name": "Uganda",
         "orientation": "v",
         "showlegend": true,
         "type": "scatter",
         "x": [
          0.0446779741201128
         ],
         "xaxis": "x",
         "y": [
          0.127793034826946
         ],
         "yaxis": "y"
        },
        {
         "hovertemplate": "Country Name=Ukraine<br>1990=%{x}<br>2020=%{y}<extra></extra>",
         "legendgroup": "Ukraine",
         "marker": {
          "color": "#ab63fa",
          "symbol": "circle"
         },
         "mode": "markers",
         "name": "Ukraine",
         "orientation": "v",
         "showlegend": true,
         "type": "scatter",
         "x": [
          13.2703858442825
         ],
         "xaxis": "x",
         "y": [
          3.75381618922792
         ],
         "yaxis": "y"
        },
        {
         "hovertemplate": "Country Name=Upper middle income<br>1990=%{x}<br>2020=%{y}<extra></extra>",
         "legendgroup": "Upper middle income",
         "marker": {
          "color": "#FFA15A",
          "symbol": "circle"
         },
         "mode": "markers",
         "name": "Upper middle income",
         "orientation": "v",
         "showlegend": true,
         "type": "scatter",
         "x": [
          3.09048653877826
         ],
         "xaxis": "x",
         "y": [
          5.92235226433117
         ],
         "yaxis": "y"
        },
        {
         "hovertemplate": "Country Name=Uruguay<br>1990=%{x}<br>2020=%{y}<extra></extra>",
         "legendgroup": "Uruguay",
         "marker": {
          "color": "#19d3f3",
          "symbol": "circle"
         },
         "mode": "markers",
         "name": "Uruguay",
         "orientation": "v",
         "showlegend": true,
         "type": "scatter",
         "x": [
          1.234740193493
         ],
         "xaxis": "x",
         "y": [
          1.89971905049917
         ],
         "yaxis": "y"
        },
        {
         "hovertemplate": "Country Name=United States<br>1990=%{x}<br>2020=%{y}<extra></extra>",
         "legendgroup": "United States",
         "marker": {
          "color": "#FF6692",
          "symbol": "circle"
         },
         "mode": "markers",
         "name": "United States",
         "orientation": "v",
         "showlegend": true,
         "type": "scatter",
         "x": [
          19.4073358624806
         ],
         "xaxis": "x",
         "y": [
          13.0328279519898
         ],
         "yaxis": "y"
        },
        {
         "hovertemplate": "Country Name=Uzbekistan<br>1990=%{x}<br>2020=%{y}<extra></extra>",
         "legendgroup": "Uzbekistan",
         "marker": {
          "color": "#B6E880",
          "symbol": "circle"
         },
         "mode": "markers",
         "name": "Uzbekistan",
         "orientation": "v",
         "showlegend": true,
         "type": "scatter",
         "x": [
          5.74196489517309
         ],
         "xaxis": "x",
         "y": [
          3.37630378548758
         ],
         "yaxis": "y"
        },
        {
         "hovertemplate": "Country Name=St. Vincent and the Grenadines<br>1990=%{x}<br>2020=%{y}<extra></extra>",
         "legendgroup": "St. Vincent and the Grenadines",
         "marker": {
          "color": "#FF97FF",
          "symbol": "circle"
         },
         "mode": "markers",
         "name": "St. Vincent and the Grenadines",
         "orientation": "v",
         "showlegend": true,
         "type": "scatter",
         "x": [
          0.734307075484278
         ],
         "xaxis": "x",
         "y": [
          2.100695771848
         ],
         "yaxis": "y"
        },
        {
         "hovertemplate": "Country Name=Venezuela, RB<br>1990=%{x}<br>2020=%{y}<extra></extra>",
         "legendgroup": "Venezuela, RB",
         "marker": {
          "color": "#FECB52",
          "symbol": "circle"
         },
         "mode": "markers",
         "name": "Venezuela, RB",
         "orientation": "v",
         "showlegend": true,
         "type": "scatter",
         "x": [
          5.14567193194691
         ],
         "xaxis": "x",
         "y": [
          2.54502797831961
         ],
         "yaxis": "y"
        },
        {
         "hovertemplate": "Country Name=Viet Nam<br>1990=%{x}<br>2020=%{y}<extra></extra>",
         "legendgroup": "Viet Nam",
         "marker": {
          "color": "#636efa",
          "symbol": "circle"
         },
         "mode": "markers",
         "name": "Viet Nam",
         "orientation": "v",
         "showlegend": true,
         "type": "scatter",
         "x": [
          0.288852865453035
         ],
         "xaxis": "x",
         "y": [
          3.67644008813984
         ],
         "yaxis": "y"
        },
        {
         "hovertemplate": "Country Name=Vanuatu<br>1990=%{x}<br>2020=%{y}<extra></extra>",
         "legendgroup": "Vanuatu",
         "marker": {
          "color": "#EF553B",
          "symbol": "circle"
         },
         "mode": "markers",
         "name": "Vanuatu",
         "orientation": "v",
         "showlegend": true,
         "type": "scatter",
         "x": [
          0.443392850041754
         ],
         "xaxis": "x",
         "y": [
          0.389174968317372
         ],
         "yaxis": "y"
        },
        {
         "hovertemplate": "Country Name=World<br>1990=%{x}<br>2020=%{y}<extra></extra>",
         "legendgroup": "World",
         "marker": {
          "color": "#00cc96",
          "symbol": "circle"
         },
         "mode": "markers",
         "name": "World",
         "orientation": "v",
         "showlegend": true,
         "type": "scatter",
         "x": [
          4.02086768742079
         ],
         "xaxis": "x",
         "y": [
          4.29185309581619
         ],
         "yaxis": "y"
        },
        {
         "hovertemplate": "Country Name=Samoa<br>1990=%{x}<br>2020=%{y}<extra></extra>",
         "legendgroup": "Samoa",
         "marker": {
          "color": "#ab63fa",
          "symbol": "circle"
         },
         "mode": "markers",
         "name": "Samoa",
         "orientation": "v",
         "showlegend": true,
         "type": "scatter",
         "x": [
          0.529176031298681
         ],
         "xaxis": "x",
         "y": [
          0.960782397908146
         ],
         "yaxis": "y"
        },
        {
         "hovertemplate": "Country Name=Yemen, Rep.<br>1990=%{x}<br>2020=%{y}<extra></extra>",
         "legendgroup": "Yemen, Rep.",
         "marker": {
          "color": "#FFA15A",
          "symbol": "circle"
         },
         "mode": "markers",
         "name": "Yemen, Rep.",
         "orientation": "v",
         "showlegend": true,
         "type": "scatter",
         "x": [
          0.496616067996693
         ],
         "xaxis": "x",
         "y": [
          0.308514614308256
         ],
         "yaxis": "y"
        },
        {
         "hovertemplate": "Country Name=South Africa<br>1990=%{x}<br>2020=%{y}<extra></extra>",
         "legendgroup": "South Africa",
         "marker": {
          "color": "#19d3f3",
          "symbol": "circle"
         },
         "mode": "markers",
         "name": "South Africa",
         "orientation": "v",
         "showlegend": true,
         "type": "scatter",
         "x": [
          6.20937283791364
         ],
         "xaxis": "x",
         "y": [
          6.68756314737781
         ],
         "yaxis": "y"
        },
        {
         "hovertemplate": "Country Name=Zambia<br>1990=%{x}<br>2020=%{y}<extra></extra>",
         "legendgroup": "Zambia",
         "marker": {
          "color": "#FF6692",
          "symbol": "circle"
         },
         "mode": "markers",
         "name": "Zambia",
         "orientation": "v",
         "showlegend": true,
         "type": "scatter",
         "x": [
          0.356577805399432
         ],
         "xaxis": "x",
         "y": [
          0.40190271250386
         ],
         "yaxis": "y"
        },
        {
         "hovertemplate": "Country Name=Zimbabwe<br>1990=%{x}<br>2020=%{y}<extra></extra>",
         "legendgroup": "Zimbabwe",
         "marker": {
          "color": "#B6E880",
          "symbol": "circle"
         },
         "mode": "markers",
         "name": "Zimbabwe",
         "orientation": "v",
         "showlegend": true,
         "type": "scatter",
         "x": [
          1.63492929972662
         ],
         "xaxis": "x",
         "y": [
          0.530483547000938
         ],
         "yaxis": "y"
        }
       ],
       "layout": {
        "height": 600,
        "legend": {
         "title": {
          "text": "Country Name"
         },
         "tracegroupgap": 0
        },
        "shapes": [
         {
          "line": {
           "color": "red",
           "width": 2
          },
          "type": "line",
          "x0": 0,
          "x1": 29.5534895901532,
          "y0": 0.0325847808481787,
          "y1": 31.7268424513247
         }
        ],
        "template": {
         "data": {
          "bar": [
           {
            "error_x": {
             "color": "#2a3f5f"
            },
            "error_y": {
             "color": "#2a3f5f"
            },
            "marker": {
             "line": {
              "color": "#E5ECF6",
              "width": 0.5
             },
             "pattern": {
              "fillmode": "overlay",
              "size": 10,
              "solidity": 0.2
             }
            },
            "type": "bar"
           }
          ],
          "barpolar": [
           {
            "marker": {
             "line": {
              "color": "#E5ECF6",
              "width": 0.5
             },
             "pattern": {
              "fillmode": "overlay",
              "size": 10,
              "solidity": 0.2
             }
            },
            "type": "barpolar"
           }
          ],
          "carpet": [
           {
            "aaxis": {
             "endlinecolor": "#2a3f5f",
             "gridcolor": "white",
             "linecolor": "white",
             "minorgridcolor": "white",
             "startlinecolor": "#2a3f5f"
            },
            "baxis": {
             "endlinecolor": "#2a3f5f",
             "gridcolor": "white",
             "linecolor": "white",
             "minorgridcolor": "white",
             "startlinecolor": "#2a3f5f"
            },
            "type": "carpet"
           }
          ],
          "choropleth": [
           {
            "colorbar": {
             "outlinewidth": 0,
             "ticks": ""
            },
            "type": "choropleth"
           }
          ],
          "contour": [
           {
            "colorbar": {
             "outlinewidth": 0,
             "ticks": ""
            },
            "colorscale": [
             [
              0,
              "#0d0887"
             ],
             [
              0.1111111111111111,
              "#46039f"
             ],
             [
              0.2222222222222222,
              "#7201a8"
             ],
             [
              0.3333333333333333,
              "#9c179e"
             ],
             [
              0.4444444444444444,
              "#bd3786"
             ],
             [
              0.5555555555555556,
              "#d8576b"
             ],
             [
              0.6666666666666666,
              "#ed7953"
             ],
             [
              0.7777777777777778,
              "#fb9f3a"
             ],
             [
              0.8888888888888888,
              "#fdca26"
             ],
             [
              1,
              "#f0f921"
             ]
            ],
            "type": "contour"
           }
          ],
          "contourcarpet": [
           {
            "colorbar": {
             "outlinewidth": 0,
             "ticks": ""
            },
            "type": "contourcarpet"
           }
          ],
          "heatmap": [
           {
            "colorbar": {
             "outlinewidth": 0,
             "ticks": ""
            },
            "colorscale": [
             [
              0,
              "#0d0887"
             ],
             [
              0.1111111111111111,
              "#46039f"
             ],
             [
              0.2222222222222222,
              "#7201a8"
             ],
             [
              0.3333333333333333,
              "#9c179e"
             ],
             [
              0.4444444444444444,
              "#bd3786"
             ],
             [
              0.5555555555555556,
              "#d8576b"
             ],
             [
              0.6666666666666666,
              "#ed7953"
             ],
             [
              0.7777777777777778,
              "#fb9f3a"
             ],
             [
              0.8888888888888888,
              "#fdca26"
             ],
             [
              1,
              "#f0f921"
             ]
            ],
            "type": "heatmap"
           }
          ],
          "heatmapgl": [
           {
            "colorbar": {
             "outlinewidth": 0,
             "ticks": ""
            },
            "colorscale": [
             [
              0,
              "#0d0887"
             ],
             [
              0.1111111111111111,
              "#46039f"
             ],
             [
              0.2222222222222222,
              "#7201a8"
             ],
             [
              0.3333333333333333,
              "#9c179e"
             ],
             [
              0.4444444444444444,
              "#bd3786"
             ],
             [
              0.5555555555555556,
              "#d8576b"
             ],
             [
              0.6666666666666666,
              "#ed7953"
             ],
             [
              0.7777777777777778,
              "#fb9f3a"
             ],
             [
              0.8888888888888888,
              "#fdca26"
             ],
             [
              1,
              "#f0f921"
             ]
            ],
            "type": "heatmapgl"
           }
          ],
          "histogram": [
           {
            "marker": {
             "pattern": {
              "fillmode": "overlay",
              "size": 10,
              "solidity": 0.2
             }
            },
            "type": "histogram"
           }
          ],
          "histogram2d": [
           {
            "colorbar": {
             "outlinewidth": 0,
             "ticks": ""
            },
            "colorscale": [
             [
              0,
              "#0d0887"
             ],
             [
              0.1111111111111111,
              "#46039f"
             ],
             [
              0.2222222222222222,
              "#7201a8"
             ],
             [
              0.3333333333333333,
              "#9c179e"
             ],
             [
              0.4444444444444444,
              "#bd3786"
             ],
             [
              0.5555555555555556,
              "#d8576b"
             ],
             [
              0.6666666666666666,
              "#ed7953"
             ],
             [
              0.7777777777777778,
              "#fb9f3a"
             ],
             [
              0.8888888888888888,
              "#fdca26"
             ],
             [
              1,
              "#f0f921"
             ]
            ],
            "type": "histogram2d"
           }
          ],
          "histogram2dcontour": [
           {
            "colorbar": {
             "outlinewidth": 0,
             "ticks": ""
            },
            "colorscale": [
             [
              0,
              "#0d0887"
             ],
             [
              0.1111111111111111,
              "#46039f"
             ],
             [
              0.2222222222222222,
              "#7201a8"
             ],
             [
              0.3333333333333333,
              "#9c179e"
             ],
             [
              0.4444444444444444,
              "#bd3786"
             ],
             [
              0.5555555555555556,
              "#d8576b"
             ],
             [
              0.6666666666666666,
              "#ed7953"
             ],
             [
              0.7777777777777778,
              "#fb9f3a"
             ],
             [
              0.8888888888888888,
              "#fdca26"
             ],
             [
              1,
              "#f0f921"
             ]
            ],
            "type": "histogram2dcontour"
           }
          ],
          "mesh3d": [
           {
            "colorbar": {
             "outlinewidth": 0,
             "ticks": ""
            },
            "type": "mesh3d"
           }
          ],
          "parcoords": [
           {
            "line": {
             "colorbar": {
              "outlinewidth": 0,
              "ticks": ""
             }
            },
            "type": "parcoords"
           }
          ],
          "pie": [
           {
            "automargin": true,
            "type": "pie"
           }
          ],
          "scatter": [
           {
            "fillpattern": {
             "fillmode": "overlay",
             "size": 10,
             "solidity": 0.2
            },
            "type": "scatter"
           }
          ],
          "scatter3d": [
           {
            "line": {
             "colorbar": {
              "outlinewidth": 0,
              "ticks": ""
             }
            },
            "marker": {
             "colorbar": {
              "outlinewidth": 0,
              "ticks": ""
             }
            },
            "type": "scatter3d"
           }
          ],
          "scattercarpet": [
           {
            "marker": {
             "colorbar": {
              "outlinewidth": 0,
              "ticks": ""
             }
            },
            "type": "scattercarpet"
           }
          ],
          "scattergeo": [
           {
            "marker": {
             "colorbar": {
              "outlinewidth": 0,
              "ticks": ""
             }
            },
            "type": "scattergeo"
           }
          ],
          "scattergl": [
           {
            "marker": {
             "colorbar": {
              "outlinewidth": 0,
              "ticks": ""
             }
            },
            "type": "scattergl"
           }
          ],
          "scattermapbox": [
           {
            "marker": {
             "colorbar": {
              "outlinewidth": 0,
              "ticks": ""
             }
            },
            "type": "scattermapbox"
           }
          ],
          "scatterpolar": [
           {
            "marker": {
             "colorbar": {
              "outlinewidth": 0,
              "ticks": ""
             }
            },
            "type": "scatterpolar"
           }
          ],
          "scatterpolargl": [
           {
            "marker": {
             "colorbar": {
              "outlinewidth": 0,
              "ticks": ""
             }
            },
            "type": "scatterpolargl"
           }
          ],
          "scatterternary": [
           {
            "marker": {
             "colorbar": {
              "outlinewidth": 0,
              "ticks": ""
             }
            },
            "type": "scatterternary"
           }
          ],
          "surface": [
           {
            "colorbar": {
             "outlinewidth": 0,
             "ticks": ""
            },
            "colorscale": [
             [
              0,
              "#0d0887"
             ],
             [
              0.1111111111111111,
              "#46039f"
             ],
             [
              0.2222222222222222,
              "#7201a8"
             ],
             [
              0.3333333333333333,
              "#9c179e"
             ],
             [
              0.4444444444444444,
              "#bd3786"
             ],
             [
              0.5555555555555556,
              "#d8576b"
             ],
             [
              0.6666666666666666,
              "#ed7953"
             ],
             [
              0.7777777777777778,
              "#fb9f3a"
             ],
             [
              0.8888888888888888,
              "#fdca26"
             ],
             [
              1,
              "#f0f921"
             ]
            ],
            "type": "surface"
           }
          ],
          "table": [
           {
            "cells": {
             "fill": {
              "color": "#EBF0F8"
             },
             "line": {
              "color": "white"
             }
            },
            "header": {
             "fill": {
              "color": "#C8D4E3"
             },
             "line": {
              "color": "white"
             }
            },
            "type": "table"
           }
          ]
         },
         "layout": {
          "annotationdefaults": {
           "arrowcolor": "#2a3f5f",
           "arrowhead": 0,
           "arrowwidth": 1
          },
          "autotypenumbers": "strict",
          "coloraxis": {
           "colorbar": {
            "outlinewidth": 0,
            "ticks": ""
           }
          },
          "colorscale": {
           "diverging": [
            [
             0,
             "#8e0152"
            ],
            [
             0.1,
             "#c51b7d"
            ],
            [
             0.2,
             "#de77ae"
            ],
            [
             0.3,
             "#f1b6da"
            ],
            [
             0.4,
             "#fde0ef"
            ],
            [
             0.5,
             "#f7f7f7"
            ],
            [
             0.6,
             "#e6f5d0"
            ],
            [
             0.7,
             "#b8e186"
            ],
            [
             0.8,
             "#7fbc41"
            ],
            [
             0.9,
             "#4d9221"
            ],
            [
             1,
             "#276419"
            ]
           ],
           "sequential": [
            [
             0,
             "#0d0887"
            ],
            [
             0.1111111111111111,
             "#46039f"
            ],
            [
             0.2222222222222222,
             "#7201a8"
            ],
            [
             0.3333333333333333,
             "#9c179e"
            ],
            [
             0.4444444444444444,
             "#bd3786"
            ],
            [
             0.5555555555555556,
             "#d8576b"
            ],
            [
             0.6666666666666666,
             "#ed7953"
            ],
            [
             0.7777777777777778,
             "#fb9f3a"
            ],
            [
             0.8888888888888888,
             "#fdca26"
            ],
            [
             1,
             "#f0f921"
            ]
           ],
           "sequentialminus": [
            [
             0,
             "#0d0887"
            ],
            [
             0.1111111111111111,
             "#46039f"
            ],
            [
             0.2222222222222222,
             "#7201a8"
            ],
            [
             0.3333333333333333,
             "#9c179e"
            ],
            [
             0.4444444444444444,
             "#bd3786"
            ],
            [
             0.5555555555555556,
             "#d8576b"
            ],
            [
             0.6666666666666666,
             "#ed7953"
            ],
            [
             0.7777777777777778,
             "#fb9f3a"
            ],
            [
             0.8888888888888888,
             "#fdca26"
            ],
            [
             1,
             "#f0f921"
            ]
           ]
          },
          "colorway": [
           "#636efa",
           "#EF553B",
           "#00cc96",
           "#ab63fa",
           "#FFA15A",
           "#19d3f3",
           "#FF6692",
           "#B6E880",
           "#FF97FF",
           "#FECB52"
          ],
          "font": {
           "color": "#2a3f5f"
          },
          "geo": {
           "bgcolor": "white",
           "lakecolor": "white",
           "landcolor": "#E5ECF6",
           "showlakes": true,
           "showland": true,
           "subunitcolor": "white"
          },
          "hoverlabel": {
           "align": "left"
          },
          "hovermode": "closest",
          "mapbox": {
           "style": "light"
          },
          "paper_bgcolor": "white",
          "plot_bgcolor": "#E5ECF6",
          "polar": {
           "angularaxis": {
            "gridcolor": "white",
            "linecolor": "white",
            "ticks": ""
           },
           "bgcolor": "#E5ECF6",
           "radialaxis": {
            "gridcolor": "white",
            "linecolor": "white",
            "ticks": ""
           }
          },
          "scene": {
           "xaxis": {
            "backgroundcolor": "#E5ECF6",
            "gridcolor": "white",
            "gridwidth": 2,
            "linecolor": "white",
            "showbackground": true,
            "ticks": "",
            "zerolinecolor": "white"
           },
           "yaxis": {
            "backgroundcolor": "#E5ECF6",
            "gridcolor": "white",
            "gridwidth": 2,
            "linecolor": "white",
            "showbackground": true,
            "ticks": "",
            "zerolinecolor": "white"
           },
           "zaxis": {
            "backgroundcolor": "#E5ECF6",
            "gridcolor": "white",
            "gridwidth": 2,
            "linecolor": "white",
            "showbackground": true,
            "ticks": "",
            "zerolinecolor": "white"
           }
          },
          "shapedefaults": {
           "line": {
            "color": "#2a3f5f"
           }
          },
          "ternary": {
           "aaxis": {
            "gridcolor": "white",
            "linecolor": "white",
            "ticks": ""
           },
           "baxis": {
            "gridcolor": "white",
            "linecolor": "white",
            "ticks": ""
           },
           "bgcolor": "#E5ECF6",
           "caxis": {
            "gridcolor": "white",
            "linecolor": "white",
            "ticks": ""
           }
          },
          "title": {
           "x": 0.05
          },
          "xaxis": {
           "automargin": true,
           "gridcolor": "white",
           "linecolor": "white",
           "ticks": "",
           "title": {
            "standoff": 15
           },
           "zerolinecolor": "white",
           "zerolinewidth": 2
          },
          "yaxis": {
           "automargin": true,
           "gridcolor": "white",
           "linecolor": "white",
           "ticks": "",
           "title": {
            "standoff": 15
           },
           "zerolinecolor": "white",
           "zerolinewidth": 2
          }
         }
        },
        "title": {
         "text": "Comparación de Emisiones de CO2 per cápita entre 1990 y 2020"
        },
        "width": 800,
        "xaxis": {
         "anchor": "y",
         "domain": [
          0,
          1
         ],
         "title": {
          "text": "1990"
         }
        },
        "yaxis": {
         "anchor": "x",
         "domain": [
          0,
          1
         ],
         "title": {
          "text": "2020"
         }
        }
       }
      }
     },
     "metadata": {},
     "output_type": "display_data"
    }
   ],
   "source": [
    "import plotly.express as px\n",
    "\n",
    "# Seleccionamos los años de inicio y fin de las mediciones diponibles\n",
    "anio1 = '1990'\n",
    "anio2 = '2020'\n",
    "\n",
    "# Creamos el gráfico de dispersión\n",
    "fig = px.scatter(df, x=anio1, y=anio2, color='Country Name',\n",
    "                 title=f'Comparación de Emisiones de CO2 per cápita entre {anio1} y {anio2}')\n",
    "\n",
    "# Agregamos la línea diagonal de relacion 1:1 para poder analizar la tendencia\n",
    "fig.add_shape(\n",
    "    type='line',\n",
    "    x0=df[anio1].min(),\n",
    "    y0=df[anio2].min(),\n",
    "    x1=df[anio1].max(),\n",
    "    y1=df[anio2].max(),\n",
    "    line=dict(color='red', width=2)\n",
    ")\n",
    "\n",
    "fig.update_layout(height=600, width=800)\n",
    "fig.show()\n"
   ]
  },
  {
   "cell_type": "markdown",
   "metadata": {},
   "source": [
    "Conclusiones:\n",
    "\n",
    "Puntos Cerca de la Línea Diagonal:\n",
    "\n",
    "Si los puntos están cerca de la línea diagonal que representa una relación 1:1, significa que las emisiones de CO2 per cápita no han cambiado significativamente entre los dos años. Esto podría indicar cierta estabilidad en las emisiones.\n",
    "\n",
    "Puntos Por Encima de la Línea Diagonal:\n",
    "\n",
    "Los puntos por encima de la línea diagonal indican un aumento en las emisiones de CO2 per cápita entre los dos años. Esto podría sugerir un aumento en la actividad económica, industrialización o cambio en los patrones de consumo.\n",
    "\n",
    "Puntos Debajo de la Línea Diagonal:\n",
    "\n",
    "Los puntos por debajo de la línea diagonal indican una disminución en las emisiones de CO2 per cápita. Esto podría deberse a medidas de sostenibilidad, cambios en la matriz energética o políticas ambientales.\n",
    "\n",
    "Patrones Específicos de Países:\n",
    "\n",
    "Observa patrones específicos de países. Algunos países pueden destacar por su notable cambio (positivo o negativo), lo que podría estar relacionado con eventos económicos, políticos o ambientales.\n"
   ]
  },
  {
   "cell_type": "markdown",
   "metadata": {},
   "source": [
    "### Grafico 3: Tendecias en las emisiones de CO2 de acuerdo a los ingresos"
   ]
  },
  {
   "cell_type": "code",
   "execution_count": 77,
   "metadata": {},
   "outputs": [
    {
     "data": {
      "text/html": [
       "<div>\n",
       "<style scoped>\n",
       "    .dataframe tbody tr th:only-of-type {\n",
       "        vertical-align: middle;\n",
       "    }\n",
       "\n",
       "    .dataframe tbody tr th {\n",
       "        vertical-align: top;\n",
       "    }\n",
       "\n",
       "    .dataframe thead th {\n",
       "        text-align: right;\n",
       "    }\n",
       "</style>\n",
       "<table border=\"1\" class=\"dataframe\">\n",
       "  <thead>\n",
       "    <tr style=\"text-align: right;\">\n",
       "      <th></th>\n",
       "      <th>IncomeGroup</th>\n",
       "      <th>1990</th>\n",
       "      <th>1991</th>\n",
       "      <th>1992</th>\n",
       "      <th>1993</th>\n",
       "      <th>1994</th>\n",
       "      <th>1995</th>\n",
       "      <th>1996</th>\n",
       "      <th>1997</th>\n",
       "      <th>1998</th>\n",
       "      <th>1999</th>\n",
       "      <th>2000</th>\n",
       "      <th>2001</th>\n",
       "      <th>2002</th>\n",
       "      <th>2003</th>\n",
       "      <th>2004</th>\n",
       "      <th>2005</th>\n",
       "      <th>2006</th>\n",
       "      <th>2007</th>\n",
       "      <th>2008</th>\n",
       "      <th>2009</th>\n",
       "      <th>2010</th>\n",
       "      <th>2011</th>\n",
       "      <th>2012</th>\n",
       "      <th>2013</th>\n",
       "      <th>2014</th>\n",
       "      <th>2015</th>\n",
       "      <th>2016</th>\n",
       "      <th>2017</th>\n",
       "      <th>2018</th>\n",
       "      <th>2019</th>\n",
       "      <th>2020</th>\n",
       "    </tr>\n",
       "  </thead>\n",
       "  <tbody>\n",
       "    <tr>\n",
       "      <th>0</th>\n",
       "      <td>High income</td>\n",
       "      <td>9.559044</td>\n",
       "      <td>9.418911</td>\n",
       "      <td>9.261680</td>\n",
       "      <td>9.319039</td>\n",
       "      <td>9.454558</td>\n",
       "      <td>9.370475</td>\n",
       "      <td>9.633975</td>\n",
       "      <td>9.711113</td>\n",
       "      <td>9.649822</td>\n",
       "      <td>9.647101</td>\n",
       "      <td>9.632188</td>\n",
       "      <td>9.775127</td>\n",
       "      <td>9.851794</td>\n",
       "      <td>10.119805</td>\n",
       "      <td>10.160632</td>\n",
       "      <td>10.103901</td>\n",
       "      <td>10.185239</td>\n",
       "      <td>10.030188</td>\n",
       "      <td>9.846094</td>\n",
       "      <td>9.306711</td>\n",
       "      <td>9.531792</td>\n",
       "      <td>9.405498</td>\n",
       "      <td>9.316259</td>\n",
       "      <td>9.179034</td>\n",
       "      <td>8.898779</td>\n",
       "      <td>8.761993</td>\n",
       "      <td>8.664622</td>\n",
       "      <td>8.603339</td>\n",
       "      <td>8.485153</td>\n",
       "      <td>8.266740</td>\n",
       "      <td>7.798937</td>\n",
       "    </tr>\n",
       "    <tr>\n",
       "      <th>1</th>\n",
       "      <td>Low income</td>\n",
       "      <td>0.430913</td>\n",
       "      <td>0.421976</td>\n",
       "      <td>0.393422</td>\n",
       "      <td>0.372842</td>\n",
       "      <td>0.365925</td>\n",
       "      <td>0.357886</td>\n",
       "      <td>0.348160</td>\n",
       "      <td>0.336299</td>\n",
       "      <td>0.330249</td>\n",
       "      <td>0.339527</td>\n",
       "      <td>0.343303</td>\n",
       "      <td>0.348583</td>\n",
       "      <td>0.340899</td>\n",
       "      <td>0.351359</td>\n",
       "      <td>0.356704</td>\n",
       "      <td>0.382827</td>\n",
       "      <td>0.388156</td>\n",
       "      <td>0.370121</td>\n",
       "      <td>0.381315</td>\n",
       "      <td>0.357241</td>\n",
       "      <td>0.350695</td>\n",
       "      <td>0.321641</td>\n",
       "      <td>0.299133</td>\n",
       "      <td>0.266453</td>\n",
       "      <td>0.271798</td>\n",
       "      <td>0.250713</td>\n",
       "      <td>0.255201</td>\n",
       "      <td>0.293609</td>\n",
       "      <td>0.295226</td>\n",
       "      <td>0.300328</td>\n",
       "      <td>0.278909</td>\n",
       "    </tr>\n",
       "    <tr>\n",
       "      <th>2</th>\n",
       "      <td>Lower middle income</td>\n",
       "      <td>1.204748</td>\n",
       "      <td>1.204076</td>\n",
       "      <td>1.152513</td>\n",
       "      <td>1.098401</td>\n",
       "      <td>1.043804</td>\n",
       "      <td>1.050418</td>\n",
       "      <td>1.040422</td>\n",
       "      <td>1.055785</td>\n",
       "      <td>1.071614</td>\n",
       "      <td>1.082975</td>\n",
       "      <td>1.082909</td>\n",
       "      <td>1.093606</td>\n",
       "      <td>1.108579</td>\n",
       "      <td>1.127975</td>\n",
       "      <td>1.142935</td>\n",
       "      <td>1.162318</td>\n",
       "      <td>1.191513</td>\n",
       "      <td>1.214672</td>\n",
       "      <td>1.226922</td>\n",
       "      <td>1.233399</td>\n",
       "      <td>1.255776</td>\n",
       "      <td>1.302945</td>\n",
       "      <td>1.342750</td>\n",
       "      <td>1.338285</td>\n",
       "      <td>1.347056</td>\n",
       "      <td>1.345746</td>\n",
       "      <td>1.390307</td>\n",
       "      <td>1.426225</td>\n",
       "      <td>1.462769</td>\n",
       "      <td>1.479407</td>\n",
       "      <td>1.356671</td>\n",
       "    </tr>\n",
       "    <tr>\n",
       "      <th>3</th>\n",
       "      <td>Upper middle income</td>\n",
       "      <td>3.557224</td>\n",
       "      <td>3.349657</td>\n",
       "      <td>3.488634</td>\n",
       "      <td>3.325214</td>\n",
       "      <td>3.192574</td>\n",
       "      <td>3.212595</td>\n",
       "      <td>3.205144</td>\n",
       "      <td>3.237524</td>\n",
       "      <td>3.270716</td>\n",
       "      <td>3.198407</td>\n",
       "      <td>3.209565</td>\n",
       "      <td>3.281419</td>\n",
       "      <td>3.279760</td>\n",
       "      <td>3.420840</td>\n",
       "      <td>3.595523</td>\n",
       "      <td>3.665058</td>\n",
       "      <td>3.771124</td>\n",
       "      <td>3.859960</td>\n",
       "      <td>3.919335</td>\n",
       "      <td>3.715987</td>\n",
       "      <td>3.894636</td>\n",
       "      <td>3.969099</td>\n",
       "      <td>4.034560</td>\n",
       "      <td>4.044809</td>\n",
       "      <td>3.978560</td>\n",
       "      <td>3.918218</td>\n",
       "      <td>3.935983</td>\n",
       "      <td>3.953968</td>\n",
       "      <td>3.997406</td>\n",
       "      <td>4.026862</td>\n",
       "      <td>3.674096</td>\n",
       "    </tr>\n",
       "  </tbody>\n",
       "</table>\n",
       "</div>"
      ],
      "text/plain": [
       "           IncomeGroup      1990      1991      1992      1993      1994  \\\n",
       "0          High income  9.559044  9.418911  9.261680  9.319039  9.454558   \n",
       "1           Low income  0.430913  0.421976  0.393422  0.372842  0.365925   \n",
       "2  Lower middle income  1.204748  1.204076  1.152513  1.098401  1.043804   \n",
       "3  Upper middle income  3.557224  3.349657  3.488634  3.325214  3.192574   \n",
       "\n",
       "       1995      1996      1997      1998      1999      2000      2001  \\\n",
       "0  9.370475  9.633975  9.711113  9.649822  9.647101  9.632188  9.775127   \n",
       "1  0.357886  0.348160  0.336299  0.330249  0.339527  0.343303  0.348583   \n",
       "2  1.050418  1.040422  1.055785  1.071614  1.082975  1.082909  1.093606   \n",
       "3  3.212595  3.205144  3.237524  3.270716  3.198407  3.209565  3.281419   \n",
       "\n",
       "       2002       2003       2004       2005       2006       2007      2008  \\\n",
       "0  9.851794  10.119805  10.160632  10.103901  10.185239  10.030188  9.846094   \n",
       "1  0.340899   0.351359   0.356704   0.382827   0.388156   0.370121  0.381315   \n",
       "2  1.108579   1.127975   1.142935   1.162318   1.191513   1.214672  1.226922   \n",
       "3  3.279760   3.420840   3.595523   3.665058   3.771124   3.859960  3.919335   \n",
       "\n",
       "       2009      2010      2011      2012      2013      2014      2015  \\\n",
       "0  9.306711  9.531792  9.405498  9.316259  9.179034  8.898779  8.761993   \n",
       "1  0.357241  0.350695  0.321641  0.299133  0.266453  0.271798  0.250713   \n",
       "2  1.233399  1.255776  1.302945  1.342750  1.338285  1.347056  1.345746   \n",
       "3  3.715987  3.894636  3.969099  4.034560  4.044809  3.978560  3.918218   \n",
       "\n",
       "       2016      2017      2018      2019      2020  \n",
       "0  8.664622  8.603339  8.485153  8.266740  7.798937  \n",
       "1  0.255201  0.293609  0.295226  0.300328  0.278909  \n",
       "2  1.390307  1.426225  1.462769  1.479407  1.356671  \n",
       "3  3.935983  3.953968  3.997406  4.026862  3.674096  "
      ]
     },
     "execution_count": 77,
     "metadata": {},
     "output_type": "execute_result"
    }
   ],
   "source": [
    "df_ingresos = df.groupby('IncomeGroup').mean().reset_index()\n"
   ]
  },
  {
   "cell_type": "code",
   "execution_count": 79,
   "metadata": {},
   "outputs": [
    {
     "data": {
      "application/vnd.plotly.v1+json": {
       "config": {
        "plotlyServerURL": "https://plot.ly"
       },
       "data": [
        {
         "mode": "lines",
         "name": "High income",
         "type": "scatter",
         "x": [
          "1990",
          "1991",
          "1992",
          "1993",
          "1994",
          "1995",
          "1996",
          "1997",
          "1998",
          "1999",
          "2000",
          "2001",
          "2002",
          "2003",
          "2004",
          "2005",
          "2006",
          "2007",
          "2008",
          "2009",
          "2010",
          "2011",
          "2012",
          "2013",
          "2014",
          "2015",
          "2016",
          "2017",
          "2018",
          "2019",
          "2020"
         ],
         "y": [
          9.319038510930762,
          9.454557574445708,
          9.370475471138883,
          9.633974655910896,
          9.711112882463327,
          9.649822248116118,
          9.647100978117974,
          9.632188201006562,
          9.775126620500602,
          9.851794438808174,
          10.119804987282317,
          10.160631548444043,
          10.103901312605092,
          10.185238960976521,
          10.03018830086586,
          9.846093744825442,
          9.30671076434987,
          9.531791608684834,
          9.405497580770772,
          9.316259316851719,
          9.179033541870487,
          8.8987790664616,
          8.761992871283143,
          8.66462229605633,
          8.603338555834315,
          8.485153005599265,
          8.266739686095725,
          7.798936969242417
         ]
        },
        {
         "mode": "lines",
         "name": "Low income",
         "type": "scatter",
         "x": [
          "1990",
          "1991",
          "1992",
          "1993",
          "1994",
          "1995",
          "1996",
          "1997",
          "1998",
          "1999",
          "2000",
          "2001",
          "2002",
          "2003",
          "2004",
          "2005",
          "2006",
          "2007",
          "2008",
          "2009",
          "2010",
          "2011",
          "2012",
          "2013",
          "2014",
          "2015",
          "2016",
          "2017",
          "2018",
          "2019",
          "2020"
         ],
         "y": [
          0.37284181893331947,
          0.3659249604602568,
          0.35788636609985147,
          0.34815972597660017,
          0.3362990432092236,
          0.3302492583106993,
          0.33952696748611005,
          0.3433025060569301,
          0.34858301775611855,
          0.3408985396912486,
          0.3513591184253013,
          0.35670416624910745,
          0.382826719476286,
          0.38815567980525856,
          0.37012090801089903,
          0.38131543653381816,
          0.35724080299469524,
          0.35069512833368316,
          0.32164102994587584,
          0.29913263634410836,
          0.2664534435822955,
          0.2717982566850714,
          0.2507126083977322,
          0.25520093394130466,
          0.2936088387278454,
          0.2952262832176692,
          0.3003277199742524,
          0.278909315036381
         ]
        },
        {
         "mode": "lines",
         "name": "Lower middle income",
         "type": "scatter",
         "x": [
          "1990",
          "1991",
          "1992",
          "1993",
          "1994",
          "1995",
          "1996",
          "1997",
          "1998",
          "1999",
          "2000",
          "2001",
          "2002",
          "2003",
          "2004",
          "2005",
          "2006",
          "2007",
          "2008",
          "2009",
          "2010",
          "2011",
          "2012",
          "2013",
          "2014",
          "2015",
          "2016",
          "2017",
          "2018",
          "2019",
          "2020"
         ],
         "y": [
          1.0984009174570855,
          1.0438035865376365,
          1.050418051044601,
          1.0404222579812419,
          1.0557852064534639,
          1.071613658396222,
          1.0829748658488516,
          1.0829088183415778,
          1.0936061217949193,
          1.1085786297455265,
          1.1279754645023405,
          1.142934585846679,
          1.162317618249578,
          1.1915130522152186,
          1.214671500639122,
          1.226921837477093,
          1.2333993176158897,
          1.2557756322835152,
          1.3029447718921985,
          1.3427500467720515,
          1.338285014630232,
          1.3470563006784335,
          1.345746150571421,
          1.3903072668232672,
          1.4262253178578772,
          1.4627690486779428,
          1.479407433308362,
          1.3566713396920678
         ]
        },
        {
         "mode": "lines",
         "name": "Upper middle income",
         "type": "scatter",
         "x": [
          "1990",
          "1991",
          "1992",
          "1993",
          "1994",
          "1995",
          "1996",
          "1997",
          "1998",
          "1999",
          "2000",
          "2001",
          "2002",
          "2003",
          "2004",
          "2005",
          "2006",
          "2007",
          "2008",
          "2009",
          "2010",
          "2011",
          "2012",
          "2013",
          "2014",
          "2015",
          "2016",
          "2017",
          "2018",
          "2019",
          "2020"
         ],
         "y": [
          3.3252136150194995,
          3.1925735283852843,
          3.2125947567081727,
          3.205143623009616,
          3.237523579017535,
          3.270715736519993,
          3.1984070569224845,
          3.2095653299957405,
          3.2814187893864344,
          3.2797596174106283,
          3.420839895938674,
          3.5955227136012873,
          3.6650575859831522,
          3.7711240581311625,
          3.85996024552732,
          3.9193348228471185,
          3.7159867176303147,
          3.8946358068926243,
          3.969098647167337,
          4.034560148662289,
          4.04480863371797,
          3.9785604594565074,
          3.9182177456739886,
          3.935982985328437,
          3.9539681180378787,
          3.997406311670952,
          4.026861760534492,
          3.6740963861673652
         ]
        }
       ],
       "layout": {
        "height": 600,
        "template": {
         "data": {
          "bar": [
           {
            "error_x": {
             "color": "#2a3f5f"
            },
            "error_y": {
             "color": "#2a3f5f"
            },
            "marker": {
             "line": {
              "color": "#E5ECF6",
              "width": 0.5
             },
             "pattern": {
              "fillmode": "overlay",
              "size": 10,
              "solidity": 0.2
             }
            },
            "type": "bar"
           }
          ],
          "barpolar": [
           {
            "marker": {
             "line": {
              "color": "#E5ECF6",
              "width": 0.5
             },
             "pattern": {
              "fillmode": "overlay",
              "size": 10,
              "solidity": 0.2
             }
            },
            "type": "barpolar"
           }
          ],
          "carpet": [
           {
            "aaxis": {
             "endlinecolor": "#2a3f5f",
             "gridcolor": "white",
             "linecolor": "white",
             "minorgridcolor": "white",
             "startlinecolor": "#2a3f5f"
            },
            "baxis": {
             "endlinecolor": "#2a3f5f",
             "gridcolor": "white",
             "linecolor": "white",
             "minorgridcolor": "white",
             "startlinecolor": "#2a3f5f"
            },
            "type": "carpet"
           }
          ],
          "choropleth": [
           {
            "colorbar": {
             "outlinewidth": 0,
             "ticks": ""
            },
            "type": "choropleth"
           }
          ],
          "contour": [
           {
            "colorbar": {
             "outlinewidth": 0,
             "ticks": ""
            },
            "colorscale": [
             [
              0,
              "#0d0887"
             ],
             [
              0.1111111111111111,
              "#46039f"
             ],
             [
              0.2222222222222222,
              "#7201a8"
             ],
             [
              0.3333333333333333,
              "#9c179e"
             ],
             [
              0.4444444444444444,
              "#bd3786"
             ],
             [
              0.5555555555555556,
              "#d8576b"
             ],
             [
              0.6666666666666666,
              "#ed7953"
             ],
             [
              0.7777777777777778,
              "#fb9f3a"
             ],
             [
              0.8888888888888888,
              "#fdca26"
             ],
             [
              1,
              "#f0f921"
             ]
            ],
            "type": "contour"
           }
          ],
          "contourcarpet": [
           {
            "colorbar": {
             "outlinewidth": 0,
             "ticks": ""
            },
            "type": "contourcarpet"
           }
          ],
          "heatmap": [
           {
            "colorbar": {
             "outlinewidth": 0,
             "ticks": ""
            },
            "colorscale": [
             [
              0,
              "#0d0887"
             ],
             [
              0.1111111111111111,
              "#46039f"
             ],
             [
              0.2222222222222222,
              "#7201a8"
             ],
             [
              0.3333333333333333,
              "#9c179e"
             ],
             [
              0.4444444444444444,
              "#bd3786"
             ],
             [
              0.5555555555555556,
              "#d8576b"
             ],
             [
              0.6666666666666666,
              "#ed7953"
             ],
             [
              0.7777777777777778,
              "#fb9f3a"
             ],
             [
              0.8888888888888888,
              "#fdca26"
             ],
             [
              1,
              "#f0f921"
             ]
            ],
            "type": "heatmap"
           }
          ],
          "heatmapgl": [
           {
            "colorbar": {
             "outlinewidth": 0,
             "ticks": ""
            },
            "colorscale": [
             [
              0,
              "#0d0887"
             ],
             [
              0.1111111111111111,
              "#46039f"
             ],
             [
              0.2222222222222222,
              "#7201a8"
             ],
             [
              0.3333333333333333,
              "#9c179e"
             ],
             [
              0.4444444444444444,
              "#bd3786"
             ],
             [
              0.5555555555555556,
              "#d8576b"
             ],
             [
              0.6666666666666666,
              "#ed7953"
             ],
             [
              0.7777777777777778,
              "#fb9f3a"
             ],
             [
              0.8888888888888888,
              "#fdca26"
             ],
             [
              1,
              "#f0f921"
             ]
            ],
            "type": "heatmapgl"
           }
          ],
          "histogram": [
           {
            "marker": {
             "pattern": {
              "fillmode": "overlay",
              "size": 10,
              "solidity": 0.2
             }
            },
            "type": "histogram"
           }
          ],
          "histogram2d": [
           {
            "colorbar": {
             "outlinewidth": 0,
             "ticks": ""
            },
            "colorscale": [
             [
              0,
              "#0d0887"
             ],
             [
              0.1111111111111111,
              "#46039f"
             ],
             [
              0.2222222222222222,
              "#7201a8"
             ],
             [
              0.3333333333333333,
              "#9c179e"
             ],
             [
              0.4444444444444444,
              "#bd3786"
             ],
             [
              0.5555555555555556,
              "#d8576b"
             ],
             [
              0.6666666666666666,
              "#ed7953"
             ],
             [
              0.7777777777777778,
              "#fb9f3a"
             ],
             [
              0.8888888888888888,
              "#fdca26"
             ],
             [
              1,
              "#f0f921"
             ]
            ],
            "type": "histogram2d"
           }
          ],
          "histogram2dcontour": [
           {
            "colorbar": {
             "outlinewidth": 0,
             "ticks": ""
            },
            "colorscale": [
             [
              0,
              "#0d0887"
             ],
             [
              0.1111111111111111,
              "#46039f"
             ],
             [
              0.2222222222222222,
              "#7201a8"
             ],
             [
              0.3333333333333333,
              "#9c179e"
             ],
             [
              0.4444444444444444,
              "#bd3786"
             ],
             [
              0.5555555555555556,
              "#d8576b"
             ],
             [
              0.6666666666666666,
              "#ed7953"
             ],
             [
              0.7777777777777778,
              "#fb9f3a"
             ],
             [
              0.8888888888888888,
              "#fdca26"
             ],
             [
              1,
              "#f0f921"
             ]
            ],
            "type": "histogram2dcontour"
           }
          ],
          "mesh3d": [
           {
            "colorbar": {
             "outlinewidth": 0,
             "ticks": ""
            },
            "type": "mesh3d"
           }
          ],
          "parcoords": [
           {
            "line": {
             "colorbar": {
              "outlinewidth": 0,
              "ticks": ""
             }
            },
            "type": "parcoords"
           }
          ],
          "pie": [
           {
            "automargin": true,
            "type": "pie"
           }
          ],
          "scatter": [
           {
            "fillpattern": {
             "fillmode": "overlay",
             "size": 10,
             "solidity": 0.2
            },
            "type": "scatter"
           }
          ],
          "scatter3d": [
           {
            "line": {
             "colorbar": {
              "outlinewidth": 0,
              "ticks": ""
             }
            },
            "marker": {
             "colorbar": {
              "outlinewidth": 0,
              "ticks": ""
             }
            },
            "type": "scatter3d"
           }
          ],
          "scattercarpet": [
           {
            "marker": {
             "colorbar": {
              "outlinewidth": 0,
              "ticks": ""
             }
            },
            "type": "scattercarpet"
           }
          ],
          "scattergeo": [
           {
            "marker": {
             "colorbar": {
              "outlinewidth": 0,
              "ticks": ""
             }
            },
            "type": "scattergeo"
           }
          ],
          "scattergl": [
           {
            "marker": {
             "colorbar": {
              "outlinewidth": 0,
              "ticks": ""
             }
            },
            "type": "scattergl"
           }
          ],
          "scattermapbox": [
           {
            "marker": {
             "colorbar": {
              "outlinewidth": 0,
              "ticks": ""
             }
            },
            "type": "scattermapbox"
           }
          ],
          "scatterpolar": [
           {
            "marker": {
             "colorbar": {
              "outlinewidth": 0,
              "ticks": ""
             }
            },
            "type": "scatterpolar"
           }
          ],
          "scatterpolargl": [
           {
            "marker": {
             "colorbar": {
              "outlinewidth": 0,
              "ticks": ""
             }
            },
            "type": "scatterpolargl"
           }
          ],
          "scatterternary": [
           {
            "marker": {
             "colorbar": {
              "outlinewidth": 0,
              "ticks": ""
             }
            },
            "type": "scatterternary"
           }
          ],
          "surface": [
           {
            "colorbar": {
             "outlinewidth": 0,
             "ticks": ""
            },
            "colorscale": [
             [
              0,
              "#0d0887"
             ],
             [
              0.1111111111111111,
              "#46039f"
             ],
             [
              0.2222222222222222,
              "#7201a8"
             ],
             [
              0.3333333333333333,
              "#9c179e"
             ],
             [
              0.4444444444444444,
              "#bd3786"
             ],
             [
              0.5555555555555556,
              "#d8576b"
             ],
             [
              0.6666666666666666,
              "#ed7953"
             ],
             [
              0.7777777777777778,
              "#fb9f3a"
             ],
             [
              0.8888888888888888,
              "#fdca26"
             ],
             [
              1,
              "#f0f921"
             ]
            ],
            "type": "surface"
           }
          ],
          "table": [
           {
            "cells": {
             "fill": {
              "color": "#EBF0F8"
             },
             "line": {
              "color": "white"
             }
            },
            "header": {
             "fill": {
              "color": "#C8D4E3"
             },
             "line": {
              "color": "white"
             }
            },
            "type": "table"
           }
          ]
         },
         "layout": {
          "annotationdefaults": {
           "arrowcolor": "#2a3f5f",
           "arrowhead": 0,
           "arrowwidth": 1
          },
          "autotypenumbers": "strict",
          "coloraxis": {
           "colorbar": {
            "outlinewidth": 0,
            "ticks": ""
           }
          },
          "colorscale": {
           "diverging": [
            [
             0,
             "#8e0152"
            ],
            [
             0.1,
             "#c51b7d"
            ],
            [
             0.2,
             "#de77ae"
            ],
            [
             0.3,
             "#f1b6da"
            ],
            [
             0.4,
             "#fde0ef"
            ],
            [
             0.5,
             "#f7f7f7"
            ],
            [
             0.6,
             "#e6f5d0"
            ],
            [
             0.7,
             "#b8e186"
            ],
            [
             0.8,
             "#7fbc41"
            ],
            [
             0.9,
             "#4d9221"
            ],
            [
             1,
             "#276419"
            ]
           ],
           "sequential": [
            [
             0,
             "#0d0887"
            ],
            [
             0.1111111111111111,
             "#46039f"
            ],
            [
             0.2222222222222222,
             "#7201a8"
            ],
            [
             0.3333333333333333,
             "#9c179e"
            ],
            [
             0.4444444444444444,
             "#bd3786"
            ],
            [
             0.5555555555555556,
             "#d8576b"
            ],
            [
             0.6666666666666666,
             "#ed7953"
            ],
            [
             0.7777777777777778,
             "#fb9f3a"
            ],
            [
             0.8888888888888888,
             "#fdca26"
            ],
            [
             1,
             "#f0f921"
            ]
           ],
           "sequentialminus": [
            [
             0,
             "#0d0887"
            ],
            [
             0.1111111111111111,
             "#46039f"
            ],
            [
             0.2222222222222222,
             "#7201a8"
            ],
            [
             0.3333333333333333,
             "#9c179e"
            ],
            [
             0.4444444444444444,
             "#bd3786"
            ],
            [
             0.5555555555555556,
             "#d8576b"
            ],
            [
             0.6666666666666666,
             "#ed7953"
            ],
            [
             0.7777777777777778,
             "#fb9f3a"
            ],
            [
             0.8888888888888888,
             "#fdca26"
            ],
            [
             1,
             "#f0f921"
            ]
           ]
          },
          "colorway": [
           "#636efa",
           "#EF553B",
           "#00cc96",
           "#ab63fa",
           "#FFA15A",
           "#19d3f3",
           "#FF6692",
           "#B6E880",
           "#FF97FF",
           "#FECB52"
          ],
          "font": {
           "color": "#2a3f5f"
          },
          "geo": {
           "bgcolor": "white",
           "lakecolor": "white",
           "landcolor": "#E5ECF6",
           "showlakes": true,
           "showland": true,
           "subunitcolor": "white"
          },
          "hoverlabel": {
           "align": "left"
          },
          "hovermode": "closest",
          "mapbox": {
           "style": "light"
          },
          "paper_bgcolor": "white",
          "plot_bgcolor": "#E5ECF6",
          "polar": {
           "angularaxis": {
            "gridcolor": "white",
            "linecolor": "white",
            "ticks": ""
           },
           "bgcolor": "#E5ECF6",
           "radialaxis": {
            "gridcolor": "white",
            "linecolor": "white",
            "ticks": ""
           }
          },
          "scene": {
           "xaxis": {
            "backgroundcolor": "#E5ECF6",
            "gridcolor": "white",
            "gridwidth": 2,
            "linecolor": "white",
            "showbackground": true,
            "ticks": "",
            "zerolinecolor": "white"
           },
           "yaxis": {
            "backgroundcolor": "#E5ECF6",
            "gridcolor": "white",
            "gridwidth": 2,
            "linecolor": "white",
            "showbackground": true,
            "ticks": "",
            "zerolinecolor": "white"
           },
           "zaxis": {
            "backgroundcolor": "#E5ECF6",
            "gridcolor": "white",
            "gridwidth": 2,
            "linecolor": "white",
            "showbackground": true,
            "ticks": "",
            "zerolinecolor": "white"
           }
          },
          "shapedefaults": {
           "line": {
            "color": "#2a3f5f"
           }
          },
          "ternary": {
           "aaxis": {
            "gridcolor": "white",
            "linecolor": "white",
            "ticks": ""
           },
           "baxis": {
            "gridcolor": "white",
            "linecolor": "white",
            "ticks": ""
           },
           "bgcolor": "#E5ECF6",
           "caxis": {
            "gridcolor": "white",
            "linecolor": "white",
            "ticks": ""
           }
          },
          "title": {
           "x": 0.05
          },
          "xaxis": {
           "automargin": true,
           "gridcolor": "white",
           "linecolor": "white",
           "ticks": "",
           "title": {
            "standoff": 15
           },
           "zerolinecolor": "white",
           "zerolinewidth": 2
          },
          "yaxis": {
           "automargin": true,
           "gridcolor": "white",
           "linecolor": "white",
           "ticks": "",
           "title": {
            "standoff": 15
           },
           "zerolinecolor": "white",
           "zerolinewidth": 2
          }
         }
        },
        "title": {
         "text": "Tendencia de Emisiones de CO2 promedio de acuerdo a los ingresos"
        },
        "width": 1000,
        "xaxis": {
         "title": {
          "text": "Año"
         }
        },
        "yaxis": {
         "title": {
          "text": "Emisiones CO2 promedio"
         }
        }
       }
      }
     },
     "metadata": {},
     "output_type": "display_data"
    }
   ],
   "source": [
    "#Graficamos emsiones de acuerdo a los ingresos\n",
    "# Crea el gráfico de líneas\n",
    "fig = go.Figure()\n",
    "\n",
    "for index, row in df_ingresos.iterrows():\n",
    "    fig.add_trace(go.Scatter(x=anios, y=row[4:], mode='lines', name=row['IncomeGroup']))\n",
    "\n",
    "fig.update_layout(\n",
    "    title='Tendencia de Emisiones de CO2 promedio de acuerdo a los ingresos',\n",
    "    xaxis_title='Año',\n",
    "    yaxis_title='Emisiones CO2 promedio',\n",
    "    height=600,\n",
    "    width=1000\n",
    ")\n",
    "\n",
    "fig.show()"
   ]
  },
  {
   "cell_type": "markdown",
   "metadata": {},
   "source": [
    "Conclusiones:\n",
    "Sin lugar a dudas, las emisiones de CO2 estan relacionadas con el nivel de ingresos de los países evaluados. Aquí, pese a que no hay datos concretos en el DataFrame, se puede aclarar que existen abundantes pruebas sobre el incremento de los ingresos de los países cuando sus economias estan fuertemente diversificadas y basadas principalmente en la industria. Siguiendo esa línea, tambien abunda la evidencia de que las actividades industriales son las principales fuentes de generacion de CO2.\n"
   ]
  },
  {
   "cell_type": "markdown",
   "metadata": {},
   "source": [
    "### Grafico 4: Tendencia de emisiones de CO2 en funcion de la region"
   ]
  },
  {
   "cell_type": "code",
   "execution_count": 81,
   "metadata": {},
   "outputs": [],
   "source": [
    "df_region = df.groupby('Region').mean().reset_index()\n"
   ]
  },
  {
   "cell_type": "code",
   "execution_count": 83,
   "metadata": {},
   "outputs": [
    {
     "data": {
      "application/vnd.plotly.v1+json": {
       "config": {
        "plotlyServerURL": "https://plot.ly"
       },
       "data": [
        {
         "mode": "lines",
         "name": "East Asia & Pacific",
         "type": "scatter",
         "x": [
          "1990",
          "1991",
          "1992",
          "1993",
          "1994",
          "1995",
          "1996",
          "1997",
          "1998",
          "1999",
          "2000",
          "2001",
          "2002",
          "2003",
          "2004",
          "2005",
          "2006",
          "2007",
          "2008",
          "2009",
          "2010",
          "2011",
          "2012",
          "2013",
          "2014",
          "2015",
          "2016",
          "2017",
          "2018",
          "2019",
          "2020"
         ],
         "y": [
          3.8235719892828097,
          3.8623498239359666,
          3.9233955561304006,
          3.925323574083654,
          3.986891094271457,
          3.8171242339182876,
          3.8301543744100854,
          3.9384985351053725,
          3.951578581082886,
          3.9555041586871886,
          4.024310727282138,
          4.047740705015667,
          4.052328078188428,
          4.267591396590603,
          4.26133701415148,
          4.278279232997485,
          4.196981839269083,
          4.261850305318639,
          4.30165928088686,
          4.348927230964356,
          4.362779732868683,
          4.334083376520422,
          4.261981125257511,
          4.34360773362349,
          4.482718989703536,
          4.519081819644056,
          4.529976274379248,
          4.317030921080126
         ]
        },
        {
         "mode": "lines",
         "name": "Europe & Central Asia",
         "type": "scatter",
         "x": [
          "1990",
          "1991",
          "1992",
          "1993",
          "1994",
          "1995",
          "1996",
          "1997",
          "1998",
          "1999",
          "2000",
          "2001",
          "2002",
          "2003",
          "2004",
          "2005",
          "2006",
          "2007",
          "2008",
          "2009",
          "2010",
          "2011",
          "2012",
          "2013",
          "2014",
          "2015",
          "2016",
          "2017",
          "2018",
          "2019",
          "2020"
         ],
         "y": [
          7.22106425027519,
          6.919069491309574,
          6.7108261879777125,
          6.869316694413802,
          6.726282068192213,
          6.702729219647774,
          6.540034262513228,
          6.561905287156744,
          6.673893424193318,
          6.719777040465275,
          7.000425948093426,
          7.065347842948844,
          7.014460845802311,
          7.100570863631245,
          7.108980810898789,
          7.0293134808755555,
          6.447587166782539,
          6.719256728259987,
          6.622345126782522,
          6.420386030842196,
          6.301643385181206,
          5.961656184903637,
          5.886586196743614,
          5.904994803019813,
          5.96250788392466,
          5.918203858541747,
          5.67934172237878,
          5.237952459285051
         ]
        },
        {
         "mode": "lines",
         "name": "Latin America & Caribbean",
         "type": "scatter",
         "x": [
          "1990",
          "1991",
          "1992",
          "1993",
          "1994",
          "1995",
          "1996",
          "1997",
          "1998",
          "1999",
          "2000",
          "2001",
          "2002",
          "2003",
          "2004",
          "2005",
          "2006",
          "2007",
          "2008",
          "2009",
          "2010",
          "2011",
          "2012",
          "2013",
          "2014",
          "2015",
          "2016",
          "2017",
          "2018",
          "2019",
          "2020"
         ],
         "y": [
          2.0925810849679087,
          2.115805640885234,
          2.167741729086618,
          2.222771800733759,
          2.3087773688329993,
          2.4248305047196324,
          2.4311394344397175,
          2.3857962110510145,
          2.4372185864231817,
          2.407343040868134,
          2.517533182642292,
          2.5961296875488875,
          2.6508758847055027,
          2.759103644061824,
          2.8369345794429943,
          2.83985193605697,
          2.8120184774340626,
          2.8942177184193687,
          2.9810778052286917,
          3.020714172863363,
          3.0620236847217592,
          3.013303503988917,
          3.0223054026948075,
          2.981378518734539,
          2.8838904497050852,
          2.9325800571720517,
          2.9550792670815222,
          2.6675966266656466
         ]
        },
        {
         "mode": "lines",
         "name": "Middle East & North Africa",
         "type": "scatter",
         "x": [
          "1990",
          "1991",
          "1992",
          "1993",
          "1994",
          "1995",
          "1996",
          "1997",
          "1998",
          "1999",
          "2000",
          "2001",
          "2002",
          "2003",
          "2004",
          "2005",
          "2006",
          "2007",
          "2008",
          "2009",
          "2010",
          "2011",
          "2012",
          "2013",
          "2014",
          "2015",
          "2016",
          "2017",
          "2018",
          "2019",
          "2020"
         ],
         "y": [
          8.493983302856517,
          9.009269130312845,
          9.094648636508595,
          9.20560833634871,
          9.540951798668312,
          9.518148761110904,
          9.623540847710206,
          9.546842948922507,
          9.720876596293943,
          9.939057418518844,
          10.107892509213446,
          10.188193154778698,
          10.313520975637399,
          10.243734744474779,
          9.848955151335527,
          9.760079254108415,
          9.399276100093378,
          9.573678005791452,
          9.54321243815764,
          9.9422390942983,
          9.684467394125903,
          9.595356417014559,
          9.349992101690635,
          9.094815162844984,
          8.923773643295375,
          8.702173914675168,
          8.800404861756705,
          8.481051707882633
         ]
        },
        {
         "mode": "lines",
         "name": "North America",
         "type": "scatter",
         "x": [
          "1990",
          "1991",
          "1992",
          "1993",
          "1994",
          "1995",
          "1996",
          "1997",
          "1998",
          "1999",
          "2000",
          "2001",
          "2002",
          "2003",
          "2004",
          "2005",
          "2006",
          "2007",
          "2008",
          "2009",
          "2010",
          "2011",
          "2012",
          "2013",
          "2014",
          "2015",
          "2016",
          "2017",
          "2018",
          "2019",
          "2020"
         ],
         "y": [
          16.96582030417045,
          17.15834460561705,
          17.2536816706835,
          17.5839902862978,
          18.1373507053352,
          18.17142927392925,
          18.1797980930481,
          18.6136317406715,
          18.25148685762085,
          18.0829704829907,
          18.35743236043045,
          18.195901337376903,
          18.24842030969635,
          17.7705653784861,
          18.211771275892453,
          17.41895877727735,
          16.15659364656365,
          16.6131373249202,
          16.30123066803995,
          15.763292048395801,
          15.975992510031698,
          15.9465469906384,
          15.60496136422425,
          15.285852625222901,
          15.18522007550385,
          15.42958613101315,
          14.86306382908495,
          13.31610143493355
         ]
        },
        {
         "mode": "lines",
         "name": "South Asia",
         "type": "scatter",
         "x": [
          "1990",
          "1991",
          "1992",
          "1993",
          "1994",
          "1995",
          "1996",
          "1997",
          "1998",
          "1999",
          "2000",
          "2001",
          "2002",
          "2003",
          "2004",
          "2005",
          "2006",
          "2007",
          "2008",
          "2009",
          "2010",
          "2011",
          "2012",
          "2013",
          "2014",
          "2015",
          "2016",
          "2017",
          "2018",
          "2019",
          "2020"
         ],
         "y": [
          0.3783024955548392,
          0.39198348396720767,
          0.4374683378781752,
          0.4745333375134008,
          0.522680329168242,
          0.5049437305327192,
          0.5737089797755922,
          0.593635852813227,
          0.5971078034003089,
          0.6583489737969064,
          0.6194208229164124,
          0.6835278956103468,
          0.6830382550677446,
          0.7435811709038987,
          0.7693147213481445,
          0.7910891525593166,
          0.8158097576619737,
          0.8587625918957591,
          0.9447979767156729,
          1.011435071640522,
          0.9891827018138768,
          1.100056485362603,
          1.1012153367136555,
          1.19953869040535,
          1.2496823047609398,
          1.32475700567571,
          1.352501326955267,
          1.099133622971952
         ]
        },
        {
         "mode": "lines",
         "name": "Sub-Saharan Africa",
         "type": "scatter",
         "x": [
          "1990",
          "1991",
          "1992",
          "1993",
          "1994",
          "1995",
          "1996",
          "1997",
          "1998",
          "1999",
          "2000",
          "2001",
          "2002",
          "2003",
          "2004",
          "2005",
          "2006",
          "2007",
          "2008",
          "2009",
          "2010",
          "2011",
          "2012",
          "2013",
          "2014",
          "2015",
          "2016",
          "2017",
          "2018",
          "2019",
          "2020"
         ],
         "y": [
          0.628446197740442,
          0.6361136687103346,
          0.6563092767030404,
          0.6816416182200852,
          0.7029262537638576,
          0.7438226267537188,
          0.7837461554431072,
          0.7286974550884892,
          0.7765361661768202,
          0.7552253352905073,
          0.7727185864102336,
          0.8570513175942647,
          0.8576676593419084,
          0.8466566487857102,
          0.8552356968929526,
          0.8525524445531508,
          0.8531442299825219,
          0.8595116781365093,
          0.8527224830851547,
          0.846356180239663,
          0.8587074978290927,
          0.8874865388211332,
          0.878542714380492,
          0.8929497728544437,
          0.8842803722695086,
          0.8903423886254088,
          0.8841324955940848,
          0.8172596975247026
         ]
        }
       ],
       "layout": {
        "height": 600,
        "template": {
         "data": {
          "bar": [
           {
            "error_x": {
             "color": "#2a3f5f"
            },
            "error_y": {
             "color": "#2a3f5f"
            },
            "marker": {
             "line": {
              "color": "#E5ECF6",
              "width": 0.5
             },
             "pattern": {
              "fillmode": "overlay",
              "size": 10,
              "solidity": 0.2
             }
            },
            "type": "bar"
           }
          ],
          "barpolar": [
           {
            "marker": {
             "line": {
              "color": "#E5ECF6",
              "width": 0.5
             },
             "pattern": {
              "fillmode": "overlay",
              "size": 10,
              "solidity": 0.2
             }
            },
            "type": "barpolar"
           }
          ],
          "carpet": [
           {
            "aaxis": {
             "endlinecolor": "#2a3f5f",
             "gridcolor": "white",
             "linecolor": "white",
             "minorgridcolor": "white",
             "startlinecolor": "#2a3f5f"
            },
            "baxis": {
             "endlinecolor": "#2a3f5f",
             "gridcolor": "white",
             "linecolor": "white",
             "minorgridcolor": "white",
             "startlinecolor": "#2a3f5f"
            },
            "type": "carpet"
           }
          ],
          "choropleth": [
           {
            "colorbar": {
             "outlinewidth": 0,
             "ticks": ""
            },
            "type": "choropleth"
           }
          ],
          "contour": [
           {
            "colorbar": {
             "outlinewidth": 0,
             "ticks": ""
            },
            "colorscale": [
             [
              0,
              "#0d0887"
             ],
             [
              0.1111111111111111,
              "#46039f"
             ],
             [
              0.2222222222222222,
              "#7201a8"
             ],
             [
              0.3333333333333333,
              "#9c179e"
             ],
             [
              0.4444444444444444,
              "#bd3786"
             ],
             [
              0.5555555555555556,
              "#d8576b"
             ],
             [
              0.6666666666666666,
              "#ed7953"
             ],
             [
              0.7777777777777778,
              "#fb9f3a"
             ],
             [
              0.8888888888888888,
              "#fdca26"
             ],
             [
              1,
              "#f0f921"
             ]
            ],
            "type": "contour"
           }
          ],
          "contourcarpet": [
           {
            "colorbar": {
             "outlinewidth": 0,
             "ticks": ""
            },
            "type": "contourcarpet"
           }
          ],
          "heatmap": [
           {
            "colorbar": {
             "outlinewidth": 0,
             "ticks": ""
            },
            "colorscale": [
             [
              0,
              "#0d0887"
             ],
             [
              0.1111111111111111,
              "#46039f"
             ],
             [
              0.2222222222222222,
              "#7201a8"
             ],
             [
              0.3333333333333333,
              "#9c179e"
             ],
             [
              0.4444444444444444,
              "#bd3786"
             ],
             [
              0.5555555555555556,
              "#d8576b"
             ],
             [
              0.6666666666666666,
              "#ed7953"
             ],
             [
              0.7777777777777778,
              "#fb9f3a"
             ],
             [
              0.8888888888888888,
              "#fdca26"
             ],
             [
              1,
              "#f0f921"
             ]
            ],
            "type": "heatmap"
           }
          ],
          "heatmapgl": [
           {
            "colorbar": {
             "outlinewidth": 0,
             "ticks": ""
            },
            "colorscale": [
             [
              0,
              "#0d0887"
             ],
             [
              0.1111111111111111,
              "#46039f"
             ],
             [
              0.2222222222222222,
              "#7201a8"
             ],
             [
              0.3333333333333333,
              "#9c179e"
             ],
             [
              0.4444444444444444,
              "#bd3786"
             ],
             [
              0.5555555555555556,
              "#d8576b"
             ],
             [
              0.6666666666666666,
              "#ed7953"
             ],
             [
              0.7777777777777778,
              "#fb9f3a"
             ],
             [
              0.8888888888888888,
              "#fdca26"
             ],
             [
              1,
              "#f0f921"
             ]
            ],
            "type": "heatmapgl"
           }
          ],
          "histogram": [
           {
            "marker": {
             "pattern": {
              "fillmode": "overlay",
              "size": 10,
              "solidity": 0.2
             }
            },
            "type": "histogram"
           }
          ],
          "histogram2d": [
           {
            "colorbar": {
             "outlinewidth": 0,
             "ticks": ""
            },
            "colorscale": [
             [
              0,
              "#0d0887"
             ],
             [
              0.1111111111111111,
              "#46039f"
             ],
             [
              0.2222222222222222,
              "#7201a8"
             ],
             [
              0.3333333333333333,
              "#9c179e"
             ],
             [
              0.4444444444444444,
              "#bd3786"
             ],
             [
              0.5555555555555556,
              "#d8576b"
             ],
             [
              0.6666666666666666,
              "#ed7953"
             ],
             [
              0.7777777777777778,
              "#fb9f3a"
             ],
             [
              0.8888888888888888,
              "#fdca26"
             ],
             [
              1,
              "#f0f921"
             ]
            ],
            "type": "histogram2d"
           }
          ],
          "histogram2dcontour": [
           {
            "colorbar": {
             "outlinewidth": 0,
             "ticks": ""
            },
            "colorscale": [
             [
              0,
              "#0d0887"
             ],
             [
              0.1111111111111111,
              "#46039f"
             ],
             [
              0.2222222222222222,
              "#7201a8"
             ],
             [
              0.3333333333333333,
              "#9c179e"
             ],
             [
              0.4444444444444444,
              "#bd3786"
             ],
             [
              0.5555555555555556,
              "#d8576b"
             ],
             [
              0.6666666666666666,
              "#ed7953"
             ],
             [
              0.7777777777777778,
              "#fb9f3a"
             ],
             [
              0.8888888888888888,
              "#fdca26"
             ],
             [
              1,
              "#f0f921"
             ]
            ],
            "type": "histogram2dcontour"
           }
          ],
          "mesh3d": [
           {
            "colorbar": {
             "outlinewidth": 0,
             "ticks": ""
            },
            "type": "mesh3d"
           }
          ],
          "parcoords": [
           {
            "line": {
             "colorbar": {
              "outlinewidth": 0,
              "ticks": ""
             }
            },
            "type": "parcoords"
           }
          ],
          "pie": [
           {
            "automargin": true,
            "type": "pie"
           }
          ],
          "scatter": [
           {
            "fillpattern": {
             "fillmode": "overlay",
             "size": 10,
             "solidity": 0.2
            },
            "type": "scatter"
           }
          ],
          "scatter3d": [
           {
            "line": {
             "colorbar": {
              "outlinewidth": 0,
              "ticks": ""
             }
            },
            "marker": {
             "colorbar": {
              "outlinewidth": 0,
              "ticks": ""
             }
            },
            "type": "scatter3d"
           }
          ],
          "scattercarpet": [
           {
            "marker": {
             "colorbar": {
              "outlinewidth": 0,
              "ticks": ""
             }
            },
            "type": "scattercarpet"
           }
          ],
          "scattergeo": [
           {
            "marker": {
             "colorbar": {
              "outlinewidth": 0,
              "ticks": ""
             }
            },
            "type": "scattergeo"
           }
          ],
          "scattergl": [
           {
            "marker": {
             "colorbar": {
              "outlinewidth": 0,
              "ticks": ""
             }
            },
            "type": "scattergl"
           }
          ],
          "scattermapbox": [
           {
            "marker": {
             "colorbar": {
              "outlinewidth": 0,
              "ticks": ""
             }
            },
            "type": "scattermapbox"
           }
          ],
          "scatterpolar": [
           {
            "marker": {
             "colorbar": {
              "outlinewidth": 0,
              "ticks": ""
             }
            },
            "type": "scatterpolar"
           }
          ],
          "scatterpolargl": [
           {
            "marker": {
             "colorbar": {
              "outlinewidth": 0,
              "ticks": ""
             }
            },
            "type": "scatterpolargl"
           }
          ],
          "scatterternary": [
           {
            "marker": {
             "colorbar": {
              "outlinewidth": 0,
              "ticks": ""
             }
            },
            "type": "scatterternary"
           }
          ],
          "surface": [
           {
            "colorbar": {
             "outlinewidth": 0,
             "ticks": ""
            },
            "colorscale": [
             [
              0,
              "#0d0887"
             ],
             [
              0.1111111111111111,
              "#46039f"
             ],
             [
              0.2222222222222222,
              "#7201a8"
             ],
             [
              0.3333333333333333,
              "#9c179e"
             ],
             [
              0.4444444444444444,
              "#bd3786"
             ],
             [
              0.5555555555555556,
              "#d8576b"
             ],
             [
              0.6666666666666666,
              "#ed7953"
             ],
             [
              0.7777777777777778,
              "#fb9f3a"
             ],
             [
              0.8888888888888888,
              "#fdca26"
             ],
             [
              1,
              "#f0f921"
             ]
            ],
            "type": "surface"
           }
          ],
          "table": [
           {
            "cells": {
             "fill": {
              "color": "#EBF0F8"
             },
             "line": {
              "color": "white"
             }
            },
            "header": {
             "fill": {
              "color": "#C8D4E3"
             },
             "line": {
              "color": "white"
             }
            },
            "type": "table"
           }
          ]
         },
         "layout": {
          "annotationdefaults": {
           "arrowcolor": "#2a3f5f",
           "arrowhead": 0,
           "arrowwidth": 1
          },
          "autotypenumbers": "strict",
          "coloraxis": {
           "colorbar": {
            "outlinewidth": 0,
            "ticks": ""
           }
          },
          "colorscale": {
           "diverging": [
            [
             0,
             "#8e0152"
            ],
            [
             0.1,
             "#c51b7d"
            ],
            [
             0.2,
             "#de77ae"
            ],
            [
             0.3,
             "#f1b6da"
            ],
            [
             0.4,
             "#fde0ef"
            ],
            [
             0.5,
             "#f7f7f7"
            ],
            [
             0.6,
             "#e6f5d0"
            ],
            [
             0.7,
             "#b8e186"
            ],
            [
             0.8,
             "#7fbc41"
            ],
            [
             0.9,
             "#4d9221"
            ],
            [
             1,
             "#276419"
            ]
           ],
           "sequential": [
            [
             0,
             "#0d0887"
            ],
            [
             0.1111111111111111,
             "#46039f"
            ],
            [
             0.2222222222222222,
             "#7201a8"
            ],
            [
             0.3333333333333333,
             "#9c179e"
            ],
            [
             0.4444444444444444,
             "#bd3786"
            ],
            [
             0.5555555555555556,
             "#d8576b"
            ],
            [
             0.6666666666666666,
             "#ed7953"
            ],
            [
             0.7777777777777778,
             "#fb9f3a"
            ],
            [
             0.8888888888888888,
             "#fdca26"
            ],
            [
             1,
             "#f0f921"
            ]
           ],
           "sequentialminus": [
            [
             0,
             "#0d0887"
            ],
            [
             0.1111111111111111,
             "#46039f"
            ],
            [
             0.2222222222222222,
             "#7201a8"
            ],
            [
             0.3333333333333333,
             "#9c179e"
            ],
            [
             0.4444444444444444,
             "#bd3786"
            ],
            [
             0.5555555555555556,
             "#d8576b"
            ],
            [
             0.6666666666666666,
             "#ed7953"
            ],
            [
             0.7777777777777778,
             "#fb9f3a"
            ],
            [
             0.8888888888888888,
             "#fdca26"
            ],
            [
             1,
             "#f0f921"
            ]
           ]
          },
          "colorway": [
           "#636efa",
           "#EF553B",
           "#00cc96",
           "#ab63fa",
           "#FFA15A",
           "#19d3f3",
           "#FF6692",
           "#B6E880",
           "#FF97FF",
           "#FECB52"
          ],
          "font": {
           "color": "#2a3f5f"
          },
          "geo": {
           "bgcolor": "white",
           "lakecolor": "white",
           "landcolor": "#E5ECF6",
           "showlakes": true,
           "showland": true,
           "subunitcolor": "white"
          },
          "hoverlabel": {
           "align": "left"
          },
          "hovermode": "closest",
          "mapbox": {
           "style": "light"
          },
          "paper_bgcolor": "white",
          "plot_bgcolor": "#E5ECF6",
          "polar": {
           "angularaxis": {
            "gridcolor": "white",
            "linecolor": "white",
            "ticks": ""
           },
           "bgcolor": "#E5ECF6",
           "radialaxis": {
            "gridcolor": "white",
            "linecolor": "white",
            "ticks": ""
           }
          },
          "scene": {
           "xaxis": {
            "backgroundcolor": "#E5ECF6",
            "gridcolor": "white",
            "gridwidth": 2,
            "linecolor": "white",
            "showbackground": true,
            "ticks": "",
            "zerolinecolor": "white"
           },
           "yaxis": {
            "backgroundcolor": "#E5ECF6",
            "gridcolor": "white",
            "gridwidth": 2,
            "linecolor": "white",
            "showbackground": true,
            "ticks": "",
            "zerolinecolor": "white"
           },
           "zaxis": {
            "backgroundcolor": "#E5ECF6",
            "gridcolor": "white",
            "gridwidth": 2,
            "linecolor": "white",
            "showbackground": true,
            "ticks": "",
            "zerolinecolor": "white"
           }
          },
          "shapedefaults": {
           "line": {
            "color": "#2a3f5f"
           }
          },
          "ternary": {
           "aaxis": {
            "gridcolor": "white",
            "linecolor": "white",
            "ticks": ""
           },
           "baxis": {
            "gridcolor": "white",
            "linecolor": "white",
            "ticks": ""
           },
           "bgcolor": "#E5ECF6",
           "caxis": {
            "gridcolor": "white",
            "linecolor": "white",
            "ticks": ""
           }
          },
          "title": {
           "x": 0.05
          },
          "xaxis": {
           "automargin": true,
           "gridcolor": "white",
           "linecolor": "white",
           "ticks": "",
           "title": {
            "standoff": 15
           },
           "zerolinecolor": "white",
           "zerolinewidth": 2
          },
          "yaxis": {
           "automargin": true,
           "gridcolor": "white",
           "linecolor": "white",
           "ticks": "",
           "title": {
            "standoff": 15
           },
           "zerolinecolor": "white",
           "zerolinewidth": 2
          }
         }
        },
        "title": {
         "text": "Tendencia de Emisiones de CO2 promedio de acuerdo a la region"
        },
        "width": 1000,
        "xaxis": {
         "title": {
          "text": "Año"
         }
        },
        "yaxis": {
         "title": {
          "text": "Emisiones CO2 promedio"
         }
        }
       }
      }
     },
     "metadata": {},
     "output_type": "display_data"
    }
   ],
   "source": [
    "#Graficamos emsiones de acuerdo a los ingresos\n",
    "# Crea el gráfico de líneas\n",
    "fig = go.Figure()\n",
    "\n",
    "for index, row in df_region.iterrows():\n",
    "    fig.add_trace(go.Scatter(x=anios, y=row[4:], mode='lines', name=row['Region']))\n",
    "\n",
    "fig.update_layout(\n",
    "    title='Tendencia de Emisiones de CO2 promedio de acuerdo a la region',\n",
    "    xaxis_title='Año',\n",
    "    yaxis_title='Emisiones CO2 promedio',\n",
    "    height=600,\n",
    "    width=1000\n",
    ")\n",
    "\n",
    "fig.show()"
   ]
  },
  {
   "cell_type": "markdown",
   "metadata": {},
   "source": [
    "### Grafico 5 y 6: Proporcion de responsabilidad de las emisiones por region para 1990 y 2020"
   ]
  },
  {
   "cell_type": "markdown",
   "metadata": {},
   "source": [
    "Se seleccionan estos años debido a que representan el incio y fin de las mediciones de este dataset, a fin de poder identificar si en plazo de 30 años se trasladaron esas reresentaciones. En particular, y debido a la influencia de la actividad industrial en las emsiones de CO2, de aquie se podrian desprender lineas de investigación al respecto de los cambios en la matriz productiva de distintos paises o regiones"
   ]
  },
  {
   "cell_type": "code",
   "execution_count": 86,
   "metadata": {},
   "outputs": [
    {
     "data": {
      "application/vnd.plotly.v1+json": {
       "config": {
        "plotlyServerURL": "https://plot.ly"
       },
       "data": [
        {
         "domain": {
          "x": [
           0,
           1
          ],
          "y": [
           0,
           1
          ]
         },
         "hovertemplate": "Region=%{label}<br>1990=%{value}<extra></extra>",
         "labels": [
          "Europe & Central Asia",
          "Middle East & North Africa",
          "Middle East & North Africa",
          "Europe & Central Asia",
          "Middle East & North Africa",
          "North America",
          "Middle East & North Africa",
          "East Asia & Pacific",
          "North America",
          "Europe & Central Asia",
          "Europe & Central Asia",
          "Europe & Central Asia",
          "Europe & Central Asia",
          "East Asia & Pacific",
          "East Asia & Pacific",
          "Europe & Central Asia",
          "Europe & Central Asia",
          "Europe & Central Asia",
          "Europe & Central Asia",
          "Middle East & North Africa",
          "Latin America & Caribbean",
          "Europe & Central Asia",
          "Europe & Central Asia",
          "Europe & Central Asia",
          "Europe & Central Asia",
          "Europe & Central Asia",
          "Europe & Central Asia",
          "East Asia & Pacific",
          "Europe & Central Asia",
          "East Asia & Pacific",
          "Europe & Central Asia",
          "Europe & Central Asia",
          "Europe & Central Asia",
          "Europe & Central Asia",
          "Europe & Central Asia",
          "Europe & Central Asia",
          "Europe & Central Asia",
          "Europe & Central Asia",
          "Latin America & Caribbean",
          "Europe & Central Asia",
          "Europe & Central Asia",
          "Middle East & North Africa",
          "Europe & Central Asia",
          "Europe & Central Asia",
          "Europe & Central Asia",
          "Europe & Central Asia",
          "Europe & Central Asia",
          "Europe & Central Asia",
          "Middle East & North Africa",
          "East Asia & Pacific",
          "Middle East & North Africa",
          "Middle East & North Africa",
          "Europe & Central Asia",
          "Europe & Central Asia",
          "Europe & Central Asia",
          "Sub-Saharan Africa",
          "Europe & Central Asia",
          "East Asia & Pacific",
          "Europe & Central Asia",
          "East Asia & Pacific",
          "Europe & Central Asia",
          "East Asia & Pacific",
          "Europe & Central Asia",
          "Europe & Central Asia",
          "Europe & Central Asia",
          "Europe & Central Asia",
          "Latin America & Caribbean",
          "Europe & Central Asia",
          "Europe & Central Asia",
          "Sub-Saharan Africa",
          "Europe & Central Asia",
          "Latin America & Caribbean",
          "Middle East & North Africa",
          "Middle East & North Africa",
          "Latin America & Caribbean",
          "Latin America & Caribbean",
          "Latin America & Caribbean",
          "Europe & Central Asia",
          "Latin America & Caribbean",
          "East Asia & Pacific",
          "Latin America & Caribbean",
          "Middle East & North Africa",
          "Latin America & Caribbean",
          "Middle East & North Africa",
          "Europe & Central Asia",
          "Middle East & North Africa",
          "Latin America & Caribbean",
          "Sub-Saharan Africa",
          "Sub-Saharan Africa",
          "Europe & Central Asia",
          "East Asia & Pacific",
          "Latin America & Caribbean",
          "Europe & Central Asia",
          "Middle East & North Africa",
          "Sub-Saharan Africa",
          "East Asia & Pacific",
          "Latin America & Caribbean",
          "Middle East & North Africa",
          "Middle East & North Africa",
          "Latin America & Caribbean",
          "Latin America & Caribbean",
          "Latin America & Caribbean",
          "Latin America & Caribbean",
          "Sub-Saharan Africa",
          "Latin America & Caribbean",
          "Sub-Saharan Africa",
          "Latin America & Caribbean",
          "Latin America & Caribbean",
          "Latin America & Caribbean",
          "Sub-Saharan Africa",
          "Latin America & Caribbean",
          "Latin America & Caribbean",
          "East Asia & Pacific",
          "Latin America & Caribbean",
          "Latin America & Caribbean",
          "Middle East & North Africa",
          "East Asia & Pacific",
          "East Asia & Pacific",
          "Sub-Saharan Africa",
          "Sub-Saharan Africa",
          "Latin America & Caribbean",
          "East Asia & Pacific",
          "South Asia",
          "East Asia & Pacific",
          "South Asia",
          "East Asia & Pacific",
          "Sub-Saharan Africa",
          "East Asia & Pacific",
          "South Asia",
          "Latin America & Caribbean",
          "Sub-Saharan Africa",
          "Middle East & North Africa",
          "Latin America & Caribbean",
          "Middle East & North Africa",
          "East Asia & Pacific",
          "Latin America & Caribbean",
          "Latin America & Caribbean",
          "East Asia & Pacific",
          "Latin America & Caribbean",
          "Sub-Saharan Africa",
          "Sub-Saharan Africa",
          "Sub-Saharan Africa",
          "South Asia",
          "East Asia & Pacific",
          "Sub-Saharan Africa",
          "East Asia & Pacific",
          "Sub-Saharan Africa",
          "Sub-Saharan Africa",
          "Sub-Saharan Africa",
          "Sub-Saharan Africa",
          "Sub-Saharan Africa",
          "South Asia",
          "Sub-Saharan Africa",
          "South Asia",
          "Sub-Saharan Africa",
          "Sub-Saharan Africa",
          "Sub-Saharan Africa",
          "Sub-Saharan Africa",
          "Sub-Saharan Africa",
          "Sub-Saharan Africa",
          "Latin America & Caribbean",
          "East Asia & Pacific",
          "East Asia & Pacific",
          "South Asia",
          "Sub-Saharan Africa",
          "East Asia & Pacific",
          "Sub-Saharan Africa",
          "Sub-Saharan Africa",
          "Sub-Saharan Africa",
          "Sub-Saharan Africa",
          "Sub-Saharan Africa",
          "Sub-Saharan Africa",
          "Sub-Saharan Africa",
          "Sub-Saharan Africa",
          "Sub-Saharan Africa",
          "Sub-Saharan Africa",
          "Sub-Saharan Africa",
          "Sub-Saharan Africa",
          "Sub-Saharan Africa",
          "Sub-Saharan Africa",
          "Sub-Saharan Africa",
          "South Asia",
          "Sub-Saharan Africa",
          "Sub-Saharan Africa",
          "East Asia & Pacific",
          "Sub-Saharan Africa",
          "East Asia & Pacific",
          "East Asia & Pacific",
          "East Asia & Pacific"
         ],
         "legendgroup": "",
         "name": "",
         "showlegend": true,
         "type": "pie",
         "values": [
          29.5534895901532,
          29.0557960919948,
          28.3996151016019,
          22.0147032770107,
          20.7520032159685,
          19.4073358624806,
          17.3907332689329,
          15.4371827741345,
          15.1489693200763,
          14.8208689239845,
          14.6214892920399,
          14.5125336432591,
          13.2703858442825,
          13.1589914565534,
          12.447313765615,
          12.0265802780856,
          12.0007967146541,
          10.9670355667222,
          10.9422550918683,
          10.7095181603127,
          10.3846925191746,
          10.3434357006084,
          10.2941087223169,
          10.1341402975352,
          10.1106043078901,
          9.81306879909312,
          9.79748655164197,
          9.50730063548281,
          9.18938372873063,
          8.83159834140495,
          8.81096445221279,
          8.71263154308004,
          8.44267722714858,
          8.16062483522278,
          7.64231279382795,
          7.59215217756538,
          7.59010660536478,
          7.45396643995986,
          7.44276430753771,
          7.44051494202937,
          7.41599907108039,
          7.25448497854077,
          7.14505342455223,
          7.05082062564233,
          6.97382340691379,
          6.91711649574135,
          6.90925063061818,
          6.77062559023022,
          6.75091214668551,
          6.70031233107094,
          6.60523218311311,
          6.53527966795607,
          6.49904356935828,
          6.45169792535767,
          6.23288099373338,
          6.20937283791364,
          6.13833638319543,
          5.99976959729957,
          5.82270133164236,
          5.77746541737122,
          5.74196489517309,
          5.73606904350643,
          5.57991912924335,
          5.5303681586295,
          5.33243145221402,
          5.18361723446894,
          4.2639915519096,
          4.25786751198568,
          4.20282226464088,
          4.16989139678626,
          4.113763718272,
          3.87966067648377,
          3.63602982629042,
          3.55724665265993,
          3.4455533097524,
          3.35209115170495,
          3.29875169033623,
          3.15868848990389,
          3.1215327566962,
          3.11781878391195,
          3.07356315436491,
          2.85411627406527,
          2.79801161531647,
          2.61004999921025,
          2.56235800281945,
          2.466365604238,
          2.28838357690416,
          2.20409455162789,
          2.09277257703094,
          2.03368119515824,
          1.91454626338438,
          1.86374863765068,
          1.84403546341413,
          1.73837203998141,
          1.63492929972662,
          1.59348784439023,
          1.56856498856938,
          1.56443220079584,
          1.53361823715368,
          1.5141806977389,
          1.47586991069813,
          1.4666876356537,
          1.35487452653179,
          1.34195649850027,
          1.31313162278407,
          1.2894447495407,
          1.234740193493,
          1.16005532726887,
          1.10263649732838,
          1.09947817052726,
          1.09915721348197,
          0.944194966968125,
          0.913573286521533,
          0.909110194781735,
          0.902404974021675,
          0.874932348598626,
          0.8518439737863,
          0.814355525959575,
          0.775710020639279,
          0.764263696349592,
          0.734307075484278,
          0.697015900675234,
          0.69657756815747,
          0.663899149071837,
          0.647451316293756,
          0.561090740114029,
          0.554941321223965,
          0.529176031298681,
          0.511428117138821,
          0.510495307567141,
          0.504165260873978,
          0.496616067996693,
          0.485570230866016,
          0.474900939579641,
          0.471664646128124,
          0.457422501430998,
          0.44405077602219,
          0.443392850041754,
          0.434469617236908,
          0.419635428635806,
          0.386395552711832,
          0.356577805399432,
          0.331977179366881,
          0.319471806613066,
          0.308691572625853,
          0.288852865453035,
          0.27065569439678,
          0.254407994050131,
          0.253706743000318,
          0.252222231108939,
          0.227143353701847,
          0.223156185963643,
          0.205373414230058,
          0.191389344873899,
          0.186908523413055,
          0.176570102644854,
          0.16293797714013,
          0.157235945984865,
          0.151930209524516,
          0.149500911826682,
          0.147346025771187,
          0.141448003368494,
          0.118893678743699,
          0.107550001259477,
          0.10503070682271,
          0.101821583896459,
          0.0913285401226778,
          0.0883361272169165,
          0.0839804144170325,
          0.0757332673631621,
          0.0749935074017303,
          0.0735194160616342,
          0.0732736044258153,
          0.0722048055232517,
          0.0675496090625242,
          0.0667402428219058,
          0.0650614952141307,
          0.0643060696974083,
          0.0526836443270216,
          0.0487434021991663,
          0.0482621762993678,
          0.0478575976485138,
          0.0446779741201128,
          0.0342098981489637,
          0,
          0,
          0,
          0,
          0
         ]
        }
       ],
       "layout": {
        "height": 600,
        "legend": {
         "tracegroupgap": 0
        },
        "template": {
         "data": {
          "bar": [
           {
            "error_x": {
             "color": "#2a3f5f"
            },
            "error_y": {
             "color": "#2a3f5f"
            },
            "marker": {
             "line": {
              "color": "#E5ECF6",
              "width": 0.5
             },
             "pattern": {
              "fillmode": "overlay",
              "size": 10,
              "solidity": 0.2
             }
            },
            "type": "bar"
           }
          ],
          "barpolar": [
           {
            "marker": {
             "line": {
              "color": "#E5ECF6",
              "width": 0.5
             },
             "pattern": {
              "fillmode": "overlay",
              "size": 10,
              "solidity": 0.2
             }
            },
            "type": "barpolar"
           }
          ],
          "carpet": [
           {
            "aaxis": {
             "endlinecolor": "#2a3f5f",
             "gridcolor": "white",
             "linecolor": "white",
             "minorgridcolor": "white",
             "startlinecolor": "#2a3f5f"
            },
            "baxis": {
             "endlinecolor": "#2a3f5f",
             "gridcolor": "white",
             "linecolor": "white",
             "minorgridcolor": "white",
             "startlinecolor": "#2a3f5f"
            },
            "type": "carpet"
           }
          ],
          "choropleth": [
           {
            "colorbar": {
             "outlinewidth": 0,
             "ticks": ""
            },
            "type": "choropleth"
           }
          ],
          "contour": [
           {
            "colorbar": {
             "outlinewidth": 0,
             "ticks": ""
            },
            "colorscale": [
             [
              0,
              "#0d0887"
             ],
             [
              0.1111111111111111,
              "#46039f"
             ],
             [
              0.2222222222222222,
              "#7201a8"
             ],
             [
              0.3333333333333333,
              "#9c179e"
             ],
             [
              0.4444444444444444,
              "#bd3786"
             ],
             [
              0.5555555555555556,
              "#d8576b"
             ],
             [
              0.6666666666666666,
              "#ed7953"
             ],
             [
              0.7777777777777778,
              "#fb9f3a"
             ],
             [
              0.8888888888888888,
              "#fdca26"
             ],
             [
              1,
              "#f0f921"
             ]
            ],
            "type": "contour"
           }
          ],
          "contourcarpet": [
           {
            "colorbar": {
             "outlinewidth": 0,
             "ticks": ""
            },
            "type": "contourcarpet"
           }
          ],
          "heatmap": [
           {
            "colorbar": {
             "outlinewidth": 0,
             "ticks": ""
            },
            "colorscale": [
             [
              0,
              "#0d0887"
             ],
             [
              0.1111111111111111,
              "#46039f"
             ],
             [
              0.2222222222222222,
              "#7201a8"
             ],
             [
              0.3333333333333333,
              "#9c179e"
             ],
             [
              0.4444444444444444,
              "#bd3786"
             ],
             [
              0.5555555555555556,
              "#d8576b"
             ],
             [
              0.6666666666666666,
              "#ed7953"
             ],
             [
              0.7777777777777778,
              "#fb9f3a"
             ],
             [
              0.8888888888888888,
              "#fdca26"
             ],
             [
              1,
              "#f0f921"
             ]
            ],
            "type": "heatmap"
           }
          ],
          "heatmapgl": [
           {
            "colorbar": {
             "outlinewidth": 0,
             "ticks": ""
            },
            "colorscale": [
             [
              0,
              "#0d0887"
             ],
             [
              0.1111111111111111,
              "#46039f"
             ],
             [
              0.2222222222222222,
              "#7201a8"
             ],
             [
              0.3333333333333333,
              "#9c179e"
             ],
             [
              0.4444444444444444,
              "#bd3786"
             ],
             [
              0.5555555555555556,
              "#d8576b"
             ],
             [
              0.6666666666666666,
              "#ed7953"
             ],
             [
              0.7777777777777778,
              "#fb9f3a"
             ],
             [
              0.8888888888888888,
              "#fdca26"
             ],
             [
              1,
              "#f0f921"
             ]
            ],
            "type": "heatmapgl"
           }
          ],
          "histogram": [
           {
            "marker": {
             "pattern": {
              "fillmode": "overlay",
              "size": 10,
              "solidity": 0.2
             }
            },
            "type": "histogram"
           }
          ],
          "histogram2d": [
           {
            "colorbar": {
             "outlinewidth": 0,
             "ticks": ""
            },
            "colorscale": [
             [
              0,
              "#0d0887"
             ],
             [
              0.1111111111111111,
              "#46039f"
             ],
             [
              0.2222222222222222,
              "#7201a8"
             ],
             [
              0.3333333333333333,
              "#9c179e"
             ],
             [
              0.4444444444444444,
              "#bd3786"
             ],
             [
              0.5555555555555556,
              "#d8576b"
             ],
             [
              0.6666666666666666,
              "#ed7953"
             ],
             [
              0.7777777777777778,
              "#fb9f3a"
             ],
             [
              0.8888888888888888,
              "#fdca26"
             ],
             [
              1,
              "#f0f921"
             ]
            ],
            "type": "histogram2d"
           }
          ],
          "histogram2dcontour": [
           {
            "colorbar": {
             "outlinewidth": 0,
             "ticks": ""
            },
            "colorscale": [
             [
              0,
              "#0d0887"
             ],
             [
              0.1111111111111111,
              "#46039f"
             ],
             [
              0.2222222222222222,
              "#7201a8"
             ],
             [
              0.3333333333333333,
              "#9c179e"
             ],
             [
              0.4444444444444444,
              "#bd3786"
             ],
             [
              0.5555555555555556,
              "#d8576b"
             ],
             [
              0.6666666666666666,
              "#ed7953"
             ],
             [
              0.7777777777777778,
              "#fb9f3a"
             ],
             [
              0.8888888888888888,
              "#fdca26"
             ],
             [
              1,
              "#f0f921"
             ]
            ],
            "type": "histogram2dcontour"
           }
          ],
          "mesh3d": [
           {
            "colorbar": {
             "outlinewidth": 0,
             "ticks": ""
            },
            "type": "mesh3d"
           }
          ],
          "parcoords": [
           {
            "line": {
             "colorbar": {
              "outlinewidth": 0,
              "ticks": ""
             }
            },
            "type": "parcoords"
           }
          ],
          "pie": [
           {
            "automargin": true,
            "type": "pie"
           }
          ],
          "scatter": [
           {
            "fillpattern": {
             "fillmode": "overlay",
             "size": 10,
             "solidity": 0.2
            },
            "type": "scatter"
           }
          ],
          "scatter3d": [
           {
            "line": {
             "colorbar": {
              "outlinewidth": 0,
              "ticks": ""
             }
            },
            "marker": {
             "colorbar": {
              "outlinewidth": 0,
              "ticks": ""
             }
            },
            "type": "scatter3d"
           }
          ],
          "scattercarpet": [
           {
            "marker": {
             "colorbar": {
              "outlinewidth": 0,
              "ticks": ""
             }
            },
            "type": "scattercarpet"
           }
          ],
          "scattergeo": [
           {
            "marker": {
             "colorbar": {
              "outlinewidth": 0,
              "ticks": ""
             }
            },
            "type": "scattergeo"
           }
          ],
          "scattergl": [
           {
            "marker": {
             "colorbar": {
              "outlinewidth": 0,
              "ticks": ""
             }
            },
            "type": "scattergl"
           }
          ],
          "scattermapbox": [
           {
            "marker": {
             "colorbar": {
              "outlinewidth": 0,
              "ticks": ""
             }
            },
            "type": "scattermapbox"
           }
          ],
          "scatterpolar": [
           {
            "marker": {
             "colorbar": {
              "outlinewidth": 0,
              "ticks": ""
             }
            },
            "type": "scatterpolar"
           }
          ],
          "scatterpolargl": [
           {
            "marker": {
             "colorbar": {
              "outlinewidth": 0,
              "ticks": ""
             }
            },
            "type": "scatterpolargl"
           }
          ],
          "scatterternary": [
           {
            "marker": {
             "colorbar": {
              "outlinewidth": 0,
              "ticks": ""
             }
            },
            "type": "scatterternary"
           }
          ],
          "surface": [
           {
            "colorbar": {
             "outlinewidth": 0,
             "ticks": ""
            },
            "colorscale": [
             [
              0,
              "#0d0887"
             ],
             [
              0.1111111111111111,
              "#46039f"
             ],
             [
              0.2222222222222222,
              "#7201a8"
             ],
             [
              0.3333333333333333,
              "#9c179e"
             ],
             [
              0.4444444444444444,
              "#bd3786"
             ],
             [
              0.5555555555555556,
              "#d8576b"
             ],
             [
              0.6666666666666666,
              "#ed7953"
             ],
             [
              0.7777777777777778,
              "#fb9f3a"
             ],
             [
              0.8888888888888888,
              "#fdca26"
             ],
             [
              1,
              "#f0f921"
             ]
            ],
            "type": "surface"
           }
          ],
          "table": [
           {
            "cells": {
             "fill": {
              "color": "#EBF0F8"
             },
             "line": {
              "color": "white"
             }
            },
            "header": {
             "fill": {
              "color": "#C8D4E3"
             },
             "line": {
              "color": "white"
             }
            },
            "type": "table"
           }
          ]
         },
         "layout": {
          "annotationdefaults": {
           "arrowcolor": "#2a3f5f",
           "arrowhead": 0,
           "arrowwidth": 1
          },
          "autotypenumbers": "strict",
          "coloraxis": {
           "colorbar": {
            "outlinewidth": 0,
            "ticks": ""
           }
          },
          "colorscale": {
           "diverging": [
            [
             0,
             "#8e0152"
            ],
            [
             0.1,
             "#c51b7d"
            ],
            [
             0.2,
             "#de77ae"
            ],
            [
             0.3,
             "#f1b6da"
            ],
            [
             0.4,
             "#fde0ef"
            ],
            [
             0.5,
             "#f7f7f7"
            ],
            [
             0.6,
             "#e6f5d0"
            ],
            [
             0.7,
             "#b8e186"
            ],
            [
             0.8,
             "#7fbc41"
            ],
            [
             0.9,
             "#4d9221"
            ],
            [
             1,
             "#276419"
            ]
           ],
           "sequential": [
            [
             0,
             "#0d0887"
            ],
            [
             0.1111111111111111,
             "#46039f"
            ],
            [
             0.2222222222222222,
             "#7201a8"
            ],
            [
             0.3333333333333333,
             "#9c179e"
            ],
            [
             0.4444444444444444,
             "#bd3786"
            ],
            [
             0.5555555555555556,
             "#d8576b"
            ],
            [
             0.6666666666666666,
             "#ed7953"
            ],
            [
             0.7777777777777778,
             "#fb9f3a"
            ],
            [
             0.8888888888888888,
             "#fdca26"
            ],
            [
             1,
             "#f0f921"
            ]
           ],
           "sequentialminus": [
            [
             0,
             "#0d0887"
            ],
            [
             0.1111111111111111,
             "#46039f"
            ],
            [
             0.2222222222222222,
             "#7201a8"
            ],
            [
             0.3333333333333333,
             "#9c179e"
            ],
            [
             0.4444444444444444,
             "#bd3786"
            ],
            [
             0.5555555555555556,
             "#d8576b"
            ],
            [
             0.6666666666666666,
             "#ed7953"
            ],
            [
             0.7777777777777778,
             "#fb9f3a"
            ],
            [
             0.8888888888888888,
             "#fdca26"
            ],
            [
             1,
             "#f0f921"
            ]
           ]
          },
          "colorway": [
           "#636efa",
           "#EF553B",
           "#00cc96",
           "#ab63fa",
           "#FFA15A",
           "#19d3f3",
           "#FF6692",
           "#B6E880",
           "#FF97FF",
           "#FECB52"
          ],
          "font": {
           "color": "#2a3f5f"
          },
          "geo": {
           "bgcolor": "white",
           "lakecolor": "white",
           "landcolor": "#E5ECF6",
           "showlakes": true,
           "showland": true,
           "subunitcolor": "white"
          },
          "hoverlabel": {
           "align": "left"
          },
          "hovermode": "closest",
          "mapbox": {
           "style": "light"
          },
          "paper_bgcolor": "white",
          "plot_bgcolor": "#E5ECF6",
          "polar": {
           "angularaxis": {
            "gridcolor": "white",
            "linecolor": "white",
            "ticks": ""
           },
           "bgcolor": "#E5ECF6",
           "radialaxis": {
            "gridcolor": "white",
            "linecolor": "white",
            "ticks": ""
           }
          },
          "scene": {
           "xaxis": {
            "backgroundcolor": "#E5ECF6",
            "gridcolor": "white",
            "gridwidth": 2,
            "linecolor": "white",
            "showbackground": true,
            "ticks": "",
            "zerolinecolor": "white"
           },
           "yaxis": {
            "backgroundcolor": "#E5ECF6",
            "gridcolor": "white",
            "gridwidth": 2,
            "linecolor": "white",
            "showbackground": true,
            "ticks": "",
            "zerolinecolor": "white"
           },
           "zaxis": {
            "backgroundcolor": "#E5ECF6",
            "gridcolor": "white",
            "gridwidth": 2,
            "linecolor": "white",
            "showbackground": true,
            "ticks": "",
            "zerolinecolor": "white"
           }
          },
          "shapedefaults": {
           "line": {
            "color": "#2a3f5f"
           }
          },
          "ternary": {
           "aaxis": {
            "gridcolor": "white",
            "linecolor": "white",
            "ticks": ""
           },
           "baxis": {
            "gridcolor": "white",
            "linecolor": "white",
            "ticks": ""
           },
           "bgcolor": "#E5ECF6",
           "caxis": {
            "gridcolor": "white",
            "linecolor": "white",
            "ticks": ""
           }
          },
          "title": {
           "x": 0.05
          },
          "xaxis": {
           "automargin": true,
           "gridcolor": "white",
           "linecolor": "white",
           "ticks": "",
           "title": {
            "standoff": 15
           },
           "zerolinecolor": "white",
           "zerolinewidth": 2
          },
          "yaxis": {
           "automargin": true,
           "gridcolor": "white",
           "linecolor": "white",
           "ticks": "",
           "title": {
            "standoff": 15
           },
           "zerolinecolor": "white",
           "zerolinewidth": 2
          }
         }
        },
        "title": {
         "text": "Distribución de Emisiones en 1990"
        },
        "width": 800
       }
      }
     },
     "metadata": {},
     "output_type": "display_data"
    }
   ],
   "source": [
    "anio_seleccionado = '1990'\n",
    "df_anio = df[['Region', anio_seleccionado]]\n",
    "df_anio_sorted = df_anio.sort_values(by=anio_seleccionado, ascending=False)\n",
    "\n",
    "# Crea el gráfico de torta con Plotly\n",
    "fig = px.pie(df_anio_sorted, values=anio_seleccionado, names='Region',\n",
    "             title=f'Distribución de Emisiones en {anio_seleccionado}', width=800, height=600)\n",
    "fig.show()"
   ]
  },
  {
   "cell_type": "code",
   "execution_count": 87,
   "metadata": {},
   "outputs": [
    {
     "data": {
      "application/vnd.plotly.v1+json": {
       "config": {
        "plotlyServerURL": "https://plot.ly"
       },
       "data": [
        {
         "domain": {
          "x": [
           0,
           1
          ],
          "y": [
           0,
           1
          ]
         },
         "hovertemplate": "Region=%{label}<br>2020=%{value}<extra></extra>",
         "labels": [
          "Middle East & North Africa",
          "Middle East & North Africa",
          "East Asia & Pacific",
          "Middle East & North Africa",
          "Middle East & North Africa",
          "Middle East & North Africa",
          "East Asia & Pacific",
          "Middle East & North Africa",
          "North America",
          "North America",
          "Europe & Central Asia",
          "Europe & Central Asia",
          "Europe & Central Asia",
          "East Asia & Pacific",
          "Europe & Central Asia",
          "Latin America & Caribbean",
          "East Asia & Pacific",
          "Europe & Central Asia",
          "East Asia & Pacific",
          "East Asia & Pacific",
          "East Asia & Pacific",
          "Europe & Central Asia",
          "Europe & Central Asia",
          "East Asia & Pacific",
          "Europe & Central Asia",
          "Europe & Central Asia",
          "Middle East & North Africa",
          "Europe & Central Asia",
          "Europe & Central Asia",
          "Europe & Central Asia",
          "Sub-Saharan Africa",
          "Middle East & North Africa",
          "Europe & Central Asia",
          "Europe & Central Asia",
          "East Asia & Pacific",
          "Middle East & North Africa",
          "Europe & Central Asia",
          "East Asia & Pacific",
          "Sub-Saharan Africa",
          "Latin America & Caribbean",
          "Europe & Central Asia",
          "Europe & Central Asia",
          "Europe & Central Asia",
          "Europe & Central Asia",
          "Europe & Central Asia",
          "Europe & Central Asia",
          "Latin America & Caribbean",
          "Europe & Central Asia",
          "Latin America & Caribbean",
          "Europe & Central Asia",
          "Europe & Central Asia",
          "Europe & Central Asia",
          "Europe & Central Asia",
          "Europe & Central Asia",
          "Europe & Central Asia",
          "Latin America & Caribbean",
          "Latin America & Caribbean",
          "Europe & Central Asia",
          "Europe & Central Asia",
          "Europe & Central Asia",
          "Europe & Central Asia",
          "Europe & Central Asia",
          "Europe & Central Asia",
          "Latin America & Caribbean",
          "Europe & Central Asia",
          "Middle East & North Africa",
          "Middle East & North Africa",
          "Europe & Central Asia",
          "Europe & Central Asia",
          "Middle East & North Africa",
          "East Asia & Pacific",
          "East Asia & Pacific",
          "Europe & Central Asia",
          "Europe & Central Asia",
          "Europe & Central Asia",
          "Latin America & Caribbean",
          "Latin America & Caribbean",
          "Europe & Central Asia",
          "Europe & Central Asia",
          "East Asia & Pacific",
          "Europe & Central Asia",
          "Europe & Central Asia",
          "Europe & Central Asia",
          "Middle East & North Africa",
          "Latin America & Caribbean",
          "Sub-Saharan Africa",
          "South Asia",
          "Latin America & Caribbean",
          "Europe & Central Asia",
          "Sub-Saharan Africa",
          "Latin America & Caribbean",
          "East Asia & Pacific",
          "East Asia & Pacific",
          "Middle East & North Africa",
          "Europe & Central Asia",
          "Sub-Saharan Africa",
          "Sub-Saharan Africa",
          "Latin America & Caribbean",
          "Latin America & Caribbean",
          "Latin America & Caribbean",
          "Latin America & Caribbean",
          "Latin America & Caribbean",
          "East Asia & Pacific",
          "Latin America & Caribbean",
          "East Asia & Pacific",
          "Middle East & North Africa",
          "Latin America & Caribbean",
          "Latin America & Caribbean",
          "Middle East & North Africa",
          "Latin America & Caribbean",
          "Middle East & North Africa",
          "Latin America & Caribbean",
          "South Asia",
          "Latin America & Caribbean",
          "Europe & Central Asia",
          "Latin America & Caribbean",
          "Latin America & Caribbean",
          "Europe & Central Asia",
          "Latin America & Caribbean",
          "South Asia",
          "Sub-Saharan Africa",
          "Middle East & North Africa",
          "East Asia & Pacific",
          "Latin America & Caribbean",
          "East Asia & Pacific",
          "East Asia & Pacific",
          "East Asia & Pacific",
          "Sub-Saharan Africa",
          "Sub-Saharan Africa",
          "Latin America & Caribbean",
          "Latin America & Caribbean",
          "South Asia",
          "Europe & Central Asia",
          "Sub-Saharan Africa",
          "East Asia & Pacific",
          "East Asia & Pacific",
          "Latin America & Caribbean",
          "Sub-Saharan Africa",
          "South Asia",
          "Latin America & Caribbean",
          "Sub-Saharan Africa",
          "Sub-Saharan Africa",
          "East Asia & Pacific",
          "Sub-Saharan Africa",
          "Sub-Saharan Africa",
          "East Asia & Pacific",
          "Sub-Saharan Africa",
          "East Asia & Pacific",
          "Sub-Saharan Africa",
          "Sub-Saharan Africa",
          "South Asia",
          "South Asia",
          "Sub-Saharan Africa",
          "East Asia & Pacific",
          "Sub-Saharan Africa",
          "Sub-Saharan Africa",
          "Sub-Saharan Africa",
          "Middle East & North Africa",
          "East Asia & Pacific",
          "Sub-Saharan Africa",
          "Sub-Saharan Africa",
          "Sub-Saharan Africa",
          "East Asia & Pacific",
          "East Asia & Pacific",
          "Middle East & North Africa",
          "Sub-Saharan Africa",
          "Latin America & Caribbean",
          "Sub-Saharan Africa",
          "Sub-Saharan Africa",
          "Sub-Saharan Africa",
          "Sub-Saharan Africa",
          "South Asia",
          "Sub-Saharan Africa",
          "Sub-Saharan Africa",
          "Sub-Saharan Africa",
          "Sub-Saharan Africa",
          "Sub-Saharan Africa",
          "Sub-Saharan Africa",
          "Sub-Saharan Africa",
          "Sub-Saharan Africa",
          "Sub-Saharan Africa",
          "Sub-Saharan Africa",
          "Sub-Saharan Africa",
          "Sub-Saharan Africa",
          "Sub-Saharan Africa",
          "Sub-Saharan Africa",
          "Sub-Saharan Africa",
          "Sub-Saharan Africa",
          "Sub-Saharan Africa"
         ],
         "legendgroup": "",
         "name": "",
         "showlegend": true,
         "type": "pie",
         "values": [
          31.7268424513247,
          21.9769078065259,
          21.7058124398664,
          21.1696102506992,
          20.2522716801426,
          15.6362010028175,
          14.7726575989848,
          14.2665853675408,
          13.5993749178773,
          13.0328279519898,
          12.4569532326913,
          11.2977433059429,
          11.2322880672434,
          10.9900295814285,
          10.1840862992321,
          10.1571191722541,
          8.80258179390162,
          8.30401749583889,
          8.0314958696668,
          7.75613790659769,
          7.68668370206727,
          7.4715534787719,
          7.39813065774681,
          7.38371541222915,
          7.36756337292709,
          7.2552210281684,
          7.06335132057733,
          6.76822759018266,
          6.7250800496331,
          6.71451717217514,
          6.68756314737781,
          6.68280547080212,
          6.63264573733546,
          6.57014512772575,
          6.43064533509798,
          6.34521600416707,
          6.31230587447531,
          6.16079918274331,
          6.08051837257013,
          6.04225147673512,
          5.93473517885826,
          5.84240729590088,
          5.77714799227799,
          5.47199800894842,
          5.33839981587368,
          5.31905480792852,
          5.12173012173012,
          4.92328037940501,
          4.84866294446077,
          4.84226692232433,
          4.76718493701839,
          4.73237277079935,
          4.69123730751634,
          4.60114225090135,
          4.59165290704788,
          4.39515106359663,
          4.28507655687612,
          4.2795945712141,
          4.18400041504391,
          4.06756091201437,
          4.04207281475341,
          3.95368245187991,
          3.94746536485266,
          3.90487115816925,
          3.86070539173057,
          3.84217781974399,
          3.79219353680069,
          3.78490758691711,
          3.75381618922792,
          3.7182233703076,
          3.71425580600412,
          3.67644008813984,
          3.66384799772938,
          3.64561216849281,
          3.56413750145988,
          3.47277101663067,
          3.4056175404138,
          3.39884957289227,
          3.37630378548758,
          3.36175395858709,
          3.27942018720106,
          3.26784636811087,
          3.24298914312747,
          3.12555789277592,
          3.04076637477226,
          2.93851410805884,
          2.82638529813116,
          2.78513922906543,
          2.75470919618902,
          2.72573085162172,
          2.62406702085507,
          2.6202834413044,
          2.53380323866123,
          2.4086225282388,
          2.40468376195106,
          2.33327357514897,
          2.2634631138367,
          2.26126814362109,
          2.23144302481653,
          2.15276967847473,
          2.100695771848,
          2.08018172191441,
          2.07165896221472,
          2.06904180772051,
          2.02714861876503,
          1.96112257208929,
          1.95757534925331,
          1.94252335631484,
          1.9191724264898,
          1.89971905049917,
          1.81852638730999,
          1.74110771521393,
          1.57609323191648,
          1.55225942282078,
          1.54455011524574,
          1.53946469560316,
          1.39856601861908,
          1.37997537956504,
          1.35999554957394,
          1.34005431673023,
          1.25459166977367,
          1.21480248375323,
          1.18967945167284,
          1.14459119207034,
          1.13758365931038,
          1.12204761814278,
          1.11709628844161,
          1.06515172319099,
          1.02564216316934,
          1.01328024350636,
          1.00040733564819,
          0.99668324284867,
          0.977533024275801,
          0.972087527685903,
          0.960782397908146,
          0.958913885073056,
          0.872911171700029,
          0.855176405836122,
          0.81036021551031,
          0.678252104273379,
          0.649800561203009,
          0.645350140184137,
          0.634080348390974,
          0.631204805964476,
          0.602887453142675,
          0.596259824735748,
          0.592742967779037,
          0.563251566211675,
          0.537510175389551,
          0.530483547000938,
          0.510647559277094,
          0.509366247354604,
          0.467953928316626,
          0.449933972782553,
          0.407112182850678,
          0.406347356890383,
          0.40190271250386,
          0.392329171237878,
          0.389174968317372,
          0.37478265803136,
          0.374079219355755,
          0.34364615086247,
          0.343155165981408,
          0.323065549175264,
          0.308514614308256,
          0.286061843654428,
          0.283815024249564,
          0.253533188747507,
          0.237529598930845,
          0.233945592120175,
          0.231838923937177,
          0.223478872007068,
          0.222767552715213,
          0.198657542968412,
          0.195565971417317,
          0.16430913651009,
          0.163208368967987,
          0.154431771590205,
          0.127793034826946,
          0.127277607278142,
          0.105124140047262,
          0.0972695405949093,
          0.0942281870969025,
          0.0903255776910309,
          0.0846361581872504,
          0.0583840218352736,
          0.044282072685485,
          0.0399346532651356,
          0.0325847808481787
         ]
        }
       ],
       "layout": {
        "height": 600,
        "legend": {
         "tracegroupgap": 0
        },
        "template": {
         "data": {
          "bar": [
           {
            "error_x": {
             "color": "#2a3f5f"
            },
            "error_y": {
             "color": "#2a3f5f"
            },
            "marker": {
             "line": {
              "color": "#E5ECF6",
              "width": 0.5
             },
             "pattern": {
              "fillmode": "overlay",
              "size": 10,
              "solidity": 0.2
             }
            },
            "type": "bar"
           }
          ],
          "barpolar": [
           {
            "marker": {
             "line": {
              "color": "#E5ECF6",
              "width": 0.5
             },
             "pattern": {
              "fillmode": "overlay",
              "size": 10,
              "solidity": 0.2
             }
            },
            "type": "barpolar"
           }
          ],
          "carpet": [
           {
            "aaxis": {
             "endlinecolor": "#2a3f5f",
             "gridcolor": "white",
             "linecolor": "white",
             "minorgridcolor": "white",
             "startlinecolor": "#2a3f5f"
            },
            "baxis": {
             "endlinecolor": "#2a3f5f",
             "gridcolor": "white",
             "linecolor": "white",
             "minorgridcolor": "white",
             "startlinecolor": "#2a3f5f"
            },
            "type": "carpet"
           }
          ],
          "choropleth": [
           {
            "colorbar": {
             "outlinewidth": 0,
             "ticks": ""
            },
            "type": "choropleth"
           }
          ],
          "contour": [
           {
            "colorbar": {
             "outlinewidth": 0,
             "ticks": ""
            },
            "colorscale": [
             [
              0,
              "#0d0887"
             ],
             [
              0.1111111111111111,
              "#46039f"
             ],
             [
              0.2222222222222222,
              "#7201a8"
             ],
             [
              0.3333333333333333,
              "#9c179e"
             ],
             [
              0.4444444444444444,
              "#bd3786"
             ],
             [
              0.5555555555555556,
              "#d8576b"
             ],
             [
              0.6666666666666666,
              "#ed7953"
             ],
             [
              0.7777777777777778,
              "#fb9f3a"
             ],
             [
              0.8888888888888888,
              "#fdca26"
             ],
             [
              1,
              "#f0f921"
             ]
            ],
            "type": "contour"
           }
          ],
          "contourcarpet": [
           {
            "colorbar": {
             "outlinewidth": 0,
             "ticks": ""
            },
            "type": "contourcarpet"
           }
          ],
          "heatmap": [
           {
            "colorbar": {
             "outlinewidth": 0,
             "ticks": ""
            },
            "colorscale": [
             [
              0,
              "#0d0887"
             ],
             [
              0.1111111111111111,
              "#46039f"
             ],
             [
              0.2222222222222222,
              "#7201a8"
             ],
             [
              0.3333333333333333,
              "#9c179e"
             ],
             [
              0.4444444444444444,
              "#bd3786"
             ],
             [
              0.5555555555555556,
              "#d8576b"
             ],
             [
              0.6666666666666666,
              "#ed7953"
             ],
             [
              0.7777777777777778,
              "#fb9f3a"
             ],
             [
              0.8888888888888888,
              "#fdca26"
             ],
             [
              1,
              "#f0f921"
             ]
            ],
            "type": "heatmap"
           }
          ],
          "heatmapgl": [
           {
            "colorbar": {
             "outlinewidth": 0,
             "ticks": ""
            },
            "colorscale": [
             [
              0,
              "#0d0887"
             ],
             [
              0.1111111111111111,
              "#46039f"
             ],
             [
              0.2222222222222222,
              "#7201a8"
             ],
             [
              0.3333333333333333,
              "#9c179e"
             ],
             [
              0.4444444444444444,
              "#bd3786"
             ],
             [
              0.5555555555555556,
              "#d8576b"
             ],
             [
              0.6666666666666666,
              "#ed7953"
             ],
             [
              0.7777777777777778,
              "#fb9f3a"
             ],
             [
              0.8888888888888888,
              "#fdca26"
             ],
             [
              1,
              "#f0f921"
             ]
            ],
            "type": "heatmapgl"
           }
          ],
          "histogram": [
           {
            "marker": {
             "pattern": {
              "fillmode": "overlay",
              "size": 10,
              "solidity": 0.2
             }
            },
            "type": "histogram"
           }
          ],
          "histogram2d": [
           {
            "colorbar": {
             "outlinewidth": 0,
             "ticks": ""
            },
            "colorscale": [
             [
              0,
              "#0d0887"
             ],
             [
              0.1111111111111111,
              "#46039f"
             ],
             [
              0.2222222222222222,
              "#7201a8"
             ],
             [
              0.3333333333333333,
              "#9c179e"
             ],
             [
              0.4444444444444444,
              "#bd3786"
             ],
             [
              0.5555555555555556,
              "#d8576b"
             ],
             [
              0.6666666666666666,
              "#ed7953"
             ],
             [
              0.7777777777777778,
              "#fb9f3a"
             ],
             [
              0.8888888888888888,
              "#fdca26"
             ],
             [
              1,
              "#f0f921"
             ]
            ],
            "type": "histogram2d"
           }
          ],
          "histogram2dcontour": [
           {
            "colorbar": {
             "outlinewidth": 0,
             "ticks": ""
            },
            "colorscale": [
             [
              0,
              "#0d0887"
             ],
             [
              0.1111111111111111,
              "#46039f"
             ],
             [
              0.2222222222222222,
              "#7201a8"
             ],
             [
              0.3333333333333333,
              "#9c179e"
             ],
             [
              0.4444444444444444,
              "#bd3786"
             ],
             [
              0.5555555555555556,
              "#d8576b"
             ],
             [
              0.6666666666666666,
              "#ed7953"
             ],
             [
              0.7777777777777778,
              "#fb9f3a"
             ],
             [
              0.8888888888888888,
              "#fdca26"
             ],
             [
              1,
              "#f0f921"
             ]
            ],
            "type": "histogram2dcontour"
           }
          ],
          "mesh3d": [
           {
            "colorbar": {
             "outlinewidth": 0,
             "ticks": ""
            },
            "type": "mesh3d"
           }
          ],
          "parcoords": [
           {
            "line": {
             "colorbar": {
              "outlinewidth": 0,
              "ticks": ""
             }
            },
            "type": "parcoords"
           }
          ],
          "pie": [
           {
            "automargin": true,
            "type": "pie"
           }
          ],
          "scatter": [
           {
            "fillpattern": {
             "fillmode": "overlay",
             "size": 10,
             "solidity": 0.2
            },
            "type": "scatter"
           }
          ],
          "scatter3d": [
           {
            "line": {
             "colorbar": {
              "outlinewidth": 0,
              "ticks": ""
             }
            },
            "marker": {
             "colorbar": {
              "outlinewidth": 0,
              "ticks": ""
             }
            },
            "type": "scatter3d"
           }
          ],
          "scattercarpet": [
           {
            "marker": {
             "colorbar": {
              "outlinewidth": 0,
              "ticks": ""
             }
            },
            "type": "scattercarpet"
           }
          ],
          "scattergeo": [
           {
            "marker": {
             "colorbar": {
              "outlinewidth": 0,
              "ticks": ""
             }
            },
            "type": "scattergeo"
           }
          ],
          "scattergl": [
           {
            "marker": {
             "colorbar": {
              "outlinewidth": 0,
              "ticks": ""
             }
            },
            "type": "scattergl"
           }
          ],
          "scattermapbox": [
           {
            "marker": {
             "colorbar": {
              "outlinewidth": 0,
              "ticks": ""
             }
            },
            "type": "scattermapbox"
           }
          ],
          "scatterpolar": [
           {
            "marker": {
             "colorbar": {
              "outlinewidth": 0,
              "ticks": ""
             }
            },
            "type": "scatterpolar"
           }
          ],
          "scatterpolargl": [
           {
            "marker": {
             "colorbar": {
              "outlinewidth": 0,
              "ticks": ""
             }
            },
            "type": "scatterpolargl"
           }
          ],
          "scatterternary": [
           {
            "marker": {
             "colorbar": {
              "outlinewidth": 0,
              "ticks": ""
             }
            },
            "type": "scatterternary"
           }
          ],
          "surface": [
           {
            "colorbar": {
             "outlinewidth": 0,
             "ticks": ""
            },
            "colorscale": [
             [
              0,
              "#0d0887"
             ],
             [
              0.1111111111111111,
              "#46039f"
             ],
             [
              0.2222222222222222,
              "#7201a8"
             ],
             [
              0.3333333333333333,
              "#9c179e"
             ],
             [
              0.4444444444444444,
              "#bd3786"
             ],
             [
              0.5555555555555556,
              "#d8576b"
             ],
             [
              0.6666666666666666,
              "#ed7953"
             ],
             [
              0.7777777777777778,
              "#fb9f3a"
             ],
             [
              0.8888888888888888,
              "#fdca26"
             ],
             [
              1,
              "#f0f921"
             ]
            ],
            "type": "surface"
           }
          ],
          "table": [
           {
            "cells": {
             "fill": {
              "color": "#EBF0F8"
             },
             "line": {
              "color": "white"
             }
            },
            "header": {
             "fill": {
              "color": "#C8D4E3"
             },
             "line": {
              "color": "white"
             }
            },
            "type": "table"
           }
          ]
         },
         "layout": {
          "annotationdefaults": {
           "arrowcolor": "#2a3f5f",
           "arrowhead": 0,
           "arrowwidth": 1
          },
          "autotypenumbers": "strict",
          "coloraxis": {
           "colorbar": {
            "outlinewidth": 0,
            "ticks": ""
           }
          },
          "colorscale": {
           "diverging": [
            [
             0,
             "#8e0152"
            ],
            [
             0.1,
             "#c51b7d"
            ],
            [
             0.2,
             "#de77ae"
            ],
            [
             0.3,
             "#f1b6da"
            ],
            [
             0.4,
             "#fde0ef"
            ],
            [
             0.5,
             "#f7f7f7"
            ],
            [
             0.6,
             "#e6f5d0"
            ],
            [
             0.7,
             "#b8e186"
            ],
            [
             0.8,
             "#7fbc41"
            ],
            [
             0.9,
             "#4d9221"
            ],
            [
             1,
             "#276419"
            ]
           ],
           "sequential": [
            [
             0,
             "#0d0887"
            ],
            [
             0.1111111111111111,
             "#46039f"
            ],
            [
             0.2222222222222222,
             "#7201a8"
            ],
            [
             0.3333333333333333,
             "#9c179e"
            ],
            [
             0.4444444444444444,
             "#bd3786"
            ],
            [
             0.5555555555555556,
             "#d8576b"
            ],
            [
             0.6666666666666666,
             "#ed7953"
            ],
            [
             0.7777777777777778,
             "#fb9f3a"
            ],
            [
             0.8888888888888888,
             "#fdca26"
            ],
            [
             1,
             "#f0f921"
            ]
           ],
           "sequentialminus": [
            [
             0,
             "#0d0887"
            ],
            [
             0.1111111111111111,
             "#46039f"
            ],
            [
             0.2222222222222222,
             "#7201a8"
            ],
            [
             0.3333333333333333,
             "#9c179e"
            ],
            [
             0.4444444444444444,
             "#bd3786"
            ],
            [
             0.5555555555555556,
             "#d8576b"
            ],
            [
             0.6666666666666666,
             "#ed7953"
            ],
            [
             0.7777777777777778,
             "#fb9f3a"
            ],
            [
             0.8888888888888888,
             "#fdca26"
            ],
            [
             1,
             "#f0f921"
            ]
           ]
          },
          "colorway": [
           "#636efa",
           "#EF553B",
           "#00cc96",
           "#ab63fa",
           "#FFA15A",
           "#19d3f3",
           "#FF6692",
           "#B6E880",
           "#FF97FF",
           "#FECB52"
          ],
          "font": {
           "color": "#2a3f5f"
          },
          "geo": {
           "bgcolor": "white",
           "lakecolor": "white",
           "landcolor": "#E5ECF6",
           "showlakes": true,
           "showland": true,
           "subunitcolor": "white"
          },
          "hoverlabel": {
           "align": "left"
          },
          "hovermode": "closest",
          "mapbox": {
           "style": "light"
          },
          "paper_bgcolor": "white",
          "plot_bgcolor": "#E5ECF6",
          "polar": {
           "angularaxis": {
            "gridcolor": "white",
            "linecolor": "white",
            "ticks": ""
           },
           "bgcolor": "#E5ECF6",
           "radialaxis": {
            "gridcolor": "white",
            "linecolor": "white",
            "ticks": ""
           }
          },
          "scene": {
           "xaxis": {
            "backgroundcolor": "#E5ECF6",
            "gridcolor": "white",
            "gridwidth": 2,
            "linecolor": "white",
            "showbackground": true,
            "ticks": "",
            "zerolinecolor": "white"
           },
           "yaxis": {
            "backgroundcolor": "#E5ECF6",
            "gridcolor": "white",
            "gridwidth": 2,
            "linecolor": "white",
            "showbackground": true,
            "ticks": "",
            "zerolinecolor": "white"
           },
           "zaxis": {
            "backgroundcolor": "#E5ECF6",
            "gridcolor": "white",
            "gridwidth": 2,
            "linecolor": "white",
            "showbackground": true,
            "ticks": "",
            "zerolinecolor": "white"
           }
          },
          "shapedefaults": {
           "line": {
            "color": "#2a3f5f"
           }
          },
          "ternary": {
           "aaxis": {
            "gridcolor": "white",
            "linecolor": "white",
            "ticks": ""
           },
           "baxis": {
            "gridcolor": "white",
            "linecolor": "white",
            "ticks": ""
           },
           "bgcolor": "#E5ECF6",
           "caxis": {
            "gridcolor": "white",
            "linecolor": "white",
            "ticks": ""
           }
          },
          "title": {
           "x": 0.05
          },
          "xaxis": {
           "automargin": true,
           "gridcolor": "white",
           "linecolor": "white",
           "ticks": "",
           "title": {
            "standoff": 15
           },
           "zerolinecolor": "white",
           "zerolinewidth": 2
          },
          "yaxis": {
           "automargin": true,
           "gridcolor": "white",
           "linecolor": "white",
           "ticks": "",
           "title": {
            "standoff": 15
           },
           "zerolinecolor": "white",
           "zerolinewidth": 2
          }
         }
        },
        "title": {
         "text": "Distribución de Emisiones en 2020"
        },
        "width": 800
       }
      }
     },
     "metadata": {},
     "output_type": "display_data"
    }
   ],
   "source": [
    "anio_seleccionado = '2020'\n",
    "df_anio = df[['Region', anio_seleccionado]]\n",
    "df_anio_sorted = df_anio.sort_values(by=anio_seleccionado, ascending=False)\n",
    "\n",
    "# Crea el gráfico de torta con Plotly\n",
    "fig = px.pie(df_anio_sorted, values=anio_seleccionado, names='Region',\n",
    "             title=f'Distribución de Emisiones en {anio_seleccionado}', width=800, height=600)\n",
    "fig.show()"
   ]
  },
  {
   "cell_type": "markdown",
   "metadata": {},
   "source": [
    "Conclusiones: A simple vista, y sin considerar factores adicionales, los porcentajes de representacion en las emsiones varian entre 1990 y 2020. Todas las regiones redujeron sus representacion a excepcion de \"South Africa\" que la incremento.\n",
    "Sin embargo, es importante destacar que aunque estos porcentajes hayan disminuido no cambia su jerarquía. Es decir, \"Europe & Central Asia\" sigue siendo la region con mayor emision, y asi sucesivamente con todos las regiones.\n"
   ]
  },
  {
   "cell_type": "code",
   "execution_count": null,
   "metadata": {},
   "outputs": [],
   "source": []
  }
 ],
 "metadata": {
  "kernelspec": {
   "display_name": "Python 3",
   "language": "python",
   "name": "python3"
  },
  "language_info": {
   "codemirror_mode": {
    "name": "ipython",
    "version": 3
   },
   "file_extension": ".py",
   "mimetype": "text/x-python",
   "name": "python",
   "nbconvert_exporter": "python",
   "pygments_lexer": "ipython3",
   "version": "3.10.4"
  }
 },
 "nbformat": 4,
 "nbformat_minor": 2
}
